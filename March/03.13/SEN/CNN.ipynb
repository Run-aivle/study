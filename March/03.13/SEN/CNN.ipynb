{
  "nbformat": 4,
  "nbformat_minor": 0,
  "metadata": {
    "colab": {
      "provenance": [],
      "authorship_tag": "ABX9TyMwbjzK88KyCPIguqOt4IwV",
      "include_colab_link": true
    },
    "kernelspec": {
      "name": "python3",
      "display_name": "Python 3"
    },
    "language_info": {
      "name": "python"
    },
    "accelerator": "GPU",
    "gpuClass": "premium"
  },
  "cells": [
    {
      "cell_type": "markdown",
      "metadata": {
        "id": "view-in-github",
        "colab_type": "text"
      },
      "source": [
        "<a href=\"https://colab.research.google.com/github/Run-aivle/study/blob/main/March/03.13/SEN/CNN.ipynb\" target=\"_parent\"><img src=\"https://colab.research.google.com/assets/colab-badge.svg\" alt=\"Open In Colab\"/></a>"
      ]
    },
    {
      "cell_type": "code",
      "execution_count": 1,
      "metadata": {
        "id": "x893vYoUdJmP"
      },
      "outputs": [],
      "source": [
        "'''\n",
        "라이브러리들을 불러오자.\n",
        "'''\n",
        "import numpy as np\n",
        "import pandas as pd\n",
        "import matplotlib.pyplot as plt\n",
        "\n",
        "import random as rd\n",
        "from sklearn.metrics import accuracy_score\n",
        "\n",
        "import tensorflow as tf\n",
        "from tensorflow import keras"
      ]
    },
    {
      "cell_type": "code",
      "source": [
        "(train_x, train_y), (test_x, test_y) = keras.datasets.fashion_mnist.load_data()"
      ],
      "metadata": {
        "id": "2xjgoPFJdP19"
      },
      "execution_count": 2,
      "outputs": []
    },
    {
      "cell_type": "markdown",
      "source": [
        "- MinMaxScaling"
      ],
      "metadata": {
        "id": "-HOcuJ19dcxU"
      }
    },
    {
      "cell_type": "code",
      "source": [
        "print(train_x.shape, train_y.shape, test_x.shape, test_y.shape)"
      ],
      "metadata": {
        "colab": {
          "base_uri": "https://localhost:8080/"
        },
        "id": "BMKY0PWydTFW",
        "outputId": "1e584ebd-5995-465e-ed1d-da8ea09d8fcc"
      },
      "execution_count": 3,
      "outputs": [
        {
          "output_type": "stream",
          "name": "stdout",
          "text": [
            "(60000, 28, 28) (60000,) (10000, 28, 28) (10000,)\n"
          ]
        }
      ]
    },
    {
      "cell_type": "code",
      "source": [
        "min_n, max_n = train_x.min(), train_x.max()\n",
        "train_x = (train_x - min_n)/(max_n - min_n)\n",
        "test_x = (test_x - min_n)/(max_n - min_n)"
      ],
      "metadata": {
        "id": "8n507RgsdVYa"
      },
      "execution_count": 4,
      "outputs": []
    },
    {
      "cell_type": "code",
      "source": [
        "train_x.shape, test_x.shape"
      ],
      "metadata": {
        "colab": {
          "base_uri": "https://localhost:8080/"
        },
        "id": "eISfiNWgdYpN",
        "outputId": "94526af4-7227-4c24-e0cf-3874ef01b4f6"
      },
      "execution_count": 5,
      "outputs": [
        {
          "output_type": "execute_result",
          "data": {
            "text/plain": [
              "((60000, 28, 28), (10000, 28, 28))"
            ]
          },
          "metadata": {},
          "execution_count": 5
        }
      ]
    },
    {
      "cell_type": "markdown",
      "source": [
        "- Reshape"
      ],
      "metadata": {
        "id": "hmdCWNgHdo6E"
      }
    },
    {
      "cell_type": "code",
      "source": [
        "train_x = train_x.reshape(train_x.shape[0], train_x.shape[1], train_x.shape[2], 1)\n",
        "test_x = test_x.reshape(test_x.shape[0], test_x.shape[1], test_x.shape[2], 1)\n",
        "\n",
        "print(train_x.shape, test_x.shape)"
      ],
      "metadata": {
        "colab": {
          "base_uri": "https://localhost:8080/"
        },
        "id": "LaQuXHqTdasq",
        "outputId": "a25d343c-e8f1-4a0e-f40b-7202318c4931"
      },
      "execution_count": 6,
      "outputs": [
        {
          "output_type": "stream",
          "name": "stdout",
          "text": [
            "(60000, 28, 28, 1) (10000, 28, 28, 1)\n"
          ]
        }
      ]
    },
    {
      "cell_type": "markdown",
      "source": [
        "- to_categorical"
      ],
      "metadata": {
        "id": "P8HCyCZqdhJl"
      }
    },
    {
      "cell_type": "code",
      "source": [
        "from tensorflow.keras.utils import to_categorical\n",
        "len_n = len(set(train_y))\n",
        "train_y = to_categorical(train_y, len_n)\n",
        "test_y = to_categorical(test_y, len_n)"
      ],
      "metadata": {
        "id": "BdGU9NUydvis"
      },
      "execution_count": 7,
      "outputs": []
    },
    {
      "cell_type": "code",
      "source": [
        "from tensorflow.keras.backend import clear_session\n",
        "from tensorflow.keras.layers import Input, Dense, Flatten, Conv2D, MaxPool2D, BatchNormalization, Dropout\n",
        "from tensorflow.keras.models import Sequential"
      ],
      "metadata": {
        "id": "v7wZs61Jd1Uy"
      },
      "execution_count": 8,
      "outputs": []
    },
    {
      "cell_type": "markdown",
      "source": [
        "--------------------------------------------------------------\n",
        "1. 인풋 레이어\n",
        "2. Convolution : 필터수 32개, 사이즈(3, 3), same padding\n",
        "3. BatchNormalization\n",
        "4. Convolution : 필터수 32개, 사이즈(3, 3), same padding\n",
        "5. BatchNormalization\n",
        "6. MaxPooling : 사이즈(2,2) 스트라이드(2,2)\n",
        "7. DropOut : 25% 비활성화\n",
        "8. Convolution : 필터수 64개, 사이즈(3, 3), same padding\n",
        "9. BatchNormalization\n",
        "10. Convolution : 필터수 64개, 사이즈(3, 3), same padding\n",
        "11. BatchNormalization\n",
        "12. MaxPooling : 사이즈(2,2) 스트라이드(2,2)\n",
        "13. DropOut : 25% 비활성화\n",
        "14. Flatten\n",
        "15. Fully Connected Layer : 노드 512개\n",
        "16. BatchNormalization\n",
        "17. 아웃풋 레이어\n",
        "--------------------------------------------------------------"
      ],
      "metadata": {
        "id": "W2-yhC-Qd5oz"
      }
    },
    {
      "cell_type": "code",
      "source": [
        "# Seqeuntial()\n",
        "\n",
        "# 세션 클리어\n",
        "clear_session()\n",
        "\n",
        "# 모델 선언\n",
        "model = Sequential()\n",
        "\n",
        "# 모델 블록 조립\n",
        "model.add(Input(shape=(28,28,1)))\n",
        "model.add(Conv2D(filters = 32, \n",
        "                 kernel_size = (3,3),\n",
        "                 strides = (1,1), \n",
        "                 padding = 'same', \n",
        "                 activation = 'relu'))\n",
        "model.add(BatchNormalization())\n",
        "model.add(Conv2D(filters = 32, \n",
        "                 kernel_size = (3,3),\n",
        "                 strides = (1,1), \n",
        "                 padding = 'same', \n",
        "                 activation = 'relu'))\n",
        "model.add(BatchNormalization())\n",
        "model.add(MaxPool2D(pool_size = (2,2),\n",
        "                    strides = (2,2)))\n",
        "model.add(Dropout(0.25))\n",
        "\n",
        "\n",
        "model.add(Conv2D(filters = 64,\n",
        "                 kernel_size = (3,3),\n",
        "                 strides = (1,1), \n",
        "                 padding = 'same', \n",
        "                 activation = 'relu'))\n",
        "model.add(BatchNormalization())\n",
        "model.add(Conv2D(filters = 64,\n",
        "                 kernel_size = (3,3),\n",
        "                 strides = (1,1), \n",
        "                 padding = 'same', \n",
        "                 activation = 'relu'))\n",
        "model.add(BatchNormalization())\n",
        "model.add(MaxPool2D(pool_size = (2,2),\n",
        "                    strides = (2,2)))\n",
        "model.add(Dropout(0.25))\n",
        "\n",
        "model.add(Flatten())\n",
        "model.add(Dense(512, activation = 'relu'))\n",
        "model.add(BatchNormalization())\n",
        "\n",
        "model.add(Dense(train_y.shape[1], activation = 'softmax'))\n",
        "\n",
        "\n",
        "# 컴파일\n",
        "model.compile(loss = keras.losses.categorical_crossentropy, metrics = ['accuracy'],\n",
        "              optimizer = 'adam')\n",
        "\n",
        "model.summary()"
      ],
      "metadata": {
        "colab": {
          "base_uri": "https://localhost:8080/"
        },
        "id": "NNkXL7P_d3V5",
        "outputId": "dad48000-63c9-456e-e46b-6b0f3e74845f"
      },
      "execution_count": 9,
      "outputs": [
        {
          "output_type": "stream",
          "name": "stdout",
          "text": [
            "Model: \"sequential\"\n",
            "_________________________________________________________________\n",
            " Layer (type)                Output Shape              Param #   \n",
            "=================================================================\n",
            " conv2d (Conv2D)             (None, 28, 28, 32)        320       \n",
            "                                                                 \n",
            " batch_normalization (BatchN  (None, 28, 28, 32)       128       \n",
            " ormalization)                                                   \n",
            "                                                                 \n",
            " conv2d_1 (Conv2D)           (None, 28, 28, 32)        9248      \n",
            "                                                                 \n",
            " batch_normalization_1 (Batc  (None, 28, 28, 32)       128       \n",
            " hNormalization)                                                 \n",
            "                                                                 \n",
            " max_pooling2d (MaxPooling2D  (None, 14, 14, 32)       0         \n",
            " )                                                               \n",
            "                                                                 \n",
            " dropout (Dropout)           (None, 14, 14, 32)        0         \n",
            "                                                                 \n",
            " conv2d_2 (Conv2D)           (None, 14, 14, 64)        18496     \n",
            "                                                                 \n",
            " batch_normalization_2 (Batc  (None, 14, 14, 64)       256       \n",
            " hNormalization)                                                 \n",
            "                                                                 \n",
            " conv2d_3 (Conv2D)           (None, 14, 14, 64)        36928     \n",
            "                                                                 \n",
            " batch_normalization_3 (Batc  (None, 14, 14, 64)       256       \n",
            " hNormalization)                                                 \n",
            "                                                                 \n",
            " max_pooling2d_1 (MaxPooling  (None, 7, 7, 64)         0         \n",
            " 2D)                                                             \n",
            "                                                                 \n",
            " dropout_1 (Dropout)         (None, 7, 7, 64)          0         \n",
            "                                                                 \n",
            " flatten (Flatten)           (None, 3136)              0         \n",
            "                                                                 \n",
            " dense (Dense)               (None, 512)               1606144   \n",
            "                                                                 \n",
            " batch_normalization_4 (Batc  (None, 512)              2048      \n",
            " hNormalization)                                                 \n",
            "                                                                 \n",
            " dense_1 (Dense)             (None, 10)                5130      \n",
            "                                                                 \n",
            "=================================================================\n",
            "Total params: 1,679,082\n",
            "Trainable params: 1,677,674\n",
            "Non-trainable params: 1,408\n",
            "_________________________________________________________________\n"
          ]
        }
      ]
    },
    {
      "cell_type": "code",
      "source": [
        "from tensorflow.keras.callbacks import EarlyStopping\n",
        "es = EarlyStopping(monitor= 'val_loss',\n",
        "                   min_delta = 0,\n",
        "                   patience = 5,\n",
        "                   verbose = 1,\n",
        "                   restore_best_weights = True)"
      ],
      "metadata": {
        "id": "QG9UU7qqe4No"
      },
      "execution_count": 10,
      "outputs": []
    },
    {
      "cell_type": "code",
      "source": [
        "# 데이터를 넣어서 학습시키자!\n",
        "model.fit(train_x, train_y, epochs=15, batch_size=1024,\n",
        "             validation_split=0.2, callbacks = [es], verbose=1)"
      ],
      "metadata": {
        "colab": {
          "base_uri": "https://localhost:8080/"
        },
        "id": "yBo8grf0fvee",
        "outputId": "be379c13-858f-4f99-e212-b28ff2e0f470"
      },
      "execution_count": 12,
      "outputs": [
        {
          "output_type": "stream",
          "name": "stdout",
          "text": [
            "Epoch 1/15\n",
            "47/47 [==============================] - 8s 37ms/step - loss: 0.5442 - accuracy: 0.8167 - val_loss: 2.4775 - val_accuracy: 0.0983\n",
            "Epoch 2/15\n",
            "47/47 [==============================] - 1s 24ms/step - loss: 0.2993 - accuracy: 0.8898 - val_loss: 2.7255 - val_accuracy: 0.1733\n",
            "Epoch 3/15\n",
            "47/47 [==============================] - 1s 24ms/step - loss: 0.2555 - accuracy: 0.9064 - val_loss: 2.6703 - val_accuracy: 0.1443\n",
            "Epoch 4/15\n",
            "47/47 [==============================] - 1s 24ms/step - loss: 0.2276 - accuracy: 0.9154 - val_loss: 2.9819 - val_accuracy: 0.1111\n",
            "Epoch 5/15\n",
            "47/47 [==============================] - 1s 24ms/step - loss: 0.2069 - accuracy: 0.9241 - val_loss: 3.1418 - val_accuracy: 0.1042\n",
            "Epoch 6/15\n",
            "46/47 [============================>.] - ETA: 0s - loss: 0.1885 - accuracy: 0.9299Restoring model weights from the end of the best epoch: 1.\n",
            "47/47 [==============================] - 1s 24ms/step - loss: 0.1886 - accuracy: 0.9298 - val_loss: 3.4335 - val_accuracy: 0.1033\n",
            "Epoch 6: early stopping\n"
          ]
        },
        {
          "output_type": "execute_result",
          "data": {
            "text/plain": [
              "<keras.callbacks.History at 0x7f2bb2fffa60>"
            ]
          },
          "metadata": {},
          "execution_count": 12
        }
      ]
    },
    {
      "cell_type": "code",
      "source": [
        "model.evaluate(train_x, train_y)\n",
        "model.evaluate(test_x, test_y)"
      ],
      "metadata": {
        "colab": {
          "base_uri": "https://localhost:8080/"
        },
        "id": "e89trq-viuQ5",
        "outputId": "7edb6d6f-601c-4be7-e3f3-760c4eb7af17"
      },
      "execution_count": 13,
      "outputs": [
        {
          "output_type": "stream",
          "name": "stdout",
          "text": [
            "1875/1875 [==============================] - 5s 3ms/step - loss: 2.4776 - accuracy: 0.1000\n",
            "313/313 [==============================] - 1s 3ms/step - loss: 2.4793 - accuracy: 0.1000\n"
          ]
        },
        {
          "output_type": "execute_result",
          "data": {
            "text/plain": [
              "[2.4793450832366943, 0.10000000149011612]"
            ]
          },
          "metadata": {},
          "execution_count": 13
        }
      ]
    }
  ]
}