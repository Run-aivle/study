{
  "nbformat": 4,
  "nbformat_minor": 0,
  "metadata": {
    "colab": {
      "provenance": [],
      "authorship_tag": "ABX9TyPbxJ0JdR7FD3VhIhoKvgUB",
      "include_colab_link": true
    },
    "kernelspec": {
      "name": "python3",
      "display_name": "Python 3"
    },
    "language_info": {
      "name": "python"
    },
    "accelerator": "GPU",
    "gpuClass": "standard"
  },
  "cells": [
    {
      "cell_type": "markdown",
      "metadata": {
        "id": "view-in-github",
        "colab_type": "text"
      },
      "source": [
        "<a href=\"https://colab.research.google.com/github/Run-aivle/study/blob/main/March/03.02/SEN/03_02(CIFAR).ipynb\" target=\"_parent\"><img src=\"https://colab.research.google.com/assets/colab-badge.svg\" alt=\"Open In Colab\"/></a>"
      ]
    },
    {
      "cell_type": "markdown",
      "source": [
        "# CIFAR -10"
      ],
      "metadata": {
        "id": "cBoFQ3HOgaIw"
      }
    },
    {
      "cell_type": "code",
      "execution_count": null,
      "metadata": {
        "id": "uvRrNtnFf90B"
      },
      "outputs": [],
      "source": [
        "import numpy as np\n",
        "import pandas as pd\n",
        "import matplotlib.pyplot as plt\n",
        "\n",
        "from sklearn.metrics import accuracy_score\n",
        "\n",
        "import tensorflow as tf\n",
        "from tensorflow import keras"
      ]
    },
    {
      "cell_type": "code",
      "source": [
        "(train_x, train_y), (test_x, test_y) = keras.datasets.cifar10.load_data()"
      ],
      "metadata": {
        "id": "hhH4a1sxgBs4"
      },
      "execution_count": null,
      "outputs": []
    },
    {
      "cell_type": "code",
      "source": [
        "print(train_x.shape, train_y.shape, test_x.shape, test_y.shape)"
      ],
      "metadata": {
        "colab": {
          "base_uri": "https://localhost:8080/"
        },
        "id": "Vg9zB0QDgCn3",
        "outputId": "508cef2a-1b7f-4384-c790-5c57be0d1638"
      },
      "execution_count": null,
      "outputs": [
        {
          "output_type": "stream",
          "name": "stdout",
          "text": [
            "(50000, 32, 32, 3) (50000, 1) (10000, 32, 32, 3) (10000, 1)\n"
          ]
        }
      ]
    },
    {
      "cell_type": "markdown",
      "source": [
        "* min-max scaling"
      ],
      "metadata": {
        "id": "2t0YWCWKgXdq"
      }
    },
    {
      "cell_type": "code",
      "source": [
        "min_n, max_n = train_x.min(), train_x.max()\n",
        "\n",
        "train_x = (train_x - min_n) / (max_n - min_n)\n",
        "test_x = (test_x-min_n)/(max_n - min_n)"
      ],
      "metadata": {
        "id": "Q9U4iWm5gDfL"
      },
      "execution_count": null,
      "outputs": []
    },
    {
      "cell_type": "code",
      "source": [
        "print(train_x.min(), test_x.max())"
      ],
      "metadata": {
        "colab": {
          "base_uri": "https://localhost:8080/"
        },
        "id": "MltRdhgngFFJ",
        "outputId": "e1490973-8503-46a4-b8a9-e89a410a5891"
      },
      "execution_count": null,
      "outputs": [
        {
          "output_type": "stream",
          "name": "stdout",
          "text": [
            "0.0 1.0\n"
          ]
        }
      ]
    },
    {
      "cell_type": "markdown",
      "source": [
        "* One - Hot encoding"
      ],
      "metadata": {
        "id": "4XDJl6tcgfXW"
      }
    },
    {
      "cell_type": "code",
      "source": [
        "train_y.shape"
      ],
      "metadata": {
        "colab": {
          "base_uri": "https://localhost:8080/"
        },
        "id": "wegZz-3MgGG5",
        "outputId": "2df25d30-3fa3-4a3c-b210-50e606049e32"
      },
      "execution_count": null,
      "outputs": [
        {
          "output_type": "execute_result",
          "data": {
            "text/plain": [
              "(50000, 1)"
            ]
          },
          "metadata": {},
          "execution_count": 6
        }
      ]
    },
    {
      "cell_type": "code",
      "source": [
        "class_n = len(np.unique(train_y))"
      ],
      "metadata": {
        "id": "PYd7628vgHf0"
      },
      "execution_count": null,
      "outputs": []
    },
    {
      "cell_type": "code",
      "source": [
        "from tensorflow.keras.utils import to_categorical\n",
        "train_y = to_categorical(train_y, class_n)\n",
        "test_y = to_categorical(test_y, class_n)"
      ],
      "metadata": {
        "id": "XlNejSLZg3FY"
      },
      "execution_count": null,
      "outputs": []
    },
    {
      "cell_type": "markdown",
      "source": [
        "### 모델링\n",
        "* Functional API\n",
        "* Hidden Layer\n",
        "* Flatten()"
      ],
      "metadata": {
        "id": "S4EOiN0agweo"
      }
    },
    {
      "cell_type": "code",
      "source": [
        "# 세션 클리어\n",
        "keras.backend.clear_session()\n",
        "\n",
        "# 모델 layer 엮기\n",
        "il = keras.layers.Input(shape=(32,32,3))\n",
        "fl = keras.layers.Flatten()(il)\n",
        "hl = keras.layers.Dense(256, 'relu')(fl)\n",
        "hl = keras.layers.Dense(128, 'relu')(hl)\n",
        "hl = keras.layers.Dense(64, 'relu')(hl)\n",
        "ol = keras.layers.Dense(10, 'softmax')(hl)\n",
        "\n",
        "# 모델 input, ouput 정의\n",
        "model = keras.models.Model(il, ol)\n",
        "\n",
        "# 모델 컴파일\n",
        "model.compile(loss = keras.losses.categorical_crossentropy, metrics = ['accuracy'],\n",
        "              optimizer = 'adam')\n",
        "\n",
        "model.summary()"
      ],
      "metadata": {
        "colab": {
          "base_uri": "https://localhost:8080/"
        },
        "id": "6LJ_IQ9whMRo",
        "outputId": "e2f12821-ed87-496d-cc69-f48d0ca5a085"
      },
      "execution_count": null,
      "outputs": [
        {
          "output_type": "stream",
          "name": "stdout",
          "text": [
            "Model: \"model\"\n",
            "_________________________________________________________________\n",
            " Layer (type)                Output Shape              Param #   \n",
            "=================================================================\n",
            " input_1 (InputLayer)        [(None, 32, 32, 3)]       0         \n",
            "                                                                 \n",
            " flatten (Flatten)           (None, 3072)              0         \n",
            "                                                                 \n",
            " dense (Dense)               (None, 256)               786688    \n",
            "                                                                 \n",
            " dense_1 (Dense)             (None, 128)               32896     \n",
            "                                                                 \n",
            " dense_2 (Dense)             (None, 64)                8256      \n",
            "                                                                 \n",
            " dense_3 (Dense)             (None, 10)                650       \n",
            "                                                                 \n",
            "=================================================================\n",
            "Total params: 828,490\n",
            "Trainable params: 828,490\n",
            "Non-trainable params: 0\n",
            "_________________________________________________________________\n"
          ]
        }
      ]
    },
    {
      "cell_type": "code",
      "source": [
        "from tensorflow.keras.callbacks import EarlyStopping\n",
        "es = EarlyStopping(monitor = 'val_loss',\n",
        "                   patience = 5,\n",
        "                   min_delta = 0,\n",
        "                   verbose = 1,\n",
        "                   restore_best_weights = True)"
      ],
      "metadata": {
        "id": "Bo72yMpkhOj2"
      },
      "execution_count": null,
      "outputs": []
    },
    {
      "cell_type": "code",
      "source": [
        "history = model.fit(train_x, train_y, epochs=50, verbose = 1,\n",
        "          validation_split = 0.2, callbacks = [es])"
      ],
      "metadata": {
        "colab": {
          "base_uri": "https://localhost:8080/"
        },
        "id": "YpZVbB9UhPfF",
        "outputId": "1c7d718a-b928-4c02-e8fe-dd0c5f8a0a99"
      },
      "execution_count": null,
      "outputs": [
        {
          "output_type": "stream",
          "name": "stdout",
          "text": [
            "Epoch 1/50\n",
            "1250/1250 [==============================] - 8s 4ms/step - loss: 1.8960 - accuracy: 0.3119 - val_loss: 1.7948 - val_accuracy: 0.3553\n",
            "Epoch 2/50\n",
            "1250/1250 [==============================] - 6s 5ms/step - loss: 1.7169 - accuracy: 0.3813 - val_loss: 1.6830 - val_accuracy: 0.3967\n",
            "Epoch 3/50\n",
            "1250/1250 [==============================] - 5s 4ms/step - loss: 1.6319 - accuracy: 0.4141 - val_loss: 1.6884 - val_accuracy: 0.4069\n",
            "Epoch 4/50\n",
            "1250/1250 [==============================] - 6s 5ms/step - loss: 1.5790 - accuracy: 0.4330 - val_loss: 1.5951 - val_accuracy: 0.4266\n",
            "Epoch 5/50\n",
            "1250/1250 [==============================] - 5s 4ms/step - loss: 1.5439 - accuracy: 0.4463 - val_loss: 1.5653 - val_accuracy: 0.4401\n",
            "Epoch 6/50\n",
            "1250/1250 [==============================] - 5s 4ms/step - loss: 1.5100 - accuracy: 0.4601 - val_loss: 1.5339 - val_accuracy: 0.4539\n",
            "Epoch 7/50\n",
            "1250/1250 [==============================] - 5s 4ms/step - loss: 1.4839 - accuracy: 0.4697 - val_loss: 1.5686 - val_accuracy: 0.4420\n",
            "Epoch 8/50\n",
            "1250/1250 [==============================] - 5s 4ms/step - loss: 1.4581 - accuracy: 0.4786 - val_loss: 1.5601 - val_accuracy: 0.4477\n",
            "Epoch 9/50\n",
            "1250/1250 [==============================] - 5s 4ms/step - loss: 1.4384 - accuracy: 0.4834 - val_loss: 1.5167 - val_accuracy: 0.4690\n",
            "Epoch 10/50\n",
            "1250/1250 [==============================] - 5s 4ms/step - loss: 1.4193 - accuracy: 0.4904 - val_loss: 1.5333 - val_accuracy: 0.4607\n",
            "Epoch 11/50\n",
            "1250/1250 [==============================] - 5s 4ms/step - loss: 1.4036 - accuracy: 0.4953 - val_loss: 1.5263 - val_accuracy: 0.4602\n",
            "Epoch 12/50\n",
            "1250/1250 [==============================] - 5s 4ms/step - loss: 1.3846 - accuracy: 0.5010 - val_loss: 1.5222 - val_accuracy: 0.4725\n",
            "Epoch 13/50\n",
            "1250/1250 [==============================] - 5s 4ms/step - loss: 1.3666 - accuracy: 0.5142 - val_loss: 1.5273 - val_accuracy: 0.4662\n",
            "Epoch 14/50\n",
            "1250/1250 [==============================] - 5s 4ms/step - loss: 1.3536 - accuracy: 0.5146 - val_loss: 1.4893 - val_accuracy: 0.4799\n",
            "Epoch 15/50\n",
            "1250/1250 [==============================] - 5s 4ms/step - loss: 1.3378 - accuracy: 0.5209 - val_loss: 1.4671 - val_accuracy: 0.4890\n",
            "Epoch 16/50\n",
            "1250/1250 [==============================] - 6s 5ms/step - loss: 1.3334 - accuracy: 0.5224 - val_loss: 1.4846 - val_accuracy: 0.4854\n",
            "Epoch 17/50\n",
            "1250/1250 [==============================] - 5s 4ms/step - loss: 1.3183 - accuracy: 0.5280 - val_loss: 1.4787 - val_accuracy: 0.4827\n",
            "Epoch 18/50\n",
            "1250/1250 [==============================] - 6s 5ms/step - loss: 1.3054 - accuracy: 0.5332 - val_loss: 1.4861 - val_accuracy: 0.4869\n",
            "Epoch 19/50\n",
            "1250/1250 [==============================] - 5s 4ms/step - loss: 1.2944 - accuracy: 0.5367 - val_loss: 1.4851 - val_accuracy: 0.4859\n",
            "Epoch 20/50\n",
            "1247/1250 [============================>.] - ETA: 0s - loss: 1.2832 - accuracy: 0.5410Restoring model weights from the end of the best epoch: 15.\n",
            "1250/1250 [==============================] - 5s 4ms/step - loss: 1.2835 - accuracy: 0.5410 - val_loss: 1.5163 - val_accuracy: 0.4802\n",
            "Epoch 20: early stopping\n"
          ]
        }
      ]
    },
    {
      "cell_type": "code",
      "source": [
        "print(model.evaluate(train_x, train_y))\n",
        "print(model.evaluate(test_x, test_y))"
      ],
      "metadata": {
        "colab": {
          "base_uri": "https://localhost:8080/"
        },
        "id": "sYCOam2WhReZ",
        "outputId": "bf76fec4-af2f-4e2a-d1d6-dffa5292c20c"
      },
      "execution_count": null,
      "outputs": [
        {
          "output_type": "stream",
          "name": "stdout",
          "text": [
            "1563/1563 [==============================] - 4s 3ms/step - loss: 1.3177 - accuracy: 0.5290\n",
            "[1.3176788091659546, 0.5290200114250183]\n",
            "313/313 [==============================] - 1s 3ms/step - loss: 1.4452 - accuracy: 0.4803\n",
            "[1.4451760053634644, 0.48030000925064087]\n"
          ]
        }
      ]
    },
    {
      "cell_type": "code",
      "source": [
        "pred_train = model.predict(train_x).argmax(axis = 1)\n",
        "pred_test = model.predict(test_x).argmax(axis = 1)\n",
        "\n",
        "print('train 정확도 : {:.2f}%'.format(accuracy_score(train_y.argmax(axis = 1), pred_train)))\n",
        "print('test 정확도 : {:.2f}%'.format(accuracy_score(test_y.argmax(axis = 1), pred_test)))\n"
      ],
      "metadata": {
        "colab": {
          "base_uri": "https://localhost:8080/"
        },
        "id": "4K1_ajYnhR7L",
        "outputId": "c693a52f-b237-41f2-b0a4-2b4b4a882cab"
      },
      "execution_count": null,
      "outputs": [
        {
          "output_type": "stream",
          "name": "stdout",
          "text": [
            "1563/1563 [==============================] - 3s 2ms/step\n",
            "313/313 [==============================] - 1s 2ms/step\n",
            "train 정확도 : 0.53%\n",
            "test 정확도 : 0.48%\n"
          ]
        }
      ]
    },
    {
      "cell_type": "code",
      "source": [
        "if not isinstance(history, dict):\n",
        "    history = history.history\n",
        "\n",
        "plt.plot(history['accuracy'])\n",
        "plt.plot(history['val_accuracy'])\n",
        "plt.title('Accuracy : Training vs Validation')\n",
        "plt.ylabel('Accuracy')\n",
        "plt.xlabel('Epoch')\n",
        "plt.legend(['Training', 'Validation'], loc=0)\n",
        "plt.show()"
      ],
      "metadata": {
        "colab": {
          "base_uri": "https://localhost:8080/",
          "height": 295
        },
        "id": "qaJLrA_QiT3-",
        "outputId": "1962f3b7-1212-41cc-b7a1-f858aa13846a"
      },
      "execution_count": null,
      "outputs": [
        {
          "output_type": "display_data",
          "data": {
            "text/plain": [
              "<Figure size 432x288 with 1 Axes>"
            ],
            "image/png": "[encoded data removed]"
          },
          "metadata": {
            "needs_background": "light"
          }
        }
      ]
    },
    {
      "cell_type": "code",
      "source": [
        "if not isinstance(history, dict):\n",
        "    history = history.history\n",
        "\n",
        "plt.plot(history['loss'])\n",
        "plt.plot(history['val_loss'])\n",
        "plt.title('Loss : Training vs Validation')\n",
        "plt.ylabel('Loss')\n",
        "plt.xlabel('Epoch')\n",
        "plt.legend(['Training', 'Validation'], loc=0)\n",
        "plt.show()"
      ],
      "metadata": {
        "colab": {
          "base_uri": "https://localhost:8080/",
          "height": 295
        },
        "id": "HdI1bli5ibx5",
        "outputId": "33969543-e25e-477e-edcb-20686b9fcc0e"
      },
      "execution_count": null,
      "outputs": [
        {
          "output_type": "display_data",
          "data": {
            "text/plain": [
              "<Figure size 432x288 with 1 Axes>"
            ],
            "image/png": "[encoded data removed]"
          },
          "metadata": {
            "needs_background": "light"
          }
        }
      ]
    },
    {
      "cell_type": "code",
      "source": [],
      "metadata": {
        "id": "TS44vsv3idaA"
      },
      "execution_count": null,
      "outputs": []
    }
  ]
}
