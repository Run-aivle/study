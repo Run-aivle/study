{
  "nbformat": 4,
  "nbformat_minor": 0,
  "metadata": {
    "colab": {
      "provenance": [],
      "authorship_tag": "ABX9TyMkyL2jmqPCV2UGxhl2scwS",
      "include_colab_link": true
    },
    "kernelspec": {
      "name": "python3",
      "display_name": "Python 3"
    },
    "language_info": {
      "name": "python"
    },
    "accelerator": "GPU",
    "gpuClass": "standard"
  },
  "cells": [
    {
      "cell_type": "markdown",
      "metadata": {
        "id": "view-in-github",
        "colab_type": "text"
      },
      "source": [
        "<a href=\"https://colab.research.google.com/github/Run-aivle/study/blob/main/March/03.14/SEN/CNN(augmentation).ipynb\" target=\"_parent\"><img src=\"https://colab.research.google.com/assets/colab-badge.svg\" alt=\"Open In Colab\"/></a>"
      ]
    },
    {
      "cell_type": "code",
      "execution_count": 1,
      "metadata": {
        "colab": {
          "base_uri": "https://localhost:8080/"
        },
        "id": "xPZvYZni8bsr",
        "outputId": "33fe7175-c21a-41b9-c239-c92400850944"
      },
      "outputs": [
        {
          "output_type": "stream",
          "name": "stdout",
          "text": [
            "--2023-03-14 13:11:27--  http://yaroslavvb.com/upload/notMNIST/notMNIST_small.mat\n",
            "Resolving yaroslavvb.com (yaroslavvb.com)... 129.121.4.193\n",
            "Connecting to yaroslavvb.com (yaroslavvb.com)|129.121.4.193|:80... connected.\n",
            "HTTP request sent, awaiting response... 200 OK\n",
            "Length: 117586976 (112M)\n",
            "Saving to: ‘notMNIST_small.mat.1’\n",
            "\n",
            "notMNIST_small.mat. 100%[===================>] 112.14M  18.0MB/s    in 7.3s    \n",
            "\n",
            "2023-03-14 13:11:35 (15.3 MB/s) - ‘notMNIST_small.mat.1’ saved [117586976/117586976]\n",
            "\n"
          ]
        }
      ],
      "source": [
        "!wget http://yaroslavvb.com/upload/notMNIST/notMNIST_small.mat"
      ]
    },
    {
      "cell_type": "code",
      "source": [
        "import numpy as np\n",
        "import matplotlib.pyplot as plt\n",
        "from scipy import io"
      ],
      "metadata": {
        "id": "_VYx6OCTAlHL"
      },
      "execution_count": 2,
      "outputs": []
    },
    {
      "cell_type": "code",
      "source": [
        "data = io.loadmat('notMNIST_small.mat')"
      ],
      "metadata": {
        "id": "8XWCrMBX9XOB"
      },
      "execution_count": 3,
      "outputs": []
    },
    {
      "cell_type": "code",
      "source": [
        "data"
      ],
      "metadata": {
        "colab": {
          "base_uri": "https://localhost:8080/"
        },
        "id": "AEdlv4Ny9c5T",
        "outputId": "acdc626f-9c51-4fd8-8873-216a881b51ae"
      },
      "execution_count": 4,
      "outputs": [
        {
          "output_type": "execute_result",
          "data": {
            "text/plain": [
              "{'__header__': b'MATLAB 5.0 MAT-file Platform: posix, Created on: Wed Aug 10 11:38:32 2011',\n",
              " '__version__': '1.0',\n",
              " '__globals__': [],\n",
              " 'images': array([[[  0.,   0.,   0., ...,   0.,   0.,   0.],\n",
              "         [  0.,   1.,   0., ...,   0.,   0.,   0.],\n",
              "         [  0.,   0.,   0., ...,   0.,   0.,   0.],\n",
              "         ...,\n",
              "         [255.,   0., 215., ...,   0., 160., 124.],\n",
              "         [255.,   0., 227., ...,   0., 122.,  72.],\n",
              "         [255.,   0., 156., ...,   0.,   0.,  12.]],\n",
              " \n",
              "        [[  0.,   0.,   0., ...,   0.,   0.,   0.],\n",
              "         [  0.,  19.,   0., ...,   0.,   0.,   0.],\n",
              "         [  0.,  93.,   0., ...,   0.,   0.,   0.],\n",
              "         ...,\n",
              "         [255.,   0., 255., ...,   0., 255., 255.],\n",
              "         [255.,   0., 110., ...,   0., 206., 227.],\n",
              "         [255.,   0.,  21., ...,   0.,   0.,  63.]],\n",
              " \n",
              "        [[  0.,   3.,   0., ...,   0.,   0.,   0.],\n",
              "         [  0., 167.,   0., ...,   0.,   0.,   0.],\n",
              "         [  0., 255.,   0., ...,   1.,   1.,   0.],\n",
              "         ...,\n",
              "         [255.,   0., 223., ...,   1., 252., 255.],\n",
              "         [255.,   0.,   0., ...,   0., 192., 228.],\n",
              "         [255.,   0.,   0., ...,   0.,   0.,  68.]],\n",
              " \n",
              "        ...,\n",
              " \n",
              "        [[189.,   0., 138., ...,   0.,   0.,   0.],\n",
              "         [253.,   0., 255., ...,   0.,   0.,   0.],\n",
              "         [251.,  55., 255., ...,   1.,   2.,   1.],\n",
              "         ...,\n",
              "         [  0., 251.,   0., ...,   1.,   3., 255.],\n",
              "         [  2., 255.,   0., ...,   0.,   0., 228.],\n",
              "         [  0., 209.,   0., ...,   0.,   0.,  70.]],\n",
              " \n",
              "        [[237.,   3.,  75., ...,   0.,   0.,   0.],\n",
              "         [255.,   2.,  64., ...,   0.,   0.,   0.],\n",
              "         [255.,   0.,  90., ...,   0.,   0.,   0.],\n",
              "         ...,\n",
              "         [  2., 254.,   0., ...,   0.,   0., 248.],\n",
              "         [  0., 255.,   0., ...,   0.,   0., 203.],\n",
              "         [  0.,  99.,   0., ...,   0.,   0.,  51.]],\n",
              " \n",
              "        [[ 99.,   0.,   0., ...,   0.,   0.,   0.],\n",
              "         [128.,   0.,   0., ...,   0.,   0.,   0.],\n",
              "         [154.,   3.,   0., ...,   0.,   0.,   0.],\n",
              "         ...,\n",
              "         [  0., 175.,   0., ...,   0.,   0.,  63.],\n",
              "         [  0.,  75.,   0., ...,   0.,   0.,  22.],\n",
              "         [  0.,   0.,   0., ...,   0.,   0.,   1.]]]),\n",
              " 'labels': array([9., 9., 9., ..., 2., 2., 2.])}"
            ]
          },
          "metadata": {},
          "execution_count": 4
        }
      ]
    },
    {
      "cell_type": "code",
      "source": [
        "x = data['images']\n",
        "y = data['labels']"
      ],
      "metadata": {
        "id": "i_jbw8Gz9odv"
      },
      "execution_count": 5,
      "outputs": []
    },
    {
      "cell_type": "code",
      "source": [
        "x = np.transpose(x, (2, 0, 1))"
      ],
      "metadata": {
        "id": "qRLPkCA79tTU"
      },
      "execution_count": 6,
      "outputs": []
    },
    {
      "cell_type": "code",
      "source": [
        "print(x.shape)"
      ],
      "metadata": {
        "colab": {
          "base_uri": "https://localhost:8080/"
        },
        "id": "afZrfIRL91ZG",
        "outputId": "d196a416-4f89-4d15-a6db-6ec8f60b0aaf"
      },
      "execution_count": 7,
      "outputs": [
        {
          "output_type": "stream",
          "name": "stdout",
          "text": [
            "(18724, 28, 28)\n"
          ]
        }
      ]
    },
    {
      "cell_type": "markdown",
      "source": [
        "- x, y 타입 변환"
      ],
      "metadata": {
        "id": "Xs1QmLFY9_rh"
      }
    },
    {
      "cell_type": "code",
      "source": [
        "y = y.astype('int32')\n",
        "x = x.astype('float32')"
      ],
      "metadata": {
        "id": "f7Bianm0-CiZ"
      },
      "execution_count": 8,
      "outputs": []
    },
    {
      "cell_type": "markdown",
      "source": [
        "- reshape"
      ],
      "metadata": {
        "id": "Yde1Rj87-HIe"
      }
    },
    {
      "cell_type": "code",
      "source": [
        "x = x.reshape(x.shape[0], x.shape[1], x.shape[2], 1)\n",
        "x.shape"
      ],
      "metadata": {
        "colab": {
          "base_uri": "https://localhost:8080/"
        },
        "id": "H_9MCNDr-MNr",
        "outputId": "4e42d046-7e10-4b2e-d064-a089fd304bfa"
      },
      "execution_count": 9,
      "outputs": [
        {
          "output_type": "execute_result",
          "data": {
            "text/plain": [
              "(18724, 28, 28, 1)"
            ]
          },
          "metadata": {},
          "execution_count": 9
        }
      ]
    },
    {
      "cell_type": "markdown",
      "source": [
        "- train set/validation set/ test set 분리"
      ],
      "metadata": {
        "id": "oWX9OveB-Zyo"
      }
    },
    {
      "cell_type": "code",
      "source": [
        "from sklearn.model_selection import train_test_split"
      ],
      "metadata": {
        "id": "TtBswHIE-pBQ"
      },
      "execution_count": 10,
      "outputs": []
    },
    {
      "cell_type": "code",
      "source": [
        "x_train, x_test, y_train, y_test = train_test_split(x, y, test_size = 0.2)\n",
        "x_train, x_val, y_train, y_val = train_test_split(x_train, y_train, test_size= 0.2)"
      ],
      "metadata": {
        "id": "64BGKEmX-lg1"
      },
      "execution_count": 11,
      "outputs": []
    },
    {
      "cell_type": "code",
      "source": [
        "x_train.shape, y_train.shape, x_val.shape, y_val.shape"
      ],
      "metadata": {
        "colab": {
          "base_uri": "https://localhost:8080/"
        },
        "id": "c10-cHmL-31H",
        "outputId": "9d5b1fca-c459-4c75-b47c-3a508d791d3a"
      },
      "execution_count": 12,
      "outputs": [
        {
          "output_type": "execute_result",
          "data": {
            "text/plain": [
              "((11983, 28, 28, 1), (11983,), (2996, 28, 28, 1), (2996,))"
            ]
          },
          "metadata": {},
          "execution_count": 12
        }
      ]
    },
    {
      "cell_type": "markdown",
      "source": [
        "Min-Max Scaling"
      ],
      "metadata": {
        "id": "0Y7GhXVU--3I"
      }
    },
    {
      "cell_type": "code",
      "source": [
        "min_n, max_n = x_train.min(), x_test.max()\n",
        "x_train = (x_train-min_n)/(max_n - min_n)\n",
        "x_test = (x_test - min_n)/(max_n - min_n)"
      ],
      "metadata": {
        "id": "CFsSwLPg_Ezn"
      },
      "execution_count": 13,
      "outputs": []
    },
    {
      "cell_type": "code",
      "source": [
        "x_train.min(), x_train.max()"
      ],
      "metadata": {
        "colab": {
          "base_uri": "https://localhost:8080/"
        },
        "id": "yzrIRXm3_TH6",
        "outputId": "404f13bd-b20d-48ea-d4c5-e86709652ed0"
      },
      "execution_count": 14,
      "outputs": [
        {
          "output_type": "execute_result",
          "data": {
            "text/plain": [
              "(0.0, 1.0)"
            ]
          },
          "metadata": {},
          "execution_count": 14
        }
      ]
    },
    {
      "cell_type": "markdown",
      "source": [
        "y Categorical"
      ],
      "metadata": {
        "id": "_E9Y_8WAA6gY"
      }
    },
    {
      "cell_type": "code",
      "source": [
        "from tensorflow.keras.utils import to_categorical\n",
        "class_n = len(set(y_train))\n",
        "y_train = to_categorical(y_train, class_n)\n",
        "y_test = to_categorical(y_test, class_n)\n",
        "y_val = to_categorical(y_val, class_n)"
      ],
      "metadata": {
        "id": "TfAD46uj_Xuk"
      },
      "execution_count": 15,
      "outputs": []
    },
    {
      "cell_type": "markdown",
      "source": [
        "Data Augmentation"
      ],
      "metadata": {
        "id": "RcgqhXmIBVn8"
      }
    },
    {
      "cell_type": "code",
      "source": [
        "from tensorflow.keras.preprocessing.image import ImageDataGenerator"
      ],
      "metadata": {
        "id": "98tNR9TmBZdE"
      },
      "execution_count": 16,
      "outputs": []
    },
    {
      "cell_type": "code",
      "source": [
        "\n",
        "datagen = ImageDataGenerator(\n",
        "    rotation_range = 30,       # randomly rotate images in th range(degrees, 0 to 180)\n",
        "    zoom_range = 0.15,          # randomly zoom image\n",
        "    shear_range = 0.15,\n",
        "    width_shift_range = 0.1 ,  # randomly shift images horizontally (fraction of total width)\n",
        "    height_shift_range = 0.1,  # randomly shift images vertically (fraction of total height)\n",
        "    horizontal_flip = True,    # randomly flip images\n",
        "    vertical_flip = True)      # randomly flip images\n",
        "\n",
        "\n",
        "datagen.fit(x_train)\n",
        "\n",
        "train_gen = datagen.flow(x_train, y_train, batch_size = 128)"
      ],
      "metadata": {
        "id": "gOKsNruOBtML"
      },
      "execution_count": 17,
      "outputs": []
    },
    {
      "cell_type": "markdown",
      "source": [
        "Modeling"
      ],
      "metadata": {
        "id": "QC78tIKY_d8P"
      }
    },
    {
      "cell_type": "code",
      "source": [
        "import tensorflow as tf\n",
        "from tensorflow import keras\n",
        "from tensorflow.keras.layers import Input, Dense, Dropout, BatchNormalization, Conv2D, MaxPool2D, Flatten\n",
        "from tensorflow.keras.backend import clear_session\n",
        "from tensorflow.keras.models import Model\n",
        "from tensorflow.keras.optimizers import Adam"
      ],
      "metadata": {
        "id": "qke3efhrBRSj"
      },
      "execution_count": 18,
      "outputs": []
    },
    {
      "cell_type": "code",
      "source": [
        "# 세션 클리어\n",
        "clear_session()\n",
        "\n",
        "# 모델 layer 엮기\n",
        "il = Input(shape = (28, 28, 1))\n",
        "\n",
        "cl = Conv2D(filters = 64,\n",
        "            kernel_size = (3,3),\n",
        "            strides = (1,1),\n",
        "            padding = 'same',\n",
        "            activation = 'relu')(il)\n",
        "cl = Conv2D(filters = 64,\n",
        "            kernel_size = (3,3),\n",
        "            strides = (1,1),\n",
        "            padding = 'same',\n",
        "            activation = 'relu')(cl)\n",
        "pl = MaxPool2D(pool_size = (2,2),\n",
        "               strides = (2,2))(cl)\n",
        "bl = BatchNormalization()(pl)\n",
        "\n",
        "cl = Conv2D(filters = 128,\n",
        "            kernel_size = (3,3),\n",
        "            strides = (1,1),\n",
        "            padding = 'same',\n",
        "            activation = 'relu')(bl)\n",
        "cl = Conv2D(filters = 128,\n",
        "            kernel_size = (3,3),\n",
        "            strides = (1,1),\n",
        "            padding = 'same',\n",
        "            activation = 'relu')(cl)\n",
        "pl = MaxPool2D(pool_size= (2,2),\n",
        "               strides = (2,2))(cl)\n",
        "bl = BatchNormalization()(pl)\n",
        "\n",
        "cl = Conv2D(filters = 256,\n",
        "            kernel_size = (3,3),\n",
        "            strides = (1,1),\n",
        "            padding = 'same',\n",
        "            activation = 'relu')(bl)\n",
        "cl = Conv2D(filters = 256,\n",
        "            kernel_size = (3,3),\n",
        "            strides = (1,1),\n",
        "            padding = 'same',\n",
        "            activation = 'relu')(cl)\n",
        "pl = MaxPool2D(pool_size= (2,2),\n",
        "               strides = (2,2))(cl)\n",
        "bl = BatchNormalization()(pl)\n",
        "\n",
        "fl = Flatten()(bl)\n",
        "hl = Dense(128, activation = 'relu')(fl)\n",
        "bl = BatchNormalization()(hl)\n",
        "dl = Dropout(0.25)(bl)\n",
        "ol = Dense(class_n, activation = 'softmax')(dl)\n",
        "\n",
        "# model 처음과 끝 지정\n",
        "model = Model(il, ol)\n",
        "\n",
        "# model compile\n",
        "model.compile(loss = keras.losses.categorical_crossentropy,\n",
        "              metrics = ['accuracy'],\n",
        "              optimizer = Adam())\n",
        "\n",
        "# 양념\n",
        "model.summary()"
      ],
      "metadata": {
        "colab": {
          "base_uri": "https://localhost:8080/"
        },
        "id": "ct7uMgzhApOq",
        "outputId": "19903300-4cb9-4285-ea43-5ce52f08e36d"
      },
      "execution_count": 19,
      "outputs": [
        {
          "output_type": "stream",
          "name": "stdout",
          "text": [
            "Model: \"model\"\n",
            "_________________________________________________________________\n",
            " Layer (type)                Output Shape              Param #   \n",
            "=================================================================\n",
            " input_1 (InputLayer)        [(None, 28, 28, 1)]       0         \n",
            "                                                                 \n",
            " conv2d (Conv2D)             (None, 28, 28, 64)        640       \n",
            "                                                                 \n",
            " conv2d_1 (Conv2D)           (None, 28, 28, 64)        36928     \n",
            "                                                                 \n",
            " max_pooling2d (MaxPooling2D  (None, 14, 14, 64)       0         \n",
            " )                                                               \n",
            "                                                                 \n",
            " batch_normalization (BatchN  (None, 14, 14, 64)       256       \n",
            " ormalization)                                                   \n",
            "                                                                 \n",
            " conv2d_2 (Conv2D)           (None, 14, 14, 128)       73856     \n",
            "                                                                 \n",
            " conv2d_3 (Conv2D)           (None, 14, 14, 128)       147584    \n",
            "                                                                 \n",
            " max_pooling2d_1 (MaxPooling  (None, 7, 7, 128)        0         \n",
            " 2D)                                                             \n",
            "                                                                 \n",
            " batch_normalization_1 (Batc  (None, 7, 7, 128)        512       \n",
            " hNormalization)                                                 \n",
            "                                                                 \n",
            " conv2d_4 (Conv2D)           (None, 7, 7, 256)         295168    \n",
            "                                                                 \n",
            " conv2d_5 (Conv2D)           (None, 7, 7, 256)         590080    \n",
            "                                                                 \n",
            " max_pooling2d_2 (MaxPooling  (None, 3, 3, 256)        0         \n",
            " 2D)                                                             \n",
            "                                                                 \n",
            " batch_normalization_2 (Batc  (None, 3, 3, 256)        1024      \n",
            " hNormalization)                                                 \n",
            "                                                                 \n",
            " flatten (Flatten)           (None, 2304)              0         \n",
            "                                                                 \n",
            " dense (Dense)               (None, 128)               295040    \n",
            "                                                                 \n",
            " batch_normalization_3 (Batc  (None, 128)              512       \n",
            " hNormalization)                                                 \n",
            "                                                                 \n",
            " dropout (Dropout)           (None, 128)               0         \n",
            "                                                                 \n",
            " dense_1 (Dense)             (None, 10)                1290      \n",
            "                                                                 \n",
            "=================================================================\n",
            "Total params: 1,442,890\n",
            "Trainable params: 1,441,738\n",
            "Non-trainable params: 1,152\n",
            "_________________________________________________________________\n"
          ]
        }
      ]
    },
    {
      "cell_type": "code",
      "source": [
        "from tensorflow.keras.callbacks import EarlyStopping\n",
        "es = EarlyStopping(monitor= 'val_loss',\n",
        "                   min_delta = 0,\n",
        "                   patience = 5,\n",
        "                   verbose =1)"
      ],
      "metadata": {
        "id": "frB36Et6HHPa"
      },
      "execution_count": 20,
      "outputs": []
    },
    {
      "cell_type": "code",
      "source": [
        "history = model.fit(train_gen, validation_data=(x_val, y_val), epochs = 10000,\n",
        "                    verbose = 1, callbacks = [es])"
      ],
      "metadata": {
        "colab": {
          "base_uri": "https://localhost:8080/"
        },
        "id": "5B0mYQbtFAPn",
        "outputId": "42639ab5-7758-4373-dd88-1742c6ffc872"
      },
      "execution_count": 21,
      "outputs": [
        {
          "output_type": "stream",
          "name": "stdout",
          "text": [
            "Epoch 1/10000\n",
            "94/94 [==============================] - 14s 75ms/step - loss: 1.1574 - accuracy: 0.6280 - val_loss: 191.2834 - val_accuracy: 0.0925\n",
            "Epoch 2/10000\n",
            "94/94 [==============================] - 6s 62ms/step - loss: 0.7086 - accuracy: 0.7777 - val_loss: 165.9232 - val_accuracy: 0.1499\n",
            "Epoch 3/10000\n",
            "94/94 [==============================] - 6s 65ms/step - loss: 0.5990 - accuracy: 0.8086 - val_loss: 184.8064 - val_accuracy: 0.3037\n",
            "Epoch 4/10000\n",
            "94/94 [==============================] - 6s 67ms/step - loss: 0.5426 - accuracy: 0.8303 - val_loss: 201.5167 - val_accuracy: 0.2790\n",
            "Epoch 5/10000\n",
            "94/94 [==============================] - 6s 63ms/step - loss: 0.4993 - accuracy: 0.8423 - val_loss: 205.6082 - val_accuracy: 0.2971\n",
            "Epoch 6/10000\n",
            "94/94 [==============================] - 6s 66ms/step - loss: 0.4778 - accuracy: 0.8535 - val_loss: 407.8846 - val_accuracy: 0.2593\n",
            "Epoch 7/10000\n",
            "94/94 [==============================] - 6s 59ms/step - loss: 0.4566 - accuracy: 0.8591 - val_loss: 139.6093 - val_accuracy: 0.5050\n",
            "Epoch 8/10000\n",
            "94/94 [==============================] - 6s 66ms/step - loss: 0.4248 - accuracy: 0.8701 - val_loss: 121.2011 - val_accuracy: 0.6268\n",
            "Epoch 9/10000\n",
            "94/94 [==============================] - 6s 61ms/step - loss: 0.4102 - accuracy: 0.8699 - val_loss: 189.0266 - val_accuracy: 0.5164\n",
            "Epoch 10/10000\n",
            "94/94 [==============================] - 6s 66ms/step - loss: 0.4020 - accuracy: 0.8756 - val_loss: 145.5678 - val_accuracy: 0.5801\n",
            "Epoch 11/10000\n",
            "94/94 [==============================] - 5s 52ms/step - loss: 0.3892 - accuracy: 0.8794 - val_loss: 123.0219 - val_accuracy: 0.6549\n",
            "Epoch 12/10000\n",
            "94/94 [==============================] - 5s 57ms/step - loss: 0.3720 - accuracy: 0.8827 - val_loss: 88.4250 - val_accuracy: 0.6362\n",
            "Epoch 13/10000\n",
            "94/94 [==============================] - 6s 61ms/step - loss: 0.3644 - accuracy: 0.8896 - val_loss: 80.0150 - val_accuracy: 0.6849\n",
            "Epoch 14/10000\n",
            "94/94 [==============================] - 6s 59ms/step - loss: 0.3503 - accuracy: 0.8903 - val_loss: 56.7993 - val_accuracy: 0.7023\n",
            "Epoch 15/10000\n",
            "94/94 [==============================] - 5s 57ms/step - loss: 0.3465 - accuracy: 0.8908 - val_loss: 67.5461 - val_accuracy: 0.7033\n",
            "Epoch 16/10000\n",
            "94/94 [==============================] - 6s 60ms/step - loss: 0.3303 - accuracy: 0.8966 - val_loss: 68.0630 - val_accuracy: 0.7053\n",
            "Epoch 17/10000\n",
            "94/94 [==============================] - 5s 57ms/step - loss: 0.3352 - accuracy: 0.8976 - val_loss: 53.2987 - val_accuracy: 0.7991\n",
            "Epoch 18/10000\n",
            "94/94 [==============================] - 7s 69ms/step - loss: 0.3199 - accuracy: 0.9005 - val_loss: 36.7546 - val_accuracy: 0.8051\n",
            "Epoch 19/10000\n",
            "94/94 [==============================] - 6s 61ms/step - loss: 0.3198 - accuracy: 0.8999 - val_loss: 47.3209 - val_accuracy: 0.8178\n",
            "Epoch 20/10000\n",
            "94/94 [==============================] - 6s 68ms/step - loss: 0.3104 - accuracy: 0.9034 - val_loss: 67.1100 - val_accuracy: 0.7527\n",
            "Epoch 21/10000\n",
            "94/94 [==============================] - 6s 60ms/step - loss: 0.3088 - accuracy: 0.9061 - val_loss: 39.2222 - val_accuracy: 0.8351\n",
            "Epoch 22/10000\n",
            "94/94 [==============================] - 6s 64ms/step - loss: 0.3017 - accuracy: 0.9049 - val_loss: 60.6601 - val_accuracy: 0.7820\n",
            "Epoch 23/10000\n",
            "94/94 [==============================] - 5s 56ms/step - loss: 0.2927 - accuracy: 0.9076 - val_loss: 72.3926 - val_accuracy: 0.7613\n",
            "Epoch 23: early stopping\n"
          ]
        }
      ]
    },
    {
      "cell_type": "code",
      "source": [
        "if not isinstance(history, dict):\n",
        "    history = history.history\n",
        "\n",
        "plt.plot(history['accuracy'])                \n",
        "plt.plot(history['val_accuracy'])                  \n",
        "plt.title('Accuracy : Training vs Validation')     \n",
        "plt.ylabel('Accuracy')                              \n",
        "plt.xlabel('Epoch')\n",
        "plt.legend(['Training', 'Validation'], loc=0)\n",
        "plt.show()"
      ],
      "metadata": {
        "colab": {
          "base_uri": "https://localhost:8080/",
          "height": 295
        },
        "id": "EZVPPvmMHXhM",
        "outputId": "c518095f-7216-41d6-c5ed-3795ec31ca72"
      },
      "execution_count": 22,
      "outputs": [
        {
          "output_type": "display_data",
          "data": {
            "text/plain": [
              "<Figure size 432x288 with 1 Axes>"
            ],
            "image/png": "[encoded data removed]"
          },
          "metadata": {
            "needs_background": "light"
          }
        }
      ]
    },
    {
      "cell_type": "code",
      "source": [
        "if not isinstance(history, dict):\n",
        "    history = history.history\n",
        "\n",
        "plt.plot(history['loss'])                  \n",
        "plt.plot(history['val_loss'])                  \n",
        "plt.title('Loss : Training vs Validation')    \n",
        "plt.ylabel('Loss')                              \n",
        "plt.xlabel('Epoch')\n",
        "plt.legend(['Training', 'Validation'], loc=0)\n",
        "plt.show()"
      ],
      "metadata": {
        "colab": {
          "base_uri": "https://localhost:8080/",
          "height": 295
        },
        "id": "eZyB_CRLHlHi",
        "outputId": "f01bf492-4876-4cae-842d-57fa66fe0cc9"
      },
      "execution_count": 23,
      "outputs": [
        {
          "output_type": "display_data",
          "data": {
            "text/plain": [
              "<Figure size 432x288 with 1 Axes>"
            ],
            "image/png": "[encoded data removed]"
          },
          "metadata": {
            "needs_background": "light"
          }
        }
      ]
    },
    {
      "cell_type": "code",
      "source": [
        "from sklearn.metrics import accuracy_score\n",
        "# 원핫 인코딩 해제 : 카테고리 중 가장 높은 값\n",
        "train_y = y_train.argmax(axis=1)\n",
        "test_y = y_test.argmax(axis=1)\n",
        "\n",
        "\n",
        "pred_train = model.predict(x_train)\n",
        "pred_test = model.predict(x_test)\n",
        "\n",
        "single_pred_train = pred_train.argmax(axis=1)\n",
        "single_pred_test = pred_test.argmax(axis=1)\n",
        "\n",
        "logi_train_accuracy = accuracy_score(train_y, single_pred_train)\n",
        "logi_test_accuracy = accuracy_score(test_y, single_pred_test)\n",
        "\n",
        "print('CNN')\n",
        "print(f'트레이닝 정확도 : {logi_train_accuracy*100:.2f}%')\n",
        "print(f'테스트 정확도 : {logi_test_accuracy*100:.2f}%')"
      ],
      "metadata": {
        "colab": {
          "base_uri": "https://localhost:8080/"
        },
        "id": "FnFKlwrqHsKV",
        "outputId": "77015933-da99-40de-e642-b45e65084872"
      },
      "execution_count": 24,
      "outputs": [
        {
          "output_type": "stream",
          "name": "stdout",
          "text": [
            "375/375 [==============================] - 1s 3ms/step\n",
            "118/118 [==============================] - 0s 4ms/step\n",
            "CNN\n",
            "트레이닝 정확도 : 93.49%\n",
            "테스트 정확도 : 91.99%\n"
          ]
        }
      ]
    },
    {
      "cell_type": "code",
      "source": [],
      "metadata": {
        "id": "X9IdlOjuH0yd"
      },
      "execution_count": 24,
      "outputs": []
    }
  ]
}