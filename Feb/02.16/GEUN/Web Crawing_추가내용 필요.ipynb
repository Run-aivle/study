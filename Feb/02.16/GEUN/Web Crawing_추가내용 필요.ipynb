{
 "cells": [
  {
   "cell_type": "markdown",
   "id": "80748f24",
   "metadata": {},
   "source": [
    "# Web Crawing\n",
    ": 웹 페이지에서 데이터를 수집하는 방법"
   ]
  },
  {
   "cell_type": "markdown",
   "id": "fdc0bcba",
   "metadata": {},
   "source": [
    "### 웹 페이지\n",
    "- 정적 페이지 : request시 서버에 미리 저장된 파일(JS, HTML, etc.)이 그래도 전달되어 고정된 웹 페이지를 보여준다.\n",
    "- 동적 페이지 : request시 서버에 있는 데이터를 스크립트에 의해 가공처리하여 보여주는 웹 페이지로 조건에 따라 변하는 웹 페이지를 보여준다."
   ]
  },
  {
   "cell_type": "markdown",
   "id": "6ef4148d",
   "metadata": {},
   "source": [
    "### Web Crawing 방법\n",
    "- requests 이용 : 받아오는 문자열에 따라서 json, html 두 가지 방법으로 나뉜다.\n",
    "    - json 문자열로 받아서 파싱하는 방법 : 주로 동적 페이지에 사용\n",
    "    - html 문자열로 받아서 파싱하는 방법 : 주로 정적 페이지에 사용\n",
    "      \n",
    "      \n",
    "- selenium 이용\n",
    "    - 브라우져를 직접 열어서 데이터를 받는 방법 => request json, html 방법이 안 될 때 사용하는 방법."
   ]
  },
  {
   "cell_type": "markdown",
   "id": "2985730b",
   "metadata": {},
   "source": [
    "### 크롤링 방법에 따른 속도\n",
    "- requests json -> requests html -> seleniumjson"
   ]
  },
  {
   "cell_type": "markdown",
   "id": "a665270f",
   "metadata": {},
   "source": [
    "### 크롤링 방법\n",
    "1. URL 가지고 오기\n",
    "    - 방법 :\n",
    "        - url = 'url주소'\n",
    "2. 서버에 데이터 요청하기 => request(URL) -> response : json(str)\n",
    "    - 방법 : \n",
    "        - response = requests.get(url) => get방식 : 주소에 데이터가 있음\n",
    "        - response = requests.post(url) => post방식 : body에 데이터가 있음\n",
    "        - 크롤링 하려는 사이트의 fetch에서 Request Method가 get인지 post인지 확인 후 사용\n",
    "3. 서버에서 받아온 데이터 파싱(형태 변경 ex) DataFrame) => json(str) -> list, dict -> DataFrame\n",
    "    - 방법 : \n",
    "        - data = response.json() => 문자열데이터를 리스트나 딕셔너리로 바꿔줌\n",
    "        - pd.DataFrame(data)"
   ]
  }
 ],
 "metadata": {
  "kernelspec": {
   "display_name": "Python 3 (ipykernel)",
   "language": "python",
   "name": "python3"
  },
  "language_info": {
   "codemirror_mode": {
    "name": "ipython",
    "version": 3
   },
   "file_extension": ".py",
   "mimetype": "text/x-python",
   "name": "python",
   "nbconvert_exporter": "python",
   "pygments_lexer": "ipython3",
   "version": "3.9.13"
  }
 },
 "nbformat": 4,
 "nbformat_minor": 5
}
