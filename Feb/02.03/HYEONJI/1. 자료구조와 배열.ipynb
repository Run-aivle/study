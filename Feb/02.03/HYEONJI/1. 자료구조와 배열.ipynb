{
 "cells": [
  {
   "cell_type": "code",
   "execution_count": 1,
   "id": "b3b7ecda",
   "metadata": {},
   "outputs": [
    {
     "name": "stdout",
     "output_type": "stream",
     "text": [
      "3\n"
     ]
    }
   ],
   "source": [
    "a = [1, 2, 3]\n",
    "max = a[0]\n",
    "if a[1] > max:\n",
    "    max = a[1]\n",
    "if a[2] > max:\n",
    "    max = a[2]\n",
    "print(max)"
   ]
  },
  {
   "cell_type": "code",
   "execution_count": 2,
   "id": "b3646c15",
   "metadata": {},
   "outputs": [
    {
     "name": "stdout",
     "output_type": "stream",
     "text": [
      "4\n"
     ]
    }
   ],
   "source": [
    "a = [1, 2, 3, 4]\n",
    "max = a[0]\n",
    "if a[1] > max:\n",
    "    max = a[1]\n",
    "if a[2] > max:\n",
    "    max = a[2]\n",
    "if a[3] > max:\n",
    "    max = a[3]\n",
    "print(max)"
   ]
  },
  {
   "cell_type": "code",
   "execution_count": 4,
   "id": "2872e1b5",
   "metadata": {},
   "outputs": [
    {
     "name": "stdout",
     "output_type": "stream",
     "text": [
      "7\n",
      "t\n",
      "FLAC\n"
     ]
    }
   ],
   "source": [
    "def func(a):\n",
    "    max = a[0]\n",
    "    for i in range(1, len(a)):\n",
    "        if a[i] > max:\n",
    "            max = a[i]\n",
    "    return max\n",
    "t = (4, 7, 5.6, 2, 3.14, 1)\n",
    "s = 'string'\n",
    "a = ['DTS', 'AAC', 'FLAC']\n",
    "print(func(t))\n",
    "print(func(s))\n",
    "print(func(a))"
   ]
  },
  {
   "cell_type": "code",
   "execution_count": 6,
   "id": "5df175b0",
   "metadata": {},
   "outputs": [
    {
     "name": "stdout",
     "output_type": "stream",
     "text": [
      "1\n",
      "g\n",
      "AAC\n"
     ]
    }
   ],
   "source": [
    "# 실습 1\n",
    "# 최솟값 구하기\n",
    "def func(a):\n",
    "    min = a[0]\n",
    "    for i in range(1, len(a)):\n",
    "        if a[i] < min:\n",
    "            min = a[i]\n",
    "    return min\n",
    "t = (4, 7, 5.6, 2, 3.14, 1)\n",
    "s = 'string'\n",
    "a = ['DTS', 'AAC', 'FLAC']\n",
    "print(func(t))\n",
    "print(func(s))\n",
    "print(func(a))"
   ]
  },
  {
   "cell_type": "code",
   "execution_count": 33,
   "id": "bb11edad",
   "metadata": {},
   "outputs": [
    {
     "name": "stdout",
     "output_type": "stream",
     "text": [
      "리스트의 최댓값을 구합니다\n",
      "원소 수를 입력하세요 : 5\n",
      "x[0]의 값을 입력하세요 : 1\n",
      "x[1]의 값을 입력하세요 : 2\n",
      "x[2]의 값을 입력하세요 : 3\n",
      "x[3]의 값을 입력하세요 : 4\n",
      "x[4]의 값을 입력하세요 : 5\n",
      "최댓값은 5입니다\n"
     ]
    }
   ],
   "source": [
    "print('리스트의 최댓값을 구합니다')\n",
    "num = int(input('원소 수를 입력하세요 : '))\n",
    "x = [None] * num # 비어있는 리스트 선언\n",
    "for i in range(num):\n",
    "    x[i] = int(input(f'x[{i}]의 값을 입력하세요 : '))\n",
    "print(f'최댓값은 {func(x)}입니다')"
   ]
  },
  {
   "cell_type": "code",
   "execution_count": 21,
   "id": "952748f1",
   "metadata": {},
   "outputs": [
    {
     "name": "stdout",
     "output_type": "stream",
     "text": [
      "리스트의 최댓값을 구합니다\n",
      "주의 : \"END\"를 입력하면 원소 입력을 종료합니다\n",
      "x[0]의 값을 입력하세요 : 5\n",
      "x[1]의 값을 입력하세요 : 1\n",
      "x[2]의 값을 입력하세요 : 2\n",
      "x[3]의 값을 입력하세요 : 3\n",
      "x[4]의 값을 입력하세요 : 4\n",
      "x[5]의 값을 입력하세요 : 5\n",
      "x[6]의 값을 입력하세요 : END\n",
      "최댓값은 5입니다\n"
     ]
    }
   ],
   "source": [
    "print('리스트의 최댓값을 구합니다')\n",
    "print('주의 : \"END\"를 입력하면 원소 입력을 종료합니다')\n",
    "i = 0\n",
    "x = []\n",
    "while True:\n",
    "    s = input(f'x[{i}]의 값을 입력하세요 : ')\n",
    "    if s == 'END':\n",
    "        break\n",
    "    x.append(int(s))\n",
    "    i += 1\n",
    "print(f'최댓값은 {func(x)}입니다')"
   ]
  },
  {
   "cell_type": "code",
   "execution_count": 23,
   "id": "3dec199d",
   "metadata": {},
   "outputs": [
    {
     "name": "stdout",
     "output_type": "stream",
     "text": [
      "x[0] = John\n",
      "x[1] = George\n",
      "x[2] = Paul\n",
      "x[3] = Ringo\n"
     ]
    }
   ],
   "source": [
    "x = ['John', 'George', 'Paul', 'Ringo']\n",
    "for i in range(len(x)):\n",
    "    print(f'x[{i}] = {x[i]}')"
   ]
  },
  {
   "cell_type": "code",
   "execution_count": 24,
   "id": "de2802c1",
   "metadata": {},
   "outputs": [
    {
     "name": "stdout",
     "output_type": "stream",
     "text": [
      "x[0] = John\n",
      "x[1] = George\n",
      "x[2] = Paul\n",
      "x[3] = Ringo\n"
     ]
    }
   ],
   "source": [
    "for i, name in enumerate(x):\n",
    "    print(f'x[{i}] = {name}')"
   ]
  },
  {
   "cell_type": "code",
   "execution_count": 25,
   "id": "5ec55f22",
   "metadata": {},
   "outputs": [
    {
     "name": "stdout",
     "output_type": "stream",
     "text": [
      "John\n",
      "George\n",
      "Paul\n",
      "Ringo\n"
     ]
    }
   ],
   "source": [
    "for i in x:\n",
    "    print(i)"
   ]
  },
  {
   "cell_type": "code",
   "execution_count": 26,
   "id": "99086dae",
   "metadata": {},
   "outputs": [
    {
     "name": "stdout",
     "output_type": "stream",
     "text": [
      "[7, 6, 9, 3, 1, 5, 2]\n"
     ]
    }
   ],
   "source": [
    "def reverse(a):\n",
    "    n = len(a)\n",
    "    for i in range(n // 2):\n",
    "        a[i], a[n - 1 - i] = a[n - 1 - i],a[i]\n",
    "a = [2, 5, 1, 3, 9, 6, 7]\n",
    "reverse(a)\n",
    "print(a)"
   ]
  },
  {
   "cell_type": "code",
   "execution_count": 34,
   "id": "09b3573f",
   "metadata": {},
   "outputs": [
    {
     "name": "stdout",
     "output_type": "stream",
     "text": [
      "리스트를 역순으로 출력합니다\n",
      "원소 수를 입력하세요 : 5\n",
      "x[0]의 값을 입력하세요 : 1\n",
      "x[1]의 값을 입력하세요 : 2\n",
      "x[2]의 값을 입력하세요 : 3\n",
      "x[3]의 값을 입력하세요 : 4\n",
      "x[4]의 값을 입력하세요 : 5\n",
      "리스트를 역순으로 출력합니다\n",
      "x[0] = 5\n",
      "x[1] = 4\n",
      "x[2] = 3\n",
      "x[3] = 2\n",
      "x[4] = 1\n"
     ]
    }
   ],
   "source": [
    "# 실습 2\n",
    "# 리스트를 입력받아 역순으로 정렬하기\n",
    "print('리스트를 역순으로 출력합니다')\n",
    "num = int(input('원소 수를 입력하세요 : '))\n",
    "x = [None] * num\n",
    "for i in range(num):\n",
    "    x[i] = int(input(f'x[{i}]의 값을 입력하세요 : '))\n",
    "reverse(x)\n",
    "print('리스트를 역순으로 출력합니다')\n",
    "for i in range(num):\n",
    "    print(f'x[{i}] = {x[i]}')"
   ]
  }
 ],
 "metadata": {
  "kernelspec": {
   "display_name": "Python 3",
   "language": "python",
   "name": "python3"
  },
  "language_info": {
   "codemirror_mode": {
    "name": "ipython",
    "version": 3
   },
   "file_extension": ".py",
   "mimetype": "text/x-python",
   "name": "python",
   "nbconvert_exporter": "python",
   "pygments_lexer": "ipython3",
   "version": "3.11.1"
  },
  "vscode": {
   "interpreter": {
    "hash": "d417a21d97a2e6b8832d21dc44f5cbe4be6e18325f874a8bb8484565b928cd54"
   }
  }
 },
 "nbformat": 4,
 "nbformat_minor": 5
}
