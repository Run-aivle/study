{
 "cells": [
  {
   "cell_type": "code",
   "execution_count": 1,
   "id": "51786111",
   "metadata": {},
   "outputs": [
    {
     "name": "stdout",
     "output_type": "stream",
     "text": [
      "168\n",
      "[2, 3, 5, 7, 11, 13, 17, 19, 23, 29, 31, 37, 41, 43, 47, 53, 59, 61, 67, 71, 73, 79, 83, 89, 97, 101, 103, 107, 109, 113, 127, 131, 137, 139, 149, 151, 157, 163, 167, 173, 179, 181, 191, 193, 197, 199, 211, 223, 227, 229, 233, 239, 241, 251, 257, 263, 269, 271, 277, 281, 283, 293, 307, 311, 313, 317, 331, 337, 347, 349, 353, 359, 367, 373, 379, 383, 389, 397, 401, 409, 419, 421, 431, 433, 439, 443, 449, 457, 461, 463, 467, 479, 487, 491, 499, 503, 509, 521, 523, 541, 547, 557, 563, 569, 571, 577, 587, 593, 599, 601, 607, 613, 617, 619, 631, 641, 643, 647, 653, 659, 661, 673, 677, 683, 691, 701, 709, 719, 727, 733, 739, 743, 751, 757, 761, 769, 773, 787, 797, 809, 811, 821, 823, 827, 829, 839, 853, 857, 859, 863, 877, 881, 883, 887, 907, 911, 919, 929, 937, 941, 947, 953, 967, 971, 977, 983, 991, 997]\n"
     ]
    }
   ],
   "source": [
    "# 실습 1\n",
    "# 소수 출력\n",
    "import math\n",
    "num = []\n",
    "count = 0\n",
    "for i in range(2, 1001):\n",
    "    flag = 0\n",
    "    for j in range(2, int(math.sqrt(i) + 1)): # 2부터 i의 제곱근까지 확인\n",
    "        if i % j == 0:\n",
    "            flag = 1\n",
    "            break\n",
    "    if flag == 0:\n",
    "        count += 1\n",
    "        num.append(i)\n",
    "print(count)\n",
    "print(num)"
   ]
  },
  {
   "cell_type": "code",
   "execution_count": 2,
   "id": "7f616c55",
   "metadata": {},
   "outputs": [
    {
     "name": "stdout",
     "output_type": "stream",
     "text": [
      "원소를 입력하세요 : 1\n",
      "원소를 입력하세요 : 4\n",
      "원소를 입력하세요 : 6\n",
      "원소를 입력하세요 : 5\n",
      "원소를 입력하세요 : END\n",
      "[5, 6, 4, 1]\n"
     ]
    }
   ],
   "source": [
    "# 실습 2\n",
    "# 리스트 입력받아서 역순으로 정렬하여 원소 출력\n",
    "x = []\n",
    "while True:\n",
    "    a = input(f'원소를 입력하세요 : ')\n",
    "    if a ==  'END':\n",
    "        break\n",
    "    x.append(int(a))\n",
    "for i in range(len(x) // 2):\n",
    "    x[i], x[len(x) - 1 - i] = x[len(x) - 1 - i], x[i]\n",
    "print(x)"
   ]
  },
  {
   "cell_type": "code",
   "execution_count": 14,
   "id": "e954b7eb",
   "metadata": {},
   "outputs": [
    {
     "name": "stdout",
     "output_type": "stream",
     "text": [
      "리스트와 검색할 값을 입력받아 검색값이 있는 인덱스를 출력합니다\n",
      "주의: \"END\"를 입력하면 원소 입력을 종료합니다\n",
      "x[0]값을 입력하세요 : 5\n",
      "x[1]값을 입력하세요 : 7\n",
      "x[2]값을 입력하세요 : 4\n",
      "x[3]값을 입력하세요 : 10\n",
      "x[4]값을 입력하세요 : 4\n",
      "x[5]값을 입력하세요 : 36\n",
      "x[6]값을 입력하세요 : 3\n",
      "x[7]값을 입력하세요 : 66\n",
      "x[8]값을 입력하세요 : END\n",
      "검색할 값을 입력하세요 : 36\n",
      "검색값 36는 a[5]에 있습니다\n"
     ]
    }
   ],
   "source": [
    "# 실습 3\n",
    "def seq_search(a, key):\n",
    "    i = 0  \n",
    "    while True:\n",
    "        if i == len(a):\n",
    "            return -1\n",
    "        if a[i] == key:\n",
    "            return i\n",
    "        i += 1\n",
    "print('리스트와 검색할 값을 입력받아 검색값이 있는 인덱스를 출력합니다')\n",
    "print('주의: \"END\"를 입력하면 원소 입력을 종료합니다')\n",
    "i = 0\n",
    "x = []\n",
    "while True:\n",
    "    s = input(f'x[{i}]값을 입력하세요 : ')\n",
    "    if s == 'END':\n",
    "        break\n",
    "    x.append(int(s))\n",
    "    i += 1\n",
    "key = int(input('검색할 값을 입력하세요 : '))\n",
    "index = seq_search(x, key)\n",
    "print(f'검색값 {key}는 a[{index}]에 있습니다')"
   ]
  },
  {
   "cell_type": "code",
   "execution_count": 16,
   "id": "6ef07ce1",
   "metadata": {},
   "outputs": [
    {
     "name": "stdout",
     "output_type": "stream",
     "text": [
      "원소를 입력하세요 : 3\n",
      "원소를 입력하세요 : 1\n",
      "원소를 입력하세요 : 5\n",
      "원소를 입력하세요 : 8\n",
      "원소를 입력하세요 : 6\n",
      "원소를 입력하세요 : END\n",
      "8\n",
      "3\n"
     ]
    }
   ],
   "source": [
    "# 실습 4\n",
    "# 리스트 입력받아서 최대값과 최대값의 인덱스 출력\n",
    "x = []\n",
    "while True:\n",
    "    a = input(f'원소를 입력하세요 : ')\n",
    "    if a == 'END':\n",
    "        break\n",
    "    x.append(int(a))\n",
    "max = x[0]\n",
    "for i in range(1, len(x)):\n",
    "    if x[i] > max:\n",
    "        max = x[i]\n",
    "        index = i\n",
    "print(max)\n",
    "print(index)"
   ]
  },
  {
   "cell_type": "code",
   "execution_count": null,
   "id": "79f8f3bd",
   "metadata": {},
   "outputs": [],
   "source": [
    "--------------------------------------------------------------------------"
   ]
  },
  {
   "cell_type": "code",
   "execution_count": 5,
   "id": "93dbb01e",
   "metadata": {},
   "outputs": [
    {
     "name": "stdout",
     "output_type": "stream",
     "text": [
      "10 5\n",
      "1 10 4 9 2 3 8 5 7 6\n",
      "1 4 2 3 "
     ]
    }
   ],
   "source": [
    "# 실습 1\n",
    "# 백준 10871 X보다 작은 수\n",
    "n, x = map(int, input().split())\n",
    "a = list(input().split())\n",
    "for i in range(n) :\n",
    "    if int(a[i]) < x :\n",
    "        print(a[i], end = \" \")"
   ]
  },
  {
   "cell_type": "code",
   "execution_count": 6,
   "id": "f2577795",
   "metadata": {},
   "outputs": [],
   "source": [
    "# 실습 2\n",
    "# PRO 로또의 최고 순위와 최저 순위\n",
    "def solution(lottos, win_nums):\n",
    "    count = 0\n",
    "    count0 = 0\n",
    "    for i in range(len(lottos)):\n",
    "        if lottos[i] in win_nums:\n",
    "            count += 1\n",
    "        if lottos[i] == 0:\n",
    "            count0 += 1\n",
    "    max = count + count0\n",
    "    rank = {0 : 6, 1 : 6, 2 : 5, 3 : 4, 4 : 3, 5 : 2, 6 : 1}\n",
    "    answer = [rank[max], rank[count]]\n",
    "    return answer"
   ]
  },
  {
   "cell_type": "code",
   "execution_count": 7,
   "id": "2c63072b",
   "metadata": {},
   "outputs": [],
   "source": [
    "# 실습 3\n",
    "# PRO 없는 숫자 더하기\n",
    "def solution(numbers):\n",
    "    return 45 - sum(numbers)"
   ]
  },
  {
   "cell_type": "code",
   "execution_count": 11,
   "id": "3281ba86",
   "metadata": {},
   "outputs": [
    {
     "name": "stdout",
     "output_type": "stream",
     "text": [
      "['yes', 'no', 'yes']\n"
     ]
    }
   ],
   "source": [
    "# 실습 4\n",
    "# 부품 리스트 확인\n",
    "def solution(store, customer):\n",
    "    answer = []\n",
    "    for i in range(len(customer)):\n",
    "        if customer[i] in store:\n",
    "            answer.append('yes')\n",
    "        else:\n",
    "            answer.append('no')\n",
    "    return answer\n",
    "store = [2,3,7,8,9]\n",
    "customer = [7,5,9]\n",
    "answer = solution(store, customer)\n",
    "print(answer)"
   ]
  },
  {
   "cell_type": "code",
   "execution_count": 18,
   "id": "08a50204",
   "metadata": {},
   "outputs": [
    {
     "name": "stdout",
     "output_type": "stream",
     "text": [
      "168\n"
     ]
    }
   ],
   "source": [
    "# 실습 5\n",
    "# 최소공배수\n",
    "def solution(arr):\n",
    "    max = 0\n",
    "    for i in range(len(arr)):\n",
    "        if arr[i] > max:\n",
    "            max = arr[i]\n",
    "    mul = 1\n",
    "    for i in range(len(arr)):\n",
    "        mul = mul * arr[i] \n",
    "    for i in range(max, mul+1):\n",
    "        flag = 0\n",
    "        for j in range(len(arr)):\n",
    "            if i % arr[j] == 0:\n",
    "                flag += 1\n",
    "        if flag == len(arr):\n",
    "            answer = i\n",
    "            break\n",
    "    return answer\n",
    "arr = [2,6,8,14]\n",
    "answer = solution(arr)\n",
    "print(answer)"
   ]
  },
  {
   "cell_type": "code",
   "execution_count": 19,
   "id": "b3e69f57",
   "metadata": {},
   "outputs": [
    {
     "name": "stdout",
     "output_type": "stream",
     "text": [
      "[4, 5]\n"
     ]
    }
   ],
   "source": [
    "# 실습 6\n",
    "def solution(n, s):\n",
    "    list_one = []\n",
    "    list_all = []\n",
    "    sum_one = 0\n",
    "    mul = []\n",
    "    for i in range(1, (s // n) + 1):\n",
    "        list_one.append(i)\n",
    "        list_one.append(s - i)\n",
    "        list_all.append(list_one)\n",
    "        list_one = []\n",
    "    for j in range(len(list_all)):\n",
    "            mul.append(list_all[j][0] * list_all[j][1])\n",
    "    if len(mul) > 0:\n",
    "        max = mul[0]\n",
    "        flag = 0\n",
    "        for i in range(1, len(mul)):\n",
    "            if mul[i] > max:\n",
    "                max = mul[i]\n",
    "                flag = i\n",
    "        answer = list_all[flag]\n",
    "    else:\n",
    "        answer = [-1]\n",
    "    return answer\n",
    "n = 2\n",
    "s = 9\n",
    "answer = solution(n, s)\n",
    "print(answer)"
   ]
  },
  {
   "cell_type": "code",
   "execution_count": 9,
   "id": "b023edce",
   "metadata": {},
   "outputs": [],
   "source": [
    "# 실습 7\n",
    "# PRO 제일 작은 수 제거하기\n",
    "def solution(arr):\n",
    "    if len(arr) == 1:\n",
    "        return [-1]\n",
    "    else:\n",
    "        arr.remove(min(arr))\n",
    "        return arr"
   ]
  },
  {
   "cell_type": "code",
   "execution_count": 12,
   "id": "491f8ba4",
   "metadata": {},
   "outputs": [],
   "source": [
    "# 실습 8\n",
    "# PRO 같은 숫자는 싫어\n",
    "def solution(arr):\n",
    "    answer = []\n",
    "    answer.append(arr[0])\n",
    "    for i in range(1,len(arr)):\n",
    "        if arr[i] != arr[i - 1]:\n",
    "            answer.append(arr[i])\n",
    "    return answer"
   ]
  }
 ],
 "metadata": {
  "kernelspec": {
   "display_name": "Python 3 (ipykernel)",
   "language": "python",
   "name": "python3"
  },
  "language_info": {
   "codemirror_mode": {
    "name": "ipython",
    "version": 3
   },
   "file_extension": ".py",
   "mimetype": "text/x-python",
   "name": "python",
   "nbconvert_exporter": "python",
   "pygments_lexer": "ipython3",
   "version": "3.9.13"
  }
 },
 "nbformat": 4,
 "nbformat_minor": 5
}
