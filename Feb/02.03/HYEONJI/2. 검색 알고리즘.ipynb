{
 "cells": [
  {
   "cell_type": "code",
   "execution_count": 2,
   "id": "f930b4a4",
   "metadata": {},
   "outputs": [
    {
     "name": "stdout",
     "output_type": "stream",
     "text": [
      "검색값은 a[5]에 있습니다\n"
     ]
    }
   ],
   "source": [
    "def search_while(a, key):\n",
    "    i = 0\n",
    "    while True:\n",
    "        if i == len(a):\n",
    "            return -1\n",
    "        if a[i] == key:\n",
    "            return i\n",
    "        i += 1\n",
    "a = [2, 5, 1, 3, 9, 6, 7]\n",
    "index = search_while(a, 6)\n",
    "if index == -1:\n",
    "    print('검색값을 갖는 원소가 존재하지 않습니다')\n",
    "else:\n",
    "    print(f'검색값은 a[{index}]에 있습니다')"
   ]
  },
  {
   "cell_type": "code",
   "execution_count": 4,
   "id": "0b6388ba",
   "metadata": {},
   "outputs": [
    {
     "name": "stdout",
     "output_type": "stream",
     "text": [
      "검색값은 a[4]에 있습니다\n"
     ]
    }
   ],
   "source": [
    "def search_for(a, key):\n",
    "    for i in range(len(a)):\n",
    "        if a[i] == key:\n",
    "            return i\n",
    "    return -1\n",
    "a = [2, 5, 1, 3, 9, 6, 7]\n",
    "index = search_for(a, 9)\n",
    "if index == -1:\n",
    "    print('검색값을 갖는 원소가 존재하지 않습니다')\n",
    "else:\n",
    "    print(f'검색값은 a[{index}]에 있습니다')"
   ]
  },
  {
   "cell_type": "code",
   "execution_count": 10,
   "id": "250b816f",
   "metadata": {},
   "outputs": [
    {
     "name": "stdout",
     "output_type": "stream",
     "text": [
      "검색값은 a[6]에 있습니다\n"
     ]
    }
   ],
   "source": [
    "# 보초법 (While 문)\n",
    "def search_sentinel(b, key):\n",
    "    a = b.copy()\n",
    "    a.append(key)\n",
    "    i = 0\n",
    "    while True:\n",
    "        if a[i] == key:\n",
    "            break\n",
    "        i += 1    \n",
    "    return -1 if i == len(b) else i # 삼항연산자 ?\n",
    "a = [2, 5, 1, 3, 9, 6, 7]\n",
    "index = search_sentinel(a, 7)\n",
    "if index == -1:\n",
    "    print('검색값을 갖는 원소가 존재하지 않습니다')\n",
    "else:\n",
    "    print(f'검색값은 a[{index}]에 있습니다')"
   ]
  },
  {
   "cell_type": "code",
   "execution_count": 13,
   "id": "b56ca7b0",
   "metadata": {},
   "outputs": [
    {
     "name": "stdout",
     "output_type": "stream",
     "text": [
      "선형검색 While 문에서 검색값은 a[6]에 있습니다\n",
      "선형검색 보초법에서 검색값은 a[6]에 있습니다\n",
      "선형검색 While 문에서 if문은 14만큼 실행되었습니다\n",
      "선형검색 보초법에서 if문은 7만큼 실행되었습니다\n"
     ]
    }
   ],
   "source": [
    "# 실습 3\n",
    "def seq_search(a, key):\n",
    "    i = 0\n",
    "    counter = 0\n",
    "    while True:\n",
    "        counter += 1\n",
    "        if i == len(a):\n",
    "            return (-1, counter)\n",
    "        counter += 1\n",
    "        if a[i] == key:\n",
    "            return (i, counter)\n",
    "        i += 1\n",
    "\n",
    "def search_sentinel(b, key):\n",
    "    a = b.copy()\n",
    "    a.append(key)  \n",
    "    i = 0\n",
    "    counter = 0\n",
    "    while True:\n",
    "        counter += 1\n",
    "        if a[i] == key:\n",
    "            break\n",
    "        i += 1\n",
    "    return (-1, counter) if i == len(b) else (i, counter)\n",
    "\n",
    "a = [2, 5, 1, 3, 9, 6, 7]\n",
    "index0, counter0 = seq_search(a, 7)\n",
    "index1, counter1 = search_sentinel(a, 7)\n",
    "if index0 == -1 and index1 == -1:\n",
    "    print('검색값을 갖는 원소가 존재하지 않습니다')\n",
    "else:\n",
    "    print(f'선형검색 While 문에서 검색값은 a[{index0}]에 있습니다')\n",
    "    print(f'선형검색 보초법에서 검색값은 a[{index1}]에 있습니다')\n",
    "    print(f'선형검색 While 문에서 if문은 {counter0}만큼 실행되었습니다')\n",
    "    print(f'선형검색 보초법에서 if문은 {counter1}만큼 실행되었습니다')"
   ]
  },
  {
   "cell_type": "code",
   "execution_count": 12,
   "id": "4c1208b9",
   "metadata": {},
   "outputs": [
    {
     "name": "stdout",
     "output_type": "stream",
     "text": [
      "검색값은 a[8]에 있습니다\n"
     ]
    }
   ],
   "source": [
    "# 이진 검색 알고리즘\n",
    "def bin_search(a, key):\n",
    "    pl = 0          # 맨 앞\n",
    "    pr = len(a) - 1 # 맨 뒤\n",
    "    while True:\n",
    "        pc = (pl + pr) // 2\n",
    "        if a[pc] == key:\n",
    "            return pc\n",
    "        elif a[pc] < key:\n",
    "            pl = pc + 1\n",
    "        else:\n",
    "            pr = pc - 1\n",
    "        if pl > pr:\n",
    "            break\n",
    "    return -1\n",
    "a = [5, 7, 15, 28, 29, 31, 39, 58, 68, 70, 95]\n",
    "index = bin_search(a, 68)\n",
    "if index == -1:\n",
    "    print('검색값을 갖는 원소가 존재하지 않습니다')\n",
    "else:\n",
    "    print(f'검색값은 a[{index}]에 있습니다')"
   ]
  }
 ],
 "metadata": {
  "kernelspec": {
   "display_name": "Python 3 (ipykernel)",
   "language": "python",
   "name": "python3"
  },
  "language_info": {
   "codemirror_mode": {
    "name": "ipython",
    "version": 3
   },
   "file_extension": ".py",
   "mimetype": "text/x-python",
   "name": "python",
   "nbconvert_exporter": "python",
   "pygments_lexer": "ipython3",
   "version": "3.9.13"
  }
 },
 "nbformat": 4,
 "nbformat_minor": 5
}
