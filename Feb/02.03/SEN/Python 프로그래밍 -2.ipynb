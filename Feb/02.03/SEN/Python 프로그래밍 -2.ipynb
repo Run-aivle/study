{
 "cells": [
  {
   "cell_type": "markdown",
   "id": "aa2e0834",
   "metadata": {},
   "source": [
    "# 자료구조"
   ]
  },
  {
   "cell_type": "markdown",
   "id": "f2f55c8d",
   "metadata": {},
   "source": [
    "## 자료구조와 배열"
   ]
  },
  {
   "cell_type": "markdown",
   "id": "b3cc866a",
   "metadata": {},
   "source": [
    "### 최댓값 구하기"
   ]
  },
  {
   "cell_type": "code",
   "execution_count": 3,
   "id": "e4ad20d3",
   "metadata": {},
   "outputs": [
    {
     "name": "stdout",
     "output_type": "stream",
     "text": [
      "3\n"
     ]
    }
   ],
   "source": [
    "a = [1,2,3]\n",
    "maximum = a[0]\n",
    "if maximum < a[1]:\n",
    "    maximum = a[1]\n",
    "if maximum < a[2]:\n",
    "    maximum = a[2]\n",
    "print(maximum)"
   ]
  },
  {
   "cell_type": "code",
   "execution_count": 11,
   "id": "6debaa22",
   "metadata": {},
   "outputs": [
    {
     "name": "stdout",
     "output_type": "stream",
     "text": [
      "14\n",
      "t\n",
      "fLAC\n"
     ]
    }
   ],
   "source": [
    "def max_of(a):\n",
    "    maximum = a[0]\n",
    "    for i in range(1, len(a)):\n",
    "        if a[i]>maximum:\n",
    "            maximum = a[i]\n",
    "    return maximum\n",
    "\n",
    "t = (4,7,5.6,2,3,14,1)\n",
    "s = 'string'\n",
    "a = ['DTS', 'AAC', 'FLAC']\n",
    "\n",
    "print(f'{max_of(t)}')\n",
    "print(f'{max_of(s)}')\n",
    "print(f'{max_of(a)}')"
   ]
  },
  {
   "cell_type": "markdown",
   "id": "592757d1",
   "metadata": {},
   "source": [
    "#### 미니 실습1\n",
    "Q. 리스트 원소의 최솟값 구하기 함수 min_of()를 작성하라."
   ]
  },
  {
   "cell_type": "code",
   "execution_count": 13,
   "id": "2f57e75e",
   "metadata": {},
   "outputs": [
    {
     "name": "stdout",
     "output_type": "stream",
     "text": [
      "1\n",
      "g\n",
      "AAC\n"
     ]
    }
   ],
   "source": [
    "def min_of(a):\n",
    "    minimum = a[0]\n",
    "    for i in range(1, len(a)):\n",
    "        if a[i] < minimum:\n",
    "            minimum = a[i]\n",
    "    return minimum\n",
    "\n",
    "t = (4,7,5.6,2,3,14,1)\n",
    "s = 'string'\n",
    "a = ['DTS', 'AAC', 'FLAC']\n",
    "\n",
    "print(f'{min_of(t)}')\n",
    "print(f'{min_of(s)}')\n",
    "print(f'{min_of(a)}')"
   ]
  },
  {
   "cell_type": "markdown",
   "id": "bf4ef5eb",
   "metadata": {},
   "source": [
    "### 사용자가 입력한 리스트에서 최댓값 출력하기"
   ]
  },
  {
   "cell_type": "markdown",
   "id": "559b91e2",
   "metadata": {},
   "source": [
    "- 리스트 크기 선언"
   ]
  },
  {
   "cell_type": "code",
   "execution_count": 15,
   "id": "180b5ec1",
   "metadata": {},
   "outputs": [
    {
     "name": "stdout",
     "output_type": "stream",
     "text": [
      "리스트의 최댓값을 구합니다\n",
      "원소 수를 입력하세요,:4\n",
      "[None, None, None, None]\n"
     ]
    }
   ],
   "source": [
    "def max_of(a):\n",
    "    maximum = a[0]\n",
    "    for i in range(1, len(a)):\n",
    "        if a[i]>maximum:\n",
    "            maximum = a[i]\n",
    "    return maximum\n",
    "\n",
    "print('리스트의 최댓값을 구합니다')\n",
    "num = int(input('원소 수를 입력하세요,:'))\n",
    "x = [None] *num\n",
    "\n",
    "for i in range(num):\n",
    "    x[i] = int(input(f'x[{i}]값을 입력하세요. :'))\n",
    "\n",
    "print(f'최댓값은 {max_of(x)}')"
   ]
  },
  {
   "cell_type": "markdown",
   "id": "f20f2565",
   "metadata": {},
   "source": [
    "- 리스트 크기 선언하지 않기"
   ]
  },
  {
   "cell_type": "code",
   "execution_count": 2,
   "id": "76d8dd6f",
   "metadata": {},
   "outputs": [
    {
     "name": "stdout",
     "output_type": "stream",
     "text": [
      "리스트 최댓값을 구합니다.\n",
      "주의: \"End\"를입력하면원소입력을종료합니다.\n",
      "x[0]값을 입력하세요. : 5\n",
      "x[1]값을 입력하세요. : 1\n",
      "x[2]값을 입력하세요. : 2\n",
      "x[3]값을 입력하세요. : 3\n",
      "x[4]값을 입력하세요. : 4\n",
      "x[5]값을 입력하세요. : 5\n",
      "x[6]값을 입력하세요. : End\n",
      "최댓값은 5입니다.\n"
     ]
    }
   ],
   "source": [
    "print('리스트 최댓값을 구합니다.')\n",
    "print('주의: \"End\"를입력하면원소입력을종료합니다.')\n",
    "\n",
    "\n",
    "\n",
    "def max_of(a):\n",
    "    maximum = a[0]\n",
    "    for i in range(1, len(a)):\n",
    "        if a[i]>maximum:\n",
    "            maximum = a[i]\n",
    "    return maximum\n",
    "\n",
    "\n",
    "\n",
    "i = 0\n",
    "x = []\n",
    "\n",
    "while True:\n",
    "    s = input(f'x[{i}]값을 입력하세요. : ')\n",
    "    if s == 'End':\n",
    "        break\n",
    "    x.append(int(s))\n",
    "    i+=1\n",
    "print(f'최댓값은 {max_of(x)}입니다.')"
   ]
  },
  {
   "cell_type": "markdown",
   "id": "e087a6eb",
   "metadata": {},
   "source": [
    "### 리스트의 모든 원소를 스캔하기\n",
    "- 원소 수 파악"
   ]
  },
  {
   "cell_type": "code",
   "execution_count": 20,
   "id": "2c2811ef",
   "metadata": {},
   "outputs": [
    {
     "name": "stdout",
     "output_type": "stream",
     "text": [
      "x[0] = John\n",
      "x[1] = George\n",
      "x[2] = Paul\n",
      "x[3] = Ringo\n"
     ]
    }
   ],
   "source": [
    "x = ['John','George','Paul','Ringo']\n",
    "\n",
    "for i in range(len(x)):\n",
    "    print(f'x[{i}] = {x[i]}')"
   ]
  },
  {
   "cell_type": "markdown",
   "id": "32a0fd26",
   "metadata": {},
   "source": [
    "- enumerate 함수 사용: 인덱스와 원소를 짝지어서 튜플로 꺼내는 내장 함수"
   ]
  },
  {
   "cell_type": "code",
   "execution_count": 115,
   "id": "88582e29",
   "metadata": {},
   "outputs": [
    {
     "name": "stdout",
     "output_type": "stream",
     "text": [
      "x[0] = John\n",
      "x[1] = George\n",
      "x[2] = Paul\n",
      "x[3] = Ringo\n"
     ]
    }
   ],
   "source": [
    "x = ['John','George','Paul','Ringo']\n",
    "\n",
    "for i, value in enumerate(x):\n",
    "    print(f'x[{i}] = {value}')"
   ]
  },
  {
   "cell_type": "markdown",
   "id": "885add17",
   "metadata": {},
   "source": [
    "- 인데스 값을 사용하지 않음"
   ]
  },
  {
   "cell_type": "code",
   "execution_count": 117,
   "id": "efb23dd5",
   "metadata": {},
   "outputs": [
    {
     "name": "stdout",
     "output_type": "stream",
     "text": [
      "John\n",
      "George\n",
      "Paul\n",
      "Ringo\n"
     ]
    }
   ],
   "source": [
    "x = ['John','George','Paul','Ringo']\n",
    "\n",
    "for i in x:\n",
    "    print(i)"
   ]
  },
  {
   "cell_type": "markdown",
   "id": "762fa7c3",
   "metadata": {},
   "source": [
    "- 원소를 역순으로 정렬하기(교환)\n",
    "\n",
    "  - **교환하는 횟수는 원소수//2**\n",
    "  \n",
    "  1. 홀수"
   ]
  },
  {
   "cell_type": "code",
   "execution_count": 23,
   "id": "774be831",
   "metadata": {},
   "outputs": [
    {
     "name": "stdout",
     "output_type": "stream",
     "text": [
      "[7, 6, 3, 1, 5, 2]\n"
     ]
    }
   ],
   "source": [
    "a = [2,5,1,3,6,7]\n",
    "\n",
    "def reverse_list(a):\n",
    "    n = len(a)\n",
    "    for i in range(n//2):\n",
    "        a[i], a[n-i-1] = a[n-i-1], a[i]\n",
    "\n",
    "reverse_list(a)\n",
    "print(a)"
   ]
  },
  {
   "cell_type": "markdown",
   "id": "9b57a5bd",
   "metadata": {},
   "source": [
    "    2. 짝수"
   ]
  },
  {
   "cell_type": "code",
   "execution_count": 119,
   "id": "07125506",
   "metadata": {},
   "outputs": [
    {
     "name": "stdout",
     "output_type": "stream",
     "text": [
      "[6, 3, 1, 5, 2]\n"
     ]
    }
   ],
   "source": [
    "a = [2,5,1,3,6]\n",
    "n = len(a)\n",
    "for i in range(int(n//2)):\n",
    "    a[i], a[-i-1] =  a[-i-1], a[i]\n",
    "print(a)"
   ]
  },
  {
   "cell_type": "markdown",
   "id": "269c18a3",
   "metadata": {},
   "source": [
    "#### 미니실습2"
   ]
  },
  {
   "cell_type": "code",
   "execution_count": 2,
   "id": "ed08462c",
   "metadata": {},
   "outputs": [
    {
     "name": "stdout",
     "output_type": "stream",
     "text": [
      "원소 수를 입력하세요. : 5\n",
      "x[0]값을 입력하세요.: 1\n",
      "x[1]값을 입력하세요.: 2\n",
      "x[2]값을 입력하세요.: 3\n",
      "x[3]값을 입력하세요.: 4\n",
      "x[4]값을 입력하세요.: 5\n",
      "리스트를 역순으로 출력합니다. \n",
      "x[0] = 5\n",
      "x[1] = 4\n",
      "x[2] = 3\n",
      "x[3] = 2\n",
      "x[4] = 1\n"
     ]
    }
   ],
   "source": [
    "def reverse_list(a):\n",
    "    n = len(a)\n",
    "    for i in range(n//2):\n",
    "        a[i], a[n-1-i] = a[n-1-i], a[i]\n",
    "        \n",
    "\n",
    "num = int(input('원소 수를 입력하세요. : '))\n",
    "\n",
    "x = [None] * num\n",
    "\n",
    "for j in range(len(x)):\n",
    "    x[j] = int(input(f'x[{j}]값을 입력하세요.: '))\n",
    "\n",
    "reverse_list(x)\n",
    "print('리스트를 역순으로 출력합니다. ')\n",
    "for i, j in enumerate(x):\n",
    "    print(f'x[{i}] = {j}')"
   ]
  },
  {
   "cell_type": "markdown",
   "id": "1aa6b6ce",
   "metadata": {},
   "source": [
    "**append 활용하기**"
   ]
  },
  {
   "cell_type": "code",
   "execution_count": 124,
   "id": "4c2b26f4",
   "metadata": {},
   "outputs": [
    {
     "name": "stdout",
     "output_type": "stream",
     "text": [
      "원소 수를 입력하세요. : 11\n",
      "x[0]값을 입력하세요.: 1\n",
      "x[1]값을 입력하세요.: 2\n",
      "x[2]값을 입력하세요.: 3\n",
      "x[3]값을 입력하세요.: 4\n",
      "x[4]값을 입력하세요.: 5\n",
      "x[5]값을 입력하세요.: 6\n",
      "x[6]값을 입력하세요.: 7\n",
      "x[7]값을 입력하세요.: 8\n",
      "x[8]값을 입력하세요.: 9\n",
      "x[9]값을 입력하세요.: 10\n",
      "x[10]값을 입력하세요.: 11\n",
      "리스트를 역순으로 출력합니다. \n",
      "x[0] = 11\n",
      "x[1] = 10\n",
      "x[2] = 9\n",
      "x[3] = 8\n",
      "x[4] = 7\n",
      "x[5] = 6\n",
      "x[6] = 5\n",
      "x[7] = 4\n",
      "x[8] = 3\n",
      "x[9] = 2\n",
      "x[10] = 1\n"
     ]
    }
   ],
   "source": [
    "def reverse_list(a):\n",
    "    n = len(a)\n",
    "    for i in range(n//2):\n",
    "        a[i], a[n-1-i] = a[n-1-i], a[i]\n",
    "        \n",
    "\n",
    "num = int(input('원소 수를 입력하세요. : '))\n",
    "\n",
    "x = []\n",
    "\n",
    "for i in range(num):\n",
    "    x.append(int(input(f'x[{i}]값을 입력하세요.: ')))\n",
    "\n",
    "reverse_list(x)\n",
    "print('리스트를 역순으로 출력합니다. ')\n",
    "for i, j in enumerate(x):\n",
    "    print(f'x[{i}] = {j}')"
   ]
  },
  {
   "cell_type": "markdown",
   "id": "b791468e",
   "metadata": {},
   "source": [
    "## 검색 알고리즘"
   ]
  },
  {
   "cell_type": "markdown",
   "id": "e0dce510",
   "metadata": {},
   "source": [
    "### 선형 검색"
   ]
  },
  {
   "cell_type": "markdown",
   "id": "f09d14f5",
   "metadata": {},
   "source": [
    "### While 문"
   ]
  },
  {
   "cell_type": "code",
   "execution_count": 127,
   "id": "db49b7c2",
   "metadata": {},
   "outputs": [
    {
     "name": "stdout",
     "output_type": "stream",
     "text": [
      "검색값은 a[3]에 있습니다.\n"
     ]
    }
   ],
   "source": [
    "def seq_search(a, key):\n",
    "    i = 0\n",
    "    \n",
    "    while True:\n",
    "        if i == len(a):\n",
    "            return -1\n",
    "        elif a[i] == key:\n",
    "            return i\n",
    "        i+= 1\n",
    "        \n",
    "a = [2,5,1,3,9,6,7]\n",
    "\n",
    "index = seq_search(a,3)\n",
    "\n",
    "if index == -1:\n",
    "    print('검색값을 갖는 원소가 존재하지 않습니다.')\n",
    "else :\n",
    "    print(f'검색값은 a[{index}]에 있습니다.')\n"
   ]
  },
  {
   "cell_type": "markdown",
   "id": "672861b4",
   "metadata": {},
   "source": [
    "**보초법**"
   ]
  },
  {
   "cell_type": "code",
   "execution_count": 131,
   "id": "f4a06951",
   "metadata": {},
   "outputs": [
    {
     "name": "stdout",
     "output_type": "stream",
     "text": [
      "검색값은 a[3]에 있습니다.\n"
     ]
    }
   ],
   "source": [
    "def seq_search_sentinel(b, key):\n",
    "    a = b.copy()\n",
    "    b.append(key)\n",
    "    \n",
    "    while True:\n",
    "        if a[i] == key:\n",
    "            break\n",
    "        i+= 1\n",
    "        \n",
    "    return -1 if len(a) == i else i\n",
    "\n",
    "a = [2,5,1,3,9,6,7]\n",
    "\n",
    "index = seq_search(a,3)\n",
    "\n",
    "if index == -1:\n",
    "    print('검색값을 갖는 원소가 존재하지 않습니다.')\n",
    "else :\n",
    "    print(f'검색값은 a[{index}]에 있습니다.')\n"
   ]
  },
  {
   "cell_type": "markdown",
   "id": "f97ea047",
   "metadata": {},
   "source": [
    "### for 문"
   ]
  },
  {
   "cell_type": "code",
   "execution_count": 133,
   "id": "46af025d",
   "metadata": {},
   "outputs": [
    {
     "name": "stdout",
     "output_type": "stream",
     "text": [
      "검색값은 a[3]에 있습니다.\n"
     ]
    }
   ],
   "source": [
    "def seq_search_sentinel(a, key):\n",
    "    for i in range(a):\n",
    "        if a[i] == key:\n",
    "            return i\n",
    "    return -1\n",
    "\n",
    "a = [2,5,1,3,9,6,7]\n",
    "\n",
    "index = seq_search(a,3)\n",
    "\n",
    "if index == -1:\n",
    "    print('검색값을 갖는 원소가 존재하지 않습니다.')\n",
    "else :\n",
    "    print(f'검색값은 a[{index}]에 있습니다.')\n"
   ]
  },
  {
   "cell_type": "markdown",
   "id": "6dd00d38",
   "metadata": {},
   "source": [
    "#### 미니 실습3"
   ]
  },
  {
   "cell_type": "code",
   "execution_count": 18,
   "id": "813e3edd",
   "metadata": {},
   "outputs": [
    {
     "name": "stdout",
     "output_type": "stream",
     "text": [
      "(-1, 15)\n"
     ]
    }
   ],
   "source": [
    "def seq_search(a, key):\n",
    "    i = 0\n",
    "    counter = 0\n",
    "    while True:\n",
    "        counter+=1\n",
    "        if i == len(a):\n",
    "            return (-1,counter)\n",
    "        counter+=1\n",
    "        if a[i] == key:\n",
    "            \n",
    "            return (i, counter)\n",
    "        \n",
    "        i+=1\n",
    "\n",
    "a = [2,5,1,3,9,6,7]\n",
    "\n",
    "index = seq_search(a, 8)\n",
    "print(index)\n",
    "\n",
    "# if index == -1:\n",
    "#     print('검색어가 없습니다.')\n",
    "# else : \n",
    "#     print(f'검색값은 a[{index}]에 있습니다.')\n",
    "\n"
   ]
  },
  {
   "cell_type": "code",
   "execution_count": 23,
   "id": "406f5045",
   "metadata": {},
   "outputs": [
    {
     "name": "stdout",
     "output_type": "stream",
     "text": [
      "검색값은 a[7]에 있습니다.\n",
      "if 문 반복 횟수는 8입니다.\n"
     ]
    }
   ],
   "source": [
    "def seq_search(b, key):\n",
    "    a=b.copy()\n",
    "    a.append(key)\n",
    "    \n",
    "    counter = 0\n",
    "    i = 0\n",
    "    \n",
    "    while True:\n",
    "        counter+=1\n",
    "        if a[i] == key:\n",
    "            break\n",
    "            \n",
    "        i+= 1   \n",
    "    return (-1,counter) if i == len(a) else (i, counter)\n",
    "\n",
    "b = [2,5,1,3,9,6,7]\n",
    "\n",
    "index = seq_search(b, 8)\n",
    "\n",
    "if index[0] == -1:\n",
    "    print('검색어가 없습니다.')\n",
    "else:\n",
    "    print(f'검색값은 a[{index[0]}]에 있습니다.')\n",
    "print(f'if 문 반복 횟수는 {index[1]}입니다.')"
   ]
  },
  {
   "cell_type": "markdown",
   "id": "c39ee1a6",
   "metadata": {},
   "source": [
    "### 이진 검색"
   ]
  },
  {
   "cell_type": "code",
   "execution_count": 134,
   "id": "c979dbb1",
   "metadata": {},
   "outputs": [
    {
     "name": "stdout",
     "output_type": "stream",
     "text": [
      "검색값은 a[6]에 있습니다.\n"
     ]
    }
   ],
   "source": [
    "def bin_search(a,key):\n",
    "    pl=0\n",
    "    pr = len(a) -1\n",
    "    while True:\n",
    "        pc = (pl+pr) // 2\n",
    "        if a[pc]==key:\n",
    "            return pc\n",
    "        elif a[pc]< key:\n",
    "            pl = pc +1\n",
    "        else:\n",
    "            pr = pc -1\n",
    "        \n",
    "        if pl > pr:\n",
    "            break\n",
    "\n",
    "    return -1\n",
    "\n",
    "a = [5,7,15,28,29,31,39,58,68,70,95] \n",
    "\n",
    "index = bin_search(a,39)\n",
    "\n",
    "if index == -1:\n",
    "    print('검색어가 없습니다.')\n",
    "else : \n",
    "    print(f'검색값은 a[{index}]에 있습니다.')"
   ]
  },
  {
   "cell_type": "markdown",
   "id": "814d53e9",
   "metadata": {},
   "source": [
    "while True 대신에 while에서 조건문 걸어주기"
   ]
  },
  {
   "cell_type": "code",
   "execution_count": 139,
   "id": "9c2decaa",
   "metadata": {},
   "outputs": [
    {
     "name": "stdout",
     "output_type": "stream",
     "text": [
      "검색값은 a[6]에 있습니다.\n"
     ]
    }
   ],
   "source": [
    "def bin_search(a,key):\n",
    "    pl=0\n",
    "    pr = len(a) -1\n",
    "    while pl <= pr:\n",
    "        pc = (pl+pr) // 2\n",
    "        if a[pc]==key:\n",
    "            return pc\n",
    "        elif a[pc]< key:\n",
    "            pl = pc +1\n",
    "        else:\n",
    "            pr = pc -1\n",
    "        \n",
    "    return -1\n",
    "\n",
    "a = [5,7,15,28,29,31,39,58,68,70,95] \n",
    "\n",
    "index = bin_search(a,39)\n",
    "\n",
    "if index == -1:\n",
    "    print('검색어가 없습니다.')\n",
    "else : \n",
    "    print(f'검색값은 a[{index}]에 있습니다.')"
   ]
  },
  {
   "cell_type": "markdown",
   "id": "33b5af45",
   "metadata": {},
   "source": [
    "#### 실습 1\n",
    "Q. 2부터 1000사이의 수 중에서 소수를 리스트에 입력하고 출력하여라.\n"
   ]
  },
  {
   "cell_type": "code",
   "execution_count": 65,
   "id": "139b6cdc",
   "metadata": {},
   "outputs": [],
   "source": [
    "prime = []\n",
    "\n",
    "for n in range(2, 10001):\n",
    "    flag = 0\n",
    "    for i in range(2, n):\n",
    "        if n % i == 0:\n",
    "            flag = 1\n",
    "            break\n",
    "    if flag == 0:\n",
    "        prime.append(n)\n",
    "# print(prime)"
   ]
  },
  {
   "cell_type": "markdown",
   "id": "d70cfd71",
   "metadata": {},
   "source": [
    "#### 실습3\n",
    "Q.리스트와 검색할 값을 사용자로부터 입력 받아서 검색 값이 있는 인덱스를 출력하라."
   ]
  },
  {
   "cell_type": "code",
   "execution_count": 143,
   "id": "1820635f",
   "metadata": {},
   "outputs": [
    {
     "name": "stdout",
     "output_type": "stream",
     "text": [
      "입력받을 숫자의 수를 입력하세요. :3\n",
      "a[0]의 숫자를 입력하세요1\n",
      "a[1]의 숫자를 입력하세요3\n",
      "a[2]의 숫자를 입력하세요2\n",
      "검색어를 입력하세요. :2\n",
      "현재 검색어는 a[1]에 있습니다.\n"
     ]
    }
   ],
   "source": [
    "def bin_search(a, key):\n",
    "    a= sorted(a)\n",
    "    pl = 0\n",
    "    pr = len(a)-1\n",
    "    \n",
    "    while True:\n",
    "        pc = (pl+pr)//2\n",
    "        \n",
    "        if a[pc] == key:\n",
    "            return pc\n",
    "        elif a[pc] > key:\n",
    "            pr = pc-1\n",
    "        else:\n",
    "            pl = pc+1\n",
    "        \n",
    "        if pl > pr:\n",
    "            break\n",
    "    return -1\n",
    "\n",
    "\n",
    "\n",
    "num = int(input('입력받을 숫자의 수를 입력하세요. :'))\n",
    "a = [None] * num\n",
    "\n",
    "\n",
    "for i in range(len(a)):\n",
    "        a[i] = int(input(f'a[{i}]의 숫자를 입력하세요'))\n",
    "key = int(input('검색어를 입력하세요. :'))\n",
    "\n",
    "index = bin_search(a, key)\n",
    "\n",
    "if index == -1:\n",
    "    print('현재 검색어가 없습니다.')\n",
    "else: \n",
    "    print(f'현재 검색어는 a[{index}]에 있습니다.')"
   ]
  },
  {
   "cell_type": "markdown",
   "id": "8921eafe",
   "metadata": {},
   "source": [
    "##### 실습 4\n",
    "Q 리스트를 사용자로부터 입력 받아서 최대값과 최대값이 있는 인덱스를 출력하라"
   ]
  },
  {
   "cell_type": "code",
   "execution_count": 94,
   "id": "f43d49be",
   "metadata": {},
   "outputs": [
    {
     "name": "stdout",
     "output_type": "stream",
     "text": [
      "인덱스 길이를 설정하세요. : 5\n",
      "x[0]의 수를 입력하세요. : 1\n",
      "x[1]의 수를 입력하세요. : 2\n",
      "x[2]의 수를 입력하세요. : 3\n",
      "x[3]의 수를 입력하세요. : 4\n",
      "x[4]의 수를 입력하세요. : 5\n",
      "[1, 2, 3, 4, 5]\n"
     ]
    },
    {
     "data": {
      "text/plain": [
       "(5, 4)"
      ]
     },
     "execution_count": 94,
     "metadata": {},
     "output_type": "execute_result"
    }
   ],
   "source": [
    "def max_of(a):\n",
    "    maximum = a[0]\n",
    "    index = 0\n",
    "    for i in range(1, len(a)):\n",
    "        if maximum <= a[i]:\n",
    "            maximum = a[i]\n",
    "            index += 1\n",
    "    return (maximum, index)\n",
    "    \n",
    "    \n",
    "num = int(input('인덱스 길이를 설정하세요. : '))\n",
    "x = [None] * num\n",
    "\n",
    "for j in range(len(x)):\n",
    "    x[j] = int(input(f'x[{j}]의 수를 입력하세요. : '))\n",
    "\n",
    "max_of(x)"
   ]
  },
  {
   "cell_type": "code",
   "execution_count": 102,
   "id": "26d751eb",
   "metadata": {},
   "outputs": [],
   "source": [
    "def seq_search(a, key):\n",
    "    i = 0\n",
    "    while True:\n",
    "        if i == len(x):\n",
    "            return -1\n",
    "\n",
    "        if x[i] == key:\n",
    "            return i\n",
    "        i+=1"
   ]
  },
  {
   "cell_type": "code",
   "execution_count": 104,
   "id": "3783e5d4",
   "metadata": {},
   "outputs": [
    {
     "name": "stdout",
     "output_type": "stream",
     "text": [
      "인덱스 길이를 설정하세요. : 5\n",
      "x[0]의 수를 입력하세요. : 5\n",
      "x[1]의 수를 입력하세요. : 4\n",
      "x[2]의 수를 입력하세요. : 3\n",
      "x[3]의 수를 입력하세요. : 2\n",
      "x[4]의 수를 입력하세요. : 1\n",
      "5 0\n"
     ]
    }
   ],
   "source": [
    "def max_of(a):\n",
    "    maximum = a[0]\n",
    "    for i in range(1, len(a)):\n",
    "        if maximum <= a[i]:\n",
    "            maximum = a[i]\n",
    "    return maximum\n",
    "\n",
    "num = int(input('인덱스 길이를 설정하세요. : '))\n",
    "x = [None] * num\n",
    "\n",
    "for j in range(len(x)):\n",
    "    x[j] = int(input(f'x[{j}]의 수를 입력하세요. : '))\n",
    "\n",
    "key = max_of(x)\n",
    "\n",
    "\n",
    "print(key, seq_search(x,key))"
   ]
  }
 ],
 "metadata": {
  "kernelspec": {
   "display_name": "Python 3 (ipykernel)",
   "language": "python",
   "name": "python3"
  },
  "language_info": {
   "codemirror_mode": {
    "name": "ipython",
    "version": 3
   },
   "file_extension": ".py",
   "mimetype": "text/x-python",
   "name": "python",
   "nbconvert_exporter": "python",
   "pygments_lexer": "ipython3",
   "version": "3.9.13"
  }
 },
 "nbformat": 4,
 "nbformat_minor": 5
}
