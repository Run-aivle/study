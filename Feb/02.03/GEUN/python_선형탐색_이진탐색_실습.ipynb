{
 "cells": [
  {
   "cell_type": "code",
   "execution_count": 1,
   "id": "9a716cee",
   "metadata": {},
   "outputs": [],
   "source": [
    "# 튜플 : 단순이 데이터를 전달할 땐 리스트보다 튜플이 낫다! 데이터 크기가 좀 더 작기 때문에"
   ]
  },
  {
   "cell_type": "markdown",
   "id": "f3dc9ed2",
   "metadata": {},
   "source": [
    "### 미니 실습1\n",
    "#### Q) 리스트 원소의 최솟값 구하기 함수 min_of()를 작성하라\n",
    "* 아래 변수의 최솟값을 min_of()를 활용하여 출력하라\n",
    "    * t = (4, 7, 5.6, 2, 3.14, 1)\n",
    "    * s = 'string'\n",
    "    * a = ['DTS', 'AAC', 'FLAC']"
   ]
  },
  {
   "cell_type": "code",
   "execution_count": 6,
   "id": "022dcada",
   "metadata": {},
   "outputs": [
    {
     "name": "stdout",
     "output_type": "stream",
     "text": [
      "최솟값: 1\n",
      "최솟값: g\n",
      "최솟값: AAC\n"
     ]
    }
   ],
   "source": [
    "# 미니 실습1. My Answer\n",
    "\n",
    "t = (4, 7, 5.6, 2, 3.14, 1)\n",
    "s = 'string'\n",
    "a = ['DTS', 'AAC', 'FLAC']\n",
    "\n",
    "def min_of(a):\n",
    "    minmum = a[0]\n",
    "    for i in range(1, len(a)):\n",
    "        if minmum > a[i]:\n",
    "            minmum = a[i]\n",
    "    return minmum\n",
    "\n",
    "print(f'최솟값: {min_of(t)}')\n",
    "print(f'최솟값: {min_of(s)}')\n",
    "print(f'최솟값: {min_of(a)}')"
   ]
  },
  {
   "cell_type": "markdown",
   "id": "29184fc0",
   "metadata": {},
   "source": [
    "### 미니 실습2\n",
    "#### Q) 리스트를 사용자로부터 입력받아서 역순으로 정렬하여 리스트의 원소를 출력하여라."
   ]
  },
  {
   "cell_type": "code",
   "execution_count": 22,
   "id": "e64bb2b7",
   "metadata": {},
   "outputs": [
    {
     "name": "stdout",
     "output_type": "stream",
     "text": [
      "원소 수를 입력하세요 : 5\n",
      "x[0]값을 입력: 1\n",
      "x[1]값을 입력: 2\n",
      "x[2]값을 입력: 3\n",
      "x[3]값을 입력: 4\n",
      "x[4]값을 입력: 5\n",
      "[5, 4, 3, 2, 1]\n",
      "[5, 4, 3, 2, 1]\n",
      "[5, 4, 3, 2, 1]\n",
      "[5, 4, 3, 2, 1]\n",
      "[5, 4, 3, 2, 1]\n"
     ]
    }
   ],
   "source": [
    "# 미니 실습2. My Answer\n",
    "count = int(input('원소 수를 입력하세요 : '))\n",
    "x=[None]*count\n",
    "for i in range(count):\n",
    "    x[i] = int(input(f'x[{i}]값을 입력: '))\n",
    "\n",
    "def reverse_list(a):\n",
    "    n = len(a)\n",
    "    for i in range(n//2):\n",
    "        a[i],a[n-i-1] = a[n-i-1],a[i]\n",
    "\n",
    "reverse_list(x)\n",
    "        \n",
    "for k in range(len(x)):\n",
    "    print(x)"
   ]
  },
  {
   "cell_type": "code",
   "execution_count": 36,
   "id": "64086537",
   "metadata": {},
   "outputs": [
    {
     "name": "stdout",
     "output_type": "stream",
     "text": [
      "원소 수를 입력하세요 : 5\n",
      "원소 입력: 1\n",
      "원소 입력: 2\n",
      "원소 입력: 3\n",
      "원소 입력: 4\n",
      "원소 입력: 5\n",
      "원본 리스트 값: [1, 2, 3, 4, 5]\n",
      "변경된 리스트 값: [5, 4, 3, 2, 1]\n"
     ]
    }
   ],
   "source": [
    "# 미니 실습2. My Answer 수정\n",
    "count = int(input('원소 수를 입력하세요 : '))\n",
    "x=[]\n",
    "for i in range(count):\n",
    "    temp = int(input('원소 입력: '))\n",
    "    x.append(temp)\n",
    "\n",
    "print(f'원본 리스트 값: {x}')\n",
    "def reverse_list(a):\n",
    "    n = len(a)\n",
    "    for i in range(n//2):\n",
    "        a[i], a[-1-i] = a[-1-i], a[i]\n",
    "    return a\n",
    "        \n",
    "x = reverse_list(x)\n",
    "print(f'변경된 리스트 값: {x}')"
   ]
  },
  {
   "cell_type": "markdown",
   "id": "0fd233ff",
   "metadata": {},
   "source": [
    "### 미니 실습 3\n",
    "#### Q) 아래 리스트에서 검색값을 찾으려고 한다. 선형 검색 While 문을 사용하는 경우와 보초법을 사용하는 경우에 각각 if 조건문이 몇 번 실행되는지 수를 세어 출력하라."
   ]
  },
  {
   "cell_type": "code",
   "execution_count": 39,
   "id": "0df70bb6",
   "metadata": {},
   "outputs": [
    {
     "name": "stdout",
     "output_type": "stream",
     "text": [
      "일반 선형 탐색 if사용 횟수: 14\n",
      "보초법 선형 탐색 if사용 횟수: 8\n",
      "\n",
      "일반 선형 검색 결과 : 원소 없음\n",
      "보초법 선형 검색 : 7 번째\n"
     ]
    }
   ],
   "source": [
    "# My Answer\n",
    "def seq_search(a, key):\n",
    "    i = 0\n",
    "    count = 0\n",
    "    while True:\n",
    "        if i == len(a):\n",
    "            print(f'일반 선형 탐색 if사용 횟수: {count}')\n",
    "            return -1\n",
    "        else:\n",
    "            count += 1\n",
    "            \n",
    "        if a[i] == key:\n",
    "            print(f'일반 선형 탐색 if사용 횟수: {count}')\n",
    "            return i\n",
    "        else:\n",
    "            count += 1\n",
    "            \n",
    "        i += 1\n",
    "        \n",
    "def seq_search_sentinel(a, key):\n",
    "    b = a.copy()\n",
    "    b.append(key)\n",
    "    i = 0\n",
    "    count = 0\n",
    "    while True:\n",
    "        if b[i] == key:\n",
    "            print(f'보초법 선형 탐색 if사용 횟수: {count+1}')\n",
    "            break\n",
    "        i += 1\n",
    "        count += 1\n",
    "    return -1 if i == len(b) else i\n",
    "\n",
    "a = [2, 5, 1, 3, 9, 6, 7]\n",
    "answer1 = seq_search(a, 4)\n",
    "answer2 = seq_search_sentinel(a, 4)\n",
    "print()\n",
    "if answer1 == -1:\n",
    "    print('일반 선형 검색 결과 : 원소 없음')\n",
    "else:\n",
    "    print(f'일반 선형 검색 : {answer1}번째')\n",
    "if answer2 == -1:\n",
    "    print('보초법 선형 검색 결과 : 원소 없음')\n",
    "else:\n",
    "    print(f'보초법 선형 검색 : {answer2} 번째')"
   ]
  },
  {
   "cell_type": "markdown",
   "id": "c0638e9e",
   "metadata": {},
   "source": [
    "### 일반 실습1\n",
    "#### Q) 2부터 1000사이의 수 중에서 소수를 리스트에 입력하고 출력하라.\n",
    "* 소수(prime number)는 자신과 1 이외의 정수로 나누어 떨어지지 않는 정수이며, 2는 소수임"
   ]
  },
  {
   "cell_type": "code",
   "execution_count": 56,
   "id": "25a29031",
   "metadata": {},
   "outputs": [
    {
     "name": "stdout",
     "output_type": "stream",
     "text": [
      "[2, 3, 5, 7, 11, 13, 17, 19, 23, 29, 31, 37, 41, 43, 47, 53, 59, 61, 67, 71, 73, 79, 83, 89, 97, 101, 103, 107, 109, 113, 127, 131, 137, 139, 149, 151, 157, 163, 167, 173, 179, 181, 191, 193, 197, 199, 211, 223, 227, 229, 233, 239, 241, 251, 257, 263, 269, 271, 277, 281, 283, 293, 307, 311, 313, 317, 331, 337, 347, 349, 353, 359, 367, 373, 379, 383, 389, 397, 401, 409, 419, 421, 431, 433, 439, 443, 449, 457, 461, 463, 467, 479, 487, 491, 499, 503, 509, 521, 523, 541, 547, 557, 563, 569, 571, 577, 587, 593, 599, 601, 607, 613, 617, 619, 631, 641, 643, 647, 653, 659, 661, 673, 677, 683, 691, 701, 709, 719, 727, 733, 739, 743, 751, 757, 761, 769, 773, 787, 797, 809, 811, 821, 823, 827, 829, 839, 853, 857, 859, 863, 877, 881, 883, 887, 907, 911, 919, 929, 937, 941, 947, 953, 967, 971, 977, 983, 991, 997]\n"
     ]
    }
   ],
   "source": [
    "# 일반 실습1. My Answer     (R)\n",
    "ls = []\n",
    "for i in range(2, 1001):\n",
    "    check = 0\n",
    "    for k in range(2, i):\n",
    "        if i % k == 0:\n",
    "            check = 1\n",
    "            break\n",
    "    if check == 0:\n",
    "        ls.append(i)\n",
    "print(ls)\n",
    "            "
   ]
  },
  {
   "cell_type": "markdown",
   "id": "bccfb430",
   "metadata": {},
   "source": [
    "### 일반 실습2\n",
    "#### Q) 리스트를 사용자로부터 입력 받아서 역순으로 정렬하여 리스트의 원소를 출력하여라.\n",
    "* 원소 수를 미리 묻지 말고 코드가 실행될 수 있도록 하라"
   ]
  },
  {
   "cell_type": "code",
   "execution_count": 61,
   "id": "fe812224",
   "metadata": {},
   "outputs": [
    {
     "name": "stdout",
     "output_type": "stream",
     "text": [
      "원소 입력(끝내려면 a입력): 1\n",
      "원소 입력(끝내려면 a입력): 2\n",
      "원소 입력(끝내려면 a입력): 3\n",
      "원소 입력(끝내려면 a입력): 4\n",
      "원소 입력(끝내려면 a입력): 5\n",
      "원소 입력(끝내려면 a입력): 6\n",
      "원소 입력(끝내려면 a입력): a\n",
      "변경된 리스트 값: [6, 5, 4, 3, 2, 1]\n"
     ]
    }
   ],
   "source": [
    "# 일반 실습2 My Answer\n",
    "ls = []\n",
    "temp = input('원소 입력(끝내려면 a입력): ')\n",
    "ls.append(int(temp))\n",
    "while True:\n",
    "    temp = input('원소 입력(끝내려면 a입력): ')\n",
    "    if temp == 'a':\n",
    "        break\n",
    "    else:\n",
    "        ls.append(int(temp))\n",
    "    \n",
    "def reverse_list(a):\n",
    "    n = len(a)\n",
    "    for i in range(n//2):\n",
    "        a[i], a[-1-i] = a[-1-i], a[i]\n",
    "    return a\n",
    "        \n",
    "newLs = reverse_list(ls)\n",
    "print(f'변경된 리스트 값: {newLs}')"
   ]
  },
  {
   "cell_type": "code",
   "execution_count": null,
   "id": "c0e61cfd",
   "metadata": {},
   "outputs": [],
   "source": []
  },
  {
   "cell_type": "markdown",
   "id": "252fa636",
   "metadata": {},
   "source": [
    "### 일반 실습3\n",
    "#### Q) 리스트와 검색할 값을 사용자로부터 입력 받아서 검색 값이 있는 인덱스를 출력하라. 검색 방안은 어떤 방안을 사용해도 무방하다"
   ]
  },
  {
   "cell_type": "code",
   "execution_count": 8,
   "id": "18aedcfc",
   "metadata": {},
   "outputs": [
    {
     "name": "stdout",
     "output_type": "stream",
     "text": [
      "검색할 인덱스를 입력 : 3\n",
      "리스트에 추가할 값 입력(그만 입력 하려면 a입력) : 1\n",
      "리스트에 추가할 값 입력(그만 입력 하려면 a입력) : 2\n",
      "리스트에 추가할 값 입력(그만 입력 하려면 a입력) : 3\n",
      "리스트에 추가할 값 입력(그만 입력 하려면 a입력) : 4\n",
      "리스트에 추가할 값 입력(그만 입력 하려면 a입력) : a\n",
      "선형 : ls[2], 이진 : [2]\n"
     ]
    }
   ],
   "source": [
    "# 일반 실습3 My Answer\n",
    "\n",
    "# 선형 검색\n",
    "def lin_search(ls, key):\n",
    "    for i in range(len(ls)):\n",
    "        if ls[i] == key:\n",
    "            return i\n",
    "    return -1\n",
    "\n",
    "# 이진 검색\n",
    "def bin_search(lst, key):\n",
    "    ls = sorted(lst)\n",
    "    pl = 0\n",
    "    pr = len(ls)-1\n",
    "    while pl <= pr:\n",
    "        pc = (pl+pr)//2\n",
    "        if ls[pc] == key:\n",
    "            return pc\n",
    "        elif ls[pc] < key:\n",
    "            pl = pc + 1\n",
    "        else:\n",
    "            pr = pc - 1\n",
    "    return -1\n",
    "\n",
    "ls = []\n",
    "find_index = int(input('검색할 인덱스를 입력 : '))\n",
    "\n",
    "while True:\n",
    "    temp = input('리스트에 추가할 값 입력(그만 입력 하려면 a입력) : ')\n",
    "    \n",
    "    if temp == 'a':\n",
    "        break\n",
    "    else:\n",
    "        ls.append(int(temp))\n",
    "\n",
    "li = lin_search(ls, find_index)\n",
    "bi = bin_search(ls, find_index)\n",
    "print(f'선형 : ls[{li}], 이진 : [{bi}]')\n",
    "\n",
    "        "
   ]
  },
  {
   "cell_type": "markdown",
   "id": "d01d6f88",
   "metadata": {},
   "source": [
    "### 일반 실습4\n",
    "#### Q) 리스트를 사용자로부터 입력 받아서 최대값과 최대값이 있는 인덱스를 출력하라"
   ]
  },
  {
   "cell_type": "code",
   "execution_count": 9,
   "id": "b7188557",
   "metadata": {},
   "outputs": [
    {
     "name": "stdout",
     "output_type": "stream",
     "text": [
      "원소 입력(끝내려면 a입력): 1\n",
      "원소 입력(끝내려면 a입력): 231\n",
      "원소 입력(끝내려면 a입력): 1\n",
      "원소 입력(끝내려면 a입력): 3\n",
      "원소 입력(끝내려면 a입력): 4\n",
      "원소 입력(끝내려면 a입력): 2\n",
      "원소 입력(끝내려면 a입력): a\n",
      "최대값:231, 인덱스:ls[1]\n"
     ]
    }
   ],
   "source": [
    "# 일반 실습4 My Answer\n",
    "# 리스트에서 최대값 찾기\n",
    "def finMax(ls):\n",
    "    maxNum = ls[0]\n",
    "    for i in range(len(ls)):\n",
    "        if maxNum < ls[i]:\n",
    "            maxNum = ls[i]\n",
    "    return maxNum\n",
    "        \n",
    "# 선형 검색\n",
    "def lin_search(ls, key):\n",
    "    for i in range(len(ls)):\n",
    "        if ls[i] == key:\n",
    "            return i\n",
    "    return -1\n",
    "\n",
    "ls = []\n",
    "while True:\n",
    "    temp = input('원소 입력(끝내려면 a입력): ')\n",
    "    if temp == 'a':\n",
    "        break\n",
    "    else:\n",
    "        ls.append(int(temp))\n",
    "maxmum = finMax(ls)\n",
    "idx = lin_search(ls, maxmum)\n",
    "print(f'최대값:{maxmum}, 인덱스:ls[{idx}]')"
   ]
  },
  {
   "cell_type": "code",
   "execution_count": null,
   "id": "d9ae299b",
   "metadata": {},
   "outputs": [],
   "source": []
  }
 ],
 "metadata": {
  "kernelspec": {
   "display_name": "Python 3 (ipykernel)",
   "language": "python",
   "name": "python3"
  },
  "language_info": {
   "codemirror_mode": {
    "name": "ipython",
    "version": 3
   },
   "file_extension": ".py",
   "mimetype": "text/x-python",
   "name": "python",
   "nbconvert_exporter": "python",
   "pygments_lexer": "ipython3",
   "version": "3.9.13"
  }
 },
 "nbformat": 4,
 "nbformat_minor": 5
}
