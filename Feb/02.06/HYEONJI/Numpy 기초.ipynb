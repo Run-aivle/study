{
 "cells": [
  {
   "cell_type": "code",
   "execution_count": 2,
   "id": "d4aa4038-6574-42ce-ae70-bd69c764d5d7",
   "metadata": {},
   "outputs": [],
   "source": [
    "# 라이브러리 불러오기\n",
    "import numpy as np"
   ]
  },
  {
   "cell_type": "markdown",
   "id": "447be33b-e55c-43b8-abf5-c2ccf4988567",
   "metadata": {
    "tags": []
   },
   "source": [
    "**배열 용어 정의**\n",
    "- axis : 배열의 각 축\n",
    "- rank : 축의 개수\n",
    "- shape : 축의 길이, 배열의 크기"
   ]
  },
  {
   "cell_type": "markdown",
   "id": "0718cf17-71f7-4304-a74b-d0057569f540",
   "metadata": {
    "tags": []
   },
   "source": [
    "**배열 만들기**\n",
    "- np.array() 함수를 사용해서 배열을 만듭니다"
   ]
  },
  {
   "cell_type": "code",
   "execution_count": 3,
   "id": "4f11094d-af81-47f2-8564-abad34f02f2f",
   "metadata": {},
   "outputs": [
    {
     "name": "stdout",
     "output_type": "stream",
     "text": [
      "[1 2 3 4 5]\n"
     ]
    }
   ],
   "source": [
    "# 1차원 리스트\n",
    "a1 = [1, 2, 3, 4, 5]\n",
    "b1 = np.array(a1)\n",
    "print(b1)"
   ]
  },
  {
   "cell_type": "code",
   "execution_count": 4,
   "id": "4968869d-e96c-4653-8bc7-2e1cdbf2f525",
   "metadata": {},
   "outputs": [
    {
     "name": "stdout",
     "output_type": "stream",
     "text": [
      "[[1.5 2.5 3.2]\n",
      " [4.2 5.7 6.4]]\n"
     ]
    }
   ],
   "source": [
    "# 2차원 리스트\n",
    "a2 = [[1.5, 2.5, 3.2],[4.2, 5.7, 6.4]]\n",
    "b2 = np.array(a2)\n",
    "print(b2)"
   ]
  },
  {
   "cell_type": "code",
   "execution_count": 5,
   "id": "e9d395fc-7d11-419b-ac2b-31c59e4f204b",
   "metadata": {},
   "outputs": [
    {
     "name": "stdout",
     "output_type": "stream",
     "text": [
      "[[[1 3 1]\n",
      "  [4 7 6]\n",
      "  [8 3 4]]\n",
      "\n",
      " [[6 2 4]\n",
      "  [8 1 5]\n",
      "  [3 5 9]]]\n"
     ]
    }
   ],
   "source": [
    "# 3차원 리스트\n",
    "a3 = [[[1, 3, 1], [4, 7, 6], [8, 3, 4]], [[6, 2, 4], [8, 1, 5], [3, 5, 9]]]\n",
    "b3 = np.array(a3)\n",
    "print(b3)"
   ]
  },
  {
   "cell_type": "markdown",
   "id": "5a83e70f-6d62-4176-99c5-1f27d5fc1bae",
   "metadata": {},
   "source": [
    "**차원 확인**\n",
    "- ndim 속성으로 배열 차원을 확인합니다"
   ]
  },
  {
   "cell_type": "code",
   "execution_count": 6,
   "id": "0ba18cfd-cbda-4fa5-9b1b-c774cb9683d8",
   "metadata": {},
   "outputs": [
    {
     "name": "stdout",
     "output_type": "stream",
     "text": [
      "1\n",
      "2\n",
      "3\n"
     ]
    }
   ],
   "source": [
    "print(b1.ndim)\n",
    "print(b2.ndim)\n",
    "print(b3.ndim)"
   ]
  },
  {
   "cell_type": "markdown",
   "id": "19c56f7e-8815-41bd-85c2-2392dda82621",
   "metadata": {},
   "source": [
    "**형태크기확인**\n",
    "- shape 속성으로 배열 형태를 확인합니다\n",
    "    - 1차원 : (x,)\n",
    "    - 2차원 : (x, y)\n",
    "    - 3차원 : (x, y, z)"
   ]
  },
  {
   "cell_type": "code",
   "execution_count": 7,
   "id": "d52aadb5-ef13-4e13-8fe3-cc50d84b638c",
   "metadata": {},
   "outputs": [
    {
     "name": "stdout",
     "output_type": "stream",
     "text": [
      "(5,)\n",
      "(2, 3)\n",
      "(2, 3, 3)\n"
     ]
    }
   ],
   "source": [
    "print(b1.shape)\n",
    "print(b2.shape)\n",
    "print(b3.shape)"
   ]
  },
  {
   "cell_type": "markdown",
   "id": "45564023-dba3-469f-bfb9-05a7995a53e3",
   "metadata": {
    "tags": []
   },
   "source": [
    "**요소 자료형 확인**\n",
    "- dtype 속성으로 배열에 포함된 요소들의 자료형을 확인합니다\n",
    "- 배열은 한가지 자료형만 가질 수 있습니다"
   ]
  },
  {
   "cell_type": "code",
   "execution_count": 8,
   "id": "2e1f2803-dc78-40b6-bbb8-d1629c1bbe15",
   "metadata": {},
   "outputs": [
    {
     "name": "stdout",
     "output_type": "stream",
     "text": [
      "int32\n",
      "float64\n",
      "int32\n"
     ]
    }
   ],
   "source": [
    "print(b1.dtype)\n",
    "print(b2.dtype)\n",
    "print(b3.dtype)"
   ]
  },
  {
   "cell_type": "markdown",
   "id": "c52432b3-df90-417b-a213-d7b8260a1ce6",
   "metadata": {
    "tags": []
   },
   "source": [
    "**Reshape**\n",
    "- 요소 개수만 변하지 않으면 다양한 형태로 변환 가능하다"
   ]
  },
  {
   "cell_type": "code",
   "execution_count": 9,
   "id": "86334f88-e8e6-423f-8934-e4006de554b5",
   "metadata": {},
   "outputs": [
    {
     "name": "stdout",
     "output_type": "stream",
     "text": [
      "[[1 2 3]\n",
      " [4 5 6]]\n"
     ]
    }
   ],
   "source": [
    "# 2차원 배열만들기\n",
    "a = np.array([[1, 2, 3],\n",
    "              [4, 5, 6]])\n",
    "print(a)"
   ]
  },
  {
   "cell_type": "code",
   "execution_count": 10,
   "id": "f4c36160-d354-49d4-8c71-6261a9c0e47f",
   "metadata": {},
   "outputs": [
    {
     "name": "stdout",
     "output_type": "stream",
     "text": [
      "[[1 2]\n",
      " [3 4]\n",
      " [5 6]]\n"
     ]
    }
   ],
   "source": [
    "# (3, 2) 형태의 2차원 배열로 Reshape\n",
    "b = a.reshape(3,2)\n",
    "print(b)"
   ]
  },
  {
   "cell_type": "code",
   "execution_count": 12,
   "id": "5b93d216-9836-45ce-9813-b6c3a001c48e",
   "metadata": {},
   "outputs": [
    {
     "name": "stdout",
     "output_type": "stream",
     "text": [
      "[1 2 3 4 5 6]\n"
     ]
    }
   ],
   "source": [
    "# 1차원 배열로 Reshape\n",
    "c = a.reshape(6)\n",
    "print(c)"
   ]
  },
  {
   "cell_type": "markdown",
   "id": "fcccd1f0-6d25-45e9-af95-dbc9666339b1",
   "metadata": {},
   "source": [
    "**-1의 편리성**\n",
    "- (n, -1) 또는 (-1, n) 으로 행 또는 열 크기 한 쪽만 지정할 수 있다"
   ]
  },
  {
   "cell_type": "code",
   "execution_count": 22,
   "id": "beb6f6aa-cbc4-45f6-a80e-b47af5041ae4",
   "metadata": {},
   "outputs": [
    {
     "name": "stdout",
     "output_type": "stream",
     "text": [
      "[[1 2 3 4 5 6]]\n",
      "[[1 2]\n",
      " [3 4]\n",
      " [5 6]]\n",
      "[[1 2]\n",
      " [3 4]\n",
      " [5 6]]\n",
      "[[1 2 3]\n",
      " [4 5 6]]\n"
     ]
    }
   ],
   "source": [
    "print(a.reshape(1, -1)) # 1행으로 나타내기\n",
    "print(a.reshape(3, -1)) # 3행으로 나타내기\n",
    "print(a.reshape(-1, 2)) # 2열로 나타내기\n",
    "print(a.reshape(-1, 3)) # 3열로 나타내기"
   ]
  },
  {
   "cell_type": "markdown",
   "id": "92cbafa0-94be-4c36-b49e-6d336fa53ad7",
   "metadata": {
    "tags": []
   },
   "source": [
    "**인덱싱**"
   ]
  },
  {
   "cell_type": "code",
   "execution_count": 34,
   "id": "83dc00dc-a368-4afa-9e2d-a4c72f9ad2e8",
   "metadata": {},
   "outputs": [
    {
     "name": "stdout",
     "output_type": "stream",
     "text": [
      "[[1 2 3]\n",
      " [4 5 6]\n",
      " [7 8 9]]\n",
      "\n",
      "2\n",
      "\n",
      "[[1 2 3]\n",
      " [4 5 6]]\n",
      "\n",
      "[[1 2 3]\n",
      " [4 5 6]\n",
      " [7 8 9]]\n",
      "\n",
      "[[1 2]\n",
      " [4 5]\n",
      " [7 8]]\n",
      "\n",
      "[5]\n",
      "\n",
      "[8]\n"
     ]
    }
   ],
   "source": [
    "a = np.array([[1, 2, 3],\n",
    "              [4, 5, 6],\n",
    "              [7, 8, 9]])\n",
    "print(a)\n",
    "print()\n",
    "\n",
    "print(a[0, 1])\n",
    "print()\n",
    "\n",
    "print(a[[0, 1]])\n",
    "print()\n",
    "\n",
    "print(a[[0, 1, 2]])\n",
    "print()\n",
    "\n",
    "print(a[ : ,[0, 1]])\n",
    "print()\n",
    "\n",
    "print(a[[1], [1]])\n",
    "print()\n",
    "\n",
    "print(a[[2], [1]])"
   ]
  },
  {
   "cell_type": "markdown",
   "id": "e9e01a28-014d-491f-bd13-7b4cc28826e3",
   "metadata": {
    "tags": []
   },
   "source": [
    "**슬라이싱**"
   ]
  },
  {
   "cell_type": "code",
   "execution_count": 39,
   "id": "e3c44048-0d5d-4b10-a852-c0f1c2dd76b3",
   "metadata": {},
   "outputs": [
    {
     "name": "stdout",
     "output_type": "stream",
     "text": [
      "[[1 2 3]\n",
      " [4 5 6]\n",
      " [7 8 9]]\n",
      "\n",
      "[[1 2 3]\n",
      " [4 5 6]]\n",
      "\n",
      "[1 2]\n",
      "\n",
      "[[2 3]\n",
      " [5 6]\n",
      " [8 9]]\n",
      "\n",
      "[[5 6]\n",
      " [8 9]]\n"
     ]
    }
   ],
   "source": [
    "a = np.array([[1, 2, 3],\n",
    "              [4, 5, 6],\n",
    "              [7, 8, 9]])\n",
    "print(a)\n",
    "print()\n",
    "\n",
    "print(a[0:2])\n",
    "print()\n",
    "\n",
    "print(a[0, 0:2])\n",
    "print()\n",
    "\n",
    "print(a[ : , 1:3])\n",
    "print()\n",
    "\n",
    "print(a[1:, 1:])"
   ]
  },
  {
   "cell_type": "markdown",
   "id": "723a5d88-d9de-4d2b-8316-dbb1a6d581e3",
   "metadata": {
    "tags": []
   },
   "source": [
    "**조건 조회**\n",
    "- 불리안 방식이라고 부르며, 조회 결과는 1차원 배열입니다"
   ]
  },
  {
   "cell_type": "code",
   "execution_count": 42,
   "id": "bfc5ed80-e53b-4e3e-bd17-778db7557e8e",
   "metadata": {},
   "outputs": [
    {
     "name": "stdout",
     "output_type": "stream",
     "text": [
      "[91 93 96 91]\n",
      "\n",
      "[91 93 96 91]\n",
      "\n",
      "[91 93 91]\n"
     ]
    }
   ],
   "source": [
    "score= np.array([[78, 91, 84, 89, 93, 65],\n",
    "                 [82, 87, 96, 79, 91, 73]])\n",
    "\n",
    "# 90이상인 것만 조회\n",
    "print(score[score >= 90])\n",
    "print()\n",
    "\n",
    "condition = score >= 90\n",
    "print(score[condition])\n",
    "print()\n",
    "\n",
    "# 90이상 95미만인 것만 조회\n",
    "print(score[(score >= 90) & (score < 95)])"
   ]
  },
  {
   "cell_type": "markdown",
   "id": "b6e9a767-35f4-4944-a2e0-b42c9f89876e",
   "metadata": {
    "tags": []
   },
   "source": [
    "**배열 연산**"
   ]
  },
  {
   "cell_type": "code",
   "execution_count": 48,
   "id": "7c4d588c-ee3b-496f-9fdd-268007d10e25",
   "metadata": {},
   "outputs": [
    {
     "name": "stdout",
     "output_type": "stream",
     "text": [
      "[[1 2]\n",
      " [3 4]]\n",
      "[[5 6]\n",
      " [7 8]]\n",
      "\n",
      "[[ 6  8]\n",
      " [10 12]]\n",
      "[[ 6  8]\n",
      " [10 12]]\n",
      "\n",
      "[[-4 -4]\n",
      " [-4 -4]]\n",
      "[[-4 -4]\n",
      " [-4 -4]]\n",
      "\n",
      "[[ 5 12]\n",
      " [21 32]]\n",
      "[[ 5 12]\n",
      " [21 32]]\n",
      "\n",
      "[[0.2        0.33333333]\n",
      " [0.42857143 0.5       ]]\n",
      "[[0.2        0.33333333]\n",
      " [0.42857143 0.5       ]]\n",
      "\n",
      "[[    1    64]\n",
      " [ 2187 65536]]\n",
      "[[    1    64]\n",
      " [ 2187 65536]]\n",
      "\n"
     ]
    }
   ],
   "source": [
    "x = np.array([[1, 2], [3, 4]])\n",
    "y = np.array([[5, 6], [7, 8]])\n",
    "\n",
    "print(x)\n",
    "print(y)\n",
    "print()\n",
    "\n",
    "# 배열 더하기\n",
    "print(x + y)\n",
    "print(np.add(x, y))\n",
    "print()\n",
    "\n",
    "# 배열 빼기\n",
    "print(x - y)\n",
    "print(np.subtract(x, y))\n",
    "print()\n",
    "\n",
    "# 배열 곱하기\n",
    "print(x * y)\n",
    "print(np.multiply(x, y))\n",
    "print()\n",
    "\n",
    "# 배열 나누기\n",
    "print(x / y)\n",
    "print(np.divide(x, y))\n",
    "print()\n",
    "\n",
    "# 배열 제곱\n",
    "print(x ** y)\n",
    "print(np.power(x, y))\n",
    "print()"
   ]
  },
  {
   "cell_type": "markdown",
   "id": "f24dd6e5-d837-45be-b52c-d41cc99e7ee0",
   "metadata": {},
   "source": [
    "**배열 집계**\n",
    "- np.sum() 또는 array.sum()\n",
    "    - axis = 0 : 열 기준 집계\n",
    "    - axis = 1 : 행 기준 집계\n",
    "    - 생략하면 전체 집계\n",
    "- np.max(), np.min(), np.mean(), np.std(), np.argmax(), np.ardmin()"
   ]
  },
  {
   "cell_type": "code",
   "execution_count": 49,
   "id": "45d89a8d-f469-4785-aa75-d7ee02491323",
   "metadata": {},
   "outputs": [
    {
     "name": "stdout",
     "output_type": "stream",
     "text": [
      "26\n",
      "[ 3  8 15]\n",
      "[13 13]\n"
     ]
    }
   ],
   "source": [
    "a = np.array([[1,5,7],\n",
    "              [2,3,8]])\n",
    "\n",
    "# 전체 집계\n",
    "print(np.sum(a))\n",
    "\n",
    "# 열 기준 집계\n",
    "print(np.sum(a, axis = 0))\n",
    "\n",
    "# 행 기준 집계\n",
    "print(np.sum(a, axis = 1))"
   ]
  },
  {
   "cell_type": "code",
   "execution_count": 52,
   "id": "a3c548b2-429b-4a66-abbf-811a544c4def",
   "metadata": {},
   "outputs": [
    {
     "name": "stdout",
     "output_type": "stream",
     "text": [
      "5\n",
      "[2 2]\n",
      "[1 0 1]\n"
     ]
    }
   ],
   "source": [
    "# 전체 중에서 가장 큰 값의 인덱스\n",
    "print(np.argmax(a))\n",
    "\n",
    "# 행 방향 최댓값의 인덱스\n",
    "print(np.argmax(a, axis = 1))\n",
    "\n",
    "# 열 방향 최댓값의 인덱스\n",
    "print(np.argmax(a, axis = 0))"
   ]
  }
 ],
 "metadata": {
  "kernelspec": {
   "display_name": "Python 3 (ipykernel)",
   "language": "python",
   "name": "python3"
  },
  "language_info": {
   "codemirror_mode": {
    "name": "ipython",
    "version": 3
   },
   "file_extension": ".py",
   "mimetype": "text/x-python",
   "name": "python",
   "nbconvert_exporter": "python",
   "pygments_lexer": "ipython3",
   "version": "3.9.13"
  }
 },
 "nbformat": 4,
 "nbformat_minor": 5
}
