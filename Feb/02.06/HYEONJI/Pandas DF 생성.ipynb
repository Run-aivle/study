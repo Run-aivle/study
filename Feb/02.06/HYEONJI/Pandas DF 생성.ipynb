{
 "cells": [
  {
   "cell_type": "markdown",
   "id": "0d1e2540-aa0c-481c-a753-ca18785fe255",
   "metadata": {},
   "source": [
    "**데이터프레임 생성**\n",
    "- pd.DataFrame() 함수를 사용\n",
    "- 대부분 리스트, 딕셔너리, Numpy 배열로부터 생성"
   ]
  },
  {
   "cell_type": "code",
   "execution_count": 1,
   "id": "2007ac31-b645-4038-b2de-8da03c8d98d1",
   "metadata": {},
   "outputs": [],
   "source": [
    "# 라이브러리 불러오기\n",
    "import pandas as pd"
   ]
  },
  {
   "cell_type": "markdown",
   "id": "180848ca-1fcb-4dc3-ad41-365affdca3ff",
   "metadata": {},
   "source": [
    "**딕셔너리로 데이터프레임 만들기**\n",
    "- 딕셔너리로 만들면 키가 열 이름이 된다"
   ]
  },
  {
   "cell_type": "code",
   "execution_count": 5,
   "id": "4d8c1f65-7884-4e6e-a14b-3356d83a095f",
   "metadata": {},
   "outputs": [
    {
     "name": "stdout",
     "output_type": "stream",
     "text": [
      "{'Name': ['Gildong', 'Sarang', 'Jiemae', 'Yeoin'], 'Level': ['Gold', 'Bronze', 'Silver', 'Gold'], 'Score': [56000, 23000, 44000, 52000]}\n",
      "\n",
      "      Name   Level  Score\n",
      "0  Gildong    Gold  56000\n",
      "1   Sarang  Bronze  23000\n",
      "2   Jiemae  Silver  44000\n",
      "3    Yeoin    Gold  52000\n"
     ]
    }
   ],
   "source": [
    "dict = {'Name': ['Gildong', 'Sarang', 'Jiemae', 'Yeoin'],\n",
    "        'Level': ['Gold', 'Bronze', 'Silver', 'Gold'],\n",
    "        'Score': [56000, 23000, 44000, 52000]}\n",
    "print(dict)\n",
    "print()\n",
    "\n",
    "# 데이터프레임 만들기\n",
    "df = pd.DataFrame(dict)\n",
    "print(df.head())"
   ]
  },
  {
   "cell_type": "markdown",
   "id": "8019e720-b1bc-454e-b2e3-d323f7686cf0",
   "metadata": {},
   "source": [
    "**CSV 파일 읽어오기**\n",
    "- read_csv() 함수를 사용해 CSV 파일에서 데이터를 읽어온다"
   ]
  },
  {
   "cell_type": "code",
   "execution_count": null,
   "id": "11db4107-ce6f-407a-9986-cc37640418e0",
   "metadata": {},
   "outputs": [],
   "source": [
    "# 데이터 읽어오기\n",
    "data = pd.read_csv('파일명.csv')\n",
    "\n",
    "path = '주소입력'\n",
    "data = pd.read_csv(path)"
   ]
  },
  {
   "cell_type": "markdown",
   "id": "ad384847-28c6-4387-86fb-ea93372f5972",
   "metadata": {},
   "source": [
    "**데이터프레임 탐색**\n",
    "- head() : 상위 데이터 확인\n",
    "- tail() : 하위 데이터 확인\n",
    "- shape : 데이터프레임 크기\n",
    "- index : 인덱스 정보 확인\n",
    "- values : 값 정보 확인\n",
    "- columns : 열 정보 확인\n",
    "- dtypes : 열 자료형 확인\n",
    "- info() : 열에 대한 상세 정보 확인\n",
    "- describe() : 기초 통계 정보 확인"
   ]
  },
  {
   "cell_type": "code",
   "execution_count": null,
   "id": "c33831c0-2076-4f41-b948-ce3d27567678",
   "metadata": {},
   "outputs": [],
   "source": [
    "# 상위 10개 행 데이터\n",
    "data.head(10)\n",
    "\n",
    "# 하위 5개 행 데이터\n",
    "data.tail(5)\n",
    "\n",
    "# 데이터프레임 크기(행, 열)\n",
    "data.shape\n",
    "\n",
    "# 열 확인\n",
    "print(data.columns)\n",
    "print(data.columns.values) # np array 형태\n",
    "\n",
    "# 리스트 함수 사용 시 열 이름이 리스트로 반환\n",
    "list(data)\n",
    "\n",
    "# 자료형 확인\n",
    "data.dtypes\n",
    "\n",
    "# 열에 대한 정보 확인\n",
    "data.info()\n",
    "\n",
    "# 기초 통계 정보 확인\n",
    "data.describe()\n",
    "\n",
    "# 일부 열에 대해서만 기초 통계 정보 확인\n",
    "print(data[['열 이름', '열 이름']].describe())"
   ]
  },
  {
   "cell_type": "markdown",
   "id": "80a425fc-da8b-49f9-b006-3d8689e53533",
   "metadata": {},
   "source": [
    "**정렬하기**\n",
    "- sort_values() 메소드로 특정 열을 기준으로 정렬\n",
    "- ascending 으로 오름차순, 내림차순 설정\n",
    "    - ascending = True : 오름차순(기본값)\n",
    "    - ascending = False : 내림차순"
   ]
  },
  {
   "cell_type": "code",
   "execution_count": null,
   "id": "7bc60f88-7542-4290-ac47-f55d8c38c10e",
   "metadata": {},
   "outputs": [],
   "source": [
    "# 단일 열 정렬\n",
    "data.sort_values(by = '열 이름', ascending = False)\n",
    "\n",
    "# 복합 열 정렬\n",
    "data.sort_values(by = ['열 이름', '열 이름'], ascending = [True, False])\n",
    "\n",
    "# 복합 열 정렬 : 별도로 저장하고, 인덱스 reset\n",
    "temp = data.sort_values(by = ['열 이름', '열 이름'], ascending = [True, False])\n",
    "temp.reset_index(drop = True)"
   ]
  },
  {
   "cell_type": "markdown",
   "id": "8ac925a2-a504-43ae-b70e-6ff55ae8bfff",
   "metadata": {},
   "source": [
    "**기본 집계**\n",
    "- 고유값 확인 : 범주형 열인지 확인할 때 사용한다\n",
    "- unique() 메소드 사용, 결과는 배열 형태가 된다\n",
    "- value_counts() : 고유값과 그 개수를 확인하며, 결과는 시리즈 형태가 된다\n",
    "- sum(), max(), mean(), median()"
   ]
  },
  {
   "cell_type": "code",
   "execution_count": null,
   "id": "d3762d14-5bd5-44be-be58-09a589302673",
   "metadata": {},
   "outputs": [],
   "source": [
    "# 열 고유값 확인\n",
    "print(data['열 이름'].unique()) # 배열로 출력된다\n",
    "\n",
    "# 열 고유값 개수 확인\n",
    "print(data['열 이름'].value_counts())\n",
    "\n",
    "# 열 합계\n",
    "print(data['열 이름'].sum())\n",
    "\n",
    "# 열 최댓값\n",
    "print(data['열 이름'].max())\n",
    "\n",
    "# 열 평균값\n",
    "print(data['열 이름', '열 이름'].mean())\n",
    "\n",
    "# 열 중앙값\n",
    "print(data['열 이름', '열 이름'].median())"
   ]
  }
 ],
 "metadata": {
  "kernelspec": {
   "display_name": "Python 3",
   "language": "python",
   "name": "python3"
  },
  "language_info": {
   "codemirror_mode": {
    "name": "ipython",
    "version": 3
   },
   "file_extension": ".py",
   "mimetype": "text/x-python",
   "name": "python",
   "nbconvert_exporter": "python",
   "pygments_lexer": "ipython3",
   "version": "3.11.1"
  },
  "vscode": {
   "interpreter": {
    "hash": "d417a21d97a2e6b8832d21dc44f5cbe4be6e18325f874a8bb8484565b928cd54"
   }
  }
 },
 "nbformat": 4,
 "nbformat_minor": 5
}
