{
 "cells": [
  {
   "cell_type": "markdown",
   "id": "bf7cf477",
   "metadata": {},
   "source": [
    "# Numpy\n",
    "\n",
    "데이터 분석에서는 단순히 값의 집합 개념을 넘어서 빠른 수학적 계산이 가능해야 하고, 대량의 데이터를 처리하는데 속도가 빨라야 한다. 그렇기 때문에 리스트가 아닌 numpy 라이브러리를 사용한다.\n",
    "\n",
    "### Numpy\n",
    "\n",
    "- Numerical Python의 약자로 빠른 수치 계산을 위해 C언어로 만들어진 python 라이브러리이다.\n",
    "- 라이브러리를 불러 올 때 import numpy로 사용해도 무방하지만 보통 import numpy as np를 사용하여 np라는 별칭을 사용한다.\n",
    "- 벡터와 행렬 연산에 매우 편리한 기능들을 제공한다.\n",
    "- 데이터분석용 라이브러이인 Pandas와 Matplotlib의 기반으로 사용된다.\n",
    "- Array(행렬)의 단위로 데이터를 관리 및 연산을 수행한다.\n",
    "\n",
    "\n",
    "\n",
    "\n",
    "\n",
    "\n"
   ]
  },
  {
   "cell_type": "markdown",
   "id": "cdfede8c",
   "metadata": {},
   "source": [
    "## Numpy 배열"
   ]
  },
  {
   "cell_type": "markdown",
   "id": "0c1b989b",
   "metadata": {},
   "source": [
    "\n",
    "### 사용되는 용어\n",
    "\n",
    "- Axis : 배열의 각 축\n",
    "- Rank : 축의 개수(차원을 뜻함)\n",
    "- Shape : 축의 길이"
   ]
  },
  {
   "cell_type": "markdown",
   "id": "c917f1df",
   "metadata": {},
   "source": [
    "### 배열 만들기\n",
    "\n",
    "1차원 배열 만들기\n",
    "\n",
    "- np.array(리스트) 형식으로 만들 수 있다.\n",
    "- […]형태로 1차원 리스트 형태이다.\n",
    "- shape 결과 (n, )의 형태\n",
    "- Rank = 1\n",
    "\n",
    "2차원 배열 만들기\n",
    "\n",
    "- np.array[리스트, 리스트, 리스트] 형식으로 만들 수 있다.\n",
    "- [ […], […] ]형식로 2차원 리스트 형태이다.\n",
    "- shape 결과 (n, m)의 형태\n",
    "- Rank = 2\n",
    "\n",
    "3차원 배열 만들기\n",
    "\n",
    "- np.array[[리스트, 리스트, 리스트], [리스트, 리스트, 리스트]] 형식으로 만들 수 있다.\n",
    "- [[ […], […] ], [ […], […] ]]형식로 3차원 리스트 형태이다.\n",
    "- shape 결과 (l, n, m)의 형태 → (n, m)크기의 2차원 배열이 l개\n",
    "- Rank = 3"
   ]
  },
  {
   "cell_type": "markdown",
   "id": "a3835a2c",
   "metadata": {},
   "source": [
    "### 함수를 사용하여 특정 배열 만들기\n",
    "* np.zeros( ) : 0으로 채워진 배열\n",
    "* np.ones( ) : 1로 채워진 배열\n",
    "* np.full( ) : 특정 값으로 채워진 배열\n",
    "* np.eye( ) : 정방향 행렬\n",
    "* np.random.random( ) : 랜덤 값으로 채운 배열\n"
   ]
  },
  {
   "cell_type": "code",
   "execution_count": 2,
   "id": "f6e1b4d1",
   "metadata": {},
   "outputs": [
    {
     "name": "stdout",
     "output_type": "stream",
     "text": [
      "[[0. 0.]\n",
      " [0. 0.]]\n"
     ]
    }
   ],
   "source": [
    "# 함수를 사용하여 특정 배열 만들기 : 0으로 채워진 배열\n",
    "import numpy as np\n",
    "a = np.zeros((2, 2))\n",
    "print(a)"
   ]
  },
  {
   "cell_type": "code",
   "execution_count": 6,
   "id": "a6a27cab",
   "metadata": {},
   "outputs": [
    {
     "name": "stdout",
     "output_type": "stream",
     "text": [
      "[[1. 1.]\n",
      " [1. 1.]]\n"
     ]
    }
   ],
   "source": [
    "# 함수를 사용하여 특정 배열 만들기 : 1로 채워진 배열\n",
    "b = np.ones((2, 2))\n",
    "print(b)"
   ]
  },
  {
   "cell_type": "code",
   "execution_count": 4,
   "id": "c74b79f5",
   "metadata": {},
   "outputs": [
    {
     "name": "stdout",
     "output_type": "stream",
     "text": [
      "[[7. 7.]\n",
      " [7. 7.]]\n"
     ]
    }
   ],
   "source": [
    "# 함수를 사용하여 특정 배열 만들기 : 특정 값으로 채워진 배열\n",
    "c = np.full((2, 2), 7.) \n",
    "print(c)"
   ]
  },
  {
   "cell_type": "code",
   "execution_count": 5,
   "id": "99d73369",
   "metadata": {},
   "outputs": [
    {
     "name": "stdout",
     "output_type": "stream",
     "text": [
      "[[1. 0.]\n",
      " [0. 1.]]\n"
     ]
    }
   ],
   "source": [
    "# 함수를 사용하여 특정 배열 만들기 : 정방향 행렬 eye(n) -> n x x 단위 행렬\n",
    "d = np.eye(2)\n",
    "print(d)"
   ]
  },
  {
   "cell_type": "code",
   "execution_count": 8,
   "id": "a89ea006",
   "metadata": {},
   "outputs": [
    {
     "name": "stdout",
     "output_type": "stream",
     "text": [
      "[[0.46332929 0.27453086]\n",
      " [0.71413422 0.19048618]]\n"
     ]
    }
   ],
   "source": [
    "# 함수를 사용하여 특정 배열 만들기 : 랜덤 값으로 채운 배열\n",
    "e = np.random.random((2, 2))\n",
    "print(e)"
   ]
  },
  {
   "cell_type": "markdown",
   "id": "866c0d54",
   "metadata": {},
   "source": [
    "## 배열의 이해\n",
    "\n",
    "### 데이터 분석 및 모델링에서 Axis 0의 의미\n",
    "\n",
    "- 분석 단위를 구성\n",
    "- 2차원 데이터 (n, m)이라면 m개의 열(변수)로 구성된 데이터 n개 → 즉 분석 대상이 n개 각 대상은 m개의 정보로 구성됨\n",
    "- 3차원 데이터 (l, n, m)이라면 (n, m)크기의 2차원 데이터가 l개"
   ]
  },
  {
   "cell_type": "markdown",
   "id": "6a976223",
   "metadata": {},
   "source": [
    "## 배열 조회(인덱싱, 슬라이싱)"
   ]
  },
  {
   "cell_type": "markdown",
   "id": "8c72daf4",
   "metadata": {},
   "source": [
    "### 1차원 배열 조회\n",
    "* 인덱싱 : arr[n]\n",
    "* 슬라이싱 : arr[n:m]\n",
    "* 조건"
   ]
  },
  {
   "cell_type": "code",
   "execution_count": 9,
   "id": "5fc486f2",
   "metadata": {},
   "outputs": [],
   "source": [
    "# 1차원 배열 생성\n",
    "arr = np.array([1,2,3,4,5])"
   ]
  },
  {
   "cell_type": "code",
   "execution_count": 10,
   "id": "2239fb4a",
   "metadata": {},
   "outputs": [
    {
     "data": {
      "text/plain": [
       "4"
      ]
     },
     "execution_count": 10,
     "metadata": {},
     "output_type": "execute_result"
    }
   ],
   "source": [
    "# 인덱싱\n",
    "arr[3]"
   ]
  },
  {
   "cell_type": "code",
   "execution_count": 11,
   "id": "86d29e92",
   "metadata": {},
   "outputs": [
    {
     "data": {
      "text/plain": [
       "array([2, 3])"
      ]
     },
     "execution_count": 11,
     "metadata": {},
     "output_type": "execute_result"
    }
   ],
   "source": [
    "# 슬라이싱\n",
    "arr[1:3]"
   ]
  },
  {
   "cell_type": "code",
   "execution_count": 25,
   "id": "0b27b6b1",
   "metadata": {},
   "outputs": [
    {
     "data": {
      "text/plain": [
       "array([3, 4, 5])"
      ]
     },
     "execution_count": 25,
     "metadata": {},
     "output_type": "execute_result"
    }
   ],
   "source": [
    "# 조건\n",
    "A = arr\n",
    "A[A>=3]"
   ]
  },
  {
   "cell_type": "markdown",
   "id": "f1e0d5ff",
   "metadata": {},
   "source": [
    "### 2차원 배열 조회\n",
    "1. arr2[ 행 인덱스 , 열 인덱스 ]\n",
    "2. arr2[ 행 인덱스 ][ 열 인덱스 ]\n",
    "3. arr2[ 행 인덱스 ] : 특정 행 전체\n",
    "4. arr2[ : , 열 인덱스 ] : 특정 열 전\n",
    "5. arr2[[행 인덱스 들 ] , 열 인덱스 ]\n",
    "6. arr2[[행 인덱스 들 ] ] [[ 열 인덱스 들 ]]\n",
    "7. arr2[ [행 인덱스 들 ] ]\n",
    "8. arr2[ : , [ 열 인덱스 들 ]]\n",
    "9. arr2[n][조건]"
   ]
  },
  {
   "cell_type": "code",
   "execution_count": 20,
   "id": "2d83b7c3",
   "metadata": {},
   "outputs": [
    {
     "data": {
      "text/plain": [
       "array([[ 1,  2,  3,  4],\n",
       "       [ 5,  6,  7,  8],\n",
       "       [ 9, 10, 11, 12]])"
      ]
     },
     "execution_count": 20,
     "metadata": {},
     "output_type": "execute_result"
    }
   ],
   "source": [
    "# 2차원 배열 생성\n",
    "arr2 = np.array([[1, 2, 3, 4], [5, 6, 7, 8], [9, 10, 11, 12]])\n",
    "arr2"
   ]
  },
  {
   "cell_type": "code",
   "execution_count": 14,
   "id": "bdd63f9d",
   "metadata": {},
   "outputs": [
    {
     "data": {
      "text/plain": [
       "7"
      ]
     },
     "execution_count": 14,
     "metadata": {},
     "output_type": "execute_result"
    }
   ],
   "source": [
    "# 방법 1\n",
    "arr2[1, 2]"
   ]
  },
  {
   "cell_type": "code",
   "execution_count": 16,
   "id": "954e2185",
   "metadata": {},
   "outputs": [
    {
     "data": {
      "text/plain": [
       "7"
      ]
     },
     "execution_count": 16,
     "metadata": {},
     "output_type": "execute_result"
    }
   ],
   "source": [
    "# 방법 2\n",
    "arr2[1][2]"
   ]
  },
  {
   "cell_type": "code",
   "execution_count": 17,
   "id": "ca769073",
   "metadata": {},
   "outputs": [
    {
     "data": {
      "text/plain": [
       "array([5, 6, 7, 8])"
      ]
     },
     "execution_count": 17,
     "metadata": {},
     "output_type": "execute_result"
    }
   ],
   "source": [
    "# 방법 3\n",
    "arr2[1]"
   ]
  },
  {
   "cell_type": "code",
   "execution_count": 18,
   "id": "ccc216bd",
   "metadata": {},
   "outputs": [
    {
     "data": {
      "text/plain": [
       "array([ 3,  7, 11])"
      ]
     },
     "execution_count": 18,
     "metadata": {},
     "output_type": "execute_result"
    }
   ],
   "source": [
    "# 방법 4\n",
    "arr2[:, 2]"
   ]
  },
  {
   "cell_type": "code",
   "execution_count": 19,
   "id": "41e1e5ea",
   "metadata": {},
   "outputs": [
    {
     "data": {
      "text/plain": [
       "array([1, 5])"
      ]
     },
     "execution_count": 19,
     "metadata": {},
     "output_type": "execute_result"
    }
   ],
   "source": [
    "# 방법 5\n",
    "arr2[[0,1],0]"
   ]
  },
  {
   "cell_type": "code",
   "execution_count": 21,
   "id": "3b54e990",
   "metadata": {},
   "outputs": [
    {
     "data": {
      "text/plain": [
       "array([1, 6])"
      ]
     },
     "execution_count": 21,
     "metadata": {},
     "output_type": "execute_result"
    }
   ],
   "source": [
    "# 방법 6\n",
    "arr2[[0, 1], [0, 1]] # arr2[[a, b], [c, d]] => a행c열, b행d열"
   ]
  },
  {
   "cell_type": "code",
   "execution_count": 22,
   "id": "2fb14ed7",
   "metadata": {},
   "outputs": [
    {
     "data": {
      "text/plain": [
       "array([[1, 2, 3, 4],\n",
       "       [5, 6, 7, 8]])"
      ]
     },
     "execution_count": 22,
     "metadata": {},
     "output_type": "execute_result"
    }
   ],
   "source": [
    "# 방법 7\n",
    "arr2[[0,1]]"
   ]
  },
  {
   "cell_type": "code",
   "execution_count": 23,
   "id": "408468cb",
   "metadata": {},
   "outputs": [
    {
     "data": {
      "text/plain": [
       "array([[ 1,  2],\n",
       "       [ 5,  6],\n",
       "       [ 9, 10]])"
      ]
     },
     "execution_count": 23,
     "metadata": {},
     "output_type": "execute_result"
    }
   ],
   "source": [
    "# 방법 8\n",
    "arr2[:, [0,1]]"
   ]
  },
  {
   "cell_type": "code",
   "execution_count": 24,
   "id": "17d7751f",
   "metadata": {},
   "outputs": [
    {
     "data": {
      "text/plain": [
       "array([[ 1,  2],\n",
       "       [ 5,  6],\n",
       "       [ 9, 10]])"
      ]
     },
     "execution_count": 24,
     "metadata": {},
     "output_type": "execute_result"
    }
   ],
   "source": [
    "# 방법 8-1\n",
    "arr2[:, :2]"
   ]
  },
  {
   "cell_type": "code",
   "execution_count": 26,
   "id": "068ce00b",
   "metadata": {},
   "outputs": [
    {
     "data": {
      "text/plain": [
       "array([ 6,  7,  8,  9, 10, 11, 12])"
      ]
     },
     "execution_count": 26,
     "metadata": {},
     "output_type": "execute_result"
    }
   ],
   "source": [
    "# 방법 9\n",
    "arr2[:][arr2[:] > 5]"
   ]
  },
  {
   "cell_type": "code",
   "execution_count": 28,
   "id": "ff6a1c6c",
   "metadata": {},
   "outputs": [
    {
     "data": {
      "text/plain": [
       "array([ 6,  7,  8,  9, 10, 11, 12])"
      ]
     },
     "execution_count": 28,
     "metadata": {},
     "output_type": "execute_result"
    }
   ],
   "source": [
    "arr2[arr2 > 5]"
   ]
  },
  {
   "cell_type": "markdown",
   "id": "c5787db4",
   "metadata": {},
   "source": [
    "## 배열의 집계 함수\n",
    "집계 함수는 sum, mean, std etc. 다양하다.  \n",
    "사용하는 방법으로는\n",
    "* 옵션 없이 사용하기 : np.sum(a) => 전체에 대한 집계 결과를 출력\n",
    "* axis = 0 : np.sum(a, axis = 0) => 행 방향(세로) 집계\n",
    "* axis = 1 : np.sum(a, axis = 1) => 열 방향(가로) 집계"
   ]
  },
  {
   "cell_type": "code",
   "execution_count": 30,
   "id": "13e98ce6",
   "metadata": {},
   "outputs": [
    {
     "data": {
      "text/plain": [
       "array([[ 1,  2,  3,  4],\n",
       "       [ 5,  6,  7,  8],\n",
       "       [ 9, 10, 11, 12]])"
      ]
     },
     "execution_count": 30,
     "metadata": {},
     "output_type": "execute_result"
    }
   ],
   "source": [
    "arr2"
   ]
  },
  {
   "cell_type": "code",
   "execution_count": 31,
   "id": "b0ff3860",
   "metadata": {},
   "outputs": [
    {
     "data": {
      "text/plain": [
       "78"
      ]
     },
     "execution_count": 31,
     "metadata": {},
     "output_type": "execute_result"
    }
   ],
   "source": [
    "# 전체\n",
    "np.sum(arr2)"
   ]
  },
  {
   "cell_type": "code",
   "execution_count": 32,
   "id": "0c8ab1d0",
   "metadata": {},
   "outputs": [
    {
     "data": {
      "text/plain": [
       "array([15, 18, 21, 24])"
      ]
     },
     "execution_count": 32,
     "metadata": {},
     "output_type": "execute_result"
    }
   ],
   "source": [
    "# 행\n",
    "# 행방향으로 집계 결과를 출력\n",
    "np.sum(arr2, axis = 0)"
   ]
  },
  {
   "cell_type": "code",
   "execution_count": 33,
   "id": "98a66741",
   "metadata": {},
   "outputs": [
    {
     "data": {
      "text/plain": [
       "array([10, 26, 42])"
      ]
     },
     "execution_count": 33,
     "metadata": {},
     "output_type": "execute_result"
    }
   ],
   "source": [
    "# 열\n",
    "# 열방향으로 집계 결과를 출력\n",
    "np.sum(arr2, axis = 1)"
   ]
  },
  {
   "cell_type": "markdown",
   "id": "e905ceca",
   "metadata": {},
   "source": [
    "### np.where()\n",
    "* 삼항연산자와 비슷한 함수  \n",
    "* 문법 : np.where(조건문, 참일 때 값, 거짓일 때 값)"
   ]
  },
  {
   "cell_type": "code",
   "execution_count": 36,
   "id": "32eb609e",
   "metadata": {},
   "outputs": [
    {
     "data": {
      "text/plain": [
       "array([[0, 0, 0, 0],\n",
       "       [0, 1, 1, 1],\n",
       "       [1, 1, 1, 1]])"
      ]
     },
     "execution_count": 36,
     "metadata": {},
     "output_type": "execute_result"
    }
   ],
   "source": [
    "np.where(arr2 > 5, 1, 0)"
   ]
  },
  {
   "cell_type": "markdown",
   "id": "7e6f0e1a",
   "metadata": {},
   "source": [
    "### np.argmax, np.argmin\n",
    "* 전체 중 가장 큰 값, 가장 작은 값\n",
    "* 문법 : np.argmax(array, axis = )\n",
    "    * 옵션 없이 사용 : 전체 중에서 가장 큰/작은 값의 인덱스 출력\n",
    "    * axis = 0 : 열 기준(행 방향) 큰 값의 인덱스\n",
    "    * axis = 1 : 행 기준(열 방향) 큰 값의 인덱스"
   ]
  },
  {
   "cell_type": "code",
   "execution_count": 40,
   "id": "f3185d2c",
   "metadata": {},
   "outputs": [
    {
     "data": {
      "text/plain": [
       "array([[ 1,  2,  3,  4],\n",
       "       [ 5,  6,  7,  8],\n",
       "       [ 9, 10, 11, 12]])"
      ]
     },
     "execution_count": 40,
     "metadata": {},
     "output_type": "execute_result"
    }
   ],
   "source": [
    "arr2"
   ]
  },
  {
   "cell_type": "code",
   "execution_count": 39,
   "id": "2fe2fec4",
   "metadata": {},
   "outputs": [
    {
     "data": {
      "text/plain": [
       "11"
      ]
     },
     "execution_count": 39,
     "metadata": {},
     "output_type": "execute_result"
    }
   ],
   "source": [
    "# 옵션 없이\n",
    "np.argmax(arr2)"
   ]
  },
  {
   "cell_type": "code",
   "execution_count": 41,
   "id": "3f84b3c4",
   "metadata": {},
   "outputs": [
    {
     "data": {
      "text/plain": [
       "array([2, 2, 2, 2], dtype=int64)"
      ]
     },
     "execution_count": 41,
     "metadata": {},
     "output_type": "execute_result"
    }
   ],
   "source": [
    "# axis = 0\n",
    "np.argmax(arr2, axis = 0)"
   ]
  },
  {
   "cell_type": "code",
   "execution_count": 42,
   "id": "6711f1e8",
   "metadata": {},
   "outputs": [
    {
     "data": {
      "text/plain": [
       "array([0, 0, 0], dtype=int64)"
      ]
     },
     "execution_count": 42,
     "metadata": {},
     "output_type": "execute_result"
    }
   ],
   "source": [
    "# axis = 1\n",
    "np.argmin(arr2, axis = 1)"
   ]
  },
  {
   "cell_type": "code",
   "execution_count": null,
   "id": "ee3ff8b1",
   "metadata": {},
   "outputs": [],
   "source": []
  }
 ],
 "metadata": {
  "kernelspec": {
   "display_name": "Python 3 (ipykernel)",
   "language": "python",
   "name": "python3"
  },
  "language_info": {
   "codemirror_mode": {
    "name": "ipython",
    "version": 3
   },
   "file_extension": ".py",
   "mimetype": "text/x-python",
   "name": "python",
   "nbconvert_exporter": "python",
   "pygments_lexer": "ipython3",
   "version": "3.9.13"
  }
 },
 "nbformat": 4,
 "nbformat_minor": 5
}
