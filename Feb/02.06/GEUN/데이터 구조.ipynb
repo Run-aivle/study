{
 "cells": [
  {
   "cell_type": "markdown",
   "id": "36e7d9f4",
   "metadata": {},
   "source": [
    "# 분석을 위한 데이터 구조\n",
    "\n",
    "### 데이터 분석의 큰 그림 : CRISP-DM\n",
    "\n",
    ": (Cross-Industry Standard Process for Data Mining의 약자)은 데이터 마이닝 작업을 안내하기 위해 업계에서 검증된 방법이다.\n",
    "\n",
    "데이터 마이닝 라이프사이클은 Business Understanding → Data Understanding → Data Preparation → Modeling → Evaluation → Deployment의 순서로 진행되며 해당 방법으로 특정 요구사항에 맞는 데이터 마이닝 모델을 작성할 수 있다.\n",
    "\n",
    "# 분석 가능한 데이터\n",
    "\n",
    "데이터는 크게 범주형(질적)데이터와 수치형(양적)데이터로 나눌 수 있다. \n",
    "\n",
    "### 범주형 데이터 : 그룹으로 묶을 수 있는 데이터\n",
    "\n",
    "- 명목형 데이터 : 범주간 순서의 의미가 없는 데이터 ex) 성별, 시, 도, 흡연 여부 etc.\n",
    "- 순서형 데이터 : 범주간 순서의 의미가 있는 데이터 ex) 연령대, 매출등급 etc.\n",
    "\n",
    "### 수치형 데이터 : 관측된 값이 수치로 측적되는 데이터\n",
    "\n",
    "- 이산형 데이터 : 값이 셀 수 있는 데이터 ex) 판매량, 매출액, 나이 etc.\n",
    "- 연속형 데이터 : 값이 연속적인 데이터 ex) 온도 etc.\n",
    "\n",
    "### 데이터 구조\n",
    "\n",
    "기본 구조 : 2차원\n",
    "\n",
    "- 행 : 분석단위, 관측치, 데이터 건수\n",
    "- 열 : 정보, 변수, 요인(x, feature), 결과(y, target, label)\n",
    "\n",
    "데이터 구조를 다루는 파이썬 패키지 : numpy, pandas"
   ]
  },
  {
   "cell_type": "code",
   "execution_count": null,
   "id": "c39cdf77",
   "metadata": {},
   "outputs": [],
   "source": []
  }
 ],
 "metadata": {
  "kernelspec": {
   "display_name": "Python 3 (ipykernel)",
   "language": "python",
   "name": "python3"
  },
  "language_info": {
   "codemirror_mode": {
    "name": "ipython",
    "version": 3
   },
   "file_extension": ".py",
   "mimetype": "text/x-python",
   "name": "python",
   "nbconvert_exporter": "python",
   "pygments_lexer": "ipython3",
   "version": "3.9.13"
  }
 },
 "nbformat": 4,
 "nbformat_minor": 5
}
