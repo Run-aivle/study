{
 "cells": [
  {
   "cell_type": "markdown",
   "id": "68ea8005-28f0-465a-a3c9-d9e4ed0374b0",
   "metadata": {},
   "source": [
    "# 01. 넘파이"
   ]
  },
  {
   "cell_type": "markdown",
   "id": "7db37ed5-87ae-4cf9-b515-5417d2a02624",
   "metadata": {},
   "source": [
    "## 1. 라이브러리 불러오기"
   ]
  },
  {
   "cell_type": "code",
   "execution_count": 9,
   "id": "f8ab5a08-6ae0-4f1d-a94a-921212373f06",
   "metadata": {},
   "outputs": [],
   "source": [
    "import numpy as np"
   ]
  },
  {
   "cell_type": "markdown",
   "id": "8064d7b8-ec9b-4a0c-9e02-b66f98ec9231",
   "metadata": {},
   "source": [
    "## 2. 배열 만들기"
   ]
  },
  {
   "cell_type": "code",
   "execution_count": 14,
   "id": "7b5090ac-57d4-4834-b455-5ead30583293",
   "metadata": {},
   "outputs": [
    {
     "name": "stdout",
     "output_type": "stream",
     "text": [
      "[1 2 3 4 5]\n",
      "[[1 2 3]\n",
      " [4 5 6]]\n",
      "[[[1. 2. 3.]]\n",
      "\n",
      " [[1. 2. 3.]]]\n"
     ]
    }
   ],
   "source": [
    "# 1차원 만들기\n",
    "arr1 = np.array([1,2,3,4,5])\n",
    "# 2차원 만들기\n",
    "arr2 = np.array([[1,2,3],[4,5,6]])\n",
    "# 3차원 만들기\n",
    "arr3 = np.array([[[1.,2.,3.]],\n",
    "                 [[1.,2.,3.]]])\n",
    "\n",
    "print(arr1)\n",
    "print(arr2)\n",
    "print(arr3)"
   ]
  },
  {
   "cell_type": "markdown",
   "id": "11a338c3-fa5f-4079-9025-8248d047e2bb",
   "metadata": {},
   "source": [
    "#### 1) 차원 확인"
   ]
  },
  {
   "cell_type": "code",
   "execution_count": 10,
   "id": "479608ed-c30a-4df5-aded-69a03ef6328b",
   "metadata": {},
   "outputs": [
    {
     "name": "stdout",
     "output_type": "stream",
     "text": [
      "1\n",
      "2\n",
      "3\n"
     ]
    }
   ],
   "source": [
    "print(arr1.ndim)\n",
    "print(arr2.ndim)\n",
    "print(arr3.ndim)"
   ]
  },
  {
   "cell_type": "markdown",
   "id": "47fd2add-774b-46b2-9e05-334f2fc41a5b",
   "metadata": {},
   "source": [
    "####  2) 형태(크기) 확인"
   ]
  },
  {
   "cell_type": "code",
   "execution_count": 11,
   "id": "e0e68238-6607-4179-9db0-7b94a8c815f9",
   "metadata": {},
   "outputs": [
    {
     "name": "stdout",
     "output_type": "stream",
     "text": [
      "(5,)\n",
      "(2, 3)\n",
      "(2, 1, 3)\n"
     ]
    }
   ],
   "source": [
    "print(arr1.shape)\n",
    "print(arr2.shape)\n",
    "print(arr3.shape)"
   ]
  },
  {
   "cell_type": "markdown",
   "id": "5580d331-5409-418a-80f3-f8f85486cc64",
   "metadata": {},
   "source": [
    "#### 3) 요소 자료형 확인"
   ]
  },
  {
   "cell_type": "code",
   "execution_count": 15,
   "id": "29d34911-c794-4f6f-aed1-4b05e95f923d",
   "metadata": {},
   "outputs": [
    {
     "name": "stdout",
     "output_type": "stream",
     "text": [
      "int32\n",
      "int32\n",
      "float64\n"
     ]
    }
   ],
   "source": [
    "print(arr1.dtype)\n",
    "print(arr2.dtype)\n",
    "print(arr3.dtype)"
   ]
  },
  {
   "cell_type": "markdown",
   "id": "8b8f26b4-4f68-4d9e-a884-3306025eb440",
   "metadata": {},
   "source": [
    "#### 4) 차원 변경"
   ]
  },
  {
   "cell_type": "code",
   "execution_count": 20,
   "id": "947cbb06-d343-4f9f-b92f-3f36df6c530c",
   "metadata": {},
   "outputs": [
    {
     "name": "stdout",
     "output_type": "stream",
     "text": [
      "[[1 2]\n",
      " [3 4]\n",
      " [5 6]]\n",
      "[[1 2 3]\n",
      " [4 5 6]]\n"
     ]
    }
   ],
   "source": [
    "print(arr2.reshape(3,2))\n",
    "print(arr2.reshape(2,-1))"
   ]
  },
  {
   "cell_type": "markdown",
   "id": "c18031fc-1b85-453a-8c10-c574b1dffb4f",
   "metadata": {},
   "source": [
    "#### 5) 인덱싱"
   ]
  },
  {
   "cell_type": "code",
   "execution_count": 57,
   "id": "44c47f08-b714-4605-8f24-54c475a87089",
   "metadata": {},
   "outputs": [],
   "source": [
    "arr = np.array([[1, 2, 3],\n",
    "              [4, 5, 6], \n",
    "              [7, 8, 9]])"
   ]
  },
  {
   "cell_type": "code",
   "execution_count": 30,
   "id": "57d8f17c-0c80-4d20-9d7a-a1553b575c17",
   "metadata": {},
   "outputs": [
    {
     "name": "stdout",
     "output_type": "stream",
     "text": [
      "2\n",
      "2\n",
      "[[1 2 3]\n",
      " [4 5 6]]\n",
      "[[1 3]\n",
      " [4 6]\n",
      " [7 9]]\n"
     ]
    }
   ],
   "source": [
    "print(arr[0,1])\n",
    "print(arr[0][1])\n",
    "print(arr[[0,1]])\n",
    "print(arr[:, [0, 2]])"
   ]
  },
  {
   "cell_type": "markdown",
   "id": "852c0cf6-2e4a-4e93-acd2-89ff37104fe1",
   "metadata": {},
   "source": [
    "#### 6) 슬라이싱"
   ]
  },
  {
   "cell_type": "code",
   "execution_count": 34,
   "id": "049991a5-9c1e-4d63-9744-ec3c19116e9e",
   "metadata": {},
   "outputs": [
    {
     "name": "stdout",
     "output_type": "stream",
     "text": [
      "[[1 2 3]\n",
      " [4 5 6]\n",
      " [7 8 9]]\n"
     ]
    }
   ],
   "source": [
    "print(arr[:,:])"
   ]
  },
  {
   "cell_type": "code",
   "execution_count": 35,
   "id": "9d4c1702-a996-41dd-bc35-a1c1b4cb7a8f",
   "metadata": {},
   "outputs": [
    {
     "name": "stdout",
     "output_type": "stream",
     "text": [
      "[[4]\n",
      " [7]]\n"
     ]
    }
   ],
   "source": [
    "print(arr[1:3, 0:1])"
   ]
  },
  {
   "cell_type": "code",
   "execution_count": 40,
   "id": "0743d9c7-dc55-4fb5-a61e-122f2d4b83c3",
   "metadata": {},
   "outputs": [
    {
     "name": "stdout",
     "output_type": "stream",
     "text": [
      "[2 5 8]\n",
      "[[2]\n",
      " [5]\n",
      " [8]]\n"
     ]
    }
   ],
   "source": [
    "print(arr[:, 1])\n",
    "print(arr[:, 1:2])"
   ]
  },
  {
   "cell_type": "markdown",
   "id": "d8a8f87b-c407-43de-b66e-541fa62e5c2f",
   "metadata": {},
   "source": [
    "#### 7) 조건 조회"
   ]
  },
  {
   "cell_type": "code",
   "execution_count": 42,
   "id": "20278fa2-2019-4500-919f-a9931580af33",
   "metadata": {},
   "outputs": [
    {
     "name": "stdout",
     "output_type": "stream",
     "text": [
      "[8 9]\n"
     ]
    }
   ],
   "source": [
    "print(arr[arr> 7])"
   ]
  },
  {
   "cell_type": "code",
   "execution_count": 46,
   "id": "ed30e5c3-c2ad-4dc8-9912-2ede3fb81889",
   "metadata": {},
   "outputs": [
    {
     "name": "stdout",
     "output_type": "stream",
     "text": [
      "[9]\n"
     ]
    }
   ],
   "source": [
    "print((arr[(arr > 7) & (arr > 8)]))"
   ]
  },
  {
   "cell_type": "markdown",
   "id": "3d463033-730a-4ec5-ad3a-951b55e82fb0",
   "metadata": {},
   "source": [
    "#### 8) 배열 연산"
   ]
  },
  {
   "cell_type": "code",
   "execution_count": 47,
   "id": "cd7e8a0a-39b8-40eb-8d54-fbb11a8e4c6d",
   "metadata": {},
   "outputs": [],
   "source": [
    "x = np.array([[1, 2], [3, 4]])\n",
    "y = np.array([[5, 6], [7, 8]])"
   ]
  },
  {
   "cell_type": "code",
   "execution_count": 48,
   "id": "517dd31e-94f7-4b01-9519-e2fda69be8bf",
   "metadata": {},
   "outputs": [
    {
     "name": "stdout",
     "output_type": "stream",
     "text": [
      "[[ 6  8]\n",
      " [10 12]]\n",
      "[[ 6  8]\n",
      " [10 12]]\n"
     ]
    }
   ],
   "source": [
    "print(x+y)\n",
    "print(np.add(x,y))"
   ]
  },
  {
   "cell_type": "code",
   "execution_count": 50,
   "id": "3c668409-0290-4c56-8631-7bc6d5117fcb",
   "metadata": {},
   "outputs": [
    {
     "name": "stdout",
     "output_type": "stream",
     "text": [
      "[[-4 -4]\n",
      " [-4 -4]]\n",
      "[[-4 -4]\n",
      " [-4 -4]]\n"
     ]
    }
   ],
   "source": [
    "print(x-y)\n",
    "print(np.subtract(x,y))"
   ]
  },
  {
   "cell_type": "code",
   "execution_count": 51,
   "id": "eef9b3cc-809f-469d-95b8-2fe89a90ce8b",
   "metadata": {},
   "outputs": [
    {
     "name": "stdout",
     "output_type": "stream",
     "text": [
      "[[ 5 12]\n",
      " [21 32]]\n",
      "[[ 5 12]\n",
      " [21 32]]\n"
     ]
    }
   ],
   "source": [
    "print(x*y)\n",
    "print(np.multiply(x,y))"
   ]
  },
  {
   "cell_type": "code",
   "execution_count": 53,
   "id": "5262b5f8-12f2-4704-8df8-cb76c50fd5e0",
   "metadata": {},
   "outputs": [
    {
     "name": "stdout",
     "output_type": "stream",
     "text": [
      "[[0.2        0.33333333]\n",
      " [0.42857143 0.5       ]]\n",
      "[[0.2        0.33333333]\n",
      " [0.42857143 0.5       ]]\n"
     ]
    }
   ],
   "source": [
    "print(x/y)\n",
    "print(np.divide(x,y))"
   ]
  },
  {
   "cell_type": "code",
   "execution_count": 54,
   "id": "4d40b34a-7fab-425c-9fe2-e3a79b739d75",
   "metadata": {},
   "outputs": [
    {
     "name": "stdout",
     "output_type": "stream",
     "text": [
      "[[    1    64]\n",
      " [ 2187 65536]]\n",
      "[[    1    64]\n",
      " [ 2187 65536]]\n"
     ]
    }
   ],
   "source": [
    "print(x**y)\n",
    "print(np.power(x,y))"
   ]
  },
  {
   "cell_type": "code",
   "execution_count": 61,
   "id": "e5815349-4466-427f-971d-1e0c96c31cb9",
   "metadata": {},
   "outputs": [
    {
     "name": "stdout",
     "output_type": "stream",
     "text": [
      "45\n",
      "[12 15 18]\n",
      "[ 6 15 24]\n"
     ]
    }
   ],
   "source": [
    "print(np.sum(arr))\n",
    "print(np.sum(arr, axis = 0))  # 열기준 집계\n",
    "print(np.sum(arr, axis = 1))  # 행기준 집계"
   ]
  },
  {
   "cell_type": "markdown",
   "id": "30438c06-8dd9-4d8b-9ca7-ecdcda2008a1",
   "metadata": {},
   "source": [
    "# 02. 판다스"
   ]
  },
  {
   "cell_type": "code",
   "execution_count": 2,
   "id": "edd534b2-78e9-4483-8df1-dc443c9edfbb",
   "metadata": {},
   "outputs": [],
   "source": [
    "import pandas as pd"
   ]
  },
  {
   "cell_type": "code",
   "execution_count": 3,
   "id": "9aa6d5dc-1623-492f-94b7-ca13484a263f",
   "metadata": {},
   "outputs": [
    {
     "name": "stdout",
     "output_type": "stream",
     "text": [
      "      Name  Grade  Score\n",
      "0  Gildong      1  56000\n",
      "1   Sarang      3  23000\n",
      "2   Jiemae      4  44000\n",
      "3    Yeoin      2  52000\n",
      "4    James      3  52000\n",
      "5      Sen      4  60000\n"
     ]
    }
   ],
   "source": [
    "dict = {'Name': ['Gildong', 'Sarang', 'Jiemae', 'Yeoin', 'James', 'Sen'],\n",
    "        'Grade': [1, 3, 4, 2, 3, 4],\n",
    "        'Score': [56000, 23000, 44000, 52000, 52000, 60000]}\n",
    "df = pd.DataFrame(dict)\n",
    "print(df)"
   ]
  },
  {
   "cell_type": "markdown",
   "id": "1bda00d0",
   "metadata": {},
   "source": [
    "#### 1) 상위 데이터 확인"
   ]
  },
  {
   "cell_type": "code",
   "execution_count": 70,
   "id": "af3e8709-5853-4dd1-ba5e-1e4c60674de2",
   "metadata": {},
   "outputs": [
    {
     "data": {
      "text/html": [
       "<div>\n",
       "<style scoped>\n",
       "    .dataframe tbody tr th:only-of-type {\n",
       "        vertical-align: middle;\n",
       "    }\n",
       "\n",
       "    .dataframe tbody tr th {\n",
       "        vertical-align: top;\n",
       "    }\n",
       "\n",
       "    .dataframe thead th {\n",
       "        text-align: right;\n",
       "    }\n",
       "</style>\n",
       "<table border=\"1\" class=\"dataframe\">\n",
       "  <thead>\n",
       "    <tr style=\"text-align: right;\">\n",
       "      <th></th>\n",
       "      <th>Name</th>\n",
       "      <th>Grade</th>\n",
       "      <th>Score</th>\n",
       "    </tr>\n",
       "  </thead>\n",
       "  <tbody>\n",
       "    <tr>\n",
       "      <th>0</th>\n",
       "      <td>Gildong</td>\n",
       "      <td>1</td>\n",
       "      <td>56000</td>\n",
       "    </tr>\n",
       "    <tr>\n",
       "      <th>1</th>\n",
       "      <td>Sarang</td>\n",
       "      <td>3</td>\n",
       "      <td>23000</td>\n",
       "    </tr>\n",
       "    <tr>\n",
       "      <th>2</th>\n",
       "      <td>Jiemae</td>\n",
       "      <td>4</td>\n",
       "      <td>44000</td>\n",
       "    </tr>\n",
       "    <tr>\n",
       "      <th>3</th>\n",
       "      <td>Yeoin</td>\n",
       "      <td>2</td>\n",
       "      <td>52000</td>\n",
       "    </tr>\n",
       "    <tr>\n",
       "      <th>4</th>\n",
       "      <td>James</td>\n",
       "      <td>3</td>\n",
       "      <td>55000</td>\n",
       "    </tr>\n",
       "  </tbody>\n",
       "</table>\n",
       "</div>"
      ],
      "text/plain": [
       "      Name  Grade  Score\n",
       "0  Gildong      1  56000\n",
       "1   Sarang      3  23000\n",
       "2   Jiemae      4  44000\n",
       "3    Yeoin      2  52000\n",
       "4    James      3  55000"
      ]
     },
     "execution_count": 70,
     "metadata": {},
     "output_type": "execute_result"
    }
   ],
   "source": [
    "df.head()"
   ]
  },
  {
   "cell_type": "markdown",
   "id": "d7ac60b2",
   "metadata": {},
   "source": [
    "#### 2) 하위 데이터 확인"
   ]
  },
  {
   "cell_type": "code",
   "execution_count": 71,
   "id": "aa69af5a-2136-4863-af43-e266299ff2a9",
   "metadata": {},
   "outputs": [
    {
     "data": {
      "text/html": [
       "<div>\n",
       "<style scoped>\n",
       "    .dataframe tbody tr th:only-of-type {\n",
       "        vertical-align: middle;\n",
       "    }\n",
       "\n",
       "    .dataframe tbody tr th {\n",
       "        vertical-align: top;\n",
       "    }\n",
       "\n",
       "    .dataframe thead th {\n",
       "        text-align: right;\n",
       "    }\n",
       "</style>\n",
       "<table border=\"1\" class=\"dataframe\">\n",
       "  <thead>\n",
       "    <tr style=\"text-align: right;\">\n",
       "      <th></th>\n",
       "      <th>Name</th>\n",
       "      <th>Grade</th>\n",
       "      <th>Score</th>\n",
       "    </tr>\n",
       "  </thead>\n",
       "  <tbody>\n",
       "    <tr>\n",
       "      <th>1</th>\n",
       "      <td>Sarang</td>\n",
       "      <td>3</td>\n",
       "      <td>23000</td>\n",
       "    </tr>\n",
       "    <tr>\n",
       "      <th>2</th>\n",
       "      <td>Jiemae</td>\n",
       "      <td>4</td>\n",
       "      <td>44000</td>\n",
       "    </tr>\n",
       "    <tr>\n",
       "      <th>3</th>\n",
       "      <td>Yeoin</td>\n",
       "      <td>2</td>\n",
       "      <td>52000</td>\n",
       "    </tr>\n",
       "    <tr>\n",
       "      <th>4</th>\n",
       "      <td>James</td>\n",
       "      <td>3</td>\n",
       "      <td>55000</td>\n",
       "    </tr>\n",
       "    <tr>\n",
       "      <th>5</th>\n",
       "      <td>Sen</td>\n",
       "      <td>4</td>\n",
       "      <td>60000</td>\n",
       "    </tr>\n",
       "  </tbody>\n",
       "</table>\n",
       "</div>"
      ],
      "text/plain": [
       "     Name  Grade  Score\n",
       "1  Sarang      3  23000\n",
       "2  Jiemae      4  44000\n",
       "3   Yeoin      2  52000\n",
       "4   James      3  55000\n",
       "5     Sen      4  60000"
      ]
     },
     "execution_count": 71,
     "metadata": {},
     "output_type": "execute_result"
    }
   ],
   "source": [
    "df.tail()"
   ]
  },
  {
   "cell_type": "markdown",
   "id": "22542e2f",
   "metadata": {},
   "source": [
    "####  3) 형태(크기) 확인"
   ]
  },
  {
   "cell_type": "code",
   "execution_count": 73,
   "id": "db3c3e67-9d63-4a17-b95f-5b7de99d3ae3",
   "metadata": {},
   "outputs": [
    {
     "data": {
      "text/plain": [
       "(6, 3)"
      ]
     },
     "execution_count": 73,
     "metadata": {},
     "output_type": "execute_result"
    }
   ],
   "source": [
    "df.shape"
   ]
  },
  {
   "cell_type": "markdown",
   "id": "9876c3d0",
   "metadata": {},
   "source": [
    "####  4) 열확인"
   ]
  },
  {
   "cell_type": "code",
   "execution_count": 75,
   "id": "4ee7ee97-f7c5-43f0-a217-be7f45467ed5",
   "metadata": {},
   "outputs": [
    {
     "name": "stdout",
     "output_type": "stream",
     "text": [
      "Index(['Name', 'Grade', 'Score'], dtype='object')\n",
      "['Name' 'Grade' 'Score']\n",
      "['Name', 'Grade', 'Score']\n"
     ]
    }
   ],
   "source": [
    "print(df.columns)\n",
    "print(df.columns.values)\n",
    "print(list(df))"
   ]
  },
  {
   "cell_type": "markdown",
   "id": "1e9e8158",
   "metadata": {},
   "source": [
    "####  5) 자료형 확인"
   ]
  },
  {
   "cell_type": "code",
   "execution_count": 76,
   "id": "9dc7a42c-e650-4fab-b572-82f5a84b7d5f",
   "metadata": {},
   "outputs": [
    {
     "data": {
      "text/plain": [
       "Name     object\n",
       "Grade     int64\n",
       "Score     int64\n",
       "dtype: object"
      ]
     },
     "execution_count": 76,
     "metadata": {},
     "output_type": "execute_result"
    }
   ],
   "source": [
    "df.dtypes  # 열 자료형 확인"
   ]
  },
  {
   "cell_type": "code",
   "execution_count": 77,
   "id": "114bf3ad-4269-4f34-a06c-3f6140727d03",
   "metadata": {},
   "outputs": [
    {
     "name": "stdout",
     "output_type": "stream",
     "text": [
      "<class 'pandas.core.frame.DataFrame'>\n",
      "RangeIndex: 6 entries, 0 to 5\n",
      "Data columns (total 3 columns):\n",
      " #   Column  Non-Null Count  Dtype \n",
      "---  ------  --------------  ----- \n",
      " 0   Name    6 non-null      object\n",
      " 1   Grade   6 non-null      int64 \n",
      " 2   Score   6 non-null      int64 \n",
      "dtypes: int64(2), object(1)\n",
      "memory usage: 272.0+ bytes\n"
     ]
    }
   ],
   "source": [
    "df.info()   # 열 자료형, 값 개수 확인"
   ]
  },
  {
   "cell_type": "markdown",
   "id": "c3c74a71",
   "metadata": {},
   "source": [
    "#### 6) 기초통계정보"
   ]
  },
  {
   "cell_type": "code",
   "execution_count": 78,
   "id": "d70b8639-403d-4592-97a1-27e583cea8ad",
   "metadata": {},
   "outputs": [
    {
     "data": {
      "text/html": [
       "<div>\n",
       "<style scoped>\n",
       "    .dataframe tbody tr th:only-of-type {\n",
       "        vertical-align: middle;\n",
       "    }\n",
       "\n",
       "    .dataframe tbody tr th {\n",
       "        vertical-align: top;\n",
       "    }\n",
       "\n",
       "    .dataframe thead th {\n",
       "        text-align: right;\n",
       "    }\n",
       "</style>\n",
       "<table border=\"1\" class=\"dataframe\">\n",
       "  <thead>\n",
       "    <tr style=\"text-align: right;\">\n",
       "      <th></th>\n",
       "      <th>Grade</th>\n",
       "      <th>Score</th>\n",
       "    </tr>\n",
       "  </thead>\n",
       "  <tbody>\n",
       "    <tr>\n",
       "      <th>count</th>\n",
       "      <td>6.000000</td>\n",
       "      <td>6.000000</td>\n",
       "    </tr>\n",
       "    <tr>\n",
       "      <th>mean</th>\n",
       "      <td>2.833333</td>\n",
       "      <td>48333.333333</td>\n",
       "    </tr>\n",
       "    <tr>\n",
       "      <th>std</th>\n",
       "      <td>1.169045</td>\n",
       "      <td>13515.423288</td>\n",
       "    </tr>\n",
       "    <tr>\n",
       "      <th>min</th>\n",
       "      <td>1.000000</td>\n",
       "      <td>23000.000000</td>\n",
       "    </tr>\n",
       "    <tr>\n",
       "      <th>25%</th>\n",
       "      <td>2.250000</td>\n",
       "      <td>46000.000000</td>\n",
       "    </tr>\n",
       "    <tr>\n",
       "      <th>50%</th>\n",
       "      <td>3.000000</td>\n",
       "      <td>53500.000000</td>\n",
       "    </tr>\n",
       "    <tr>\n",
       "      <th>75%</th>\n",
       "      <td>3.750000</td>\n",
       "      <td>55750.000000</td>\n",
       "    </tr>\n",
       "    <tr>\n",
       "      <th>max</th>\n",
       "      <td>4.000000</td>\n",
       "      <td>60000.000000</td>\n",
       "    </tr>\n",
       "  </tbody>\n",
       "</table>\n",
       "</div>"
      ],
      "text/plain": [
       "          Grade         Score\n",
       "count  6.000000      6.000000\n",
       "mean   2.833333  48333.333333\n",
       "std    1.169045  13515.423288\n",
       "min    1.000000  23000.000000\n",
       "25%    2.250000  46000.000000\n",
       "50%    3.000000  53500.000000\n",
       "75%    3.750000  55750.000000\n",
       "max    4.000000  60000.000000"
      ]
     },
     "execution_count": 78,
     "metadata": {},
     "output_type": "execute_result"
    }
   ],
   "source": [
    "df.describe()  "
   ]
  },
  {
   "cell_type": "code",
   "execution_count": 80,
   "id": "71b8c55d-43ca-4128-b92c-436fdb5fa9bd",
   "metadata": {},
   "outputs": [
    {
     "data": {
      "text/html": [
       "<div>\n",
       "<style scoped>\n",
       "    .dataframe tbody tr th:only-of-type {\n",
       "        vertical-align: middle;\n",
       "    }\n",
       "\n",
       "    .dataframe tbody tr th {\n",
       "        vertical-align: top;\n",
       "    }\n",
       "\n",
       "    .dataframe thead th {\n",
       "        text-align: right;\n",
       "    }\n",
       "</style>\n",
       "<table border=\"1\" class=\"dataframe\">\n",
       "  <thead>\n",
       "    <tr style=\"text-align: right;\">\n",
       "      <th></th>\n",
       "      <th>Score</th>\n",
       "    </tr>\n",
       "  </thead>\n",
       "  <tbody>\n",
       "    <tr>\n",
       "      <th>count</th>\n",
       "      <td>6.000000</td>\n",
       "    </tr>\n",
       "    <tr>\n",
       "      <th>mean</th>\n",
       "      <td>48333.333333</td>\n",
       "    </tr>\n",
       "    <tr>\n",
       "      <th>std</th>\n",
       "      <td>13515.423288</td>\n",
       "    </tr>\n",
       "    <tr>\n",
       "      <th>min</th>\n",
       "      <td>23000.000000</td>\n",
       "    </tr>\n",
       "    <tr>\n",
       "      <th>25%</th>\n",
       "      <td>46000.000000</td>\n",
       "    </tr>\n",
       "    <tr>\n",
       "      <th>50%</th>\n",
       "      <td>53500.000000</td>\n",
       "    </tr>\n",
       "    <tr>\n",
       "      <th>75%</th>\n",
       "      <td>55750.000000</td>\n",
       "    </tr>\n",
       "    <tr>\n",
       "      <th>max</th>\n",
       "      <td>60000.000000</td>\n",
       "    </tr>\n",
       "  </tbody>\n",
       "</table>\n",
       "</div>"
      ],
      "text/plain": [
       "              Score\n",
       "count      6.000000\n",
       "mean   48333.333333\n",
       "std    13515.423288\n",
       "min    23000.000000\n",
       "25%    46000.000000\n",
       "50%    53500.000000\n",
       "75%    55750.000000\n",
       "max    60000.000000"
      ]
     },
     "execution_count": 80,
     "metadata": {},
     "output_type": "execute_result"
    }
   ],
   "source": [
    "df[['Score']].describe()"
   ]
  },
  {
   "cell_type": "markdown",
   "id": "5228a4ff",
   "metadata": {},
   "source": [
    "#### 7) 정렬해서 보기"
   ]
  },
  {
   "cell_type": "code",
   "execution_count": 87,
   "id": "7629eed9-d79e-4dcb-be92-3ba9ca6d2e95",
   "metadata": {},
   "outputs": [
    {
     "data": {
      "text/html": [
       "<div>\n",
       "<style scoped>\n",
       "    .dataframe tbody tr th:only-of-type {\n",
       "        vertical-align: middle;\n",
       "    }\n",
       "\n",
       "    .dataframe tbody tr th {\n",
       "        vertical-align: top;\n",
       "    }\n",
       "\n",
       "    .dataframe thead th {\n",
       "        text-align: right;\n",
       "    }\n",
       "</style>\n",
       "<table border=\"1\" class=\"dataframe\">\n",
       "  <thead>\n",
       "    <tr style=\"text-align: right;\">\n",
       "      <th></th>\n",
       "      <th>Name</th>\n",
       "      <th>Grade</th>\n",
       "      <th>Score</th>\n",
       "    </tr>\n",
       "  </thead>\n",
       "  <tbody>\n",
       "    <tr>\n",
       "      <th>5</th>\n",
       "      <td>Sen</td>\n",
       "      <td>4</td>\n",
       "      <td>60000</td>\n",
       "    </tr>\n",
       "    <tr>\n",
       "      <th>0</th>\n",
       "      <td>Gildong</td>\n",
       "      <td>1</td>\n",
       "      <td>56000</td>\n",
       "    </tr>\n",
       "    <tr>\n",
       "      <th>4</th>\n",
       "      <td>James</td>\n",
       "      <td>3</td>\n",
       "      <td>52000</td>\n",
       "    </tr>\n",
       "    <tr>\n",
       "      <th>3</th>\n",
       "      <td>Yeoin</td>\n",
       "      <td>2</td>\n",
       "      <td>52000</td>\n",
       "    </tr>\n",
       "    <tr>\n",
       "      <th>2</th>\n",
       "      <td>Jiemae</td>\n",
       "      <td>4</td>\n",
       "      <td>44000</td>\n",
       "    </tr>\n",
       "  </tbody>\n",
       "</table>\n",
       "</div>"
      ],
      "text/plain": [
       "      Name  Grade  Score\n",
       "5      Sen      4  60000\n",
       "0  Gildong      1  56000\n",
       "4    James      3  52000\n",
       "3    Yeoin      2  52000\n",
       "2   Jiemae      4  44000"
      ]
     },
     "execution_count": 87,
     "metadata": {},
     "output_type": "execute_result"
    }
   ],
   "source": [
    "df.sort_values(['Score', 'Grade'], ascending = [False,False]).head()"
   ]
  },
  {
   "cell_type": "markdown",
   "id": "a9becbd6",
   "metadata": {},
   "source": [
    "#### 8) 고유값 확인"
   ]
  },
  {
   "cell_type": "code",
   "execution_count": 90,
   "id": "cad92f19-b566-4af7-ae3c-487e95ebca88",
   "metadata": {},
   "outputs": [
    {
     "data": {
      "text/plain": [
       "array(['Gildong', 'Sarang', 'Jiemae', 'Yeoin', 'James', 'Sen'],\n",
       "      dtype=object)"
      ]
     },
     "execution_count": 90,
     "metadata": {},
     "output_type": "execute_result"
    }
   ],
   "source": [
    "df['Name'].unique()"
   ]
  },
  {
   "cell_type": "markdown",
   "id": "4984cb05",
   "metadata": {},
   "source": [
    "#### 9) 고유값과 개수 확인"
   ]
  },
  {
   "cell_type": "code",
   "execution_count": 91,
   "id": "aaef19ac-7a3f-4d68-82d5-c4e5e8ff7f15",
   "metadata": {},
   "outputs": [
    {
     "data": {
      "text/plain": [
       "52000    2\n",
       "56000    1\n",
       "23000    1\n",
       "44000    1\n",
       "60000    1\n",
       "Name: Score, dtype: int64"
      ]
     },
     "execution_count": 91,
     "metadata": {},
     "output_type": "execute_result"
    }
   ],
   "source": [
    "df['Score'].value_counts()"
   ]
  },
  {
   "cell_type": "markdown",
   "id": "4e4b339d",
   "metadata": {},
   "source": [
    "#### 10) 기본 집계"
   ]
  },
  {
   "cell_type": "code",
   "execution_count": 7,
   "id": "87c31026-d2d5-407a-8fc7-761b01ce80f8",
   "metadata": {},
   "outputs": [
    {
     "name": "stdout",
     "output_type": "stream",
     "text": [
      "Score    52000.0\n",
      "Grade        3.0\n",
      "dtype: float64\n",
      "-------------------------\n",
      "Score    47833.333333\n",
      "Grade        2.833333\n",
      "dtype: float64\n",
      "-------------------------\n",
      "Score    23000\n",
      "Grade        1\n",
      "dtype: int64\n",
      "-------------------------\n",
      "Score    60000\n",
      "Grade        4\n",
      "dtype: int64\n",
      "-------------------------\n",
      "Score    287000\n",
      "Grade        17\n",
      "dtype: int64\n"
     ]
    }
   ],
   "source": [
    "print(df[['Score', 'Grade']].median())\n",
    "print('-'*25)\n",
    "print(df[['Score', 'Grade']].mean())\n",
    "print('-'*25)\n",
    "print(df[['Score', 'Grade']].min())\n",
    "print('-'*25)\n",
    "print(df[['Score', 'Grade']].max())\n",
    "print('-'*25)\n",
    "print(df[['Score', 'Grade']].sum())"
   ]
  },
  {
   "cell_type": "markdown",
   "id": "6ab7592a",
   "metadata": {},
   "source": [
    "#### 11) 2차원으로 특정 열 호출"
   ]
  },
  {
   "cell_type": "code",
   "execution_count": 93,
   "id": "363d6352-1d8a-483f-b878-5fab48317d68",
   "metadata": {
    "scrolled": true
   },
   "outputs": [
    {
     "data": {
      "text/html": [
       "<div>\n",
       "<style scoped>\n",
       "    .dataframe tbody tr th:only-of-type {\n",
       "        vertical-align: middle;\n",
       "    }\n",
       "\n",
       "    .dataframe tbody tr th {\n",
       "        vertical-align: top;\n",
       "    }\n",
       "\n",
       "    .dataframe thead th {\n",
       "        text-align: right;\n",
       "    }\n",
       "</style>\n",
       "<table border=\"1\" class=\"dataframe\">\n",
       "  <thead>\n",
       "    <tr style=\"text-align: right;\">\n",
       "      <th></th>\n",
       "      <th>Score</th>\n",
       "      <th>Grade</th>\n",
       "    </tr>\n",
       "  </thead>\n",
       "  <tbody>\n",
       "    <tr>\n",
       "      <th>0</th>\n",
       "      <td>56000</td>\n",
       "      <td>1</td>\n",
       "    </tr>\n",
       "    <tr>\n",
       "      <th>1</th>\n",
       "      <td>23000</td>\n",
       "      <td>3</td>\n",
       "    </tr>\n",
       "    <tr>\n",
       "      <th>2</th>\n",
       "      <td>44000</td>\n",
       "      <td>4</td>\n",
       "    </tr>\n",
       "    <tr>\n",
       "      <th>3</th>\n",
       "      <td>52000</td>\n",
       "      <td>2</td>\n",
       "    </tr>\n",
       "    <tr>\n",
       "      <th>4</th>\n",
       "      <td>52000</td>\n",
       "      <td>3</td>\n",
       "    </tr>\n",
       "    <tr>\n",
       "      <th>5</th>\n",
       "      <td>60000</td>\n",
       "      <td>4</td>\n",
       "    </tr>\n",
       "  </tbody>\n",
       "</table>\n",
       "</div>"
      ],
      "text/plain": [
       "   Score  Grade\n",
       "0  56000      1\n",
       "1  23000      3\n",
       "2  44000      4\n",
       "3  52000      2\n",
       "4  52000      3\n",
       "5  60000      4"
      ]
     },
     "execution_count": 93,
     "metadata": {},
     "output_type": "execute_result"
    }
   ],
   "source": [
    "df[['Score', 'Grade']]"
   ]
  },
  {
   "cell_type": "markdown",
   "id": "53852730",
   "metadata": {},
   "source": [
    "#### 12) 조회하기"
   ]
  },
  {
   "cell_type": "markdown",
   "id": "679193ee",
   "metadata": {},
   "source": [
    "- 여러 조건 조회"
   ]
  },
  {
   "cell_type": "code",
   "execution_count": 97,
   "id": "09f4b228-154f-455c-a5ea-37c8fa3ec7bb",
   "metadata": {},
   "outputs": [
    {
     "data": {
      "text/html": [
       "<div>\n",
       "<style scoped>\n",
       "    .dataframe tbody tr th:only-of-type {\n",
       "        vertical-align: middle;\n",
       "    }\n",
       "\n",
       "    .dataframe tbody tr th {\n",
       "        vertical-align: top;\n",
       "    }\n",
       "\n",
       "    .dataframe thead th {\n",
       "        text-align: right;\n",
       "    }\n",
       "</style>\n",
       "<table border=\"1\" class=\"dataframe\">\n",
       "  <thead>\n",
       "    <tr style=\"text-align: right;\">\n",
       "      <th></th>\n",
       "      <th>Name</th>\n",
       "      <th>Grade</th>\n",
       "      <th>Score</th>\n",
       "    </tr>\n",
       "  </thead>\n",
       "  <tbody>\n",
       "    <tr>\n",
       "      <th>5</th>\n",
       "      <td>Sen</td>\n",
       "      <td>4</td>\n",
       "      <td>60000</td>\n",
       "    </tr>\n",
       "  </tbody>\n",
       "</table>\n",
       "</div>"
      ],
      "text/plain": [
       "  Name  Grade  Score\n",
       "5  Sen      4  60000"
      ]
     },
     "execution_count": 97,
     "metadata": {},
     "output_type": "execute_result"
    }
   ],
   "source": [
    "df.loc[(df['Score']> 55000) & (df['Grade'] >2)]"
   ]
  },
  {
   "cell_type": "markdown",
   "id": "350f9e9d",
   "metadata": {},
   "source": [
    "- isin([a,b]) : a값 또는 b값 데이터만 조회"
   ]
  },
  {
   "cell_type": "code",
   "execution_count": 100,
   "id": "24dd3204-161a-48da-aa84-dcba3f6dc54f",
   "metadata": {},
   "outputs": [
    {
     "data": {
      "text/html": [
       "<div>\n",
       "<style scoped>\n",
       "    .dataframe tbody tr th:only-of-type {\n",
       "        vertical-align: middle;\n",
       "    }\n",
       "\n",
       "    .dataframe tbody tr th {\n",
       "        vertical-align: top;\n",
       "    }\n",
       "\n",
       "    .dataframe thead th {\n",
       "        text-align: right;\n",
       "    }\n",
       "</style>\n",
       "<table border=\"1\" class=\"dataframe\">\n",
       "  <thead>\n",
       "    <tr style=\"text-align: right;\">\n",
       "      <th></th>\n",
       "      <th>Name</th>\n",
       "      <th>Grade</th>\n",
       "      <th>Score</th>\n",
       "    </tr>\n",
       "  </thead>\n",
       "  <tbody>\n",
       "    <tr>\n",
       "      <th>0</th>\n",
       "      <td>Gildong</td>\n",
       "      <td>1</td>\n",
       "      <td>56000</td>\n",
       "    </tr>\n",
       "    <tr>\n",
       "      <th>3</th>\n",
       "      <td>Yeoin</td>\n",
       "      <td>2</td>\n",
       "      <td>52000</td>\n",
       "    </tr>\n",
       "  </tbody>\n",
       "</table>\n",
       "</div>"
      ],
      "text/plain": [
       "      Name  Grade  Score\n",
       "0  Gildong      1  56000\n",
       "3    Yeoin      2  52000"
      ]
     },
     "execution_count": 100,
     "metadata": {},
     "output_type": "execute_result"
    }
   ],
   "source": [
    "df.loc[df['Grade'].isin([1,2])]"
   ]
  },
  {
   "cell_type": "markdown",
   "id": "d3aff276",
   "metadata": {},
   "source": [
    "- between(a,b) : a값부터 b값까지 범위 안의 데이터 조회"
   ]
  },
  {
   "cell_type": "code",
   "execution_count": 102,
   "id": "3d3ce678-ebb9-4372-836e-b2b13e8fbff5",
   "metadata": {},
   "outputs": [
    {
     "data": {
      "text/html": [
       "<div>\n",
       "<style scoped>\n",
       "    .dataframe tbody tr th:only-of-type {\n",
       "        vertical-align: middle;\n",
       "    }\n",
       "\n",
       "    .dataframe tbody tr th {\n",
       "        vertical-align: top;\n",
       "    }\n",
       "\n",
       "    .dataframe thead th {\n",
       "        text-align: right;\n",
       "    }\n",
       "</style>\n",
       "<table border=\"1\" class=\"dataframe\">\n",
       "  <thead>\n",
       "    <tr style=\"text-align: right;\">\n",
       "      <th></th>\n",
       "      <th>Name</th>\n",
       "      <th>Grade</th>\n",
       "      <th>Score</th>\n",
       "    </tr>\n",
       "  </thead>\n",
       "  <tbody>\n",
       "    <tr>\n",
       "      <th>1</th>\n",
       "      <td>Sarang</td>\n",
       "      <td>3</td>\n",
       "      <td>23000</td>\n",
       "    </tr>\n",
       "    <tr>\n",
       "      <th>2</th>\n",
       "      <td>Jiemae</td>\n",
       "      <td>4</td>\n",
       "      <td>44000</td>\n",
       "    </tr>\n",
       "    <tr>\n",
       "      <th>3</th>\n",
       "      <td>Yeoin</td>\n",
       "      <td>2</td>\n",
       "      <td>52000</td>\n",
       "    </tr>\n",
       "    <tr>\n",
       "      <th>4</th>\n",
       "      <td>James</td>\n",
       "      <td>3</td>\n",
       "      <td>52000</td>\n",
       "    </tr>\n",
       "    <tr>\n",
       "      <th>5</th>\n",
       "      <td>Sen</td>\n",
       "      <td>4</td>\n",
       "      <td>60000</td>\n",
       "    </tr>\n",
       "  </tbody>\n",
       "</table>\n",
       "</div>"
      ],
      "text/plain": [
       "     Name  Grade  Score\n",
       "1  Sarang      3  23000\n",
       "2  Jiemae      4  44000\n",
       "3   Yeoin      2  52000\n",
       "4   James      3  52000\n",
       "5     Sen      4  60000"
      ]
     },
     "execution_count": 102,
     "metadata": {},
     "output_type": "execute_result"
    }
   ],
   "source": [
    "df.loc[df['Grade'].between(2,4)]"
   ]
  },
  {
   "cell_type": "code",
   "execution_count": 110,
   "id": "e93bc625-5838-432b-86ff-12b6a51e6c33",
   "metadata": {},
   "outputs": [
    {
     "data": {
      "text/html": [
       "<div>\n",
       "<style scoped>\n",
       "    .dataframe tbody tr th:only-of-type {\n",
       "        vertical-align: middle;\n",
       "    }\n",
       "\n",
       "    .dataframe tbody tr th {\n",
       "        vertical-align: top;\n",
       "    }\n",
       "\n",
       "    .dataframe thead th {\n",
       "        text-align: right;\n",
       "    }\n",
       "</style>\n",
       "<table border=\"1\" class=\"dataframe\">\n",
       "  <thead>\n",
       "    <tr style=\"text-align: right;\">\n",
       "      <th></th>\n",
       "      <th>Name</th>\n",
       "      <th>Score</th>\n",
       "    </tr>\n",
       "  </thead>\n",
       "  <tbody>\n",
       "    <tr>\n",
       "      <th>0</th>\n",
       "      <td>Gildong</td>\n",
       "      <td>56000</td>\n",
       "    </tr>\n",
       "    <tr>\n",
       "      <th>5</th>\n",
       "      <td>Sen</td>\n",
       "      <td>60000</td>\n",
       "    </tr>\n",
       "  </tbody>\n",
       "</table>\n",
       "</div>"
      ],
      "text/plain": [
       "      Name  Score\n",
       "0  Gildong  56000\n",
       "5      Sen  60000"
      ]
     },
     "execution_count": 110,
     "metadata": {},
     "output_type": "execute_result"
    }
   ],
   "source": [
    "df.loc[df['Score']>52000,['Name', 'Score']]"
   ]
  },
  {
   "cell_type": "markdown",
   "id": "e1fd65a2",
   "metadata": {},
   "source": [
    "## 그 외 함수들\n",
    "#### np.zero()\n",
    "- 0으로 채워진 배열 생성"
   ]
  },
  {
   "cell_type": "code",
   "execution_count": 12,
   "id": "f0fbc235",
   "metadata": {},
   "outputs": [
    {
     "data": {
      "text/plain": [
       "array([[0., 0., 0.],\n",
       "       [0., 0., 0.],\n",
       "       [0., 0., 0.]])"
      ]
     },
     "execution_count": 12,
     "metadata": {},
     "output_type": "execute_result"
    }
   ],
   "source": [
    "np.zeros((3,3))"
   ]
  },
  {
   "cell_type": "markdown",
   "id": "418680bf",
   "metadata": {},
   "source": [
    "#### np.ones()\n",
    "- 1로 채워진 배열"
   ]
  },
  {
   "cell_type": "code",
   "execution_count": 13,
   "id": "9e4c8c35",
   "metadata": {},
   "outputs": [
    {
     "data": {
      "text/plain": [
       "array([[1., 1.]])"
      ]
     },
     "execution_count": 13,
     "metadata": {},
     "output_type": "execute_result"
    }
   ],
   "source": [
    "np.ones((1,2))"
   ]
  },
  {
   "cell_type": "markdown",
   "id": "58b532d5",
   "metadata": {},
   "source": [
    "#### np.full()\n",
    "- 특정 값으로 채워진 배열"
   ]
  },
  {
   "cell_type": "code",
   "execution_count": 15,
   "id": "44f1dddd",
   "metadata": {},
   "outputs": [
    {
     "data": {
      "text/plain": [
       "array([[7., 7.],\n",
       "       [7., 7.]])"
      ]
     },
     "execution_count": 15,
     "metadata": {},
     "output_type": "execute_result"
    }
   ],
   "source": [
    "np.full((2,2), 7.)"
   ]
  },
  {
   "cell_type": "markdown",
   "id": "91461d1d",
   "metadata": {},
   "source": [
    "#### np.eye()\n",
    "- 정방향 행렬"
   ]
  },
  {
   "cell_type": "code",
   "execution_count": 16,
   "id": "14c3a1b5",
   "metadata": {},
   "outputs": [
    {
     "data": {
      "text/plain": [
       "array([[1., 0.],\n",
       "       [0., 1.]])"
      ]
     },
     "execution_count": 16,
     "metadata": {},
     "output_type": "execute_result"
    }
   ],
   "source": [
    "np.eye(2)"
   ]
  },
  {
   "cell_type": "markdown",
   "id": "169a4a53",
   "metadata": {},
   "source": [
    "#### np.random.random()\n",
    "- 랜덤 값으로 채운 배열"
   ]
  },
  {
   "cell_type": "code",
   "execution_count": 17,
   "id": "8f54117e",
   "metadata": {},
   "outputs": [
    {
     "data": {
      "text/plain": [
       "array([[0.53566952, 0.10234268],\n",
       "       [0.81023832, 0.33796221]])"
      ]
     },
     "execution_count": 17,
     "metadata": {},
     "output_type": "execute_result"
    }
   ],
   "source": [
    "np.random.random((2,2))"
   ]
  },
  {
   "cell_type": "code",
   "execution_count": null,
   "id": "7aa0cb70",
   "metadata": {},
   "outputs": [],
   "source": []
  }
 ],
 "metadata": {
  "kernelspec": {
   "display_name": "Python 3 (ipykernel)",
   "language": "python",
   "name": "python3"
  },
  "language_info": {
   "codemirror_mode": {
    "name": "ipython",
    "version": 3
   },
   "file_extension": ".py",
   "mimetype": "text/x-python",
   "name": "python",
   "nbconvert_exporter": "python",
   "pygments_lexer": "ipython3",
   "version": "3.9.13"
  }
 },
 "nbformat": 4,
 "nbformat_minor": 5
}
