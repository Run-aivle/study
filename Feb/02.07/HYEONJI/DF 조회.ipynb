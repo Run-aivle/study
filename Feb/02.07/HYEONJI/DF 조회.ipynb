{
 "cells": [
  {
   "cell_type": "code",
   "execution_count": 1,
   "id": "5a67fe0e-f022-4507-ae80-9a17a70b9821",
   "metadata": {},
   "outputs": [],
   "source": [
    "import pandas as pd"
   ]
  },
  {
   "cell_type": "markdown",
   "id": "1eceb58c-39ac-4aca-960f-49196354a22d",
   "metadata": {},
   "source": [
    "**시리즈와 데이터프레임**\n",
    "- 시리즈 : 1차원, 데이터프레임 : 2차원\n",
    "- 데이터프레임에서 열 하나를 띄어 내면 시리즈"
   ]
  },
  {
   "cell_type": "markdown",
   "id": "adffd3f3-94c0-4dde-90d9-8afd908b4b2a",
   "metadata": {},
   "source": [
    "**특정 열 조회**"
   ]
  },
  {
   "cell_type": "code",
   "execution_count": null,
   "id": "5d4c83ba-7f43-4205-91d8-156cebafc544",
   "metadata": {},
   "outputs": [],
   "source": [
    "# 시리즈 조회\n",
    "data['열 이름']\n",
    "data.열이름\n",
    "\n",
    "# 열 두개 조회 -> 데이터프레임으로 조회\n",
    "data[['열 이름', '열 이름']] # 대괄호 안에 리스트"
   ]
  },
  {
   "cell_type": "markdown",
   "id": "6df8c198-e84d-4242-b830-8bd62ed08a69",
   "metadata": {
    "tags": []
   },
   "source": [
    "**조건으로 조회**\n",
    "- df.loc[조건]\n",
    "- &, | 사용하기\n",
    "- 조건마다 괄호로 묶기\n",
    "- isin([a, b, c]) : a, b, c인 데이터만 조회 (리스트로 입력하기)\n",
    "- between(a, b) : a ~ b 까지의 데이터 조회"
   ]
  },
  {
   "cell_type": "code",
   "execution_count": null,
   "id": "bdfddb35-3c1a-46a2-9a71-14f031dfb00b",
   "metadata": {},
   "outputs": [],
   "source": [
    "# 단일 조건 조회\n",
    "data['열 이름'] > 10  # True, False\n",
    "\n",
    "# 열 값이 10보다 큰 행 조회\n",
    "data.loc[data['열 이름'] > 10]"
   ]
  },
  {
   "cell_type": "code",
   "execution_count": null,
   "id": "cc1cf00e-25ba-4a83-88aa-d9ff1e140f06",
   "metadata": {},
   "outputs": [],
   "source": [
    "# 여러 조건 조회\n",
    "data.loc[(data['열 이름'] > 10) & (data['열 이름'] == 7)]\n",
    "data.loc[(data['열 이름'] > 10) | (data['열 이름'] == 7)]"
   ]
  },
  {
   "cell_type": "code",
   "execution_count": null,
   "id": "51b7a518-06f4-44ba-afed-9977d892c190",
   "metadata": {},
   "outputs": [],
   "source": [
    "# 값 나열\n",
    "data.loc[data['열 이름'].isin([1,5])]"
   ]
  },
  {
   "cell_type": "code",
   "execution_count": null,
   "id": "2b9f285c-fd98-4a16-96bb-d71f73e40931",
   "metadata": {},
   "outputs": [],
   "source": [
    "# 범위 지정\n",
    "data.loc[data['열 이름'].between(10, 20)]\n",
    "data.loc[(data['열 이름'] >= 10) & (data['열 이름'] <= 20)]"
   ]
  },
  {
   "cell_type": "code",
   "execution_count": null,
   "id": "2daf3c51-67dd-43b4-a049-3c4012223e87",
   "metadata": {},
   "outputs": [],
   "source": [
    "# 조건에 맞는 하나의 열 조회\n",
    "data.loc[data['열 이름1'] >= 10, ['열 이름2']]\n",
    "\n",
    "# 조건에 맞는 여러 열 조회\n",
    "ata.loc[data['열 이름1'] >= 10, ['열 이름2', '열 이름3']]"
   ]
  },
  {
   "cell_type": "markdown",
   "id": "1c72b032-a37c-4b26-9b02-0115ef00d999",
   "metadata": {},
   "source": [
    "**집계**\n",
    "- as_index = True : 집계 기준이 되는 열이 인덱스 열이 된다\n",
    "- as_index = False : 행 번호를 기반으로 한 정수 값이 인덱스로 설정된다"
   ]
  },
  {
   "cell_type": "code",
   "execution_count": null,
   "id": "e5ec3994-b8bb-49d7-8826-4f0e95a6abcc",
   "metadata": {},
   "outputs": [],
   "source": [
    "# 합계\n",
    "data['열 이름'].sum()\n",
    "\n",
    "# 열 각각의 평균\n",
    "data[['열 이름', '열 이름']].mean()"
   ]
  },
  {
   "cell_type": "code",
   "execution_count": null,
   "id": "4e65640f-fc6d-42d0-b177-78e2cd846c9d",
   "metadata": {},
   "outputs": [],
   "source": [
    "# groupby()\n",
    "data.groupby('열 이름', as_index = True)['열 이름'].mean() # 시리즈로 출력\n",
    "data.groupby('열 이름', as_index = True)[['열 이름']].mean() # 데이터프레임 출력"
   ]
  },
  {
   "cell_type": "code",
   "execution_count": null,
   "id": "7cf304d6-c00e-4ee7-b3c0-16e5efb9f96f",
   "metadata": {},
   "outputs": [],
   "source": [
    "# 여러 함수 한꺼번에 집계 .agg\n",
    "data.groupby('열 이름', as_index = False)[['열 이름']].agg(['max'm 'min', 'mean'])"
   ]
  }
 ],
 "metadata": {
  "kernelspec": {
   "display_name": "Python 3 (ipykernel)",
   "language": "python",
   "name": "python3"
  },
  "language_info": {
   "codemirror_mode": {
    "name": "ipython",
    "version": 3
   },
   "file_extension": ".py",
   "mimetype": "text/x-python",
   "name": "python",
   "nbconvert_exporter": "python",
   "pygments_lexer": "ipython3",
   "version": "3.9.16"
  }
 },
 "nbformat": 4,
 "nbformat_minor": 5
}
