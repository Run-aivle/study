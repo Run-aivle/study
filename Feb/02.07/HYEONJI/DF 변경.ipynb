{
 "cells": [
  {
   "cell_type": "markdown",
   "id": "406858b3-7983-496a-80e5-59a4d1b35180",
   "metadata": {
    "tags": []
   },
   "source": [
    "**열 이름 변경**\n",
    "- rename() 메소드를 사용해 변경 전 후의 열 이름을 딕셔너리 형태로 나열하는 방법\n",
    "- columns : 모든 열 이름 변경\n",
    "- inplace = True : 실제 변경사항 반영\n",
    "- inplace = False : 보여주기식(조회)"
   ]
  },
  {
   "cell_type": "code",
   "execution_count": null,
   "id": "252135c4-c11d-4d3a-b370-2f332af35f63",
   "metadata": {},
   "outputs": [],
   "source": [
    "# rename()\n",
    "data.rename(columns = {'변경 전 열 이름' : '변경 후 열 이름',\n",
    "                      '변경 전 열 이름' : '변경 후 열 이름',\n",
    "                      '변경 전 열 이름' : '변경 후 열 이름'}, inplace = True)\n",
    "# columns\n",
    "data.columns = ['열 이름', '열 이름', '열 이름']"
   ]
  },
  {
   "cell_type": "markdown",
   "id": "709b5ede-f305-47b9-bbcd-b6d88f1cf166",
   "metadata": {},
   "source": [
    "**열 추가**\n",
    "- 기존 데이터에서 계산된 결괏값을 새로운 열로 추가\n",
    "- insert() 를 사용하면 원하는 위치에서 열 추가 가능"
   ]
  },
  {
   "cell_type": "code",
   "execution_count": null,
   "id": "5f83c81f-3cdb-4377-a1db-904c68b0d724",
   "metadata": {},
   "outputs": [],
   "source": [
    "# a 라는 열 추가\n",
    "data['a'] = # 기존 데이터를 계산해 a 열에 추가"
   ]
  },
  {
   "cell_type": "markdown",
   "id": "eb573253-5ab1-47e0-85e8-ff680447d1fb",
   "metadata": {},
   "source": [
    "**열 삭제**\n",
    "- drop() : 열 삭제\n",
    "- axis = 0 : 행 삭제(기본값)\n",
    "- axis = 1 : 열 삭제"
   ]
  },
  {
   "cell_type": "code",
   "execution_count": null,
   "id": "18bedd39-b9a3-45b3-80f4-774f1729594f",
   "metadata": {},
   "outputs": [],
   "source": [
    "# 열 하나 삭제\n",
    "data.drop('열 이름', axis = 1, inplace = True)\n",
    "\n",
    "# 열 두개 삭제\n",
    "data.drop(['열 이름', '열 이름'], axis = 1, inplace = True)"
   ]
  },
  {
   "cell_type": "markdown",
   "id": "b65107f6-f0cf-46e7-bfc2-440bfdb7e08d",
   "metadata": {},
   "source": [
    "**값 변경**"
   ]
  },
  {
   "cell_type": "code",
   "execution_count": null,
   "id": "604d7dff-6c3a-4911-86a0-09490da477c0",
   "metadata": {},
   "outputs": [],
   "source": [
    "# 열 전체 값 변경\n",
    "data['열 이름'] = 0 # 변경 할 값\n",
    "\n",
    "# 조건에 의한 값 변경\n",
    "data.loc[data['열 이름'] > 10, '열이름'] = 0 # 변경 할 값\n",
    "data = np.where(data['열 이름'] > 10, 1, 0) "
   ]
  },
  {
   "cell_type": "markdown",
   "id": "c63dd397-d5e7-41b7-844e-d0c17c00d265",
   "metadata": {
    "tags": []
   },
   "source": [
    "**map()**\n",
    "- 범주형 값을 다른 값으로 변경\n",
    "\n",
    "**cut()**\n",
    "- pd.cut() : 숫자형 변수를 범주형 변수로 변환\n",
    "    ex) 나이 -> 나이대, 고객 구매액 -> 고객 등급"
   ]
  },
  {
   "cell_type": "code",
   "execution_count": null,
   "id": "8cfa30b0-1fe4-4693-bdd8-d79994eb9e52",
   "metadata": {},
   "outputs": [],
   "source": [
    "# map()\n",
    "# a열의 b, c를 1, 0으로 변경\n",
    "data['a'] = data['a'].map({b : 1, c : 0})\n",
    "\n",
    "# cut()\n",
    "# 3등분으로 분할, 범위를 분할한 것이지 개수가 균등하게 나뉜건 아님\n",
    "pd.cut(data['열 이름'], 3)\n",
    "\n",
    "# 분할 범위에 이름 붙이기\n",
    "pd.cut(data['열 이름'], 3, labels = ['a', 'b', 'c'])\n",
    "\n",
    "# 내가 원하는 구간으로 자르기 bins = []\n",
    "# < 10, 10 <=  < 30, < 50\n",
    "pd.cut(data['열 이름'], bins = [0, 10, 30, 50], labels = ['a', 'b', 'c'])"
   ]
  }
 ],
 "metadata": {
  "kernelspec": {
   "display_name": "Python 3 (ipykernel)",
   "language": "python",
   "name": "python3"
  },
  "language_info": {
   "codemirror_mode": {
    "name": "ipython",
    "version": 3
   },
   "file_extension": ".py",
   "mimetype": "text/x-python",
   "name": "python",
   "nbconvert_exporter": "python",
   "pygments_lexer": "ipython3",
   "version": "3.9.16"
  }
 },
 "nbformat": 4,
 "nbformat_minor": 5
}
