{
 "cells": [
  {
   "cell_type": "markdown",
   "id": "571ca92d",
   "metadata": {},
   "source": [
    "# 데이터 처리\n"
   ]
  },
  {
   "cell_type": "markdown",
   "id": "03392da2",
   "metadata": {},
   "source": [
    "## 데이터 전처리\n",
    "1. 데이터 구조 만들기 데이터 분석(데이터셋 만들기)  \n",
    "2. 모델링을 위한 전처리 ML, DL 모델링(모델링 가능한 데이터셋)"
   ]
  },
  {
   "cell_type": "markdown",
   "id": "1bca31a2",
   "metadata": {},
   "source": [
    "## 데이터프레임 변경"
   ]
  },
  {
   "cell_type": "markdown",
   "id": "9458448b",
   "metadata": {},
   "source": [
    "### 열 변경\n",
    "열 이름(컬럼)을 변경하는 방법은 columns 속성 변경과 rename() 메소드를 사용하여 변경하는 방법으로 나눌 수 있다"
   ]
  },
  {
   "cell_type": "markdown",
   "id": "c99b7782",
   "metadata": {},
   "source": [
    "#### columns 속성 변경 : 모든 열 이름 변경\n",
    "* df.columns = ['변경한 컬럼명', '변경한 컬럼명', '변경한 컬럼명' ...]"
   ]
  },
  {
   "cell_type": "markdown",
   "id": "0da91a0d",
   "metadata": {},
   "source": [
    "#### reaname() 메소드 사용 : 지정한 열 이름 변경\n",
    "* df.rename(columns = {'변경 전 컬럼명 : 변경 후 컬럼명', '변경 전 컬럼명 : 변경 후 컬럼명', ...}, inplace = True)  \n",
    "  \n",
    "※ inplace = True를 하면 변경 사항을 반영한다는 의미, inplace = False는 변경 사항을 반영하지 않고 조회만 하는 의미"
   ]
  },
  {
   "cell_type": "markdown",
   "id": "4fc2da2e",
   "metadata": {},
   "source": [
    "### 열 추가\n",
    "열을 추가할 때 맨 뒷열에 추가하는 방법과 원하는 위치에 열을 추가할 수 있는 방법으로 나눌 수 있다."
   ]
  },
  {
   "cell_type": "markdown",
   "id": "26c24e3a",
   "metadata": {},
   "source": [
    "#### 맨 뒷열에 추가 : final_amt\n",
    "* 맨 뒷열에 추가되며 원하는 위치에 추가할 수 없다.  \n",
    "ex) A = 추가 할 컬럼명이라고 가정, df['time'] + df['day']의 값이 A라고 가정     \n",
    "> df['A'] = df['time'] + df['day']"
   ]
  },
  {
   "cell_type": "markdown",
   "id": "e01f3af6",
   "metadata": {},
   "source": [
    "#### 지정한 위치에 열 추가 : insert() 메소드 사용\n",
    "* insert() 메소드를 사용하면 원하는 위치에 열을 추가할 수 있음  \n",
    "ex) name 열 앞에 A 열 추가 : A = 추가 할 컬럼명이라고 가정, df['time'] / df['day']의 값이 A라고 가정  \n",
    "> df.insert(1, 'A', df['time'] / df['day'])"
   ]
  },
  {
   "cell_type": "markdown",
   "id": "b11b9196",
   "metadata": {},
   "source": [
    "### 값 변경\n",
    "* 열 전체 값 변견\n",
    "    * df['A'] 의 모든 값을 0으로 변경하기  \n",
    "    > df['A'] = 0\n",
    "* 조건에 의한 값 변경1\n",
    "    * df['A']의 값이 10보다 작을 경우 0으로 변경하기  \n",
    "    > df.loc[df['A'] < 10, 'A'] = 0\n",
    "* 조건에 의한 값 변경2\n",
    "    * df['A']의 값이 10보다 작을 경우0 아니면 1로 변경하기\n",
    "    > df['A'] = np.where(df['A'] < 10, 0, 1)\n",
    "    .‣ 삼항연산자와 비슷한 느낌  \n",
    "* .map()\n",
    "    * 범주형 값을 다른 값으로 변경할 때 사용\n",
    "    * ex) df['sex']의 값이 Male과 Female이 있을 경우 Male은 1로 Female은 0으로 변경\n",
    "    > df['sex'] = df['sex'].map({'Male' = 1, 'Female' = 0})  \n",
    "* pd.cut()\n",
    "    * 숫자형 변수를 범주형 변수로 변환할 수 있다. ex) 나이를 나이대로, 고객 구매액을 고객 등급으로\n",
    "    * 값 크기를 기준으로 지정한 개수의 범위로 나누어 범주 값 지정\n",
    "    * pd.cut(숫자형 변수, 분할방식(구간), 범주값)의 형식이다.\n",
    "    * ex) 데이터프레임 A컬럼의 값을 (0, 10], (10, 20], (20, 30]의 구간으로 나누고 각 구간에 맞게 low, normal, high로 변경  \n",
    "    ※ 이 때 (0, 10]은 (는 < ]는 <=를 뜻함 따라서 0초과 10이하로 해석 가능\n",
    "    > pd.cut(df['A'], bins = [0, 10, 20, 30], labels = ['low', 'normal', 'high'])"
   ]
  },
  {
   "attachments": {},
   "cell_type": "markdown",
   "id": "c0491b92",
   "metadata": {},
   "source": [
    "## 데이터프레임 결합"
   ]
  },
  {
   "cell_type": "code",
   "execution_count": null,
   "id": "10cc35ec",
   "metadata": {},
   "outputs": [],
   "source": []
  }
 ],
 "metadata": {
  "kernelspec": {
   "display_name": "Python 3 (ipykernel)",
   "language": "python",
   "name": "python3"
  },
  "language_info": {
   "codemirror_mode": {
    "name": "ipython",
    "version": 3
   },
   "file_extension": ".py",
   "mimetype": "text/x-python",
   "name": "python",
   "nbconvert_exporter": "python",
   "pygments_lexer": "ipython3",
   "version": "3.9.13"
  }
 },
 "nbformat": 4,
 "nbformat_minor": 5
}
