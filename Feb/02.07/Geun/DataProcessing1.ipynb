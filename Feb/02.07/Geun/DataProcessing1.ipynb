{
 "cells": [
  {
   "cell_type": "markdown",
   "id": "c333fd39",
   "metadata": {},
   "source": [
    "# 데이터 처리\n"
   ]
  },
  {
   "cell_type": "markdown",
   "id": "2a466247",
   "metadata": {},
   "source": [
    "## 데이터 전처리\n",
    "1. 데이터 구조 만들기 데이터 분석(데이터셋 만들기)  \n",
    "2. 모델링을 위한 전처리 ML, DL 모델링(모델링 가능한 데이터셋)"
   ]
  },
  {
   "cell_type": "markdown",
   "id": "f7ed545d",
   "metadata": {},
   "source": [
    "## 데이터프레임 변경"
   ]
  },
  {
   "cell_type": "markdown",
   "id": "5b452a09",
   "metadata": {},
   "source": [
    "### 열 변경\n",
    "열 이름(칼럼)을 변경하는 방법은 columns 속성 변경과 rename() 메소드를 사용하여 변경하는 방법으로 나눌 수 있다"
   ]
  },
  {
   "cell_type": "markdown",
   "id": "ae9656c5",
   "metadata": {},
   "source": [
    "#### columns 속성 변경 : 모든 열 이름 변경\n",
    "* df.columns = ['변경한 칼럼명', '변경한 칼럼명', '변경한 칼럼명' ...]"
   ]
  },
  {
   "cell_type": "markdown",
   "id": "6a8ad1d5",
   "metadata": {},
   "source": [
    "#### reaname() 메소드 사용 : 지정한 열 이름 변경\n",
    "* df.rename(columns = {'변경 전 칼럼명 : 변경 후 칼럼명', '변경 전 칼럼명 : 변경 후 칼럼명', ...}, inplace = True)  \n",
    "  \n",
    "※ inplace = True를 하면 변경 사항을 반영한다는 의미, inplace = False는 변경 사항을 반영하지 않고 조회만 하는 의미"
   ]
  },
  {
   "cell_type": "markdown",
   "id": "2b639586",
   "metadata": {},
   "source": [
    "### 열 추가\n",
    "열을 추가할 때 맨 뒷열에 추가하는 방법과 원하는 위치에 열을 추가할 수 있는 방법으로 나눌 수 있다."
   ]
  },
  {
   "cell_type": "markdown",
   "id": "542f786f",
   "metadata": {},
   "source": [
    "#### 맨 뒷열에 추가 : final_amt\n",
    "* 맨 뒷열에 추가되며 원하는 위치에 추가할 수 없다.  \n",
    "ex) A = 추가 할 칼럼명이라고 가정, df['time'] + df['day']의 값이 A라고 가정     \n",
    "> df['A'] = df['time'] + df['day']"
   ]
  },
  {
   "cell_type": "markdown",
   "id": "f2ab83b6",
   "metadata": {},
   "source": [
    "#### 지정한 위치에 열 추가 : insert() 메소드 사용\n",
    "* insert() 메소드를 사용하면 원하는 위치에 열을 추가할 수 있음  \n",
    "ex) name 열 앞에 A 열 추가 : A = 추가 할 칼럼명이라고 가정, df['time'] / df['day']의 값이 A라고 가정  \n",
    "> df.insert(1, 'A', df['time'] / df['day'])"
   ]
  },
  {
   "cell_type": "markdown",
   "id": "f2e919e7",
   "metadata": {},
   "source": [
    "### 값 변경\n",
    "* 열 전체 값 변견\n",
    "    * df['A'] 의 모든 값을 0으로 변경하기  \n",
    "    > df['A'] = 0\n",
    "* 조건에 의한 값 변경1\n",
    "    * df['A']의 값이 10보다 작을 경우 0으로 변경하기  \n",
    "    > df.loc[df['A'] < 10, 'A'] = 0\n",
    "* 조건에 의한 값 변경2\n",
    "    * df['A']의 값이 10보다 작을 경우0 아니면 1로 변경하기\n",
    "    > df['A'] = np.where(df['A'] < 10, 0, 1)\n",
    "    .‣ 삼항연산자와 비슷한 느낌  \n",
    "* .map()\n",
    "    * 범주형 값을 다른 값으로 변경할 때 사용\n",
    "    * ex) df['sex']의 값이 Male과 Female이 있을 경우 Male은 1로 Female은 0으로 변경\n",
    "    > df['sex'] = df['sex'].map({'Male' = 1, 'Female' = 0})  \n",
    "* pd.cut()\n",
    "    * 숫자형 변수를 범주형 변수로 변환할 수 있다. ex) 나이를 나이대로, 고객 구매액을 고객 등급으로\n",
    "    * 값 크기를 기준으로 지정한 개수의 범위로 나누어 범주 값 지정\n",
    "    * pd.cut(숫자형 변수, 분할방식(구간), 범주값)의 형식이다.\n",
    "    * ex) 데이터프레임 A칼럼의 값을 (0, 10], (10, 20], (20, 30]의 구간으로 나누고 각 구간에 맞게 low, normal, high로 변경  \n",
    "    ※ 이 때 (0, 10]은 (는 < ]는 <=를 뜻함 따라서 0초과 10이하로 해석 가능\n",
    "    > pd.cut(df['A'], bins = [0, 10, 20, 30], labels = ['low', 'normal', 'high'])"
   ]
  },
  {
   "cell_type": "markdown",
   "id": "70a4bbc2",
   "metadata": {},
   "source": [
    "## 데이터프레임 결합"
   ]
  },
  {
   "cell_type": "markdown",
   "id": "3fcab71b",
   "metadata": {},
   "source": [
    "### 데이터 프레임을 결합하는 두가지 방법"
   ]
  },
  {
   "cell_type": "markdown",
   "id": "9c955f53",
   "metadata": {},
   "source": [
    "#### pd.concat()\n",
    "* **매핑 기준 : 인덱스(행), 칼럼 이름(열)**\n",
    "* 방향 선택\n",
    "    * axis = 0 : 가로(행)로 합치기 (기본값)\n",
    "    * axis = 1 : 세로(열)로 합치기\n",
    "* 결합 방법\n",
    "    * join = 'outer' : 모든 행과 열을 합침 (기본값) -> 매핑되지 않는 값은 결측치(NaN) 처리해준다.\n",
    "    * join = 'inner' : 매핑되는 행과 열만 합침"
   ]
  },
  {
   "cell_type": "code",
   "execution_count": 6,
   "id": "4a692574",
   "metadata": {},
   "outputs": [
    {
     "data": {
      "text/html": [
       "<div>\n",
       "<style scoped>\n",
       "    .dataframe tbody tr th:only-of-type {\n",
       "        vertical-align: middle;\n",
       "    }\n",
       "\n",
       "    .dataframe tbody tr th {\n",
       "        vertical-align: top;\n",
       "    }\n",
       "\n",
       "    .dataframe thead th {\n",
       "        text-align: right;\n",
       "    }\n",
       "</style>\n",
       "<table border=\"1\" class=\"dataframe\">\n",
       "  <thead>\n",
       "    <tr style=\"text-align: right;\">\n",
       "      <th></th>\n",
       "      <th>A</th>\n",
       "      <th>B</th>\n",
       "    </tr>\n",
       "  </thead>\n",
       "  <tbody>\n",
       "    <tr>\n",
       "      <th>0</th>\n",
       "      <td>12</td>\n",
       "      <td>27</td>\n",
       "    </tr>\n",
       "    <tr>\n",
       "      <th>1</th>\n",
       "      <td>45</td>\n",
       "      <td>10</td>\n",
       "    </tr>\n",
       "  </tbody>\n",
       "</table>\n",
       "</div>"
      ],
      "text/plain": [
       "    A   B\n",
       "0  12  27\n",
       "1  45  10"
      ]
     },
     "metadata": {},
     "output_type": "display_data"
    },
    {
     "data": {
      "text/html": [
       "<div>\n",
       "<style scoped>\n",
       "    .dataframe tbody tr th:only-of-type {\n",
       "        vertical-align: middle;\n",
       "    }\n",
       "\n",
       "    .dataframe tbody tr th {\n",
       "        vertical-align: top;\n",
       "    }\n",
       "\n",
       "    .dataframe thead th {\n",
       "        text-align: right;\n",
       "    }\n",
       "</style>\n",
       "<table border=\"1\" class=\"dataframe\">\n",
       "  <thead>\n",
       "    <tr style=\"text-align: right;\">\n",
       "      <th></th>\n",
       "      <th>A</th>\n",
       "      <th>C</th>\n",
       "    </tr>\n",
       "  </thead>\n",
       "  <tbody>\n",
       "    <tr>\n",
       "      <th>0</th>\n",
       "      <td>50</td>\n",
       "      <td>65</td>\n",
       "    </tr>\n",
       "    <tr>\n",
       "      <th>1</th>\n",
       "      <td>23</td>\n",
       "      <td>33</td>\n",
       "    </tr>\n",
       "  </tbody>\n",
       "</table>\n",
       "</div>"
      ],
      "text/plain": [
       "    A   C\n",
       "0  50  65\n",
       "1  23  33"
      ]
     },
     "metadata": {},
     "output_type": "display_data"
    }
   ],
   "source": [
    "import pandas as pd\n",
    "df1 = pd.DataFrame({'A':[12,45], 'B':[27,10]})\n",
    "df2 = pd.DataFrame({'A':[50,23], 'C':[65,33]})\n",
    "display(df1)\n",
    "display(df2)"
   ]
  },
  {
   "cell_type": "code",
   "execution_count": 9,
   "id": "32d985cc",
   "metadata": {},
   "outputs": [
    {
     "data": {
      "text/html": [
       "<div>\n",
       "<style scoped>\n",
       "    .dataframe tbody tr th:only-of-type {\n",
       "        vertical-align: middle;\n",
       "    }\n",
       "\n",
       "    .dataframe tbody tr th {\n",
       "        vertical-align: top;\n",
       "    }\n",
       "\n",
       "    .dataframe thead th {\n",
       "        text-align: right;\n",
       "    }\n",
       "</style>\n",
       "<table border=\"1\" class=\"dataframe\">\n",
       "  <thead>\n",
       "    <tr style=\"text-align: right;\">\n",
       "      <th></th>\n",
       "      <th>A</th>\n",
       "      <th>B</th>\n",
       "      <th>C</th>\n",
       "    </tr>\n",
       "  </thead>\n",
       "  <tbody>\n",
       "    <tr>\n",
       "      <th>0</th>\n",
       "      <td>12</td>\n",
       "      <td>27.0</td>\n",
       "      <td>NaN</td>\n",
       "    </tr>\n",
       "    <tr>\n",
       "      <th>1</th>\n",
       "      <td>45</td>\n",
       "      <td>10.0</td>\n",
       "      <td>NaN</td>\n",
       "    </tr>\n",
       "    <tr>\n",
       "      <th>0</th>\n",
       "      <td>50</td>\n",
       "      <td>NaN</td>\n",
       "      <td>65.0</td>\n",
       "    </tr>\n",
       "    <tr>\n",
       "      <th>1</th>\n",
       "      <td>23</td>\n",
       "      <td>NaN</td>\n",
       "      <td>33.0</td>\n",
       "    </tr>\n",
       "  </tbody>\n",
       "</table>\n",
       "</div>"
      ],
      "text/plain": [
       "    A     B     C\n",
       "0  12  27.0   NaN\n",
       "1  45  10.0   NaN\n",
       "0  50   NaN  65.0\n",
       "1  23   NaN  33.0"
      ]
     },
     "execution_count": 9,
     "metadata": {},
     "output_type": "execute_result"
    }
   ],
   "source": [
    "# axis = 0, join = 'outer' -> 세로(행)방향으로 모든 행과 열을 합침\n",
    "pd.concat([df1, df2], axis=0, join = 'outer')"
   ]
  },
  {
   "cell_type": "code",
   "execution_count": 10,
   "id": "84776aa8",
   "metadata": {},
   "outputs": [
    {
     "data": {
      "text/html": [
       "<div>\n",
       "<style scoped>\n",
       "    .dataframe tbody tr th:only-of-type {\n",
       "        vertical-align: middle;\n",
       "    }\n",
       "\n",
       "    .dataframe tbody tr th {\n",
       "        vertical-align: top;\n",
       "    }\n",
       "\n",
       "    .dataframe thead th {\n",
       "        text-align: right;\n",
       "    }\n",
       "</style>\n",
       "<table border=\"1\" class=\"dataframe\">\n",
       "  <thead>\n",
       "    <tr style=\"text-align: right;\">\n",
       "      <th></th>\n",
       "      <th>A</th>\n",
       "      <th>B</th>\n",
       "      <th>A</th>\n",
       "      <th>C</th>\n",
       "    </tr>\n",
       "  </thead>\n",
       "  <tbody>\n",
       "    <tr>\n",
       "      <th>0</th>\n",
       "      <td>12</td>\n",
       "      <td>27</td>\n",
       "      <td>50</td>\n",
       "      <td>65</td>\n",
       "    </tr>\n",
       "    <tr>\n",
       "      <th>1</th>\n",
       "      <td>45</td>\n",
       "      <td>10</td>\n",
       "      <td>23</td>\n",
       "      <td>33</td>\n",
       "    </tr>\n",
       "  </tbody>\n",
       "</table>\n",
       "</div>"
      ],
      "text/plain": [
       "    A   B   A   C\n",
       "0  12  27  50  65\n",
       "1  45  10  23  33"
      ]
     },
     "execution_count": 10,
     "metadata": {},
     "output_type": "execute_result"
    }
   ],
   "source": [
    "# axis = 1, join = 'inner' -> 가로(열)방향으로 매핑되는 행과 열만 합침\n",
    "pd.concat([df1, df2], axis=1, join = 'inner')"
   ]
  },
  {
   "cell_type": "markdown",
   "id": "188928dc",
   "metadata": {},
   "source": [
    "#### merge()\n",
    "* **매핑 기준 : 특정 칼럼(key)의 값 기준으로 결합**\n",
    "* 데이터베이스 테이블 조인과 같은 기능을 함\n",
    "* 결합 방향 : concat()과 다르게 결합 방향은 가로방향으로 정해져 있다.\n",
    "* 결합 방법 : merge() 함수를 사용하여 두 데이터프레임을 지정한 키 값을 기준으로 join 할 수 있다. + on = '칼럼명'을 사용하여 병합 기준을 정할 수 있다.\n",
    "    * merge(df1, df2)를 사용하여 병합을 진행할 때 병합의 기준이 되는 열과 행의 데이터를 키(key)라고 한다.\n",
    "    * inner (기본값) : 공통되는 칼럼(열)을 기준으로 병합을 진행하며 두 데이터프레임에 모두 키가 존재하는 데이터만 병합\n",
    "    * outer : 키 값이 한쪽에만 있어도 해당 데이터를 병합\n",
    "    * left : merge(df1, df2)기준 왼쪽 즉 df1의 키 값을 모두 보여줌 \n",
    "    * right : merge(df1, df2)기준 오른쪽 즉 df2의 키 값을 모두 보여줌"
   ]
  },
  {
   "cell_type": "code",
   "execution_count": 14,
   "id": "425af576",
   "metadata": {},
   "outputs": [
    {
     "data": {
      "text/html": [
       "<div>\n",
       "<style scoped>\n",
       "    .dataframe tbody tr th:only-of-type {\n",
       "        vertical-align: middle;\n",
       "    }\n",
       "\n",
       "    .dataframe tbody tr th {\n",
       "        vertical-align: top;\n",
       "    }\n",
       "\n",
       "    .dataframe thead th {\n",
       "        text-align: right;\n",
       "    }\n",
       "</style>\n",
       "<table border=\"1\" class=\"dataframe\">\n",
       "  <thead>\n",
       "    <tr style=\"text-align: right;\">\n",
       "      <th></th>\n",
       "      <th>A</th>\n",
       "      <th>B</th>\n",
       "    </tr>\n",
       "  </thead>\n",
       "  <tbody>\n",
       "    <tr>\n",
       "      <th>0</th>\n",
       "      <td>12</td>\n",
       "      <td>27</td>\n",
       "    </tr>\n",
       "    <tr>\n",
       "      <th>1</th>\n",
       "      <td>45</td>\n",
       "      <td>10</td>\n",
       "    </tr>\n",
       "  </tbody>\n",
       "</table>\n",
       "</div>"
      ],
      "text/plain": [
       "    A   B\n",
       "0  12  27\n",
       "1  45  10"
      ]
     },
     "metadata": {},
     "output_type": "display_data"
    },
    {
     "data": {
      "text/html": [
       "<div>\n",
       "<style scoped>\n",
       "    .dataframe tbody tr th:only-of-type {\n",
       "        vertical-align: middle;\n",
       "    }\n",
       "\n",
       "    .dataframe tbody tr th {\n",
       "        vertical-align: top;\n",
       "    }\n",
       "\n",
       "    .dataframe thead th {\n",
       "        text-align: right;\n",
       "    }\n",
       "</style>\n",
       "<table border=\"1\" class=\"dataframe\">\n",
       "  <thead>\n",
       "    <tr style=\"text-align: right;\">\n",
       "      <th></th>\n",
       "      <th>A</th>\n",
       "      <th>C</th>\n",
       "    </tr>\n",
       "  </thead>\n",
       "  <tbody>\n",
       "    <tr>\n",
       "      <th>0</th>\n",
       "      <td>50</td>\n",
       "      <td>65</td>\n",
       "    </tr>\n",
       "    <tr>\n",
       "      <th>1</th>\n",
       "      <td>45</td>\n",
       "      <td>33</td>\n",
       "    </tr>\n",
       "  </tbody>\n",
       "</table>\n",
       "</div>"
      ],
      "text/plain": [
       "    A   C\n",
       "0  50  65\n",
       "1  45  33"
      ]
     },
     "metadata": {},
     "output_type": "display_data"
    }
   ],
   "source": [
    "df1 = pd.DataFrame({'A':[12,45], 'B':[27,10]})\n",
    "df2 = pd.DataFrame({'A':[50,45], 'C':[65,33]})\n",
    "display(df1)\n",
    "display(df2)"
   ]
  },
  {
   "cell_type": "code",
   "execution_count": 15,
   "id": "e9c7efbf",
   "metadata": {},
   "outputs": [
    {
     "data": {
      "text/html": [
       "<div>\n",
       "<style scoped>\n",
       "    .dataframe tbody tr th:only-of-type {\n",
       "        vertical-align: middle;\n",
       "    }\n",
       "\n",
       "    .dataframe tbody tr th {\n",
       "        vertical-align: top;\n",
       "    }\n",
       "\n",
       "    .dataframe thead th {\n",
       "        text-align: right;\n",
       "    }\n",
       "</style>\n",
       "<table border=\"1\" class=\"dataframe\">\n",
       "  <thead>\n",
       "    <tr style=\"text-align: right;\">\n",
       "      <th></th>\n",
       "      <th>A</th>\n",
       "      <th>B</th>\n",
       "      <th>C</th>\n",
       "    </tr>\n",
       "  </thead>\n",
       "  <tbody>\n",
       "    <tr>\n",
       "      <th>0</th>\n",
       "      <td>45</td>\n",
       "      <td>10</td>\n",
       "      <td>33</td>\n",
       "    </tr>\n",
       "  </tbody>\n",
       "</table>\n",
       "</div>"
      ],
      "text/plain": [
       "    A   B   C\n",
       "0  45  10  33"
      ]
     },
     "execution_count": 15,
     "metadata": {},
     "output_type": "execute_result"
    }
   ],
   "source": [
    "# inner merge\n",
    "pd.merge(df1, df2, how = 'inner', on = 'A')"
   ]
  },
  {
   "cell_type": "code",
   "execution_count": 20,
   "id": "9e152373",
   "metadata": {},
   "outputs": [
    {
     "data": {
      "text/html": [
       "<div>\n",
       "<style scoped>\n",
       "    .dataframe tbody tr th:only-of-type {\n",
       "        vertical-align: middle;\n",
       "    }\n",
       "\n",
       "    .dataframe tbody tr th {\n",
       "        vertical-align: top;\n",
       "    }\n",
       "\n",
       "    .dataframe thead th {\n",
       "        text-align: right;\n",
       "    }\n",
       "</style>\n",
       "<table border=\"1\" class=\"dataframe\">\n",
       "  <thead>\n",
       "    <tr style=\"text-align: right;\">\n",
       "      <th></th>\n",
       "      <th>A</th>\n",
       "      <th>B</th>\n",
       "      <th>C</th>\n",
       "    </tr>\n",
       "  </thead>\n",
       "  <tbody>\n",
       "    <tr>\n",
       "      <th>0</th>\n",
       "      <td>45</td>\n",
       "      <td>10</td>\n",
       "      <td>33</td>\n",
       "    </tr>\n",
       "  </tbody>\n",
       "</table>\n",
       "</div>"
      ],
      "text/plain": [
       "    A   B   C\n",
       "0  45  10  33"
      ]
     },
     "execution_count": 20,
     "metadata": {},
     "output_type": "execute_result"
    }
   ],
   "source": [
    "# inner merge -> on생략\n",
    "pd.merge(df1, df2, how = 'inner')"
   ]
  },
  {
   "cell_type": "code",
   "execution_count": 21,
   "id": "e0b7676c",
   "metadata": {},
   "outputs": [
    {
     "data": {
      "text/html": [
       "<div>\n",
       "<style scoped>\n",
       "    .dataframe tbody tr th:only-of-type {\n",
       "        vertical-align: middle;\n",
       "    }\n",
       "\n",
       "    .dataframe tbody tr th {\n",
       "        vertical-align: top;\n",
       "    }\n",
       "\n",
       "    .dataframe thead th {\n",
       "        text-align: right;\n",
       "    }\n",
       "</style>\n",
       "<table border=\"1\" class=\"dataframe\">\n",
       "  <thead>\n",
       "    <tr style=\"text-align: right;\">\n",
       "      <th></th>\n",
       "      <th>A</th>\n",
       "      <th>B</th>\n",
       "      <th>C</th>\n",
       "    </tr>\n",
       "  </thead>\n",
       "  <tbody>\n",
       "    <tr>\n",
       "      <th>0</th>\n",
       "      <td>45</td>\n",
       "      <td>10</td>\n",
       "      <td>33</td>\n",
       "    </tr>\n",
       "  </tbody>\n",
       "</table>\n",
       "</div>"
      ],
      "text/plain": [
       "    A   B   C\n",
       "0  45  10  33"
      ]
     },
     "execution_count": 21,
     "metadata": {},
     "output_type": "execute_result"
    }
   ],
   "source": [
    "# inner merge -> on, how생략\n",
    "# on은 생략해도 자동으로 기준을 찾아주고, how는 생략하면 기본값인 inner merge를 한다.\n",
    "pd.merge(df1, df2)"
   ]
  },
  {
   "cell_type": "code",
   "execution_count": 16,
   "id": "f6265a43",
   "metadata": {},
   "outputs": [
    {
     "data": {
      "text/html": [
       "<div>\n",
       "<style scoped>\n",
       "    .dataframe tbody tr th:only-of-type {\n",
       "        vertical-align: middle;\n",
       "    }\n",
       "\n",
       "    .dataframe tbody tr th {\n",
       "        vertical-align: top;\n",
       "    }\n",
       "\n",
       "    .dataframe thead th {\n",
       "        text-align: right;\n",
       "    }\n",
       "</style>\n",
       "<table border=\"1\" class=\"dataframe\">\n",
       "  <thead>\n",
       "    <tr style=\"text-align: right;\">\n",
       "      <th></th>\n",
       "      <th>A</th>\n",
       "      <th>B</th>\n",
       "      <th>C</th>\n",
       "    </tr>\n",
       "  </thead>\n",
       "  <tbody>\n",
       "    <tr>\n",
       "      <th>0</th>\n",
       "      <td>12</td>\n",
       "      <td>27.0</td>\n",
       "      <td>NaN</td>\n",
       "    </tr>\n",
       "    <tr>\n",
       "      <th>1</th>\n",
       "      <td>45</td>\n",
       "      <td>10.0</td>\n",
       "      <td>33.0</td>\n",
       "    </tr>\n",
       "    <tr>\n",
       "      <th>2</th>\n",
       "      <td>50</td>\n",
       "      <td>NaN</td>\n",
       "      <td>65.0</td>\n",
       "    </tr>\n",
       "  </tbody>\n",
       "</table>\n",
       "</div>"
      ],
      "text/plain": [
       "    A     B     C\n",
       "0  12  27.0   NaN\n",
       "1  45  10.0  33.0\n",
       "2  50   NaN  65.0"
      ]
     },
     "execution_count": 16,
     "metadata": {},
     "output_type": "execute_result"
    }
   ],
   "source": [
    "# outer merge\n",
    "pd.merge(df1, df2, how = 'outer', on = 'A')"
   ]
  },
  {
   "cell_type": "code",
   "execution_count": 18,
   "id": "a7a47f4e",
   "metadata": {},
   "outputs": [
    {
     "data": {
      "text/html": [
       "<div>\n",
       "<style scoped>\n",
       "    .dataframe tbody tr th:only-of-type {\n",
       "        vertical-align: middle;\n",
       "    }\n",
       "\n",
       "    .dataframe tbody tr th {\n",
       "        vertical-align: top;\n",
       "    }\n",
       "\n",
       "    .dataframe thead th {\n",
       "        text-align: right;\n",
       "    }\n",
       "</style>\n",
       "<table border=\"1\" class=\"dataframe\">\n",
       "  <thead>\n",
       "    <tr style=\"text-align: right;\">\n",
       "      <th></th>\n",
       "      <th>A</th>\n",
       "      <th>B</th>\n",
       "      <th>C</th>\n",
       "    </tr>\n",
       "  </thead>\n",
       "  <tbody>\n",
       "    <tr>\n",
       "      <th>0</th>\n",
       "      <td>12</td>\n",
       "      <td>27</td>\n",
       "      <td>NaN</td>\n",
       "    </tr>\n",
       "    <tr>\n",
       "      <th>1</th>\n",
       "      <td>45</td>\n",
       "      <td>10</td>\n",
       "      <td>33.0</td>\n",
       "    </tr>\n",
       "  </tbody>\n",
       "</table>\n",
       "</div>"
      ],
      "text/plain": [
       "    A   B     C\n",
       "0  12  27   NaN\n",
       "1  45  10  33.0"
      ]
     },
     "execution_count": 18,
     "metadata": {},
     "output_type": "execute_result"
    }
   ],
   "source": [
    "# left merge\n",
    "pd.merge(df1, df2, how = 'left', on = 'A')"
   ]
  },
  {
   "cell_type": "code",
   "execution_count": 19,
   "id": "78e21dc8",
   "metadata": {},
   "outputs": [
    {
     "data": {
      "text/html": [
       "<div>\n",
       "<style scoped>\n",
       "    .dataframe tbody tr th:only-of-type {\n",
       "        vertical-align: middle;\n",
       "    }\n",
       "\n",
       "    .dataframe tbody tr th {\n",
       "        vertical-align: top;\n",
       "    }\n",
       "\n",
       "    .dataframe thead th {\n",
       "        text-align: right;\n",
       "    }\n",
       "</style>\n",
       "<table border=\"1\" class=\"dataframe\">\n",
       "  <thead>\n",
       "    <tr style=\"text-align: right;\">\n",
       "      <th></th>\n",
       "      <th>A</th>\n",
       "      <th>B</th>\n",
       "      <th>C</th>\n",
       "    </tr>\n",
       "  </thead>\n",
       "  <tbody>\n",
       "    <tr>\n",
       "      <th>0</th>\n",
       "      <td>50</td>\n",
       "      <td>NaN</td>\n",
       "      <td>65</td>\n",
       "    </tr>\n",
       "    <tr>\n",
       "      <th>1</th>\n",
       "      <td>45</td>\n",
       "      <td>10.0</td>\n",
       "      <td>33</td>\n",
       "    </tr>\n",
       "  </tbody>\n",
       "</table>\n",
       "</div>"
      ],
      "text/plain": [
       "    A     B   C\n",
       "0  50   NaN  65\n",
       "1  45  10.0  33"
      ]
     },
     "execution_count": 19,
     "metadata": {},
     "output_type": "execute_result"
    }
   ],
   "source": [
    "# right merge\n",
    "pd.merge(df1, df2, how = 'right', on = 'A')"
   ]
  },
  {
   "cell_type": "markdown",
   "id": "48d239e9",
   "metadata": {},
   "source": [
    "#### pivot\n",
    "* 결합이라고 말 할 수는 없지만 집계 후 데이터프레임 구조를 변경(재구성)하여 조회하는데 사용됨\n",
    "* 문법 : dataframe.pivot(index, column, values)\n",
    "* 결합 방법\n",
    "    1. groupby로 집계  \n",
    "    2. pivot  \n",
    "    "
   ]
  },
  {
   "cell_type": "code",
   "execution_count": 24,
   "id": "1987e6a3",
   "metadata": {},
   "outputs": [
    {
     "data": {
      "text/html": [
       "<div>\n",
       "<style scoped>\n",
       "    .dataframe tbody tr th:only-of-type {\n",
       "        vertical-align: middle;\n",
       "    }\n",
       "\n",
       "    .dataframe tbody tr th {\n",
       "        vertical-align: top;\n",
       "    }\n",
       "\n",
       "    .dataframe thead th {\n",
       "        text-align: right;\n",
       "    }\n",
       "</style>\n",
       "<table border=\"1\" class=\"dataframe\">\n",
       "  <thead>\n",
       "    <tr style=\"text-align: right;\">\n",
       "      <th></th>\n",
       "      <th>name</th>\n",
       "      <th>class_number</th>\n",
       "      <th>grade</th>\n",
       "      <th>age</th>\n",
       "      <th>sex</th>\n",
       "    </tr>\n",
       "  </thead>\n",
       "  <tbody>\n",
       "    <tr>\n",
       "      <th>0</th>\n",
       "      <td>GY</td>\n",
       "      <td>1</td>\n",
       "      <td>A</td>\n",
       "      <td>20</td>\n",
       "      <td>male</td>\n",
       "    </tr>\n",
       "    <tr>\n",
       "      <th>1</th>\n",
       "      <td>HB</td>\n",
       "      <td>2</td>\n",
       "      <td>B</td>\n",
       "      <td>22</td>\n",
       "      <td>male</td>\n",
       "    </tr>\n",
       "    <tr>\n",
       "      <th>2</th>\n",
       "      <td>YD</td>\n",
       "      <td>3</td>\n",
       "      <td>A</td>\n",
       "      <td>25</td>\n",
       "      <td>female</td>\n",
       "    </tr>\n",
       "    <tr>\n",
       "      <th>3</th>\n",
       "      <td>GD</td>\n",
       "      <td>4</td>\n",
       "      <td>C</td>\n",
       "      <td>26</td>\n",
       "      <td>male</td>\n",
       "    </tr>\n",
       "    <tr>\n",
       "      <th>4</th>\n",
       "      <td>YH</td>\n",
       "      <td>5</td>\n",
       "      <td>D</td>\n",
       "      <td>23</td>\n",
       "      <td>female</td>\n",
       "    </tr>\n",
       "  </tbody>\n",
       "</table>\n",
       "</div>"
      ],
      "text/plain": [
       "  name  class_number grade  age     sex\n",
       "0   GY             1     A   20    male\n",
       "1   HB             2     B   22    male\n",
       "2   YD             3     A   25  female\n",
       "3   GD             4     C   26    male\n",
       "4   YH             5     D   23  female"
      ]
     },
     "metadata": {},
     "output_type": "display_data"
    }
   ],
   "source": [
    "df1 = pd.DataFrame({'name' : ['GY', 'HB', 'YD', 'GD', 'YH'],\n",
    "                 'class_number' : [1, 2, 3, 4, 5],\n",
    "                 'grade' : ['A', 'B', 'A', 'C', 'D']\n",
    "})\n",
    "df2 = pd.DataFrame({'age' : [20, 22, 25, 26, 23],\n",
    "                 'class_number' : [1, 2, 3, 4, 5],\n",
    "                 'sex' : ['male', 'male', 'female', 'male', 'female']\n",
    "})\n",
    "df3 = pd.merge(df1, df2, how = 'inner')\n",
    "display(df3)"
   ]
  },
  {
   "cell_type": "code",
   "execution_count": 27,
   "id": "ad4f94e7",
   "metadata": {},
   "outputs": [
    {
     "data": {
      "text/html": [
       "<div>\n",
       "<style scoped>\n",
       "    .dataframe tbody tr th:only-of-type {\n",
       "        vertical-align: middle;\n",
       "    }\n",
       "\n",
       "    .dataframe tbody tr th {\n",
       "        vertical-align: top;\n",
       "    }\n",
       "\n",
       "    .dataframe thead th {\n",
       "        text-align: right;\n",
       "    }\n",
       "</style>\n",
       "<table border=\"1\" class=\"dataframe\">\n",
       "  <thead>\n",
       "    <tr style=\"text-align: right;\">\n",
       "      <th></th>\n",
       "      <th>grade</th>\n",
       "      <th>sex</th>\n",
       "      <th>age</th>\n",
       "    </tr>\n",
       "  </thead>\n",
       "  <tbody>\n",
       "    <tr>\n",
       "      <th>0</th>\n",
       "      <td>A</td>\n",
       "      <td>female</td>\n",
       "      <td>25.0</td>\n",
       "    </tr>\n",
       "    <tr>\n",
       "      <th>1</th>\n",
       "      <td>A</td>\n",
       "      <td>male</td>\n",
       "      <td>20.0</td>\n",
       "    </tr>\n",
       "    <tr>\n",
       "      <th>2</th>\n",
       "      <td>B</td>\n",
       "      <td>male</td>\n",
       "      <td>22.0</td>\n",
       "    </tr>\n",
       "    <tr>\n",
       "      <th>3</th>\n",
       "      <td>C</td>\n",
       "      <td>male</td>\n",
       "      <td>26.0</td>\n",
       "    </tr>\n",
       "    <tr>\n",
       "      <th>4</th>\n",
       "      <td>D</td>\n",
       "      <td>female</td>\n",
       "      <td>23.0</td>\n",
       "    </tr>\n",
       "  </tbody>\n",
       "</table>\n",
       "</div>"
      ],
      "text/plain": [
       "  grade     sex   age\n",
       "0     A  female  25.0\n",
       "1     A    male  20.0\n",
       "2     B    male  22.0\n",
       "3     C    male  26.0\n",
       "4     D  female  23.0"
      ]
     },
     "metadata": {},
     "output_type": "display_data"
    }
   ],
   "source": [
    "df4 = df3.groupby(['grade', 'sex'], as_index = False)['age'].mean()\n",
    "display(df4)"
   ]
  },
  {
   "cell_type": "code",
   "execution_count": 28,
   "id": "065bf683",
   "metadata": {},
   "outputs": [
    {
     "data": {
      "text/html": [
       "<div>\n",
       "<style scoped>\n",
       "    .dataframe tbody tr th:only-of-type {\n",
       "        vertical-align: middle;\n",
       "    }\n",
       "\n",
       "    .dataframe tbody tr th {\n",
       "        vertical-align: top;\n",
       "    }\n",
       "\n",
       "    .dataframe thead th {\n",
       "        text-align: right;\n",
       "    }\n",
       "</style>\n",
       "<table border=\"1\" class=\"dataframe\">\n",
       "  <thead>\n",
       "    <tr style=\"text-align: right;\">\n",
       "      <th>grade</th>\n",
       "      <th>A</th>\n",
       "      <th>B</th>\n",
       "      <th>C</th>\n",
       "      <th>D</th>\n",
       "    </tr>\n",
       "    <tr>\n",
       "      <th>sex</th>\n",
       "      <th></th>\n",
       "      <th></th>\n",
       "      <th></th>\n",
       "      <th></th>\n",
       "    </tr>\n",
       "  </thead>\n",
       "  <tbody>\n",
       "    <tr>\n",
       "      <th>female</th>\n",
       "      <td>25.0</td>\n",
       "      <td>NaN</td>\n",
       "      <td>NaN</td>\n",
       "      <td>23.0</td>\n",
       "    </tr>\n",
       "    <tr>\n",
       "      <th>male</th>\n",
       "      <td>20.0</td>\n",
       "      <td>22.0</td>\n",
       "      <td>26.0</td>\n",
       "      <td>NaN</td>\n",
       "    </tr>\n",
       "  </tbody>\n",
       "</table>\n",
       "</div>"
      ],
      "text/plain": [
       "grade      A     B     C     D\n",
       "sex                           \n",
       "female  25.0   NaN   NaN  23.0\n",
       "male    20.0  22.0  26.0   NaN"
      ]
     },
     "execution_count": 28,
     "metadata": {},
     "output_type": "execute_result"
    }
   ],
   "source": [
    "df4.pivot('sex', 'grade', 'age')"
   ]
  },
  {
   "cell_type": "code",
   "execution_count": null,
   "id": "cde4b43b",
   "metadata": {},
   "outputs": [],
   "source": []
  }
 ],
 "metadata": {
  "kernelspec": {
   "display_name": "Python 3 (ipykernel)",
   "language": "python",
   "name": "python3"
  },
  "language_info": {
   "codemirror_mode": {
    "name": "ipython",
    "version": 3
   },
   "file_extension": ".py",
   "mimetype": "text/x-python",
   "name": "python",
   "nbconvert_exporter": "python",
   "pygments_lexer": "ipython3",
   "version": "3.9.13"
  }
 },
 "nbformat": 4,
 "nbformat_minor": 5
}
