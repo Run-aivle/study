{
 "cells": [
  {
   "cell_type": "markdown",
   "id": "c9ecfb43-c42a-4d6f-afc2-b71d118233ce",
   "metadata": {},
   "source": [
    "**불필요한 변수 제거**"
   ]
  },
  {
   "cell_type": "code",
   "execution_count": null,
   "id": "3c20c876-45da-4d6a-b028-bb2934e76857",
   "metadata": {},
   "outputs": [],
   "source": [
    "# 여러 열 동시 제거\n",
    "drop_cols = ['a', 'b', 'c']\n",
    "data.drop(drop_cols, axis = 1, inplace = True)"
   ]
  },
  {
   "cell_type": "code",
   "execution_count": null,
   "id": "97826da3-b068-4919-a14d-6be8b8998ee4",
   "metadata": {},
   "outputs": [],
   "source": [
    "# 행 수 확인\n",
    "len(data)"
   ]
  },
  {
   "cell_type": "markdown",
   "id": "dfa1fc96-0c55-43c2-8029-7aa6240a65c9",
   "metadata": {},
   "source": [
    "**NaN 확인**"
   ]
  },
  {
   "cell_type": "code",
   "execution_count": null,
   "id": "28d4f34b-86b9-4f8e-8985-acac63c45369",
   "metadata": {},
   "outputs": [],
   "source": [
    "data.isna().sum()\n",
    "data.isnull().sum()\n",
    "data.isnull().sum() / len(data) * 100 # 퍼센트"
   ]
  },
  {
   "cell_type": "markdown",
   "id": "ea6e0749-e0e9-4da8-8c20-8bc8de3a0e63",
   "metadata": {},
   "source": [
    "**NaN 삭제**"
   ]
  },
  {
   "cell_type": "code",
   "execution_count": null,
   "id": "1875649c-41c8-4425-8167-2cde826c5daa",
   "metadata": {},
   "outputs": [],
   "source": [
    "# NaN이 포함된 모든 행 제거\n",
    "# drop은 columns 제거, dropna 결측치 제거\n",
    "data.dropna(axis = 0, inplace = True)\n",
    "\n",
    "# a 변수에 NaN이 포함된 행 제거\n",
    "data.dropna(subset = ['a'], axis = 0, inplace = True)"
   ]
  },
  {
   "cell_type": "markdown",
   "id": "68618299-4515-449f-bfc4-dcf2762e9a7e",
   "metadata": {},
   "source": [
    "**NaN 채우기**"
   ]
  },
  {
   "cell_type": "code",
   "execution_count": null,
   "id": "d2e49360-941d-4e24-b625-b6e7d8081925",
   "metadata": {},
   "outputs": [],
   "source": [
    "# 평균값으로 채우기\n",
    "mean_a = data['a'].mean()\n",
    "data['a'].fillna(mean_A, inplace = True)"
   ]
  },
  {
   "cell_type": "code",
   "execution_count": null,
   "id": "cddc5ccc-5641-468c-9d5b-897ea34b78d0",
   "metadata": {},
   "outputs": [],
   "source": [
    "# 최빈값으로 채우기\n",
    "data['a'].fillna('S', inplace = True) # a 변수에 S 빈도가 제일 높을 때"
   ]
  },
  {
   "cell_type": "markdown",
   "id": "69299510-5422-4fc9-a904-ef87747fbabc",
   "metadata": {},
   "source": [
    "**앞 / 뒤 값으로 채우기**\n",
    "- 시계열 데이터인 경우 많이 사용하는 방법\n",
    "- method = 'ffill' : 바로 앞의 값으로 채우기\n",
    "- method = 'bfill' : 바로 뒤의 값으로 채우기"
   ]
  },
  {
   "cell_type": "code",
   "execution_count": null,
   "id": "df589149-5380-4cd2-86ce-94cc603d5ebb",
   "metadata": {},
   "outputs": [],
   "source": [
    "# a 변수 NaN 값을 바로 앞의 값으로 채우기\n",
    "data['a'].fillna(method = 'ffill', inplace = True)\n",
    "\n",
    "# a 변수 NaN 값을 바로 뒤의 값으로 채우기\n",
    "data['a'].fillna(method = 'bfill', inplace = True)"
   ]
  },
  {
   "cell_type": "markdown",
   "id": "cf1d5d7e-dc44-4fab-8e32-26992784130a",
   "metadata": {},
   "source": [
    "**선형 보간법으로 채우기**\n",
    "- imterpolate 메소드에 method = 'linear'옵션을 지정해 선형 보간법으로 채운다"
   ]
  },
  {
   "cell_type": "code",
   "execution_count": null,
   "id": "d778e304-2d9a-41cb-894a-4d07f424becd",
   "metadata": {},
   "outputs": [],
   "source": [
    "data['a'].interpolate(method = 'linear', inplace = True)"
   ]
  },
  {
   "cell_type": "markdown",
   "id": "4f1432ce-e09b-4bbc-8572-82d7d2dc0fda",
   "metadata": {},
   "source": [
    "**가변수화**\n",
    "- 범주형 값을 갖는 변수에 대한 One - Hot Encoding을 진행한다"
   ]
  },
  {
   "cell_type": "code",
   "execution_count": null,
   "id": "7c31c166-e48a-4ef9-ad0a-6f0fe2890342",
   "metadata": {},
   "outputs": [],
   "source": [
    "# 가변수 대상 변수 식별\n",
    "dumm_cols = ['a', 'b', 'c']\n",
    "data = pd.get_dummies(data, columns = dumm_cols, drop_first = True)"
   ]
  }
 ],
 "metadata": {
  "kernelspec": {
   "display_name": "Python 3 (ipykernel)",
   "language": "python",
   "name": "python3"
  },
  "language_info": {
   "codemirror_mode": {
    "name": "ipython",
    "version": 3
   },
   "file_extension": ".py",
   "mimetype": "text/x-python",
   "name": "python",
   "nbconvert_exporter": "python",
   "pygments_lexer": "ipython3",
   "version": "3.9.13"
  }
 },
 "nbformat": 4,
 "nbformat_minor": 5
}
