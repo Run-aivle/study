{
 "cells": [
  {
   "cell_type": "markdown",
   "id": "f8e5e3b3-f96d-4922-8216-90f5dd263d42",
   "metadata": {},
   "source": [
    "# SVM(Support Vector Machine)\n",
    "- svm은 분류(svc)와 회귀(svr) 모두 사용 가능한 알고리즘으로 분류를 위한 기준선인 결정 경계선(Decision Boundary)을 찾는 알고리즘으로 성능을 높이기 위해서는 정규화 작업이 필요하다."
   ]
  },
  {
   "cell_type": "markdown",
   "id": "5e49e7ea-6284-4377-91d0-cd43f0184966",
   "metadata": {},
   "source": [
    "## 용어\n",
    "- 결정 경계선(Decision Boundary)\n",
    "    - 서로 다른 분류값을 결정하는 경계선\n",
    "- 벡터(vector)\n",
    "    - 2차원 공간에서 나타난 데이터 포인트( Ex) scatterplot의 점(데이터) 하나하나가 벡터이다)\n",
    "- 서포트 벡터(support vector)\n",
    "    - 결정 경계선과 가장 가까운 벡터\n",
    "- 마진(margin)\n",
    "    - 서포트 벡터와 결정 경계선 사이의 거리\n",
    "    - 마진이 클수록 새로운 데이터에 대해서 안정적으로 분류할 가능성이 높아진다. 따라서 svm의 목표는 마진을 최대로 하는 결정 경계선을 찾는 것이 목표이다.\n",
    "- 비용(C)\n",
    "    - "
   ]
  },
  {
   "cell_type": "code",
   "execution_count": null,
   "id": "b551750b-6db1-4ebb-9402-daeea327df86",
   "metadata": {},
   "outputs": [],
   "source": []
  }
 ],
 "metadata": {
  "kernelspec": {
   "display_name": "Python 3 (ipykernel)",
   "language": "python",
   "name": "python3"
  },
  "language_info": {
   "codemirror_mode": {
    "name": "ipython",
    "version": 3
   },
   "file_extension": ".py",
   "mimetype": "text/x-python",
   "name": "python",
   "nbconvert_exporter": "python",
   "pygments_lexer": "ipython3",
   "version": "3.9.13"
  }
 },
 "nbformat": 4,
 "nbformat_minor": 5
}
