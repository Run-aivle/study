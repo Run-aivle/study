{
 "cells": [
  {
   "cell_type": "markdown",
   "id": "d9baac73",
   "metadata": {},
   "source": [
    "# Chapter 1. 알고리즘 기초"
   ]
  },
  {
   "cell_type": "markdown",
   "id": "6adc4b38",
   "metadata": {},
   "source": [
    "## Unit 1. 알고리즘과 플로우 차트"
   ]
  },
  {
   "cell_type": "markdown",
   "id": "7232b4b6",
   "metadata": {},
   "source": [
    "### 세 정수의 최댓값 구하기"
   ]
  },
  {
   "cell_type": "code",
   "execution_count": 7,
   "id": "9d721a8b",
   "metadata": {},
   "outputs": [
    {
     "name": "stdout",
     "output_type": "stream",
     "text": [
      "정수 a의 값을 입력하세요 : 1\n",
      "정수 b의 값을 입력하세요 : 2\n",
      "정수 c의 값을 입력하세요 : 3\n",
      "최댓 값은 3 입니다.\n"
     ]
    }
   ],
   "source": [
    "a = input('정수 a의 값을 입력하세요 : ')\n",
    "b = input('정수 b의 값을 입력하세요 : ')\n",
    "c = input('정수 c의 값을 입력하세요 : ')\n",
    "\n",
    "maximum = a\n",
    "if b > maximum:\n",
    "    maximum = b\n",
    "if c > maximum:\n",
    "    maximum = c\n",
    "    \n",
    "print(f'최댓 값은 {maximum} 입니다.')"
   ]
  },
  {
   "cell_type": "code",
   "execution_count": 17,
   "id": "101bab88",
   "metadata": {},
   "outputs": [
    {
     "name": "stdout",
     "output_type": "stream",
     "text": [
      "네 정수의 최댓값을 구합니다.\n",
      "정수 a의 값을 입력하세요 : 1\n",
      "정수 b의 값을 입력하세요 : 2\n",
      "정수 c의 값을 입력하세요 : \n",
      "최댓값은 2 입니다.\n"
     ]
    }
   ],
   "source": [
    "## 함수로 변환\n",
    "def max3(a,b,c):\n",
    "    maximum = a\n",
    "    if b > maximum:\n",
    "        maximum = b\n",
    "    if c > maximum:\n",
    "        maximum = c\n",
    "\n",
    "    return(maximum)\n",
    "\n",
    "print('네 정수의 최댓값을 구합니다.')\n",
    "a = input('정수 a의 값을 입력하세요 : ')\n",
    "b = input('정수 b의 값을 입력하세요 : ')\n",
    "c = input('정수 c의 값을 입력하세요 : ')\n",
    "\n",
    "\n",
    "print(f'최댓값은 {max3(a,b,c)} 입니다.')"
   ]
  },
  {
   "cell_type": "markdown",
   "id": "7385a6b1",
   "metadata": {},
   "source": [
    "#### 미니 실습1\n",
    "\n",
    "Q 네 정수의 최댓값을 구하는 함수를 작성하고, 값을 입력받아 최댓값을 출력하라"
   ]
  },
  {
   "cell_type": "code",
   "execution_count": 13,
   "id": "d74e8e3a",
   "metadata": {},
   "outputs": [
    {
     "name": "stdout",
     "output_type": "stream",
     "text": [
      "네 정수의 최댓값을 구합니다.\n",
      "정수 a의 값을 입력하세요 : 1\n",
      "정수 b의 값을 입력하세요 : 2\n",
      "정수 c의 값을 입력하세요 : 3\n",
      "정수 c의 값을 입력하세요 : 4\n",
      "최댓값은 4 입니다.\n"
     ]
    }
   ],
   "source": [
    "def max4(a,b,c,d):\n",
    "    maximum = a\n",
    "    if b > maximum:\n",
    "        maximum = b\n",
    "    if c > maximum:\n",
    "        maximum = c\n",
    "    if d > maximum:\n",
    "        maximum = d\n",
    "\n",
    "    return(maximum)\n",
    "\n",
    "print('네 정수의 최댓값을 구합니다.')\n",
    "a = input('정수 a의 값을 입력하세요 : ')\n",
    "b = input('정수 b의 값을 입력하세요 : ')\n",
    "c = input('정수 c의 값을 입력하세요 : ')\n",
    "d = input('정수 c의 값을 입력하세요 : ')\n",
    "\n",
    "print(f'최댓값은 {max4(a,b,c,d)} 입니다.')"
   ]
  },
  {
   "cell_type": "markdown",
   "id": "20240ae7",
   "metadata": {},
   "source": [
    "### 조건문과 분기"
   ]
  },
  {
   "cell_type": "markdown",
   "id": "0be7a4da",
   "metadata": {},
   "source": [
    "### 중앙 값을 찾으세요"
   ]
  },
  {
   "cell_type": "code",
   "execution_count": 38,
   "id": "d0562dbc",
   "metadata": {},
   "outputs": [
    {
     "name": "stdout",
     "output_type": "stream",
     "text": [
      "네 정수의 최댓값을 구합니다.\n",
      "정수 a의 값을 입력하세요 : 2\n",
      "정수 b의 값을 입력하세요 : 3\n",
      "정수 c의 값을 입력하세요 : 1\n",
      "중앙값은 2 입니다.\n"
     ]
    }
   ],
   "source": [
    "def median3(a,b,c):\n",
    "    if a >= b:\n",
    "        if b >= c:\n",
    "            return b\n",
    "        elif c >=a :\n",
    "            return a\n",
    "        else :\n",
    "            return c\n",
    "    elif a > c: # (= b > C )\n",
    "        return a\n",
    "    elif c > b:\n",
    "        return b\n",
    "    \n",
    "print('네 정수의 최댓값을 구합니다.')\n",
    "a = input('정수 a의 값을 입력하세요 : ')\n",
    "b = input('정수 b의 값을 입력하세요 : ')\n",
    "c = input('정수 c의 값을 입력하세요 : ')\n",
    "\n",
    "\n",
    "print(f'중앙값은 {median3(a,b,c)} 입니다.')"
   ]
  },
  {
   "cell_type": "markdown",
   "id": "6267c428",
   "metadata": {},
   "source": [
    "#### 미니 실습 2:\n",
    "Q. 다음은 A, B 두 수도 회사의 요금 체계이다.\n",
    "\n",
    "    A : 1L당 요금 100원,\n",
    "    B : 50리터 이하 1L당 요금 150원, 50리터 초과는 1L당 70원\n",
    "    \n",
    "    수도회사와 수도 사용량을 입력 받아 지불해야하는 수도 요금을 계산"
   ]
  },
  {
   "cell_type": "code",
   "execution_count": 147,
   "id": "6e60d567",
   "metadata": {},
   "outputs": [
    {
     "name": "stdout",
     "output_type": "stream",
     "text": [
      "회사를 입력하세요 : A\n",
      "사용한 liter 값을 입력하세요 : 75\n",
      "지불해야하는 수도 요금은 7500 입니다.\n"
     ]
    }
   ],
   "source": [
    "def waterpay(cop, usage):\n",
    "    if cop == 'A':\n",
    "        pay = usage * 100\n",
    "        \n",
    "    elif cop == 'B':\n",
    "        if usage <= 50:\n",
    "            pay = usage * 150\n",
    "        else :\n",
    "            pay = (usage-50) * 75 + (50* 150)\n",
    "    else : \n",
    "        return('회사 이름을 잘못 입력하셨습니다.')\n",
    "        \n",
    "    return pay\n",
    "\n",
    "cop = input('회사를 입력하세요 : ')\n",
    "usage = int(input('사용한 liter 값을 입력하세요 : '))\n",
    "print(f'지불해야하는 수도 요금은 { waterpay(cop, usage)} 입니다.')"
   ]
  },
  {
   "cell_type": "markdown",
   "id": "b4a25df6",
   "metadata": {},
   "source": [
    "## Unit 2. 반복하는 알고리즘"
   ]
  },
  {
   "cell_type": "markdown",
   "id": "2aa8ac69",
   "metadata": {},
   "source": [
    "### 반복하는 알고리즘 구문"
   ]
  },
  {
   "cell_type": "markdown",
   "id": "1d831220",
   "metadata": {},
   "source": [
    "- **while문**"
   ]
  },
  {
   "cell_type": "code",
   "execution_count": 143,
   "id": "c993d10a",
   "metadata": {},
   "outputs": [
    {
     "name": "stdout",
     "output_type": "stream",
     "text": [
      "1부터 n까지 정수의 합을 구합니다.\n",
      "n값을 입력하세요. : 10\n",
      "1부터 10까지 정수의 합은 55입니다.\n"
     ]
    }
   ],
   "source": [
    "print('1부터 n까지 정수의 합을 구합니다.')\n",
    "\n",
    "n = int(input('n값을 입력하세요. : '))\n",
    "\n",
    "sum = 0\n",
    "i = 1\n",
    "\n",
    "while i <= n:\n",
    "    sum += i\n",
    "    i += 1\n",
    "\n",
    "print(f'1부터 {n}까지 정수의 합은 {sum}입니다.')"
   ]
  },
  {
   "cell_type": "markdown",
   "id": "80273548",
   "metadata": {},
   "source": [
    "- **for문**"
   ]
  },
  {
   "cell_type": "code",
   "execution_count": 145,
   "id": "ab365ea6",
   "metadata": {},
   "outputs": [
    {
     "name": "stdout",
     "output_type": "stream",
     "text": [
      "1부터 n까지 정수의 합을 구합니다.\n",
      "n값을 입력하세요. : 10\n",
      "1부터 10까지 정수의 합은 55입니다.\n"
     ]
    }
   ],
   "source": [
    "print('1부터 n까지 정수의 합을 구합니다.')\n",
    "\n",
    "n = int(input('n값을 입력하세요. : '))\n",
    "\n",
    "sum = 0\n",
    "\n",
    "for i in range(1, n+1):\n",
    "    sum += i\n",
    "print(f'1부터 {n}까지 정수의 합은 {sum}입니다.')"
   ]
  },
  {
   "cell_type": "markdown",
   "id": "4e065d3f",
   "metadata": {},
   "source": [
    "a부터 b까지 정수의 합 구하기"
   ]
  },
  {
   "cell_type": "code",
   "execution_count": 146,
   "id": "fe4c0637",
   "metadata": {},
   "outputs": [
    {
     "name": "stdout",
     "output_type": "stream",
     "text": [
      "1부터 n까지 정수의 합을 구합니다.\n",
      "정수 a값을 입력하세요. : 1\n",
      "정수 b값을 입력하세요. : 10\n",
      "1부터 10까지 정수의 합은 55입니다.\n"
     ]
    }
   ],
   "source": [
    "print('1부터 n까지 정수의 합을 구합니다.')\n",
    "\n",
    "a = int(input('정수 a값을 입력하세요. : '))\n",
    "b = int(input('정수 b값을 입력하세요. : '))\n",
    "\n",
    "if a > b:\n",
    "    a,b = b,a  # b<a로 바꿈\n",
    "\n",
    "sum = 0\n",
    "\n",
    "for i in range(a, b+1):\n",
    "    sum += i\n",
    "print(f'1부터 {n}까지 정수의 합은 {sum}입니다.')"
   ]
  },
  {
   "cell_type": "markdown",
   "id": "48ebbbde",
   "metadata": {},
   "source": [
    "#### 미니 실습 3\n",
    "Q. 앞 페이지의 코드에서 for loop 안의 if 문에서 앞부분 if는 반복 시에 대부분 시행되지만 else 부분은 맨 마지막에만 시행된다. 따라서 else 에 해당하는 부분을 반복 부분이 아니고 반복이 끝난 이후에 시행되도록 코드를 변경하라"
   ]
  },
  {
   "cell_type": "code",
   "execution_count": 74,
   "id": "f0eb808f",
   "metadata": {},
   "outputs": [
    {
     "name": "stdout",
     "output_type": "stream",
     "text": [
      "a부터 b까지 정수의 합을 구합니다.\n",
      "정수 a의 값을 입력하세요 : 5\n",
      "정수 b의 값을 입력하세요 : 3\n",
      "3 + 4 + 5 = 12\n"
     ]
    }
   ],
   "source": [
    "print('a부터 b까지 정수의 합을 구합니다.')\n",
    "a = int(input('정수 a의 값을 입력하세요 : '))\n",
    "b = int(input('정수 b의 값을 입력하세요 : '))\n",
    "\n",
    "if a > b:\n",
    "    a,b = b,a\n",
    "sum = 0\n",
    "\n",
    "\n",
    "for i in range(a, b):\n",
    "    print(f'{i} + ', end ='')\n",
    "    sum += i\n",
    "    \n",
    "print(f'{b} = ', end ='')\n",
    "sum += b   \n",
    "print(sum)"
   ]
  },
  {
   "cell_type": "markdown",
   "id": "5caa9465",
   "metadata": {},
   "source": [
    "### 반복 과정에서 조건 판단하기"
   ]
  },
  {
   "cell_type": "code",
   "execution_count": 148,
   "id": "88d89ff0",
   "metadata": {},
   "outputs": [
    {
     "name": "stdout",
     "output_type": "stream",
     "text": [
      "*를 출력합니다.\n",
      "몇 개를 출력할까요? : 15\n",
      "몇 개마다 줄바꿈할까요? :5\n",
      "*****\n",
      "*****\n",
      "*****\n"
     ]
    }
   ],
   "source": [
    "print('*를 출력합니다.')\n",
    "n = int(input('몇 개를 출력할까요? : '))\n",
    "w = int(input('몇 개마다 줄바꿈할까요? :'))\n",
    "\n",
    "for i in range(n):\n",
    "    print('*', end ='')\n",
    "    if i % w == w-1:\n",
    "        print()\n",
    "if n % w:  # 나머지가 남아있는 경우\n",
    "    print()"
   ]
  },
  {
   "cell_type": "code",
   "execution_count": 149,
   "id": "9716b9c3",
   "metadata": {},
   "outputs": [
    {
     "name": "stdout",
     "output_type": "stream",
     "text": [
      "*를 출력합니다.\n",
      "몇 개를 출력할까요? : 15\n",
      "몇 개마다 줄바꿈할까요? :5\n",
      "*****\n",
      "*****\n",
      "*****\n"
     ]
    }
   ],
   "source": [
    "print('*를 출력합니다.')\n",
    "n = int(input('몇 개를 출력할까요? : '))\n",
    "w = int(input('몇 개마다 줄바꿈할까요? :'))\n",
    "\n",
    "for _ in range(n//w):\n",
    "    print('*' * w)\n",
    "\n",
    "rest = n%w\n",
    "if rest: #rest 값이 있으면\n",
    "    print('*'*rest)"
   ]
  },
  {
   "cell_type": "markdown",
   "id": "55c92886",
   "metadata": {},
   "source": [
    "### 무한 루프와 break"
   ]
  },
  {
   "cell_type": "code",
   "execution_count": 150,
   "id": "d4aa6ccb",
   "metadata": {},
   "outputs": [
    {
     "name": "stdout",
     "output_type": "stream",
     "text": [
      "1부터 n까지 정수의 합을 구합니다.\n",
      "n값을 입력하세요.:15\n",
      "1부터 15까지 정수의 합은 120입니다.\n"
     ]
    }
   ],
   "source": [
    "print('1부터 n까지 정수의 합을 구합니다.')\n",
    "\n",
    "while True:\n",
    "    n = int(input('n값을 입력하세요.:'))\n",
    "    if n > 0 :\n",
    "        break #n이 0보다 커질때 까지 반복\n",
    "\n",
    "sum = 0\n",
    "i = 1\n",
    "\n",
    "for i in range(1, n+1):\n",
    "    sum += i\n",
    "    i += 1\n",
    "    \n",
    "print(f'1부터 {n}까지 정수의 합은 {sum}입니다.')"
   ]
  },
  {
   "cell_type": "markdown",
   "id": "4b982233",
   "metadata": {},
   "source": [
    "### continue와 break"
   ]
  },
  {
   "cell_type": "code",
   "execution_count": 152,
   "id": "b2f34ffd",
   "metadata": {},
   "outputs": [
    {
     "name": "stdout",
     "output_type": "stream",
     "text": [
      "직사각형의 넓이를 입력하세요.:32\n",
      "1 x 32\n",
      "2 x 16\n",
      "4 x 8\n"
     ]
    }
   ],
   "source": [
    "area = int(input('직사각형의 넓이를 입력하세요.:'))\n",
    "\n",
    "for i in range(1, area+1):\n",
    "    if i*i > area: break\n",
    "    if area % i: continue\n",
    "    print(f'{i} x {area//i}')"
   ]
  },
  {
   "cell_type": "markdown",
   "id": "1988f0e0",
   "metadata": {},
   "source": [
    "#### 미니 실습 4\n",
    "Q. 앞 페이지의 코드에서는 두 변의 길이 순서를 고려하지 않고 가능한 조합만 표시되었다. 앞 변과 뒷 변의 길이를 고려하여 가능한 모든 경우가 표시되게 수정하여라."
   ]
  },
  {
   "cell_type": "code",
   "execution_count": 78,
   "id": "e7cdef34",
   "metadata": {},
   "outputs": [
    {
     "name": "stdout",
     "output_type": "stream",
     "text": [
      "직사각형의 넓이를 입력하세요. : 32\n",
      "1 x 32\n",
      "2 x 16\n",
      "4 x 8\n",
      "8 x 4\n",
      "16 x 2\n",
      "32 x 1\n"
     ]
    }
   ],
   "source": [
    "area = int(input('직사각형의 넓이를 입력하세요. : '))\n",
    "for i in range(1, area +1):\n",
    "    if area % i : \n",
    "        continue\n",
    "    print(f'{i} x {area//i}')"
   ]
  },
  {
   "cell_type": "markdown",
   "id": "50c38160",
   "metadata": {},
   "source": [
    "### 다중 루프 multiple loop"
   ]
  },
  {
   "cell_type": "code",
   "execution_count": 153,
   "id": "ce32f0fe",
   "metadata": {},
   "outputs": [
    {
     "name": "stdout",
     "output_type": "stream",
     "text": [
      "---------------------------\n",
      "  1  2  3  4  5  6  7  8  9\n",
      "  2  4  6  8 10 12 14 16 18\n",
      "  3  6  9 12 15 18 21 24 27\n",
      "  4  8 12 16 20 24 28 32 36\n",
      "  5 10 15 20 25 30 35 40 45\n",
      "  6 12 18 24 30 36 42 48 54\n",
      "  7 14 21 28 35 42 49 56 63\n",
      "  8 16 24 32 40 48 56 64 72\n",
      "  9 18 27 36 45 54 63 72 81\n",
      "---------------------------\n"
     ]
    }
   ],
   "source": [
    "print('-' *27)\n",
    "for i in range(1, 10):\n",
    "    for j in range(1, 10):\n",
    "        print(f'{i*j:3}', end = '') # i*j 값을 3자리로 출력\n",
    "    print()\n",
    "print('-'*27)"
   ]
  },
  {
   "cell_type": "markdown",
   "id": "493531cc",
   "metadata": {},
   "source": [
    "## 실습"
   ]
  },
  {
   "cell_type": "markdown",
   "id": "7bd43b8d",
   "metadata": {},
   "source": [
    "#### 실습1 \n",
    "Q. 다음과 같이 계산되는 전기 요금 산출 함수 electricPay()를 만들고, 전기사용량(kWh)을 인수로 전해주면 전기 요금(원)을 계산하여  return해준다."
   ]
  },
  {
   "cell_type": "code",
   "execution_count": 135,
   "id": "9ec25807",
   "metadata": {},
   "outputs": [
    {
     "name": "stdout",
     "output_type": "stream",
     "text": [
      "사용한 전기사용량(kWh) 값을 입력하세요 : 250\n",
      "지불해야하는 수도 요금은 33717원 입니다.\n"
     ]
    }
   ],
   "source": [
    "def eletricpay(usage):\n",
    "    if usage < 100:\n",
    "        usual_pay = 410\n",
    "        pay = usage * 60.7 + usual_pay\n",
    "        \n",
    "    elif 100 <= usage <= 200:\n",
    "        usual_pay = 910\n",
    "        pay = usual_pay + 100 * 60.7 + (usage-100) *125.9\n",
    "        \n",
    "    else :\n",
    "        usual_pay = 1600\n",
    "        pay = usual_pay + 100 * 60.7 + 100 * 125.9 + (usage-200) *187.9\n",
    "    \n",
    "    total = pay + pay * 0.1 + pay * 0.037\n",
    "    return int(total)\n",
    "\n",
    "usage = int(input('사용한 전기사용량(kWh) 값을 입력하세요 : '))\n",
    "print(f'지불해야하는 수도 요금은 {eletricpay(usage)}원 입니다.')"
   ]
  },
  {
   "cell_type": "markdown",
   "id": "91b33374",
   "metadata": {},
   "source": [
    "#### 실습 2\n",
    "Q. +와 - 번갈아 가면서 출력하려고 하며, 몇 개의 출력 할지는 입력을 받아 입력된 개수 만큼 출력하라."
   ]
  },
  {
   "cell_type": "code",
   "execution_count": 102,
   "id": "cc0463b8",
   "metadata": {},
   "outputs": [
    {
     "name": "stdout",
     "output_type": "stream",
     "text": [
      "몇 개를 출력 할지 입력 하세요 : 12\n",
      "+-+-+-+-+-+-"
     ]
    }
   ],
   "source": [
    "n = int(input('몇 개를 출력 할지 입력 하세요 : '))\n",
    "\n",
    "for i in range(1, n+1):\n",
    "    if i % 2 : # 홀수인 경우 + 출력\n",
    "        print('+', end = '')\n",
    "    else : # 짝수인 경우 - 출력\n",
    "        print('-', end = '')"
   ]
  },
  {
   "cell_type": "code",
   "execution_count": 101,
   "id": "9334da6e",
   "metadata": {},
   "outputs": [
    {
     "name": "stdout",
     "output_type": "stream",
     "text": [
      "몇 개를 출력 할지 입력 하세요 : 12\n",
      "+-+-+-+-+-+-"
     ]
    }
   ],
   "source": [
    "n = int(input('몇 개를 출력 할지 입력 하세요 : '))\n",
    "\n",
    "i = 1\n",
    "while i <= n:\n",
    "    if i %2 :\n",
    "        print('+', end = '')\n",
    "        i +=1\n",
    "    else:\n",
    "        print('-', end='')\n",
    "        i+=1"
   ]
  },
  {
   "cell_type": "code",
   "execution_count": 136,
   "id": "453790ac",
   "metadata": {},
   "outputs": [
    {
     "name": "stdout",
     "output_type": "stream",
     "text": [
      "몇 개를 출력 할지 입력 하세요 : 13\n",
      "+-+-+-+-+-+-+\n"
     ]
    }
   ],
   "source": [
    "n = int(input('몇 개를 출력 할지 입력 하세요 : '))\n",
    "\n",
    "for _ in range(n//2):\n",
    "    print('+-', end = '')\n",
    "if n % 2:\n",
    "    print('+', end = '')\n",
    "    \n",
    "print()"
   ]
  },
  {
   "cell_type": "markdown",
   "id": "7288d094",
   "metadata": {},
   "source": [
    "#### 실습 3\n",
    "Q. 1부터 12까지를 for loop를 활용하여 출력하는데 8은 건너뛰고 출력하라."
   ]
  },
  {
   "cell_type": "code",
   "execution_count": 113,
   "id": "4e8b4592",
   "metadata": {},
   "outputs": [
    {
     "name": "stdout",
     "output_type": "stream",
     "text": [
      "1 2 3 4 5 6 7 9 10 11 12 "
     ]
    }
   ],
   "source": [
    "for i in range(1, 13):\n",
    "    if i == 8:\n",
    "        continue\n",
    "    else :\n",
    "        print(i , end = ' ')"
   ]
  },
  {
   "cell_type": "markdown",
   "id": "d57e1541",
   "metadata": {},
   "source": [
    "#### 실습 4\n",
    "Q. 사용자에게 정수를 입력 받아, root** pwr 값이 사용자가 입력한 정수와 같은 두 개의 정수 root 및 pwr을 찾아 출력하라 그러한 정수 쌍이 없으면 결과가 없음을 출력하라"
   ]
  },
  {
   "cell_type": "code",
   "execution_count": 139,
   "id": "b360af08",
   "metadata": {},
   "outputs": [
    {
     "name": "stdout",
     "output_type": "stream",
     "text": [
      "정수를 입력하세요 : 51\n",
      "51** 1 = 51\n",
      "결과가 없음\n"
     ]
    }
   ],
   "source": [
    "root = int(input('정수를 입력하세요 : '))\n",
    "\n",
    "for i in range(1, root+1):\n",
    "    for pwr in range(1,6):\n",
    "        if i ** pwr == root:\n",
    "            print(f'{i}** {pwr} = {root}')\n",
    "else :\n",
    "    print('결과가 없음')"
   ]
  },
  {
   "cell_type": "code",
   "execution_count": 138,
   "id": "71e436f2",
   "metadata": {},
   "outputs": [
    {
     "name": "stdout",
     "output_type": "stream",
     "text": [
      "정수를 입력하세요 : 51\n",
      "결과가 없음\n"
     ]
    }
   ],
   "source": [
    "# (1 < pwr < 6)\n",
    "number = int(input('정수를 입력하세요 : '))\n",
    "flag = 0\n",
    "for root in range(1, number +1):\n",
    "    for pwr in range(2,6):\n",
    "        if (root ** pwr) == number:\n",
    "            print(f'{root}** {pwr} = {number}')\n",
    "            flag = 1\n",
    "if flag == 0 :\n",
    "    print('결과가 없음')"
   ]
  },
  {
   "cell_type": "code",
   "execution_count": 140,
   "id": "90b59273",
   "metadata": {},
   "outputs": [
    {
     "name": "stdout",
     "output_type": "stream",
     "text": [
      "정수를 입력하세요 : 49\n",
      "7** 2 = 49\n",
      "결과가 없음\n"
     ]
    }
   ],
   "source": [
    "# (1 < pwr < 6)\n",
    "number = int(input('정수를 입력하세요 : '))\n",
    "find = False\n",
    "for root in range(1, number +1):\n",
    "    for pwr in range(2,6):\n",
    "        if (root ** pwr) == number:\n",
    "            print(f'{root}** {pwr} = {number}')\n",
    "            flag = 1\n",
    "\n",
    "if not find:\n",
    "    print('결과가 없음')"
   ]
  },
  {
   "cell_type": "code",
   "execution_count": null,
   "id": "520d1993",
   "metadata": {},
   "outputs": [],
   "source": []
  }
 ],
 "metadata": {
  "kernelspec": {
   "display_name": "Python 3 (ipykernel)",
   "language": "python",
   "name": "python3"
  },
  "language_info": {
   "codemirror_mode": {
    "name": "ipython",
    "version": 3
   },
   "file_extension": ".py",
   "mimetype": "text/x-python",
   "name": "python",
   "nbconvert_exporter": "python",
   "pygments_lexer": "ipython3",
   "version": "3.9.13"
  }
 },
 "nbformat": 4,
 "nbformat_minor": 5
}
