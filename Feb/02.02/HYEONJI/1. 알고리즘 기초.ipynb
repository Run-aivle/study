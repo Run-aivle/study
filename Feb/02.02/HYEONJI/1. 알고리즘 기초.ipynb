{
 "cells": [
  {
   "cell_type": "code",
   "execution_count": 1,
   "id": "0107b883",
   "metadata": {},
   "outputs": [
    {
     "name": "stdout",
     "output_type": "stream",
     "text": [
      "이름을 입력하세요 : 이현지\n",
      "안녕하세요? 이현지님\n"
     ]
    }
   ],
   "source": [
    "name = input('이름을 입력하세요 : ')\n",
    "print(f'안녕하세요? {name}님')"
   ]
  },
  {
   "cell_type": "code",
   "execution_count": 2,
   "id": "369aafb2",
   "metadata": {},
   "outputs": [
    {
     "name": "stdout",
     "output_type": "stream",
     "text": [
      "정사각형의 한 변의 길이를 입력하세요 : 5\n",
      "정사각형의 넓이는 25입니다\n"
     ]
    }
   ],
   "source": [
    "length = input('정사각형의 한 변의 길이를 입력하세요 : ')\n",
    "print(f'정사각형의 넓이는 {int(length)**2}입니다') # ** 은 제곱을 의미\n",
    "# 형변환 - 앞에 int 붙이면 int형으로 변환"
   ]
  },
  {
   "cell_type": "code",
   "execution_count": 3,
   "id": "d5c9ea7b",
   "metadata": {},
   "outputs": [
    {
     "name": "stdout",
     "output_type": "stream",
     "text": [
      "세 정수의 최댓값을 구합니다\n",
      "정수 a의 값을 입력하세요 : 1\n",
      "정수 b의 값을 입력하세요 : 3\n",
      "정수 c의 값을 입력하세요 : 2\n",
      "최댓값은 3입니다\n"
     ]
    }
   ],
   "source": [
    "print('세 정수의 최댓값을 구합니다')\n",
    "a = int(input('정수 a의 값을 입력하세요 : '))\n",
    "b = int(input('정수 b의 값을 입력하세요 : '))\n",
    "c = int(input('정수 c의 값을 입력하세요 : '))\n",
    "\n",
    "max = a\n",
    "if b > max:\n",
    "    max = b\n",
    "if c > max:\n",
    "    max = c\n",
    "\n",
    "print(f'최댓값은 {max}입니다')"
   ]
  },
  {
   "cell_type": "code",
   "execution_count": 12,
   "id": "c3eb2fb2",
   "metadata": {},
   "outputs": [
    {
     "name": "stdout",
     "output_type": "stream",
     "text": [
      "max3(3, 2, 5) = 5\n"
     ]
    }
   ],
   "source": [
    "def max3(a, b, c):\n",
    "    max = a\n",
    "    if b > max:\n",
    "        max = b\n",
    "    if c > max:\n",
    "        max = c\n",
    "    return max\n",
    "\n",
    "print(f'max3(3, 2, 5) = {max3(3, 2, 5)}')"
   ]
  },
  {
   "cell_type": "code",
   "execution_count": 13,
   "id": "5e055b39",
   "metadata": {},
   "outputs": [
    {
     "name": "stdout",
     "output_type": "stream",
     "text": [
      "max4(3,5,7,4) = 7\n"
     ]
    }
   ],
   "source": [
    "# 실습 1\n",
    "def max4(a,b,c,d):\n",
    "    max = a\n",
    "    if b > max:\n",
    "        max = b\n",
    "    if c > max:\n",
    "        max = c\n",
    "    if d > max:\n",
    "        max = d\n",
    "    return max\n",
    "print(f'max4(3,5,7,4) = {max4(3,5,7,4)}')"
   ]
  },
  {
   "cell_type": "code",
   "execution_count": 14,
   "id": "f26f762f",
   "metadata": {},
   "outputs": [
    {
     "name": "stdout",
     "output_type": "stream",
     "text": [
      "정수를 입력하세요 : 5\n",
      "이 수는 양수입니다\n"
     ]
    }
   ],
   "source": [
    "n = int(input('정수를 입력하세요 : '))\n",
    "if n > 0:\n",
    "    print('이 수는 양수입니다')\n",
    "elif n < 0:\n",
    "    print('이 수는 음수입니다')\n",
    "else:\n",
    "    print('이 수는 0 입니다')"
   ]
  },
  {
   "cell_type": "code",
   "execution_count": 17,
   "id": "c0090e99",
   "metadata": {},
   "outputs": [
    {
     "name": "stdout",
     "output_type": "stream",
     "text": [
      "세 정수의 중앙값을 구합니다\n",
      "정수 a의 값을 입력하세요 : 1\n",
      "정수 b의 값을 입력하세요 : 4\n",
      "정수 c의 값을 입력하세요 : 9\n",
      "중앙값은 4입니다\n"
     ]
    }
   ],
   "source": [
    "def mid3(a, b, c):\n",
    "    if a >= b:\n",
    "        if b >= c:\n",
    "            return b\n",
    "        elif a <= c:\n",
    "            return a\n",
    "        else:\n",
    "            return c\n",
    "    elif a > c:\n",
    "        return a\n",
    "    elif b > c:\n",
    "        return c\n",
    "    else:\n",
    "        return b\n",
    "print('세 정수의 중앙값을 구합니다')\n",
    "a = int(input('정수 a의 값을 입력하세요 : '))\n",
    "b = int(input('정수 b의 값을 입력하세요 : '))\n",
    "c = int(input('정수 c의 값을 입력하세요 : '))\n",
    "print(f'중앙값은 {mid3(a, b, c)}입니다')"
   ]
  },
  {
   "cell_type": "code",
   "execution_count": 22,
   "id": "6d4875ce",
   "metadata": {},
   "outputs": [
    {
     "name": "stdout",
     "output_type": "stream",
     "text": [
      "수도 요금을 계산합니다\n",
      "수도 회사를 입력하세요 : B\n",
      "수도 사용량을 입력하세요 : 100\n",
      "수도 요금은 11250원 입니다\n"
     ]
    }
   ],
   "source": [
    "# 실습 2\n",
    "def waterPay(company, use):\n",
    "    pay = 0\n",
    "    if company == 'A':\n",
    "        pay = use * 100\n",
    "    elif company == 'B':\n",
    "        if use <= 50:\n",
    "            pay = use * 150\n",
    "        else:\n",
    "            pay = (50 * 150) + (use - 50) * 75\n",
    "    else:\n",
    "        print('회사 이름 잘못 입력')\n",
    "    return pay\n",
    "print('수도 요금을 계산합니다')\n",
    "company = input('수도 회사를 입력하세요 : ')\n",
    "use = int(input('수도 사용량을 입력하세요 : '))\n",
    "print(f'수도 요금은 {waterPay(company, use)}원 입니다')"
   ]
  }
 ],
 "metadata": {
  "kernelspec": {
   "display_name": "Python 3 (ipykernel)",
   "language": "python",
   "name": "python3"
  },
  "language_info": {
   "codemirror_mode": {
    "name": "ipython",
    "version": 3
   },
   "file_extension": ".py",
   "mimetype": "text/x-python",
   "name": "python",
   "nbconvert_exporter": "python",
   "pygments_lexer": "ipython3",
   "version": "3.9.13"
  }
 },
 "nbformat": 4,
 "nbformat_minor": 5
}
