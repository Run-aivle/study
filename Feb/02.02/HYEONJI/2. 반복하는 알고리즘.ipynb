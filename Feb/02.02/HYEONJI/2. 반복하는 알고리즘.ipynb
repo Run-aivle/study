{
 "cells": [
  {
   "cell_type": "code",
   "execution_count": 1,
   "id": "4c4fc651",
   "metadata": {},
   "outputs": [
    {
     "name": "stdout",
     "output_type": "stream",
     "text": [
      "1부터 n까지 정수의 합을 구합니다\n",
      "n의 값을 입력하세요 : 10\n",
      "1부터 10까지 정수의 합은 55입니다\n"
     ]
    }
   ],
   "source": [
    "print('1부터 n까지 정수의 합을 구합니다')\n",
    "n = int(input('n의 값을 입력하세요 : '))\n",
    "sum = 0\n",
    "i = 1\n",
    "while i <= n:\n",
    "    sum += i\n",
    "    i += 1\n",
    "print(f'1부터 {n}까지 정수의 합은 {sum}입니다')"
   ]
  },
  {
   "cell_type": "code",
   "execution_count": 2,
   "id": "55b9ee95",
   "metadata": {},
   "outputs": [
    {
     "name": "stdout",
     "output_type": "stream",
     "text": [
      "1부터 n까지 정수의 합을 구합니다\n",
      "n의 값을 입력하세요 : 10\n",
      "1부터 10까지 정수의 합은 55입니다\n"
     ]
    }
   ],
   "source": [
    "print('1부터 n까지 정수의 합을 구합니다')\n",
    "n = int(input('n의 값을 입력하세요 : '))\n",
    "sum = 0\n",
    "for i in range(1, n+1):\n",
    "    sum += i\n",
    "print(f'1부터 {n}까지 정수의 합은 {sum}입니다')"
   ]
  },
  {
   "cell_type": "code",
   "execution_count": 4,
   "id": "4524e471",
   "metadata": {},
   "outputs": [
    {
     "name": "stdout",
     "output_type": "stream",
     "text": [
      "a부터 b까지 정수의 합을 구합니다\n",
      "정수 a를 입력하세요 : 5\n",
      "정수 b를 입력하세요 : 10\n",
      "5부터 10까지 정수의 합은 45입니다\n"
     ]
    }
   ],
   "source": [
    "print('a부터 b까지 정수의 합을 구합니다')\n",
    "a = int(input('정수 a를 입력하세요 : '))\n",
    "b = int(input('정수 b를 입력하세요 : '))\n",
    "if a > b:\n",
    "    a, b = b, a\n",
    "sum = 0\n",
    "for i in range(a, b + 1):\n",
    "    sum += i\n",
    "print(f'{a}부터 {b}까지 정수의 합은 {sum}입니다')"
   ]
  },
  {
   "cell_type": "code",
   "execution_count": 6,
   "id": "27939a09",
   "metadata": {},
   "outputs": [
    {
     "name": "stdout",
     "output_type": "stream",
     "text": [
      "a부터 b까지 정수의 합을 구합니다\n",
      "정수 a를 입력하세요 : 5\n",
      "정수 b를 입력하세요 : 10\n",
      "5 + 6 + 7 + 8 + 9 + 10 = 45\n"
     ]
    }
   ],
   "source": [
    "print('a부터 b까지 정수의 합을 구합니다')\n",
    "a = int(input('정수 a를 입력하세요 : '))\n",
    "b = int(input('정수 b를 입력하세요 : '))\n",
    "if a > b:\n",
    "    a, b = b, a\n",
    "sum = 0\n",
    "for i in range(a, b + 1):\n",
    "    if i < b:\n",
    "        print(f'{i} + ', end = '')\n",
    "    else:\n",
    "        print(f'{i} = ', end = '')\n",
    "    sum += i\n",
    "print(sum)"
   ]
  },
  {
   "cell_type": "code",
   "execution_count": 40,
   "id": "708368dd",
   "metadata": {},
   "outputs": [
    {
     "name": "stdout",
     "output_type": "stream",
     "text": [
      "a부터 b까지 정수의 합을 구합니다\n",
      "정수 a를 입력하세요 : 3\n",
      "정수 b를 입력하세요 : 5\n",
      "3 + 4 + 5 = 12\n"
     ]
    }
   ],
   "source": [
    "# 실습 3\n",
    "print('a부터 b까지 정수의 합을 구합니다')\n",
    "a = int(input('정수 a를 입력하세요 : '))\n",
    "b = int(input('정수 b를 입력하세요 : '))\n",
    "if a > b:\n",
    "    a, b = b, a\n",
    "sum = 0\n",
    "for i in range(a, b):\n",
    "    print(f'{i} + ', end = '')\n",
    "    sum += i\n",
    "print(f'{b} = ', end = '')\n",
    "sum += b\n",
    "print(sum)"
   ]
  },
  {
   "cell_type": "code",
   "execution_count": 11,
   "id": "3aabe304",
   "metadata": {},
   "outputs": [
    {
     "name": "stdout",
     "output_type": "stream",
     "text": [
      "*을 출력합니다\n",
      "몇 개를 출력할까요 : 14\n",
      "몇 개마다 줄바꿈할까요 : 5\n",
      "*****\n",
      "*****\n",
      "****"
     ]
    }
   ],
   "source": [
    "print('*을 출력합니다')\n",
    "n = int(input('몇 개를 출력할까요 : '))\n",
    "w = int(input('몇 개마다 줄바꿈할까요 : '))\n",
    "for i in range(n):\n",
    "    print('*', end='')\n",
    "    if i % w == w - 1:\n",
    "        print()"
   ]
  },
  {
   "cell_type": "code",
   "execution_count": 14,
   "id": "ec89aeab",
   "metadata": {},
   "outputs": [
    {
     "name": "stdout",
     "output_type": "stream",
     "text": [
      "*을 출력합니다\n",
      "몇 개를 출력할까요 : 14\n",
      "몇 개마다 줄바꿈할까요 : 5\n",
      "*****\n",
      "*****\n",
      "****\n"
     ]
    }
   ],
   "source": [
    "print('*을 출력합니다')\n",
    "n = int(input('몇 개를 출력할까요 : '))\n",
    "w = int(input('몇 개마다 줄바꿈할까요 : '))\n",
    "for i in range(n // w):\n",
    "    print('*' * w)\n",
    "rest = n % w\n",
    "if rest:\n",
    "    print('*' * rest)"
   ]
  },
  {
   "cell_type": "code",
   "execution_count": 17,
   "id": "8dd62367",
   "metadata": {},
   "outputs": [
    {
     "name": "stdout",
     "output_type": "stream",
     "text": [
      "1부터 n까지 정수의 합을 구합니다\n",
      "n값을 입력하세요 : -1\n",
      "n값을 입력하세요 : 10\n",
      "1부터 10까지 정수의 합은 55입니다\n"
     ]
    }
   ],
   "source": [
    "print('1부터 n까지 정수의 합을 구합니다')\n",
    "while True:\n",
    "    n = int(input('n값을 입력하세요 : '))\n",
    "    if n > 0:\n",
    "        break\n",
    "sum = 0\n",
    "i = 1\n",
    "for i in range(1, n + 1):\n",
    "    sum += i\n",
    "print(f'1부터 {n}까지 정수의 합은 {sum}입니다')"
   ]
  },
  {
   "cell_type": "code",
   "execution_count": 20,
   "id": "a3e723b3",
   "metadata": {},
   "outputs": [
    {
     "name": "stdout",
     "output_type": "stream",
     "text": [
      "직사각형의 넓이를 입력하세요 : 20\n",
      "1 x 20\n",
      "2 x 10\n",
      "4 x 5\n"
     ]
    }
   ],
   "source": [
    "area = int(input('직사각형의 넓이를 입력하세요 : '))\n",
    "for i in range(1, area + 1):\n",
    "    if i * i > area:\n",
    "        break\n",
    "    if area % i:\n",
    "        continue\n",
    "    print(f'{i} x {area // i}') "
   ]
  },
  {
   "cell_type": "code",
   "execution_count": 22,
   "id": "8d11e15b",
   "metadata": {},
   "outputs": [
    {
     "name": "stdout",
     "output_type": "stream",
     "text": [
      "직사각형의 넓이를 입력하세요 : 20\n",
      "1 x 20\n",
      "2 x 10\n",
      "4 x 5\n",
      "5 x 4\n",
      "10 x 2\n",
      "20 x 1\n"
     ]
    }
   ],
   "source": [
    "# 실습 4\n",
    "area = int(input('직사각형의 넓이를 입력하세요 : '))\n",
    "for i in range(1, area + 1):\n",
    "    if area % i :\n",
    "        continue\n",
    "    print(f'{i} x {area // i}')"
   ]
  },
  {
   "cell_type": "code",
   "execution_count": 27,
   "id": "56d99c6a",
   "metadata": {},
   "outputs": [
    {
     "name": "stdout",
     "output_type": "stream",
     "text": [
      "---------------------------\n",
      "  1  2  3  4  5  6  7  8  9\n",
      "  2  4  6  8 10 12 14 16 18\n",
      "  3  6  9 12 15 18 21 24 27\n",
      "  4  8 12 16 20 24 28 32 36\n",
      "  5 10 15 20 25 30 35 40 45\n",
      "  6 12 18 24 30 36 42 48 54\n",
      "  7 14 21 28 35 42 49 56 63\n",
      "  8 16 24 32 40 48 56 64 72\n",
      "  9 18 27 36 45 54 63 72 81\n",
      "---------------------------\n"
     ]
    }
   ],
   "source": [
    "print('-' * 27)\n",
    "for i in range(1, 10):\n",
    "    for j in range(1, 10):\n",
    "        print(f'{i * j:3}', end = '')\n",
    "    print()\n",
    "print('-' * 27)"
   ]
  },
  {
   "cell_type": "code",
   "execution_count": 29,
   "id": "3aa2cb1f",
   "metadata": {},
   "outputs": [
    {
     "name": "stdout",
     "output_type": "stream",
     "text": [
      "전기사용량을 입력하세요 : 100\n",
      "전기요금은 7936원 입니다\n"
     ]
    }
   ],
   "source": [
    "# 실습 1\n",
    "def electricPay(use):\n",
    "    if use < 100:\n",
    "        pay = 410 + use * 60.7\n",
    "    elif use <= 200:\n",
    "        pay = 910 + (100 * 60.7) + (use - 100) * 125.9\n",
    "    else:\n",
    "        pay = 1600 + (100 * 60.7) + (100 * 125.9) + (use - 200) * 187.9\n",
    "    sum = int((pay * 1.1) + (pay * 0.037))\n",
    "    return sum\n",
    "number = int(input('전기사용량을 입력하세요 : '))\n",
    "bill = electricPay(number)\n",
    "print(f'전기요금은 {bill}원 입니다')"
   ]
  },
  {
   "cell_type": "code",
   "execution_count": 33,
   "id": "6d0aabeb",
   "metadata": {},
   "outputs": [
    {
     "name": "stdout",
     "output_type": "stream",
     "text": [
      "+ 와 - 를 번갈아 출력합니다\n",
      "몇개를 출력할까요 : 11\n",
      "+-+-+-+-+-+"
     ]
    }
   ],
   "source": [
    "# 실습 2 - 1\n",
    "print('+ 와 - 를 번갈아 출력합니다')\n",
    "number = int(input('몇개를 출력할까요 : '))\n",
    "for i in range(1, number + 1):\n",
    "    if i % 2:\n",
    "        print('+', end = '')\n",
    "    else:\n",
    "        print('-', end = '')"
   ]
  },
  {
   "cell_type": "code",
   "execution_count": 34,
   "id": "128b7945",
   "metadata": {},
   "outputs": [
    {
     "name": "stdout",
     "output_type": "stream",
     "text": [
      "+ 와 - 를 번갈아 출력합니다\n",
      "몇개를 출력할까요 : 11\n",
      "+-+-+-+-+-+"
     ]
    }
   ],
   "source": [
    "# 실습 2 - 2\n",
    "print('+ 와 - 를 번갈아 출력합니다')\n",
    "number = int(input('몇개를 출력할까요 : '))\n",
    "for i in range(number // 2):\n",
    "    print('+-', end = '')\n",
    "if number % 2:\n",
    "    print('+', end = '')    "
   ]
  },
  {
   "cell_type": "code",
   "execution_count": 36,
   "id": "411be461",
   "metadata": {},
   "outputs": [
    {
     "name": "stdout",
     "output_type": "stream",
     "text": [
      "1 2 3 4 5 6 7 9 10 11 12 "
     ]
    }
   ],
   "source": [
    "# 실습 3\n",
    "for i in range(1, 13):\n",
    "    if i == 8:\n",
    "        continue\n",
    "    print(i, end = ' ')"
   ]
  },
  {
   "cell_type": "code",
   "execution_count": 38,
   "id": "8de33bab",
   "metadata": {},
   "outputs": [
    {
     "name": "stdout",
     "output_type": "stream",
     "text": [
      "숫자를 입력하세요 : 16\n",
      "2**4 = 16입니다\n",
      "4**2 = 16입니다\n"
     ]
    }
   ],
   "source": [
    "# 실습 4\n",
    "number = int(input('숫자를 입력하세요 : '))\n",
    "flag = 0\n",
    "for root in range(1, number + 1):\n",
    "    for pwr in range(2, 6):\n",
    "        if(root**pwr) == number:\n",
    "            print(f'{root}**{pwr} = {number}입니다')\n",
    "            flag = 1\n",
    "if flag == 0:\n",
    "    print('해당하는 결과가 없습니다')"
   ]
  }
 ],
 "metadata": {
  "kernelspec": {
   "display_name": "Python 3 (ipykernel)",
   "language": "python",
   "name": "python3"
  },
  "language_info": {
   "codemirror_mode": {
    "name": "ipython",
    "version": 3
   },
   "file_extension": ".py",
   "mimetype": "text/x-python",
   "name": "python",
   "nbconvert_exporter": "python",
   "pygments_lexer": "ipython3",
   "version": "3.9.13"
  }
 },
 "nbformat": 4,
 "nbformat_minor": 5
}
