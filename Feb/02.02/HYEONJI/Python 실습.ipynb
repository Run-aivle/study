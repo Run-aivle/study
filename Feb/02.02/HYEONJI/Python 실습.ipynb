{
 "cells": [
  {
   "cell_type": "code",
   "execution_count": 5,
   "id": "aed5797c",
   "metadata": {},
   "outputs": [
    {
     "name": "stdout",
     "output_type": "stream",
     "text": [
      "4\n"
     ]
    }
   ],
   "source": [
    "# 실습 1\n",
    "# 최대공약수 구하기\n",
    "def solution(a, b):\n",
    "    if a < b:\n",
    "        min = a\n",
    "    else:\n",
    "        min = b\n",
    "    for i in range(min, 0, -1):\n",
    "        if a % i == 0 and b % i == 0:\n",
    "            answer = i\n",
    "            break\n",
    "    return answer\n",
    "a = 12\n",
    "b = 16\n",
    "c = solution(a, b)\n",
    "print(c)"
   ]
  },
  {
   "cell_type": "code",
   "execution_count": 9,
   "id": "97b2b25a",
   "metadata": {},
   "outputs": [
    {
     "name": "stdout",
     "output_type": "stream",
     "text": [
      "48\n"
     ]
    }
   ],
   "source": [
    "# 실습 2\n",
    "# 최소공배수 구하기\n",
    "def solution(a, b):\n",
    "    if a > b:\n",
    "        max = a\n",
    "    else:\n",
    "        max = b\n",
    "    for i in range(max, a * b + 1):\n",
    "        if i % a == 0 and i % b == 0:\n",
    "            answer = i\n",
    "            break\n",
    "    return answer\n",
    "a = 12\n",
    "b = 16\n",
    "c = solution(a, b)\n",
    "print(c)"
   ]
  },
  {
   "cell_type": "code",
   "execution_count": 16,
   "id": "03648d29",
   "metadata": {},
   "outputs": [
    {
     "name": "stdout",
     "output_type": "stream",
     "text": [
      "26\n",
      "4\n"
     ]
    }
   ],
   "source": [
    "# 실습 3 - 1\n",
    "# 백준 1110 더하기 사이클\n",
    "n = input()\n",
    "a = n\n",
    "count = 0\n",
    "while True:\n",
    "    if int(a) < 10:\n",
    "        a = '0' + j\n",
    "    i = int(a[0]) + int(a[1])\n",
    "    a = int(a[1] + str(i)[-1])\n",
    "    a = str(a)\n",
    "    count += 1\n",
    "    if a == n:\n",
    "        break\n",
    "print(count)"
   ]
  },
  {
   "cell_type": "code",
   "execution_count": 17,
   "id": "939b34c8",
   "metadata": {},
   "outputs": [
    {
     "name": "stdout",
     "output_type": "stream",
     "text": [
      "26\n",
      "4\n"
     ]
    }
   ],
   "source": [
    "# 실습 3 - 2\n",
    "# 3 - 1 이랑 다른 풀이\n",
    "n = int(input())\n",
    "num = n\n",
    "count = 0\n",
    "while True:\n",
    "    a = num // 10\n",
    "    b = num % 10\n",
    "    c = (a + b) % 10\n",
    "    num = b * 10 + c\n",
    "    count += 1\n",
    "    if num == n:\n",
    "        break\n",
    "print(count)    "
   ]
  },
  {
   "cell_type": "code",
   "execution_count": 28,
   "id": "512d06f0",
   "metadata": {},
   "outputs": [
    {
     "name": "stdout",
     "output_type": "stream",
     "text": [
      "43\n"
     ]
    }
   ],
   "source": [
    "# 실습 4\n",
    "# PRO 약수의 개수와 덧셈\n",
    "\n",
    "def func(left, right):\n",
    "    sum = 0\n",
    "    for i in range(left, right + 1):\n",
    "        count = 0\n",
    "        for j in range (1, i + 1):\n",
    "            if i % j == 0:\n",
    "                count += 1\n",
    "        if count % 2 == 0:\n",
    "            sum += i\n",
    "        else:\n",
    "            sum -= i\n",
    "    return sum\n",
    "left = 13\n",
    "right = 17\n",
    "num = func(left, right)\n",
    "print(num)"
   ]
  },
  {
   "cell_type": "code",
   "execution_count": 31,
   "id": "b901a27a",
   "metadata": {},
   "outputs": [
    {
     "name": "stdout",
     "output_type": "stream",
     "text": [
      "숫자로 이루어진 문자열을 입력하세요 : 02984\n",
      "576\n"
     ]
    }
   ],
   "source": [
    "# 실습 5\n",
    "# 문자열 연산하기\n",
    "data = input('숫자로 이루어진 문자열을 입력하세요 : ')\n",
    "num = 1\n",
    "for i in range(len(data)): # len() : 길이 반환\n",
    "    if data[i] == '0':\n",
    "        num += int(data[i])\n",
    "    else:\n",
    "        num *= int(data[i])\n",
    "print(num)"
   ]
  },
  {
   "cell_type": "code",
   "execution_count": 54,
   "id": "89bf4f77",
   "metadata": {},
   "outputs": [
    {
     "name": "stdout",
     "output_type": "stream",
     "text": [
      "123402\n",
      "LUCKY\n"
     ]
    }
   ],
   "source": [
    "# 실습 6\n",
    "# 백준 18406 럭키 스트레이트\n",
    "n = input()\n",
    "a = len(n)//2\n",
    "sum1 = 0\n",
    "sum2 = 0\n",
    "for i in range(a):\n",
    "    sum1 += int(n[i])\n",
    "for i in range(a, len(n)):\n",
    "    sum2 += int(n[i])\n",
    "if sum1 == sum2:\n",
    "    print(\"LUCKY\")\n",
    "else:\n",
    "    print(\"READY\")"
   ]
  },
  {
   "cell_type": "code",
   "execution_count": 46,
   "id": "a398f786",
   "metadata": {},
   "outputs": [
    {
     "name": "stdout",
     "output_type": "stream",
     "text": [
      "121\n",
      "144\n"
     ]
    }
   ],
   "source": [
    "# 실습 7\n",
    "# PRO 정수 제곱근 판별\n",
    "n = int(input())\n",
    "def func(n):\n",
    "    a = 0\n",
    "    num = n ** 0.5\n",
    "    if num == int(num):\n",
    "        a = (num + 1) ** 2\n",
    "    else:\n",
    "        a = -1\n",
    "    return int(a)\n",
    "print(func(n))"
   ]
  }
 ],
 "metadata": {
  "kernelspec": {
   "display_name": "Python 3 (ipykernel)",
   "language": "python",
   "name": "python3"
  },
  "language_info": {
   "codemirror_mode": {
    "name": "ipython",
    "version": 3
   },
   "file_extension": ".py",
   "mimetype": "text/x-python",
   "name": "python",
   "nbconvert_exporter": "python",
   "pygments_lexer": "ipython3",
   "version": "3.9.13"
  }
 },
 "nbformat": 4,
 "nbformat_minor": 5
}
