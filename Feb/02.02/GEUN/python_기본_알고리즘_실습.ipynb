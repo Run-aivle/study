{
 "cells": [
  {
   "cell_type": "markdown",
   "id": "d42ead8f",
   "metadata": {},
   "source": [
    "### 실습 1\n",
    "* 네 정수의 최댓값을 구하는 함수를 작성하고 값을 입력받아 최댓값을 출력하라"
   ]
  },
  {
   "cell_type": "code",
   "execution_count": 2,
   "id": "3d7c0c77",
   "metadata": {},
   "outputs": [
    {
     "name": "stdout",
     "output_type": "stream",
     "text": [
      "입력 : 2\n",
      "입력 : 54\n",
      "입력 : 6\n",
      "입력 : 85\n",
      "maxnum:85\n"
     ]
    }
   ],
   "source": [
    "# My Answer\n",
    "x = int(input('입력 : '))\n",
    "y = int(input('입력 : '))\n",
    "z = int(input('입력 : '))\n",
    "h = int(input('입력 : '))\n",
    "maxnum = x\n",
    "if maxnum < y:\n",
    "    maxnum = y\n",
    "if maxnum < z:\n",
    "    maxnum = z\n",
    "if maxnum < h:\n",
    "    maxnum = h\n",
    "print(f'maxnum:{maxnum}')"
   ]
  },
  {
   "cell_type": "code",
   "execution_count": null,
   "id": "47eb2cec",
   "metadata": {},
   "outputs": [],
   "source": []
  },
  {
   "cell_type": "markdown",
   "id": "f1b90691",
   "metadata": {},
   "source": [
    "### 실습 2\n",
    "* 다음은 A, B 두 수도 회사의 요금 체계이다.\n",
    "    * A: 1L 당 요금 100원,\n",
    "    * B: 50리터 이하 1L당 요금 150원, 50리터 초과는 1L당 75원\n",
    "* 수도 회사와 수도 사용량을 입력 받아서 지불 해야하는 수도 요금을 계산하는 waterPay( )를 만들고, 수도 회사와 수도 사용량을 입력 받아 요금을 출력하라."
   ]
  },
  {
   "cell_type": "code",
   "execution_count": 3,
   "id": "991f6316",
   "metadata": {},
   "outputs": [
    {
     "name": "stdout",
     "output_type": "stream",
     "text": [
      "회사입력 : B\n",
      "수도량 입력 : 5\n",
      "750\n"
     ]
    }
   ],
   "source": [
    "# My Answer\n",
    "def waterPay(a, b):\n",
    "    if a == 'A':\n",
    "        print(b*100)\n",
    "    else:\n",
    "        if b <= 50:\n",
    "            print(b*150)\n",
    "        else:\n",
    "            print(50*150 + (b-50)*75)\n",
    "            \n",
    "a = input('회사입력 : ')\n",
    "b = int(input('수도량 입력 : '))\n",
    "waterPay(a, b)"
   ]
  },
  {
   "cell_type": "code",
   "execution_count": null,
   "id": "3cab63f8",
   "metadata": {},
   "outputs": [],
   "source": []
  },
  {
   "cell_type": "markdown",
   "id": "d8dde36f",
   "metadata": {},
   "source": [
    "### 실습3\n",
    "* 앞 페이지의 코드에서 for loop 안의 if 문에서 앞부분 if는 반복 시에 대부분시행되지만 else 부분은 맨 마지막에만 시행된다. \n",
    "* 따라서 else 에 해당하는 부분을 반복 부분이 아니고 반복이 끝난 이후에 시행되도록 코드를 변경하라."
   ]
  },
  {
   "cell_type": "code",
   "execution_count": 4,
   "id": "8ea7d409",
   "metadata": {},
   "outputs": [
    {
     "name": "stdout",
     "output_type": "stream",
     "text": [
      "입력 : 21\n",
      "입력 : 5\n",
      "5 + 6 + 7 + 8 + 9 + 10 + 11 + 12 + 13 + 14 + 15 + 16 + 17 + 18 + 19 + 20 + 21 = 221\n"
     ]
    }
   ],
   "source": [
    "# My Answer\n",
    "a = int(input('입력 : '))\n",
    "b = int(input('입력 : '))\n",
    "if a > b:\n",
    "    a,b = b,a\n",
    "sum = 0\n",
    "\n",
    "for i in range(a, b+1):\n",
    "    if i < b:\n",
    "        print(f'{i} + ', end='')\n",
    "    sum += i\n",
    "print(f'{b} = {sum}')"
   ]
  },
  {
   "cell_type": "markdown",
   "id": "deb85c65",
   "metadata": {},
   "source": [
    "### 실습 4\n",
    "* 앞 페이지의 코드에서는 두 변의 길이 순서를 고려하지 않고 가능한 조합만 표시되었다. \n",
    "* 앞 변과 뒷 변의 길이를 고려하여 가능한 모든 경우가 표시되게 수정하여라\n",
    "* 출력결과 : 가로, 세로 길이가 정수이고 넓이가 area인 직사각형에서 가능한 변의 길이 나열"
   ]
  },
  {
   "cell_type": "code",
   "execution_count": 5,
   "id": "ca364e29",
   "metadata": {},
   "outputs": [
    {
     "name": "stdout",
     "output_type": "stream",
     "text": [
      "직사각형의 넓이를 입력하세요.: 20\n",
      "1 x 20\n",
      "2 x 10\n",
      "4 x 5\n",
      "5 x 4\n",
      "10 x 2\n",
      "20 x 1\n"
     ]
    }
   ],
   "source": [
    "# My Answer\n",
    "area = int(input('직사각형의 넓이를 입력하세요.: '))\n",
    "\n",
    "for i in range(1, area + 1):\n",
    "    # if i * i > area: break       \n",
    "    if area % i: continue\n",
    "    print(f'{i} x {area // i}')"
   ]
  },
  {
   "attachments": {},
   "cell_type": "markdown",
   "id": "74c6ea4a",
   "metadata": {},
   "source": [
    "### 실습5\n",
    "* 다음과 같이 계산되는 전기 요금 산출 함수 electricPay( )를 만들고, 전기사용량(kWh)을 인수로 전해주면 전기 요금(원)을 계산하여 return해 준다\n",
    "    * 기본요금: 100kWh 미만 사용 : 410, 100 kWh 이상 200 kWh 이하 사용 : 910, 200 kWh 초과 사용  : 1600\n",
    "    * 전력량 요금 : 처음 ~ 100kWh : 60.7, 100kWh ~ 200kWh : 125.9, 200kWh 초과 : 187.9\n",
    "* 예를 들어 한달 전기 사용량이 250kWh일 경우, 기본요금 1600원에 전력량 요금이 100kWh x 60.7원+100kWh x 125.9원+ 50kWh x 187.9원= 28,055원이어서합산하면29,655원이다.\n",
    "* 이 요금 합계에 부가가치세 10% (29,655원 x 0.1 = 2965.5원)와 전력산업기반기금 3.7% (29,655원 x 0.037 = 1097.235원)을 더하면 총 전기요은 29,655원 + 2965.5원 + 1097.235원 = 33717원 (1원 미만 절사) 이다. \n",
    "* (실수 값을 가진 변수를 int 를 활용하여 정수로 변경하면 소수점 값들은 버려진다.)\n"
   ]
  },
  {
   "cell_type": "code",
   "execution_count": 64,
   "id": "a6771c9a",
   "metadata": {},
   "outputs": [
    {
     "name": "stdout",
     "output_type": "stream",
     "text": [
      "전기 사용량: 250\n",
      "33717\n"
     ]
    }
   ],
   "source": [
    "# My Answer\n",
    "ele = int(input('전기 사용량: '))\n",
    "pay = 0\n",
    "def electricPay(ele):\n",
    "    if ele < 100:\n",
    "        pay = 410 + ele*60.7\n",
    "    elif ele <=200:\n",
    "        pay = 910 + 60.7*100 + (ele-100)*125.9\n",
    "    else:\n",
    "        pay = 1600 + 60.7*100 + 125.9*100 + (ele-200)*187.9\n",
    "    pay = (pay*1.1) + (pay*0.037)\n",
    "    \n",
    "    return int(pay)\n",
    "print(f'{electricPay(ele)}')"
   ]
  },
  {
   "cell_type": "markdown",
   "id": "ea6c75dc",
   "metadata": {},
   "source": [
    "### 실습6\n",
    "*  (+) 와 (–) 번갈아 가면서 출력하려고 하며, 몇 개를 출력 할지는 입력을 받아 입력된 개수만큼 출력하라"
   ]
  },
  {
   "cell_type": "code",
   "execution_count": 6,
   "id": "4c52aa96",
   "metadata": {},
   "outputs": [
    {
     "name": "stdout",
     "output_type": "stream",
     "text": [
      "how? 13\n",
      "+-+-+-+-+-+-+"
     ]
    }
   ],
   "source": [
    "# My Answer\n",
    "num = int(input('how? '))\n",
    "for i in range(1, num+1):\n",
    "    if i % 2 != 0:\n",
    "        print('+', end='')\n",
    "    else:\n",
    "        print('-', end='')\n"
   ]
  },
  {
   "cell_type": "markdown",
   "id": "0a74afb4",
   "metadata": {},
   "source": [
    "### 실습9\n",
    "*  1부터 12까지를 for loop를 활용하여 출력하는 데, 8은 건너뛰고 출력하라."
   ]
  },
  {
   "cell_type": "code",
   "execution_count": 7,
   "id": "9b43b594",
   "metadata": {},
   "outputs": [
    {
     "name": "stdout",
     "output_type": "stream",
     "text": [
      "1\n",
      "2\n",
      "3\n",
      "4\n",
      "5\n",
      "6\n",
      "7\n",
      "9\n",
      "10\n",
      "11\n",
      "12\n"
     ]
    }
   ],
   "source": [
    "# My Answer\n",
    "for i in range(1, 13):\n",
    "    if(i == 8):\n",
    "        continue\n",
    "    print(i)"
   ]
  },
  {
   "cell_type": "markdown",
   "id": "cee9fad7",
   "metadata": {},
   "source": [
    "### 실습10\n",
    "*  사용자에게 정수를 입력 받아, root ** pwr 값이 사용자가 입력 한 정수와 같은 두 개의 정수 root 및 pwr을 찾아 출력하라 (단, 1 < pwr < 6 ). 그러한 정수 쌍이 없으면 결과가 없음을 출력하라. \n",
    "* (root ** pwr은 root를 pwr 만큼 거듭제곱하였다는 뜻이다. 예를 들어 2**3 은 2의 세 제곱이며 값은 8이다.)"
   ]
  },
  {
   "cell_type": "code",
   "execution_count": 8,
   "id": "f5acf3bb",
   "metadata": {},
   "outputs": [
    {
     "name": "stdout",
     "output_type": "stream",
     "text": [
      "입력 : 12\n",
      "결과 없음\n"
     ]
    }
   ],
   "source": [
    "# My Answer\n",
    "num = int(input('입력 : '))\n",
    "check = 0\n",
    "for i in range(2, 7):\n",
    "    for k in range(1, num+1):\n",
    "        result = k ** i\n",
    "        if result == num:\n",
    "            print(f'{k}**{i}')\n",
    "            check += 1\n",
    "\n",
    "if check == 0:\n",
    "    print('결과 없음')"
   ]
  },
  {
   "cell_type": "code",
   "execution_count": null,
   "id": "2f524ba3",
   "metadata": {},
   "outputs": [],
   "source": []
  }
 ],
 "metadata": {
  "kernelspec": {
   "display_name": "Python 3 (ipykernel)",
   "language": "python",
   "name": "python3"
  },
  "language_info": {
   "codemirror_mode": {
    "name": "ipython",
    "version": 3
   },
   "file_extension": ".py",
   "mimetype": "text/x-python",
   "name": "python",
   "nbconvert_exporter": "python",
   "pygments_lexer": "ipython3",
   "version": "3.9.13"
  }
 },
 "nbformat": 4,
 "nbformat_minor": 5
}
