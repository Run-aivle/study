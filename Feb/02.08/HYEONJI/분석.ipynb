{
 "cells": [
  {
   "cell_type": "code",
   "execution_count": 1,
   "id": "c9aac13b-8496-4989-b9c4-9a47db951806",
   "metadata": {},
   "outputs": [],
   "source": [
    "import numpy as np\n",
    "import pandas as pd\n",
    "\n",
    "import matplotlib.pyplot as plt\n",
    "import seaborn as sns"
   ]
  },
  {
   "cell_type": "markdown",
   "id": "e57a9955-d29a-456f-88ef-cef919f88c9f",
   "metadata": {
    "tags": []
   },
   "source": [
    "**최빈값**\n",
    "- 가장 많이 나타나는 값, 빈도가 높은 값\n",
    "- 이산형 데이터(셀 수 있는 데이터)"
   ]
  },
  {
   "cell_type": "code",
   "execution_count": null,
   "id": "c878210a-e7fc-4c91-9b66-98db72d88a50",
   "metadata": {},
   "outputs": [],
   "source": [
    "data[' '].mode()"
   ]
  },
  {
   "cell_type": "markdown",
   "id": "a211eb73-7e51-46d0-98af-749344daff19",
   "metadata": {},
   "source": [
    "**히스토그램**\n",
    "- 히스토그램 단점\n",
    "    - 구간의 너비 기준에 따라 전혀 다른 모양이 될 수 있다"
   ]
  },
  {
   "cell_type": "code",
   "execution_count": null,
   "id": "996d34f6-c868-4f0a-8a0d-07e5c8e66848",
   "metadata": {},
   "outputs": [],
   "source": [
    "# bins : 구간의 갯수, edgecolor : 테두리 색상\n",
    "plt.hist(data.'열 이름', bins = 5, edgecolor = 'gray')\n",
    "\n",
    "sns.histplot(x = '열 이름', data = data1, bins = 20)"
   ]
  },
  {
   "cell_type": "markdown",
   "id": "49c5d3d2-a758-46d7-8fa5-6f2edc688b80",
   "metadata": {
    "tags": []
   },
   "source": [
    "**밀도함수 그래프(kde plot)**\n",
    "- 막대의 너비를 가정하지 않고 모든 점에서 데이터의 밀도를 추정하는 커널 밀도 추정 방식을 사용\n",
    "- 밀도 함수 그래프 아래 면적은 1 이다"
   ]
  },
  {
   "cell_type": "code",
   "execution_count": null,
   "id": "11fe3868-1b9d-4633-86d7-98cf12d4fe65",
   "metadata": {},
   "outputs": [],
   "source": [
    "sns.kdeplot(data[' '])"
   ]
  },
  {
   "cell_type": "markdown",
   "id": "bbbc46d4-4117-44f7-9302-10771479e93b",
   "metadata": {},
   "source": [
    "**plt.boxplot**\n",
    "- 값에 NaN이 있으면 그래프 X\n",
    "\n",
    "**sns.boxplot**\n",
    "- seaborn 패키지 함수들은 NaN를 알아서 빼준다"
   ]
  },
  {
   "cell_type": "code",
   "execution_count": null,
   "id": "4a061464-b29d-4d2e-a5e8-e4da2914dd0a",
   "metadata": {},
   "outputs": [],
   "source": [
    "# 원래 세로 boxplot 이지만 vert = False 는 가로로 나타남\n",
    "plt.boxplot(data[' '], vert = False)"
   ]
  },
  {
   "cell_type": "markdown",
   "id": "6a707293-55d9-4e30-86e6-e3ce59647f0c",
   "metadata": {},
   "source": [
    "**범주형 변수**\n",
    "- 범주별 빈도수 .value_counts() : 범주의 개수와 상관 없이 범주 별 개수를 count\n",
    "- 범주별 비율 .value_counts()를 전체 데이터 건수로 나눠준다"
   ]
  },
  {
   "cell_type": "code",
   "execution_count": null,
   "id": "e774c02a-4506-44b1-920f-067b6e918a3d",
   "metadata": {},
   "outputs": [],
   "source": [
    "# 범주별 빈도수\n",
    "data[' '].value_counts()\n",
    "\n",
    "# 범주별 비율\n",
    "data[' '].value_counts() / data.shape[0] # 빈도 수 / 전체 데이터 건수"
   ]
  },
  {
   "cell_type": "markdown",
   "id": "3c91dc61-3112-4889-a25e-d5dbd72aab0d",
   "metadata": {},
   "source": [
    "**bar chart**\n",
    "- plt.bar() 를 이용하려면 먼저 집계한 후 결과를 가지고 그래프를 그린다\n",
    "- countplot은 집계 + bar plot 한꺼번에 해결"
   ]
  },
  {
   "cell_type": "code",
   "execution_count": null,
   "id": "5018131b-1c20-4f41-ac99-b205184b51c8",
   "metadata": {},
   "outputs": [],
   "source": [
    "sns.countplot(data[' '])"
   ]
  },
  {
   "cell_type": "markdown",
   "id": "90458cb6-762a-4d0d-8779-cdac0460ff16",
   "metadata": {},
   "source": [
    "**pie chart**\n",
    "- 범주별 비율 비교할 때 사용\n",
    "- plt.pie(값, labels = 범주이름, autopct = '%.2f%%')\n",
    "    - startangle = 90:90도 부터 시작\n",
    "    - counterclock = False : 시계 방향\n",
    "    - explode = [0.05, 0.05, 0.05] : 중심으로 부터 1, 2, 3을 얼만큼 띄운다\n",
    "    - shadow = True : 그림자"
   ]
  },
  {
   "cell_type": "code",
   "execution_count": null,
   "id": "8534dfc0-8dac-4cea-ace8-e82abe6c55e1",
   "metadata": {},
   "outputs": [],
   "source": [
    "plt.pie(data.values, labels = data.index, autopct = '%.2f%%', \n",
    "        startangle=90, counterclock=False, \n",
    "        explode = [0.05, 0.05, 0.05], shadow=True)"
   ]
  }
 ],
 "metadata": {
  "kernelspec": {
   "display_name": "Python 3 (ipykernel)",
   "language": "python",
   "name": "python3"
  },
  "language_info": {
   "codemirror_mode": {
    "name": "ipython",
    "version": 3
   },
   "file_extension": ".py",
   "mimetype": "text/x-python",
   "name": "python",
   "nbconvert_exporter": "python",
   "pygments_lexer": "ipython3",
   "version": "3.9.13"
  }
 },
 "nbformat": 4,
 "nbformat_minor": 5
}
