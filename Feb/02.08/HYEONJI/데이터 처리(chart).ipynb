{
 "cells": [
  {
   "cell_type": "code",
   "execution_count": 1,
   "id": "ae221166-6c88-4a9a-8995-97c22c0172cb",
   "metadata": {},
   "outputs": [],
   "source": [
    "import pandas as pd\n",
    "import numpy as np\n",
    "\n",
    "# 시각화 라이브러리\n",
    "import matplotlib.pyplot as plt\n",
    "import seaborn as sns"
   ]
  },
  {
   "cell_type": "markdown",
   "id": "7bf0cf0f-503c-41e5-8c23-d391ede86a10",
   "metadata": {},
   "source": [
    "**dropna**\n",
    "- 결측값 있는 행(axis = 0), 열(axis = 1) 삭제"
   ]
  },
  {
   "cell_type": "code",
   "execution_count": null,
   "id": "4eac0dc8-6c69-4d7a-89e2-81d937172793",
   "metadata": {},
   "outputs": [],
   "source": [
    "data.dropna(axis = 0, inplace = True)\n",
    "data.dropna(axis = 1, inplace = True)"
   ]
  },
  {
   "cell_type": "markdown",
   "id": "9f94cdb5-d889-48b6-85c9-48e901e911f1",
   "metadata": {},
   "source": [
    "**차트 그리기**\n",
    "- plt.plot(1차원 값)\n",
    "    - x축 : 인덱스\n",
    "    - y축 : 1차원 값\n",
    "- plt.plot(x축, y축)"
   ]
  },
  {
   "cell_type": "code",
   "execution_count": null,
   "id": "e9f61156-325e-4930-ae64-365f1050790d",
   "metadata": {},
   "outputs": [],
   "source": [
    "plt.plot(data['a'])\n",
    "\n",
    "# 보여주기\n",
    "plt.show()\n",
    "\n",
    "# 두개 다 그래프 동일하게 나옴 (코드만 다름)\n",
    "plt.plot(data['a', 'b'])\n",
    "plt.plot('a', 'b', data = data)"
   ]
  },
  {
   "cell_type": "markdown",
   "id": "e5535897-9b2b-4aa6-a7fa-62763ca0781f",
   "metadata": {},
   "source": [
    "**차트 꾸미기**"
   ]
  },
  {
   "cell_type": "code",
   "execution_count": null,
   "id": "8ee62928-e1e3-4f74-bf08-96dad6d7332d",
   "metadata": {},
   "outputs": [],
   "source": [
    "plt.xticks(rotation = 50) # x축 이름을 50도 돌려서 나타냄\n",
    "plt.xlabel('a') # x축 이름 지정\n",
    "plt.ylabel('b') # y축 이름 지정\n",
    "plt.title('title name') # 타이틀 이름\n",
    "\n",
    "# 색깔, 라인스타일 변경 가능\n",
    "color = ' ' , linestyle = ' ' # 'solid' - , 'dashed' -- , 'dashdot' -. , 'dotted' ..\n",
    "\n",
    "# 레이블 값\n",
    "label = ' '\n",
    "\n",
    "# 레이블 표시 위치\n",
    "plt.legend(loc = ' ')\n",
    "\n",
    "# 배경에 그리드\n",
    "plt.grid()\n",
    "\n",
    "# 그래프 크기\n",
    "plt.figure(figsize = (10, 7))\n",
    "\n",
    "# 수평선, 수직선 추가\n",
    "plt.axvline(값, color = ' ', linestyle = ' ') # x축 값 선\n",
    "plt.axhline(값, color = ' ', linestyle = ' ') # y축 값 선\n",
    "\n",
    "# 그래프 간 간격 맞추기\n",
    "plt.tight_layout()"
   ]
  },
  {
   "cell_type": "markdown",
   "id": "a62e9a1a-e46d-4a60-988e-f5771885b803",
   "metadata": {},
   "source": [
    "**차트**"
   ]
  },
  {
   "cell_type": "code",
   "execution_count": null,
   "id": "bbd6e746-a583-42f0-927b-d4aacea1741a",
   "metadata": {},
   "outputs": [],
   "source": [
    "# 히스토그램\n",
    "plt.hist(data[' '])\n",
    "\n",
    "# density plot\n",
    "sns.kdeplot(data[' '])\n",
    "\n",
    "# boxplot\n",
    "plt.boxplot(data[' '])\n",
    "\n",
    "# 산점도\n",
    "plt.scatter(data[' '], data[' '])"
   ]
  }
 ],
 "metadata": {
  "kernelspec": {
   "display_name": "Python 3 (ipykernel)",
   "language": "python",
   "name": "python3"
  },
  "language_info": {
   "codemirror_mode": {
    "name": "ipython",
    "version": 3
   },
   "file_extension": ".py",
   "mimetype": "text/x-python",
   "name": "python",
   "nbconvert_exporter": "python",
   "pygments_lexer": "ipython3",
   "version": "3.9.13"
  }
 },
 "nbformat": 4,
 "nbformat_minor": 5
}
