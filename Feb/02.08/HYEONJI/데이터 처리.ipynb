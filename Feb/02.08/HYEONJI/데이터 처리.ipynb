{
 "cells": [
  {
   "cell_type": "markdown",
   "id": "5e488793-8fea-469e-a2f2-99b02a571590",
   "metadata": {},
   "source": [
    "**날짜**\n",
    "- pd.to_datetime(날짜데이터, format = '입력되는 날짜 형식')"
   ]
  },
  {
   "cell_type": "code",
   "execution_count": null,
   "id": "75a7fb66-21d3-42b9-847c-152a41618a30",
   "metadata": {},
   "outputs": [],
   "source": [
    "# datetime type으로 변형\n",
    "data['Date'] = pd.to_datetime(data['Date'])"
   ]
  },
  {
   "cell_type": "code",
   "execution_count": null,
   "id": "2e838a42-c53c-4e6e-86f7-cdbbf867a329",
   "metadata": {},
   "outputs": [],
   "source": [
    "# format = '%d/%m/%Y' 입력되는 날짜 형태를 알려준다\n",
    "pd.to_datetime(date, format = '%d/%m/%Y')"
   ]
  },
  {
   "cell_type": "markdown",
   "id": "bb5868fe-df10-402b-b27f-65649ca2fa06",
   "metadata": {
    "tags": []
   },
   "source": [
    "**날짜 요소**"
   ]
  },
  {
   "cell_type": "code",
   "execution_count": null,
   "id": "a49f1423-c3ab-411f-889f-3d543db0ba02",
   "metadata": {},
   "outputs": [],
   "source": [
    "# 연도\n",
    "date.dt.year\n",
    "\n",
    "# 월\n",
    "date.dt.month\n",
    "\n",
    "# 일\n",
    "date.dt.day\n",
    "\n",
    "# 요일\n",
    "date.dt.weekday\n",
    "\n",
    "# 요일 이름\n",
    "date.dt.day_name()"
   ]
  },
  {
   "cell_type": "code",
   "execution_count": null,
   "id": "a3b2dd39-f22b-43fc-8d5c-a8803fb6bc84",
   "metadata": {},
   "outputs": [],
   "source": []
  }
 ],
 "metadata": {
  "kernelspec": {
   "display_name": "Python 3 (ipykernel)",
   "language": "python",
   "name": "python3"
  },
  "language_info": {
   "codemirror_mode": {
    "name": "ipython",
    "version": 3
   },
   "file_extension": ".py",
   "mimetype": "text/x-python",
   "name": "python",
   "nbconvert_exporter": "python",
   "pygments_lexer": "ipython3",
   "version": "3.9.16"
  }
 },
 "nbformat": 4,
 "nbformat_minor": 5
}
