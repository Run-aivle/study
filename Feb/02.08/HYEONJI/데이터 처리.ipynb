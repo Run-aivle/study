{
 "cells": [
  {
   "cell_type": "markdown",
   "id": "b55508fa-fc71-4052-bc5d-c80520ffaf54",
   "metadata": {},
   "source": [
    "**시계열 데이터**\n",
    "- 행과 행에 시간의 순서가 있고 행과 행의 시간 간격이 동일한 데이터"
   ]
  },
  {
   "cell_type": "markdown",
   "id": "5e488793-8fea-469e-a2f2-99b02a571590",
   "metadata": {},
   "source": [
    "**날짜**\n",
    "- pd.to_datetime(날짜데이터, format = '입력되는 날짜 형식')"
   ]
  },
  {
   "cell_type": "code",
   "execution_count": null,
   "id": "75a7fb66-21d3-42b9-847c-152a41618a30",
   "metadata": {},
   "outputs": [],
   "source": [
    "# datetime type으로 변형\n",
    "data['Date'] = pd.to_datetime(data['Date'])"
   ]
  },
  {
   "cell_type": "code",
   "execution_count": null,
   "id": "2e838a42-c53c-4e6e-86f7-cdbbf867a329",
   "metadata": {},
   "outputs": [],
   "source": [
    "# format = '%d/%m/%Y' 입력되는 날짜 형태를 알려준다\n",
    "pd.to_datetime(date, format = '%d/%m/%Y')"
   ]
  },
  {
   "cell_type": "markdown",
   "id": "bb5868fe-df10-402b-b27f-65649ca2fa06",
   "metadata": {
    "tags": []
   },
   "source": [
    "**날짜 요소**"
   ]
  },
  {
   "cell_type": "code",
   "execution_count": null,
   "id": "a49f1423-c3ab-411f-889f-3d543db0ba02",
   "metadata": {
    "tags": []
   },
   "outputs": [],
   "source": [
    "# 연도\n",
    "date.dt.year\n",
    "# 월\n",
    "date.dt.month\n",
    "# 일\n",
    "date.dt.day\n",
    "# 요일\n",
    "date.dt.weekday #(0 - 월, 1 - 화)\n",
    "# 요일 이름\n",
    "date.dt.day_name()\n",
    "# 분기\n",
    "date.dt.quarter\n",
    "# 년, 주, 일 계산\n",
    "data.dt.isocalendar().week # 주 계산"
   ]
  },
  {
   "cell_type": "markdown",
   "id": "b6466f78-9017-4f95-9879-165e83f68609",
   "metadata": {},
   "source": [
    "**shift**\n",
    "- 시계열 데이터에서 시간의 흐름 전 후로 정보를 이동시킬 때 사용"
   ]
  },
  {
   "cell_type": "code",
   "execution_count": 10,
   "id": "62739119-0c44-4c36-b974-b2c60c6ae4eb",
   "metadata": {},
   "outputs": [],
   "source": [
    "import pandas as pd\n",
    "import numpy as np"
   ]
  },
  {
   "cell_type": "code",
   "execution_count": 17,
   "id": "68a249c7-6b4f-462a-a72c-0dc9900d114c",
   "metadata": {},
   "outputs": [],
   "source": [
    "data = pd.DataFrame({'a' : [1, 3, 5, 7, 9]})"
   ]
  },
  {
   "cell_type": "code",
   "execution_count": 23,
   "id": "21fe53f3-f340-4002-b6d1-c59ed1acfcb4",
   "metadata": {},
   "outputs": [],
   "source": [
    "# a열에 있는 이전 행의 값을 추가\n",
    "data['a1'] = data['a'].shift() # default = 1\n",
    "\n",
    "# a열에 있는 전전행의 값을 추가\n",
    "data['a2'] = data['a'].shift(2)\n",
    "\n",
    "# a열에 있는 다음행의 값을 추가\n",
    "data['a3'] = data['a'].shift(-1)"
   ]
  },
  {
   "cell_type": "code",
   "execution_count": 24,
   "id": "9f352025-7435-4ce1-bc13-3d47dfb1e037",
   "metadata": {},
   "outputs": [
    {
     "data": {
      "text/html": [
       "<div>\n",
       "<style scoped>\n",
       "    .dataframe tbody tr th:only-of-type {\n",
       "        vertical-align: middle;\n",
       "    }\n",
       "\n",
       "    .dataframe tbody tr th {\n",
       "        vertical-align: top;\n",
       "    }\n",
       "\n",
       "    .dataframe thead th {\n",
       "        text-align: right;\n",
       "    }\n",
       "</style>\n",
       "<table border=\"1\" class=\"dataframe\">\n",
       "  <thead>\n",
       "    <tr style=\"text-align: right;\">\n",
       "      <th></th>\n",
       "      <th>a</th>\n",
       "      <th>a1</th>\n",
       "      <th>a2</th>\n",
       "      <th>a3</th>\n",
       "    </tr>\n",
       "  </thead>\n",
       "  <tbody>\n",
       "    <tr>\n",
       "      <th>0</th>\n",
       "      <td>1</td>\n",
       "      <td>NaN</td>\n",
       "      <td>NaN</td>\n",
       "      <td>3.0</td>\n",
       "    </tr>\n",
       "    <tr>\n",
       "      <th>1</th>\n",
       "      <td>3</td>\n",
       "      <td>1.0</td>\n",
       "      <td>NaN</td>\n",
       "      <td>5.0</td>\n",
       "    </tr>\n",
       "    <tr>\n",
       "      <th>2</th>\n",
       "      <td>5</td>\n",
       "      <td>3.0</td>\n",
       "      <td>1.0</td>\n",
       "      <td>7.0</td>\n",
       "    </tr>\n",
       "    <tr>\n",
       "      <th>3</th>\n",
       "      <td>7</td>\n",
       "      <td>5.0</td>\n",
       "      <td>3.0</td>\n",
       "      <td>9.0</td>\n",
       "    </tr>\n",
       "    <tr>\n",
       "      <th>4</th>\n",
       "      <td>9</td>\n",
       "      <td>7.0</td>\n",
       "      <td>5.0</td>\n",
       "      <td>NaN</td>\n",
       "    </tr>\n",
       "  </tbody>\n",
       "</table>\n",
       "</div>"
      ],
      "text/plain": [
       "   a   a1   a2   a3\n",
       "0  1  NaN  NaN  3.0\n",
       "1  3  1.0  NaN  5.0\n",
       "2  5  3.0  1.0  7.0\n",
       "3  7  5.0  3.0  9.0\n",
       "4  9  7.0  5.0  NaN"
      ]
     },
     "execution_count": 24,
     "metadata": {},
     "output_type": "execute_result"
    }
   ],
   "source": [
    "data.head()"
   ]
  },
  {
   "cell_type": "markdown",
   "id": "d95e3605-b81f-42bf-802e-0e5f1ac66466",
   "metadata": {
    "tags": []
   },
   "source": [
    "**rolling().집계함수**\n",
    "- 시간의 흐름에 따라 일정 기간 동안 평균을 이동하면서 구하기\n",
    "- rolling(n) : n 기본값은 1, min_periods : 최소 데이터 수"
   ]
  },
  {
   "cell_type": "code",
   "execution_count": 29,
   "id": "97a4c8c9-8cef-427f-b41b-714a0a17dcf2",
   "metadata": {},
   "outputs": [],
   "source": [
    "# 3개 데이터의 평균\n",
    "data['a1'] = data['a'].rolling(3).mean()\n",
    "\n",
    "# 3개 데이터 중 최댓값\n",
    "data['a2'] = data['a'].rolling(3).max()\n",
    "\n",
    "# 3개 데이터의 평균인데 값이 1개만 있어도 평균 출력\n",
    "data['a3'] = data['a'].rolling(3, min_periods = 1).mean()"
   ]
  },
  {
   "cell_type": "code",
   "execution_count": 30,
   "id": "ef7ddceb-029c-4940-8dfe-4fb8b3121938",
   "metadata": {},
   "outputs": [
    {
     "data": {
      "text/html": [
       "<div>\n",
       "<style scoped>\n",
       "    .dataframe tbody tr th:only-of-type {\n",
       "        vertical-align: middle;\n",
       "    }\n",
       "\n",
       "    .dataframe tbody tr th {\n",
       "        vertical-align: top;\n",
       "    }\n",
       "\n",
       "    .dataframe thead th {\n",
       "        text-align: right;\n",
       "    }\n",
       "</style>\n",
       "<table border=\"1\" class=\"dataframe\">\n",
       "  <thead>\n",
       "    <tr style=\"text-align: right;\">\n",
       "      <th></th>\n",
       "      <th>a</th>\n",
       "      <th>a1</th>\n",
       "      <th>a2</th>\n",
       "      <th>a3</th>\n",
       "    </tr>\n",
       "  </thead>\n",
       "  <tbody>\n",
       "    <tr>\n",
       "      <th>0</th>\n",
       "      <td>1</td>\n",
       "      <td>NaN</td>\n",
       "      <td>NaN</td>\n",
       "      <td>1.0</td>\n",
       "    </tr>\n",
       "    <tr>\n",
       "      <th>1</th>\n",
       "      <td>3</td>\n",
       "      <td>NaN</td>\n",
       "      <td>NaN</td>\n",
       "      <td>2.0</td>\n",
       "    </tr>\n",
       "    <tr>\n",
       "      <th>2</th>\n",
       "      <td>5</td>\n",
       "      <td>3.0</td>\n",
       "      <td>5.0</td>\n",
       "      <td>3.0</td>\n",
       "    </tr>\n",
       "    <tr>\n",
       "      <th>3</th>\n",
       "      <td>7</td>\n",
       "      <td>5.0</td>\n",
       "      <td>7.0</td>\n",
       "      <td>5.0</td>\n",
       "    </tr>\n",
       "    <tr>\n",
       "      <th>4</th>\n",
       "      <td>9</td>\n",
       "      <td>7.0</td>\n",
       "      <td>9.0</td>\n",
       "      <td>7.0</td>\n",
       "    </tr>\n",
       "  </tbody>\n",
       "</table>\n",
       "</div>"
      ],
      "text/plain": [
       "   a   a1   a2   a3\n",
       "0  1  NaN  NaN  1.0\n",
       "1  3  NaN  NaN  2.0\n",
       "2  5  3.0  5.0  3.0\n",
       "3  7  5.0  7.0  5.0\n",
       "4  9  7.0  9.0  7.0"
      ]
     },
     "execution_count": 30,
     "metadata": {},
     "output_type": "execute_result"
    }
   ],
   "source": [
    "data.head()"
   ]
  },
  {
   "cell_type": "markdown",
   "id": "cc665b7b-97e0-4a60-9ec7-66cb24e19492",
   "metadata": {},
   "source": [
    "**diff**\n",
    "- 특정 시점 데이터, 이전 시점 데이터와의 차이 구하기"
   ]
  },
  {
   "cell_type": "code",
   "execution_count": 34,
   "id": "a652cfb4-0377-4a8b-b96e-001236ea2280",
   "metadata": {},
   "outputs": [],
   "source": [
    "# a열 한 행마다 차이 구하기\n",
    "data['a1'] = data['a'].diff()\n",
    "\n",
    "# a열 두 행마다 차이 구하기\n",
    "data['a2'] = data['a'].diff(2)\n",
    "\n",
    "# a열 세 행마다 차이 구하기\n",
    "data['a3'] = data['a'].diff(3)"
   ]
  },
  {
   "cell_type": "code",
   "execution_count": 35,
   "id": "51d177f0-7b06-4140-8aef-509f42ef6422",
   "metadata": {},
   "outputs": [
    {
     "data": {
      "text/html": [
       "<div>\n",
       "<style scoped>\n",
       "    .dataframe tbody tr th:only-of-type {\n",
       "        vertical-align: middle;\n",
       "    }\n",
       "\n",
       "    .dataframe tbody tr th {\n",
       "        vertical-align: top;\n",
       "    }\n",
       "\n",
       "    .dataframe thead th {\n",
       "        text-align: right;\n",
       "    }\n",
       "</style>\n",
       "<table border=\"1\" class=\"dataframe\">\n",
       "  <thead>\n",
       "    <tr style=\"text-align: right;\">\n",
       "      <th></th>\n",
       "      <th>a</th>\n",
       "      <th>a1</th>\n",
       "      <th>a2</th>\n",
       "      <th>a3</th>\n",
       "    </tr>\n",
       "  </thead>\n",
       "  <tbody>\n",
       "    <tr>\n",
       "      <th>0</th>\n",
       "      <td>1</td>\n",
       "      <td>NaN</td>\n",
       "      <td>NaN</td>\n",
       "      <td>NaN</td>\n",
       "    </tr>\n",
       "    <tr>\n",
       "      <th>1</th>\n",
       "      <td>3</td>\n",
       "      <td>2.0</td>\n",
       "      <td>NaN</td>\n",
       "      <td>NaN</td>\n",
       "    </tr>\n",
       "    <tr>\n",
       "      <th>2</th>\n",
       "      <td>5</td>\n",
       "      <td>2.0</td>\n",
       "      <td>4.0</td>\n",
       "      <td>NaN</td>\n",
       "    </tr>\n",
       "    <tr>\n",
       "      <th>3</th>\n",
       "      <td>7</td>\n",
       "      <td>2.0</td>\n",
       "      <td>4.0</td>\n",
       "      <td>6.0</td>\n",
       "    </tr>\n",
       "    <tr>\n",
       "      <th>4</th>\n",
       "      <td>9</td>\n",
       "      <td>2.0</td>\n",
       "      <td>4.0</td>\n",
       "      <td>6.0</td>\n",
       "    </tr>\n",
       "  </tbody>\n",
       "</table>\n",
       "</div>"
      ],
      "text/plain": [
       "   a   a1   a2   a3\n",
       "0  1  NaN  NaN  NaN\n",
       "1  3  2.0  NaN  NaN\n",
       "2  5  2.0  4.0  NaN\n",
       "3  7  2.0  4.0  6.0\n",
       "4  9  2.0  4.0  6.0"
      ]
     },
     "execution_count": 35,
     "metadata": {},
     "output_type": "execute_result"
    }
   ],
   "source": [
    "data.head()"
   ]
  }
 ],
 "metadata": {
  "kernelspec": {
   "display_name": "Python 3",
   "language": "python",
   "name": "python3"
  },
  "language_info": {
   "codemirror_mode": {
    "name": "ipython",
    "version": 3
   },
   "file_extension": ".py",
   "mimetype": "text/x-python",
   "name": "python",
   "nbconvert_exporter": "python",
   "pygments_lexer": "ipython3",
   "version": "3.11.1"
  },
  "vscode": {
   "interpreter": {
    "hash": "d417a21d97a2e6b8832d21dc44f5cbe4be6e18325f874a8bb8484565b928cd54"
   }
  }
 },
 "nbformat": 4,
 "nbformat_minor": 5
}
