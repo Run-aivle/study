{
 "cells": [
  {
   "cell_type": "markdown",
   "id": "d2a6c8a4",
   "metadata": {},
   "source": [
    "# 시계열 데이터\n",
    "#### 시계열 데이터란\n",
    "* 행과 행에 시간의 순서(흐름)가 있고\n",
    "* 행과 행의 시간간격이 동일한 데이터\n",
    "* Time Series 또는 Sequential Data라고 한다."
   ]
  },
  {
   "cell_type": "markdown",
   "id": "c33a3d7e",
   "metadata": {},
   "source": [
    "## DatetimeIndex로 변환하기\n",
    "> 1. pd.date_range()\n",
    "    * date_range 함수는 시작일과 기간을 인수로 설정할 수 있고 freq 인수를 사용하면 특정 날짜만 생성되도록 할 수 있다.\n",
    "    * freq 인수 종류\n",
    "        * s : 초별\n",
    "        * T : 분별\n",
    "        * H : 시간별\n",
    "        * D : 일별\n",
    "        * W : 주별(일요일 기준)\n",
    "        * W-MON : 주별(월요일 기준)\n",
    "        * M : 월별(매월 마지막 날 기준)\n",
    "        * MS : 월별(매월 첫날 기준)\n",
    "        * B : 주말을 제외한 평일\n",
    "        * BM : 주말을 제외한 평일 중 매월 마지막 날\n",
    "        * BMS : 주말을 제외한 평일 중 매월 첫날\n",
    "          \n",
    "> 2. pd.to_datetime()\n",
    "    * pd.to_datetime 함수를 사용하여 DatetimeIndex를 생성할 수 있다.  \n",
    "    DatetimeIndex를 생성할 때 pd.to_datetime 함수를 사용하여 날짜를 나타내는 문자열을 자동으로 datetime 자료형으로 바꾸는데  \n",
    "    날짜를 입력하는 방법은 YYYY.MM.DD, YYYY-MM-DD, YYYY/MM/DD, YYYY MM DD 등 다양한 방법 모두 사용 가능하기 때문에  \n",
    "    개발자가 편한 방법으로 입력해도 무방하다."
   ]
  },
  {
   "cell_type": "code",
   "execution_count": 3,
   "id": "26c22d2a",
   "metadata": {},
   "outputs": [],
   "source": [
    "import pandas as pd\n",
    "import numpy as np"
   ]
  },
  {
   "cell_type": "code",
   "execution_count": 6,
   "id": "cab3fb74",
   "metadata": {},
   "outputs": [
    {
     "name": "stdout",
     "output_type": "stream",
     "text": [
      "DatetimeIndex(['2022-01-01', '2022-01-02', '2022-01-03', '2022-01-04',\n",
      "               '2022-01-05', '2022-01-06', '2022-01-07', '2022-01-08',\n",
      "               '2022-01-09', '2022-01-10',\n",
      "               ...\n",
      "               '2022-12-22', '2022-12-23', '2022-12-24', '2022-12-25',\n",
      "               '2022-12-26', '2022-12-27', '2022-12-28', '2022-12-29',\n",
      "               '2022-12-30', '2022-12-31'],\n",
      "              dtype='datetime64[ns]', length=365, freq='D')\n"
     ]
    }
   ],
   "source": [
    "# pd.date_range() 사용 -> freq인자를 주지 않으면 기본값으로 범위 안의 모든 날짜의 시계열 데이터를 생성\n",
    "day_idx = pd.date_range('2022-01-01', '2022-12-31')\n",
    "print(day_idx)"
   ]
  },
  {
   "cell_type": "code",
   "execution_count": 7,
   "id": "2fde4af6",
   "metadata": {},
   "outputs": [
    {
     "name": "stdout",
     "output_type": "stream",
     "text": [
      "DatetimeIndex(['2022-01-01', '2022-02-01', '2022-03-01', '2022-04-01',\n",
      "               '2022-05-01', '2022-06-01', '2022-07-01', '2022-08-01',\n",
      "               '2022-09-01', '2022-10-01', '2022-11-01', '2022-12-01'],\n",
      "              dtype='datetime64[ns]', freq='MS')\n"
     ]
    }
   ],
   "source": [
    "# freq = 'MS' 설정을 추가해 월별 첫 날의 날짜만 생성\n",
    "dayMS_idx = pd.date_range('2022-01-01', '2022-12-31', freq = 'MS')\n",
    "print(dayMS_idx)"
   ]
  },
  {
   "cell_type": "code",
   "execution_count": null,
   "id": "ea77c85e",
   "metadata": {},
   "outputs": [],
   "source": [
    "# pd.to_datetime() 사용"
   ]
  },
  {
   "cell_type": "code",
   "execution_count": 12,
   "id": "99b808bb",
   "metadata": {},
   "outputs": [
    {
     "data": {
      "text/plain": [
       "list"
      ]
     },
     "execution_count": 12,
     "metadata": {},
     "output_type": "execute_result"
    }
   ],
   "source": [
    "date = [\"2023-01-01\", \"2023-01-02\", \"2023-01-03\", \"2023-01-04\", \"2023-01-05\", \"2023-01-06\", \"2023-01-07\"]\n",
    "type(date)"
   ]
  },
  {
   "cell_type": "code",
   "execution_count": 13,
   "id": "457c9946",
   "metadata": {},
   "outputs": [
    {
     "data": {
      "text/plain": [
       "pandas.core.indexes.datetimes.DatetimeIndex"
      ]
     },
     "execution_count": 13,
     "metadata": {},
     "output_type": "execute_result"
    }
   ],
   "source": [
    "date_idx = pd.to_datetime(date)\n",
    "type(date_idx)"
   ]
  },
  {
   "cell_type": "code",
   "execution_count": 14,
   "id": "858e29fb",
   "metadata": {},
   "outputs": [
    {
     "name": "stdout",
     "output_type": "stream",
     "text": [
      "DatetimeIndex(['2023-01-01', '2023-01-02', '2023-01-03', '2023-01-04',\n",
      "               '2023-01-05', '2023-01-06', '2023-01-07'],\n",
      "              dtype='datetime64[ns]', freq=None)\n"
     ]
    }
   ],
   "source": [
    "print(date_idx)"
   ]
  },
  {
   "cell_type": "markdown",
   "id": "e712a9ce",
   "metadata": {},
   "source": [
    "## 날짜 요소 뽑기\n",
    "* 날짜 타입의 변수를 사용하여 날짜의 요소를 뽑아낼 수 있다.\n",
    "* 종류\n",
    "    * df['Date'].dt.date : YYYY-MM-DD\n",
    "    * df['Date'].dt.year : 연(4자리)\n",
    "    * df['Date'].dt.month : 월(숫자)\n",
    "    * df['Date'].dt.month_name() : 월(문자)\n",
    "    * df['Date'].dt.day : 일(숫자)\n",
    "    * df['Date'].dt.time : HH:MM:SS(문자)\n",
    "    * df['Date'].dt.hour : 시(숫자)\n",
    "    * df['Date'].dt.minute : 분(숫자)\n",
    "    * df['Date'].dt.second : 초(숫자)\n",
    "    * df['Date'].dt.quarter : 분기(숫자)\n",
    "    * df['Date'].dt.day_name() : 요일이름(문자)\n",
    "    * df['Date'].dt.weekday : 요일숫자(0-월, 1-화)(=dayofweek)\n",
    "    * df['Date'].dt.weekofyear : 연 기준 몇 주째(숫자)(week)\n",
    "    * df['Date'].dt.dayofyear : 연 기준 몇 일째(숫자)\n",
    "    * df['Date'].dt.days_in_month : 월 일수(숫자)(=datsinmonth)"
   ]
  },
  {
   "cell_type": "code",
   "execution_count": null,
   "id": "316851df",
   "metadata": {},
   "outputs": [],
   "source": []
  },
  {
   "cell_type": "code",
   "execution_count": null,
   "id": "40a60181",
   "metadata": {},
   "outputs": [],
   "source": []
  },
  {
   "cell_type": "code",
   "execution_count": null,
   "id": "c0512f09",
   "metadata": {},
   "outputs": [],
   "source": []
  },
  {
   "cell_type": "code",
   "execution_count": null,
   "id": "b9bbf9aa",
   "metadata": {},
   "outputs": [],
   "source": []
  },
  {
   "cell_type": "code",
   "execution_count": null,
   "id": "ff883309",
   "metadata": {},
   "outputs": [],
   "source": []
  },
  {
   "cell_type": "code",
   "execution_count": null,
   "id": "f0b5e695",
   "metadata": {},
   "outputs": [],
   "source": []
  },
  {
   "cell_type": "markdown",
   "id": "cf8903cc",
   "metadata": {},
   "source": []
  }
 ],
 "metadata": {
  "kernelspec": {
   "display_name": "Python 3 (ipykernel)",
   "language": "python",
   "name": "python3"
  },
  "language_info": {
   "codemirror_mode": {
    "name": "ipython",
    "version": 3
   },
   "file_extension": ".py",
   "mimetype": "text/x-python",
   "name": "python",
   "nbconvert_exporter": "python",
   "pygments_lexer": "ipython3",
   "version": "3.9.13"
  }
 },
 "nbformat": 4,
 "nbformat_minor": 5
}
