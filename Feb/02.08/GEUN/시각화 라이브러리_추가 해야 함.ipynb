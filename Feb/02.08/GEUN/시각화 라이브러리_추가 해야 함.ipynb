{
 "cells": [
  {
   "cell_type": "markdown",
   "id": "19196a6a",
   "metadata": {},
   "source": [
    "# 데이터의 시각화\n",
    "### 그래프(시각화)\n",
    "* Histogram\n",
    "* scatter\n",
    "* Density plot\n",
    "* Bar plot\n",
    "* Mosaic plot\n",
    "* Box plot\n",
    "* Line chart\n",
    "* etx.\n",
    "\n",
    "### 통계량(수치화)\n",
    "* Min, Max, Sum\n",
    "* Mean, Std\n",
    "* 사분위수\n",
    "* 검정 통계량\n",
    "* P-value\n",
    "* etc."
   ]
  },
  {
   "cell_type": "markdown",
   "id": "b756f209",
   "metadata": {},
   "source": [
    "## 파이썬으로 그래프 그리는 패키지\n",
    "1. matplotlib\n",
    "2. seaborn"
   ]
  },
  {
   "cell_type": "markdown",
   "id": "b9aa9937",
   "metadata": {},
   "source": [
    "### matplotlib\n",
    "#### 기본 구조\n",
    "* import matplot.pyplot as plt -> plt라는 별칭을 사용한다.\n",
    "* 기본 차트 그리기 : plt.plot() 후 plt.show()를 사용하여 화면에 출력한다.\n",
    "    * 1차원 데이터 : 리스트, 시리즈, numpy array 등을 x와 y에 각각 지정할 수 있다.\n",
    "    * 2차원 데이터 : 딕셔너리, 데이터프레임 등 2차원 데이터로 부터 x와 y의 값을 가져와 사용할 수 있다.\n",
    "* 기본 코드:\n",
    "    1. plt.plot(df['A'], df['B']) 이후 plt.show()\n",
    "    2. plt.plot('A', 'B', data = df) 이후 plt.show()\n",
    "* 그래프 꾸미기\n",
    "    * x축 값 조정하기 : plt.xticks(rotation = 각도)\n",
    "    * 그래프 축에 레이블 설정하기 : plt.xlabel(), plt.ylabel()\n",
    "    * 그래프 제목 붙이기 : plt.title()\n",
    "    * 그래프 색 : plt.plot()함수 안에 color 속성 추가 'red', 'green', 'blue' 또는 'r', 'g', 'b' etc. 다양한 방법 존재\n",
    "        * 사용 예시 : plt.plot(df['A'], color = 'red')\n",
    "    * 그래프 선 : plt.plot()함수 안에 linestyle 속성 추가 'solid', 'dashed', 'dashdot', 'dotted' etc.\n",
    "        * 사용 예시 : plt.plot(df['A'], linestyle = 'solid')\n",
    "    * 마커 설절 : plt.plot()함수 안에 marker 속성 추가 '.', ',', 'o', 'v', '^' etc. 는 각각 point, pixel, circle, triangle_down, triangle_down 로 표시된다.\n",
    "        * 사용 예시 : plt.plot(df['A'], marker = 'o')\n",
    "    * 여러 그래프 겹쳐서 그리기\n",
    "        * plt.plot()을 여러개 작성 후 plt.show()를 해주면 여러개의 그래프를 한번에 출력\n",
    "    * 범례 추가하기: plt.plot()함수 안에 label 속성 추가 후 아래 줄에 plt.legend() 추가\n",
    "        * 범례의 위치를 조정하려면 plt.legend() 안에 loc = 위치 추가하기, 위치 : best, upper right, upper left, lower left, etc.\n",
    "        * 사용 방법 : plt.plot(df['A'], label = 'A') plt.legend(loc = 'upper right')\n",
    "    * 그래프에 격자 추가하기 : plt.grid()"
   ]
  },
  {
   "cell_type": "markdown",
   "id": "c3b408d4",
   "metadata": {},
   "source": [
    "### 데이터프레임.plot\n",
    "* 사용 방법 : df.plot(x = 'A', y = 'B') 이후 plt.show()"
   ]
  },
  {
   "cell_type": "code",
   "execution_count": null,
   "id": "07719847",
   "metadata": {},
   "outputs": [],
   "source": []
  }
 ],
 "metadata": {
  "kernelspec": {
   "display_name": "Python 3 (ipykernel)",
   "language": "python",
   "name": "python3"
  },
  "language_info": {
   "codemirror_mode": {
    "name": "ipython",
    "version": 3
   },
   "file_extension": ".py",
   "mimetype": "text/x-python",
   "name": "python",
   "nbconvert_exporter": "python",
   "pygments_lexer": "ipython3",
   "version": "3.9.13"
  }
 },
 "nbformat": 4,
 "nbformat_minor": 5
}
