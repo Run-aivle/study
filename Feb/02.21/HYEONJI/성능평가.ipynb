{
 "cells": [
  {
   "cell_type": "markdown",
   "id": "15a2230f-b8de-44dd-97b5-89d9cdab893a",
   "metadata": {},
   "source": [
    "**회귀 성능 평가**"
   ]
  },
  {
   "cell_type": "markdown",
   "id": "a80ba258-c337-41c2-a030-ad0696b29154",
   "metadata": {},
   "source": [
    "**SSE(Sum Squared Error)**\n",
    "$$ \\sum(y - \\hat y)^2 $$"
   ]
  },
  {
   "cell_type": "markdown",
   "id": "8c73d789-000a-4d6f-864d-a6f7fbcd2899",
   "metadata": {
    "tags": []
   },
   "source": [
    "**MSE(Mean SSE)**\n",
    "$$\\sum \\frac{(y - \\hat y)^2}{n}$$"
   ]
  },
  {
   "cell_type": "markdown",
   "id": "0f39fbcc-41ea-4c9c-8389-ea61052dda99",
   "metadata": {},
   "source": [
    "**RMSE(Root MSE)**\n",
    "$$\\sum \\sqrt{\\frac{(y - \\hat y)^2}{n}}$$"
   ]
  },
  {
   "cell_type": "markdown",
   "id": "def30222-da2b-4304-9587-5632cd03d7c2",
   "metadata": {},
   "source": [
    "**MAE(Mean Absolute Error)**\n",
    "$$\\sum {\\frac{|y - \\hat y|}{n}}$$"
   ]
  },
  {
   "cell_type": "markdown",
   "id": "f59703a1-9937-4273-97ec-24c5d35318cc",
   "metadata": {},
   "source": [
    "**MAPE(Mean Absolute Percentage Error)**\n",
    "$$\\sum {\\frac{\\frac{|y - \\hat y|}{|y|}}{n}}$$"
   ]
  },
  {
   "cell_type": "markdown",
   "id": "3a99cb1a-f4c8-4618-93f9-90c0b40ec2b7",
   "metadata": {},
   "source": [
    "**오차**\n",
    "- SST : 전체 오차\n",
    "- SSR : 전체 오차 중에서 회귀식이 잡아낸 오차\n",
    "- SSE : 전체 오차 중에서 회귀식이 여전히 잡아내지 못한 오차\n",
    "\n",
    "- SST = SSR + SSE"
   ]
  },
  {
   "cell_type": "markdown",
   "id": "5424756d-7e96-4d88-bcb1-8646a12a37dc",
   "metadata": {},
   "source": [
    "**결정 계수**\n",
    "$$R^2 = {\\frac{SSR}{SST}}= 1- {\\frac{SSE}{SST}}$$\n",
    "- MSE의 표준화된 버전\n",
    "- 전체 오차 중에서 회귀식이 잡아낸 오차 비율 (일반적으로 0 ~ 1 사이)\n",
    "- R^2 = 1 이면 MSE = 0이고 모델이 데이터를 완벽하게 학습한 것"
   ]
  },
  {
   "cell_type": "markdown",
   "id": "13aafb43-fbb5-4cc7-89ee-91d23a9f0791",
   "metadata": {},
   "source": [
    "- MSE, RMSE, MAE, MAPE는 오류이므로 작을수록 좋음\n",
    "- R2 score는 클수록 좋음"
   ]
  },
  {
   "cell_type": "markdown",
   "id": "0bb74fac-3c3c-4c31-8c19-fa60bf131d58",
   "metadata": {},
   "source": [
    "**혼동행렬**"
   ]
  },
  {
   "cell_type": "code",
   "execution_count": null,
   "id": "d2af7aa4-a361-49df-be29-8714768399bb",
   "metadata": {},
   "outputs": [],
   "source": [
    "            Negative 0    Positive 1\n",
    "Negative 0     TN            FP\n",
    "Positive 1     FN            TP"
   ]
  },
  {
   "cell_type": "markdown",
   "id": "6ca47df5-7e75-47a9-a188-ade4d42be9a3",
   "metadata": {},
   "source": [
    "- Accuracy (정확도) = $$\\frac{TN + TP}{TN+FP+FN+TP}$$"
   ]
  },
  {
   "cell_type": "markdown",
   "id": "45671dbc-bee1-49e0-8abb-32901692bd30",
   "metadata": {},
   "source": [
    "- Precision(정밀도) = $$\\frac{TP}{FP+TP}$$"
   ]
  },
  {
   "cell_type": "markdown",
   "id": "bd88e785-b23b-4029-a87f-3207d4f21554",
   "metadata": {},
   "source": [
    "- Recall(재현율, 민감도) = $$\\frac{TP}{FN+TP}$$"
   ]
  },
  {
   "cell_type": "markdown",
   "id": "721508f7-0afe-455b-ae5f-a798d1463448",
   "metadata": {},
   "source": [
    "- Specificity(특이도) = $$\\frac{TN}{TN+FP}$$"
   ]
  },
  {
   "cell_type": "markdown",
   "id": "7ca7d542-b926-422e-9fe8-f1a6acf736db",
   "metadata": {},
   "source": [
    "- F1- Score = $$\\frac{2 \\times Precesion \\times Recall}{Precesion + Recall}$$"
   ]
  }
 ],
 "metadata": {
  "kernelspec": {
   "display_name": "Python 3 (ipykernel)",
   "language": "python",
   "name": "python3"
  },
  "language_info": {
   "codemirror_mode": {
    "name": "ipython",
    "version": 3
   },
   "file_extension": ".py",
   "mimetype": "text/x-python",
   "name": "python",
   "nbconvert_exporter": "python",
   "pygments_lexer": "ipython3",
   "version": "3.9.13"
  }
 },
 "nbformat": 4,
 "nbformat_minor": 5
}
