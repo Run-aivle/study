{
 "cells": [
  {
   "cell_type": "markdown",
   "metadata": {
    "id": "CtG5kvAJDjnh"
   },
   "source": [
    "##Linear Regression##"
   ]
  },
  {
   "cell_type": "code",
   "execution_count": null,
   "metadata": {
    "id": "MrvqbgpyDYYj"
   },
   "outputs": [],
   "source": [
    "import tensorflow as tf\n",
    "from tensorflow import keras\n",
    "import numpy as np"
   ]
  },
  {
   "cell_type": "code",
   "execution_count": null,
   "metadata": {
    "colab": {
     "base_uri": "https://localhost:8080/"
    },
    "executionInfo": {
     "elapsed": 409,
     "status": "ok",
     "timestamp": 1677923901969,
     "user": {
      "displayName": "이현지",
      "userId": "06699888887811080409"
     },
     "user_tz": -540
    },
    "id": "G1AU46cODru1",
    "outputId": "97395717-dbca-4019-f2de-723a5bfb0c1a"
   },
   "outputs": [
    {
     "name": "stdout",
     "output_type": "stream",
     "text": [
      "[ 0  1  2  3  4  5  6  7  8  9 10 11 12 13 14 15 16 17 18 19]\n",
      "[-1  1  3  5  7  9 11 13 15 17 19 21 23 25 27 29 31 33 35 37]\n"
     ]
    }
   ],
   "source": [
    "x = np.array(range(20))\n",
    "y = x * 2 - 1 \n",
    "print(x)\n",
    "print(y)"
   ]
  },
  {
   "cell_type": "code",
   "execution_count": null,
   "metadata": {
    "id": "-U_eHxxLDt4_"
   },
   "outputs": [],
   "source": [
    "keras.backend.clear_session()\n",
    "\n",
    "model = keras.models.Sequential()\n",
    "\n",
    "\n",
    "model.add( keras.layers.Input(shape=(1,)) )\n",
    "model.add( keras.layers.Dense(1) )\n",
    "\n",
    "model.compile(loss='mse', optimizer='adam')"
   ]
  },
  {
   "cell_type": "code",
   "execution_count": null,
   "metadata": {
    "colab": {
     "base_uri": "https://localhost:8080/"
    },
    "executionInfo": {
     "elapsed": 1697,
     "status": "ok",
     "timestamp": 1677923930003,
     "user": {
      "displayName": "이현지",
      "userId": "06699888887811080409"
     },
     "user_tz": -540
    },
    "id": "wAzTjPcDDy-s",
    "outputId": "694fe813-82ec-4bb9-f95d-d77d011478ab"
   },
   "outputs": [
    {
     "name": "stdout",
     "output_type": "stream",
     "text": [
      "Epoch 1/10\n",
      "1/1 [==============================] - 1s 740ms/step - loss: 51.9827\n",
      "Epoch 2/10\n",
      "1/1 [==============================] - 0s 13ms/step - loss: 51.8113\n",
      "Epoch 3/10\n",
      "1/1 [==============================] - 0s 15ms/step - loss: 51.6401\n",
      "Epoch 4/10\n",
      "1/1 [==============================] - 0s 12ms/step - loss: 51.4693\n",
      "Epoch 5/10\n",
      "1/1 [==============================] - 0s 9ms/step - loss: 51.2987\n",
      "Epoch 6/10\n",
      "1/1 [==============================] - 0s 11ms/step - loss: 51.1285\n",
      "Epoch 7/10\n",
      "1/1 [==============================] - 0s 13ms/step - loss: 50.9586\n",
      "Epoch 8/10\n",
      "1/1 [==============================] - 0s 13ms/step - loss: 50.7889\n",
      "Epoch 9/10\n",
      "1/1 [==============================] - 0s 12ms/step - loss: 50.6197\n",
      "Epoch 10/10\n",
      "1/1 [==============================] - 0s 11ms/step - loss: 50.4507\n"
     ]
    },
    {
     "data": {
      "text/plain": [
       "<keras.callbacks.History at 0x7fc2640a8be0>"
      ]
     },
     "execution_count": 7,
     "metadata": {},
     "output_type": "execute_result"
    }
   ],
   "source": [
    "model.fit(x, y, epochs=10, verbose=1)"
   ]
  },
  {
   "cell_type": "code",
   "execution_count": null,
   "metadata": {
    "colab": {
     "base_uri": "https://localhost:8080/"
    },
    "executionInfo": {
     "elapsed": 402,
     "status": "ok",
     "timestamp": 1677923940361,
     "user": {
      "displayName": "이현지",
      "userId": "06699888887811080409"
     },
     "user_tz": -540
    },
    "id": "yGBe1ezzD0Oz",
    "outputId": "6db90d3b-94d1-4edc-a41d-b0a47cede24d"
   },
   "outputs": [
    {
     "name": "stdout",
     "output_type": "stream",
     "text": [
      "[-1  1  3  5  7  9 11 13 15 17 19 21 23 25 27 29 31 33 35 37]\n"
     ]
    }
   ],
   "source": [
    "print(y)"
   ]
  },
  {
   "cell_type": "code",
   "execution_count": null,
   "metadata": {
    "colab": {
     "base_uri": "https://localhost:8080/"
    },
    "executionInfo": {
     "elapsed": 5,
     "status": "ok",
     "timestamp": 1677923941571,
     "user": {
      "displayName": "이현지",
      "userId": "06699888887811080409"
     },
     "user_tz": -540
    },
    "id": "h5nM7cxYD3Rd",
    "outputId": "32dd5b22-e9dc-4045-f09b-9ba6d32f172b"
   },
   "outputs": [
    {
     "name": "stdout",
     "output_type": "stream",
     "text": [
      "1/1 [==============================] - 0s 102ms/step\n"
     ]
    },
    {
     "data": {
      "text/plain": [
       "array([9.9940868e-03, 1.2959701e+00, 2.5819461e+00, 3.8679223e+00,\n",
       "       5.1538982e+00, 6.4398742e+00, 7.7258506e+00, 9.0118265e+00,\n",
       "       1.0297803e+01, 1.1583779e+01, 1.2869755e+01, 1.4155731e+01,\n",
       "       1.5441708e+01, 1.6727684e+01, 1.8013659e+01, 1.9299635e+01,\n",
       "       2.0585611e+01, 2.1871588e+01, 2.3157564e+01, 2.4443539e+01],\n",
       "      dtype=float32)"
      ]
     },
     "execution_count": 9,
     "metadata": {},
     "output_type": "execute_result"
    }
   ],
   "source": [
    "model.predict(x).reshape(-1)"
   ]
  },
  {
   "cell_type": "markdown",
   "metadata": {
    "id": "Ng834WNREAYy"
   },
   "source": [
    "##Logistic Regression##"
   ]
  },
  {
   "cell_type": "code",
   "execution_count": null,
   "metadata": {
    "id": "qFbI_wpuEDVQ"
   },
   "outputs": [],
   "source": [
    "import tensorflow as tf\n",
    "from tensorflow import keras\n",
    "import numpy as np"
   ]
  },
  {
   "cell_type": "code",
   "execution_count": null,
   "metadata": {
    "colab": {
     "base_uri": "https://localhost:8080/"
    },
    "executionInfo": {
     "elapsed": 416,
     "status": "ok",
     "timestamp": 1677924013488,
     "user": {
      "displayName": "이현지",
      "userId": "06699888887811080409"
     },
     "user_tz": -540
    },
    "id": "6q3wSF8UEILZ",
    "outputId": "7ebe3008-c72d-4190-8f90-a81e0b7d5377"
   },
   "outputs": [
    {
     "name": "stdout",
     "output_type": "stream",
     "text": [
      "[ 0  1  2  3  4  5  6  7  8  9 10 11 12 13 14 15 16 17 18 19]\n",
      "[0 0 0 0 0 0 0 0 0 0 1 1 1 1 1 1 1 1 1 1]\n"
     ]
    }
   ],
   "source": [
    "x = np.array(range(20)) \n",
    "y = np.array([0]*10 + [1]*10)\n",
    "print(x)\n",
    "print(y)"
   ]
  },
  {
   "cell_type": "code",
   "execution_count": null,
   "metadata": {
    "id": "bMBGT0DfEJHK"
   },
   "outputs": [],
   "source": [
    "keras.backend.clear_session()\n",
    "\n",
    "model = keras.models.Sequential()\n",
    "\n",
    "model.add( keras.layers.Input(shape=(1,)) )\n",
    "model.add( keras.layers.Dense(1, activation='sigmoid') )\n",
    "\n",
    "model.compile(loss='binary_crossentropy', metrics=['accuracy'], optimizer='adam')"
   ]
  },
  {
   "cell_type": "code",
   "execution_count": null,
   "metadata": {
    "colab": {
     "base_uri": "https://localhost:8080/"
    },
    "executionInfo": {
     "elapsed": 1456,
     "status": "ok",
     "timestamp": 1677924043086,
     "user": {
      "displayName": "이현지",
      "userId": "06699888887811080409"
     },
     "user_tz": -540
    },
    "id": "IgY8EvfBEPKw",
    "outputId": "8e01e3ed-6506-4f32-f083-350e6046db03"
   },
   "outputs": [
    {
     "name": "stdout",
     "output_type": "stream",
     "text": [
      "Epoch 1/10\n",
      "1/1 [==============================] - 1s 681ms/step - loss: 6.4737 - accuracy: 0.5000\n",
      "Epoch 2/10\n",
      "1/1 [==============================] - 0s 18ms/step - loss: 6.4661 - accuracy: 0.4500\n",
      "Epoch 3/10\n",
      "1/1 [==============================] - 0s 18ms/step - loss: 6.4584 - accuracy: 0.4500\n",
      "Epoch 4/10\n",
      "1/1 [==============================] - 0s 11ms/step - loss: 6.4508 - accuracy: 0.4500\n",
      "Epoch 5/10\n",
      "1/1 [==============================] - 0s 15ms/step - loss: 6.4431 - accuracy: 0.4500\n",
      "Epoch 6/10\n",
      "1/1 [==============================] - 0s 11ms/step - loss: 6.4355 - accuracy: 0.4500\n",
      "Epoch 7/10\n",
      "1/1 [==============================] - 0s 14ms/step - loss: 6.4278 - accuracy: 0.4500\n",
      "Epoch 8/10\n",
      "1/1 [==============================] - 0s 14ms/step - loss: 6.4202 - accuracy: 0.4500\n",
      "Epoch 9/10\n",
      "1/1 [==============================] - 0s 10ms/step - loss: 6.4125 - accuracy: 0.4500\n",
      "Epoch 10/10\n",
      "1/1 [==============================] - 0s 11ms/step - loss: 6.4049 - accuracy: 0.4500\n",
      "[0 0 0 0 0 0 0 0 0 0 1 1 1 1 1 1 1 1 1 1]\n",
      "1/1 [==============================] - 0s 58ms/step\n",
      "[[5.0249982e-01]\n",
      " [2.9653290e-01]\n",
      " [1.4960212e-01]\n",
      " [6.8396397e-02]\n",
      " [2.9729083e-02]\n",
      " [1.2625739e-02]\n",
      " [5.3082337e-03]\n",
      " [2.2221927e-03]\n",
      " [9.2860474e-04]\n",
      " [3.8775051e-04]\n",
      " [1.6185910e-04]\n",
      " [6.7556095e-05]\n",
      " [2.8194738e-05]\n",
      " [1.1766889e-05]\n",
      " [4.9107866e-06]\n",
      " [2.0494570e-06]\n",
      " [8.5531423e-07]\n",
      " [3.5695410e-07]\n",
      " [1.4897003e-07]\n",
      " [6.2170699e-08]]\n"
     ]
    }
   ],
   "source": [
    "model.fit(x, y, epochs=10, verbose=1)\n",
    "\n",
    "print(y)\n",
    "print(model.predict(x))"
   ]
  },
  {
   "cell_type": "markdown",
   "metadata": {
    "id": "nQWtdufAEwrH"
   },
   "source": [
    "##Multi calss##"
   ]
  },
  {
   "cell_type": "code",
   "execution_count": 17,
   "metadata": {
    "executionInfo": {
     "elapsed": 439,
     "status": "ok",
     "timestamp": 1677924961462,
     "user": {
      "displayName": "이현지",
      "userId": "06699888887811080409"
     },
     "user_tz": -540
    },
    "id": "yGPBOU0fE5r3"
   },
   "outputs": [],
   "source": [
    "from sklearn.datasets import load_iris\n",
    "from tensorflow.keras.utils import to_categorical"
   ]
  },
  {
   "cell_type": "code",
   "execution_count": 18,
   "metadata": {
    "executionInfo": {
     "elapsed": 6,
     "status": "ok",
     "timestamp": 1677924961878,
     "user": {
      "displayName": "이현지",
      "userId": "06699888887811080409"
     },
     "user_tz": -540
    },
    "id": "YXi-Y6plHe3i"
   },
   "outputs": [],
   "source": [
    "iris = load_iris()\n",
    "x = iris.data\n",
    "y = iris.target"
   ]
  },
  {
   "cell_type": "code",
   "execution_count": 19,
   "metadata": {
    "colab": {
     "base_uri": "https://localhost:8080/"
    },
    "executionInfo": {
     "elapsed": 6,
     "status": "ok",
     "timestamp": 1677924961879,
     "user": {
      "displayName": "이현지",
      "userId": "06699888887811080409"
     },
     "user_tz": -540
    },
    "id": "niFGIBaEHhSY",
    "outputId": "0d625bf5-5ea5-499f-c73f-970c03dcadf3"
   },
   "outputs": [
    {
     "data": {
      "text/plain": [
       "((150, 4), (150,))"
      ]
     },
     "execution_count": 19,
     "metadata": {},
     "output_type": "execute_result"
    }
   ],
   "source": [
    "x.shape, y.shape"
   ]
  },
  {
   "cell_type": "code",
   "execution_count": 22,
   "metadata": {
    "colab": {
     "base_uri": "https://localhost:8080/"
    },
    "executionInfo": {
     "elapsed": 410,
     "status": "ok",
     "timestamp": 1677924975094,
     "user": {
      "displayName": "이현지",
      "userId": "06699888887811080409"
     },
     "user_tz": -540
    },
    "id": "q8bpW0e7Hhj_",
    "outputId": "4329066b-54ab-4ed5-8090-fcfad61899df"
   },
   "outputs": [
    {
     "data": {
      "text/plain": [
       "array(['setosa', 'versicolor', 'virginica'], dtype='<U10')"
      ]
     },
     "execution_count": 22,
     "metadata": {},
     "output_type": "execute_result"
    }
   ],
   "source": [
    "iris.target_names"
   ]
  },
  {
   "cell_type": "code",
   "execution_count": 23,
   "metadata": {
    "executionInfo": {
     "elapsed": 393,
     "status": "ok",
     "timestamp": 1677924981973,
     "user": {
      "displayName": "이현지",
      "userId": "06699888887811080409"
     },
     "user_tz": -540
    },
    "id": "TpzhbHBOHoht"
   },
   "outputs": [],
   "source": [
    "y = to_categorical(y, 3)"
   ]
  },
  {
   "cell_type": "code",
   "execution_count": 24,
   "metadata": {
    "colab": {
     "base_uri": "https://localhost:8080/"
    },
    "executionInfo": {
     "elapsed": 5,
     "status": "ok",
     "timestamp": 1677924982389,
     "user": {
      "displayName": "이현지",
      "userId": "06699888887811080409"
     },
     "user_tz": -540
    },
    "id": "Py9-T_LdHoTP",
    "outputId": "abad5ea7-57f8-453d-c6da-915f6dc77fc3"
   },
   "outputs": [
    {
     "data": {
      "text/plain": [
       "((150, 4), (150, 3))"
      ]
     },
     "execution_count": 24,
     "metadata": {},
     "output_type": "execute_result"
    }
   ],
   "source": [
    "x.shape, y.shape"
   ]
  },
  {
   "cell_type": "code",
   "execution_count": 25,
   "metadata": {
    "colab": {
     "base_uri": "https://localhost:8080/"
    },
    "executionInfo": {
     "elapsed": 396,
     "status": "ok",
     "timestamp": 1677924990579,
     "user": {
      "displayName": "이현지",
      "userId": "06699888887811080409"
     },
     "user_tz": -540
    },
    "id": "qepc6ZOTHove",
    "outputId": "15cbf14a-5c35-4ae2-ce4d-3a6c38089159"
   },
   "outputs": [
    {
     "name": "stdout",
     "output_type": "stream",
     "text": [
      "Model: \"sequential\"\n",
      "_________________________________________________________________\n",
      " Layer (type)                Output Shape              Param #   \n",
      "=================================================================\n",
      " dense (Dense)               (None, 3)                 15        \n",
      "                                                                 \n",
      "=================================================================\n",
      "Total params: 15\n",
      "Trainable params: 15\n",
      "Non-trainable params: 0\n",
      "_________________________________________________________________\n"
     ]
    }
   ],
   "source": [
    "keras.backend.clear_session()\n",
    "model = keras.models.Sequential()\n",
    "model.add(keras.layers.Input(shape=(4,)))\n",
    "model.add(keras.layers.Dense(3, activation ='softmax'))\n",
    "model.compile(loss = 'categorical_crossentropy', metrics=['accuracy'], optimizer='adam')\n",
    "model.summary()"
   ]
  },
  {
   "cell_type": "code",
   "execution_count": 26,
   "metadata": {
    "colab": {
     "base_uri": "https://localhost:8080/"
    },
    "executionInfo": {
     "elapsed": 1543,
     "status": "ok",
     "timestamp": 1677924998747,
     "user": {
      "displayName": "이현지",
      "userId": "06699888887811080409"
     },
     "user_tz": -540
    },
    "id": "9P2HXmZPHo7X",
    "outputId": "6dc13e4c-27ab-4847-ffce-0615e06a3754"
   },
   "outputs": [
    {
     "name": "stdout",
     "output_type": "stream",
     "text": [
      "Epoch 1/10\n",
      "5/5 [==============================] - 1s 8ms/step - loss: 5.6466 - accuracy: 0.3333\n",
      "Epoch 2/10\n",
      "5/5 [==============================] - 0s 4ms/step - loss: 5.5592 - accuracy: 0.3333\n",
      "Epoch 3/10\n",
      "5/5 [==============================] - 0s 4ms/step - loss: 5.4742 - accuracy: 0.3333\n",
      "Epoch 4/10\n",
      "5/5 [==============================] - 0s 3ms/step - loss: 5.3854 - accuracy: 0.3333\n",
      "Epoch 5/10\n",
      "5/5 [==============================] - 0s 4ms/step - loss: 5.3024 - accuracy: 0.3333\n",
      "Epoch 6/10\n",
      "5/5 [==============================] - 0s 4ms/step - loss: 5.2143 - accuracy: 0.3333\n",
      "Epoch 7/10\n",
      "5/5 [==============================] - 0s 4ms/step - loss: 5.1332 - accuracy: 0.3333\n",
      "Epoch 8/10\n",
      "5/5 [==============================] - 0s 4ms/step - loss: 5.0500 - accuracy: 0.3333\n",
      "Epoch 9/10\n",
      "5/5 [==============================] - 0s 4ms/step - loss: 4.9675 - accuracy: 0.3333\n",
      "Epoch 10/10\n",
      "5/5 [==============================] - 0s 4ms/step - loss: 4.8871 - accuracy: 0.3333\n"
     ]
    },
    {
     "data": {
      "text/plain": [
       "<keras.callbacks.History at 0x7fc25ee4d790>"
      ]
     },
     "execution_count": 26,
     "metadata": {},
     "output_type": "execute_result"
    }
   ],
   "source": [
    "model.fit(x, y, epochs = 10, verbose = 1)"
   ]
  },
  {
   "cell_type": "code",
   "execution_count": 27,
   "metadata": {
    "colab": {
     "base_uri": "https://localhost:8080/"
    },
    "executionInfo": {
     "elapsed": 1112,
     "status": "ok",
     "timestamp": 1677925002574,
     "user": {
      "displayName": "이현지",
      "userId": "06699888887811080409"
     },
     "user_tz": -540
    },
    "id": "u4iB3Uc5H5Ys",
    "outputId": "798752ea-326a-49be-9a3b-d38a07a5e985"
   },
   "outputs": [
    {
     "name": "stdout",
     "output_type": "stream",
     "text": [
      "5/5 [==============================] - 0s 3ms/step\n"
     ]
    }
   ],
   "source": [
    "y_pred = model.predict(x)"
   ]
  },
  {
   "cell_type": "code",
   "execution_count": 28,
   "metadata": {
    "colab": {
     "base_uri": "https://localhost:8080/"
    },
    "executionInfo": {
     "elapsed": 6,
     "status": "ok",
     "timestamp": 1677925006053,
     "user": {
      "displayName": "이현지",
      "userId": "06699888887811080409"
     },
     "user_tz": -540
    },
    "id": "chjDPcksH6SQ",
    "outputId": "60cc0843-65c4-49df-cf3e-720fcac1f37d"
   },
   "outputs": [
    {
     "data": {
      "text/plain": [
       "array([[3.7138849e-01, 6.2856919e-01, 4.2277719e-05],\n",
       "       [3.4743413e-01, 6.5246868e-01, 9.7142656e-05],\n",
       "       [3.8058066e-01, 6.1932844e-01, 9.0869529e-05],\n",
       "       [3.1527537e-01, 6.8461370e-01, 1.1091254e-04],\n",
       "       [3.7285256e-01, 6.2710673e-01, 4.0708426e-05]], dtype=float32)"
      ]
     },
     "execution_count": 28,
     "metadata": {},
     "output_type": "execute_result"
    }
   ],
   "source": [
    "y_pred[:5]"
   ]
  },
  {
   "cell_type": "code",
   "execution_count": 29,
   "metadata": {
    "colab": {
     "base_uri": "https://localhost:8080/"
    },
    "executionInfo": {
     "elapsed": 5,
     "status": "ok",
     "timestamp": 1677925009330,
     "user": {
      "displayName": "이현지",
      "userId": "06699888887811080409"
     },
     "user_tz": -540
    },
    "id": "HAy4-9MaH7ZR",
    "outputId": "ce2b28d3-e173-499b-d595-a754e0b64503"
   },
   "outputs": [
    {
     "data": {
      "text/plain": [
       "array([[1., 0., 0.],\n",
       "       [1., 0., 0.],\n",
       "       [1., 0., 0.],\n",
       "       [1., 0., 0.],\n",
       "       [1., 0., 0.]], dtype=float32)"
      ]
     },
     "execution_count": 29,
     "metadata": {},
     "output_type": "execute_result"
    }
   ],
   "source": [
    "y[:5]"
   ]
  }
 ],
 "metadata": {
  "colab": {
   "authorship_tag": "ABX9TyNjS7cbgiHA3SuuMoigdIXF",
   "provenance": []
  },
  "kernelspec": {
   "display_name": "Python 3 (ipykernel)",
   "language": "python",
   "name": "python3"
  },
  "language_info": {
   "codemirror_mode": {
    "name": "ipython",
    "version": 3
   },
   "file_extension": ".py",
   "mimetype": "text/x-python",
   "name": "python",
   "nbconvert_exporter": "python",
   "pygments_lexer": "ipython3",
   "version": "3.9.13"
  }
 },
 "nbformat": 4,
 "nbformat_minor": 4
}
