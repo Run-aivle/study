{
 "cells": [
  {
   "cell_type": "markdown",
   "id": "fb483d39-fe53-4f3a-8c93-d6a23dd7bd3e",
   "metadata": {},
   "source": [
    "# 선형 회귀"
   ]
  },
  {
   "cell_type": "code",
   "execution_count": 1,
   "id": "873e0ca0-e071-45df-8e11-f765a23bece7",
   "metadata": {},
   "outputs": [],
   "source": [
    "from sklearn.datasets import fetch_california_housing"
   ]
  },
  {
   "cell_type": "code",
   "execution_count": 2,
   "id": "11267318-7e1b-47d5-91b3-cad68fe702d7",
   "metadata": {},
   "outputs": [],
   "source": [
    "boston = fetch_california_housing()"
   ]
  },
  {
   "cell_type": "code",
   "execution_count": 3,
   "id": "9050f80c-f54a-4397-9623-e7725156b8f4",
   "metadata": {},
   "outputs": [],
   "source": [
    "x = boston.data\n",
    "y = boston.target"
   ]
  },
  {
   "cell_type": "code",
   "execution_count": 4,
   "id": "eb899bd5-c858-478a-8323-7e688a5c525a",
   "metadata": {},
   "outputs": [],
   "source": [
    "from sklearn.model_selection import train_test_split\n",
    "x_train, x_test, y_train, y_test = train_test_split(x,y,test_size=0.3)"
   ]
  },
  {
   "cell_type": "code",
   "execution_count": 5,
   "id": "30a90f6e-4fa9-40ab-a608-50d5d36b305c",
   "metadata": {},
   "outputs": [],
   "source": [
    "# 라이브러리 불러오기\n",
    "import tensorflow as tf\n",
    "from tensorflow import keras"
   ]
  },
  {
   "cell_type": "code",
   "execution_count": 6,
   "id": "e7a18942-e2fe-468a-8464-3e69f3c238c0",
   "metadata": {},
   "outputs": [
    {
     "data": {
      "text/plain": [
       "((14448, 8), (6192, 8), (14448,), (6192,))"
      ]
     },
     "execution_count": 6,
     "metadata": {},
     "output_type": "execute_result"
    }
   ],
   "source": [
    "x_train.shape, x_test.shape, y_train.shape, y_test.shape"
   ]
  },
  {
   "cell_type": "code",
   "execution_count": 7,
   "id": "af7e76fe-45b5-4559-b617-ca23ca11cb3c",
   "metadata": {},
   "outputs": [],
   "source": [
    "# 1. 세션 클리어\n",
    "keras.backend.clear_session()\n",
    "\n",
    "# 2. 모델 생성\n",
    "model = keras.models.Sequential()\n",
    "\n",
    "# 3. 모델 블록 조립\n",
    "model.add(keras.layers.Input(shape=(x_train.shape[1],)))\n",
    "model.add(keras.layers.Dense(1, activation='linear'))\n",
    "\n",
    "# 4. model complie\n",
    "model.compile(loss = 'mse', optimizer='adam')"
   ]
  },
  {
   "cell_type": "code",
   "execution_count": 8,
   "id": "4b228346-5f8f-4069-a9bf-f7b348101f8c",
   "metadata": {},
   "outputs": [],
   "source": [
    "from tensorflow.keras.callbacks import EarlyStopping\n",
    "es = EarlyStopping(monitor='val_loss',\n",
    "                  patience=5,\n",
    "                  min_delta=0,\n",
    "                  verbose = 1,\n",
    "                  restore_best_weights=True)"
   ]
  },
  {
   "cell_type": "code",
   "execution_count": 9,
   "id": "e7e20f42-38b4-47f7-8c1b-0ee4a3b5b72c",
   "metadata": {},
   "outputs": [
    {
     "name": "stdout",
     "output_type": "stream",
     "text": [
      "Epoch 1/50\n",
      "362/362 [==============================] - 2s 3ms/step - loss: 1199797.3750 - val_loss: 670376.1875\n",
      "Epoch 2/50\n",
      "362/362 [==============================] - 1s 2ms/step - loss: 419899.9375 - val_loss: 208239.7500\n",
      "Epoch 3/50\n",
      "362/362 [==============================] - 1s 2ms/step - loss: 115770.0938 - val_loss: 46472.7539\n",
      "Epoch 4/50\n",
      "362/362 [==============================] - 1s 2ms/step - loss: 23704.8203 - val_loss: 8530.6924\n",
      "Epoch 5/50\n",
      "362/362 [==============================] - 1s 2ms/step - loss: 5241.5146 - val_loss: 2853.7427\n",
      "Epoch 6/50\n",
      "362/362 [==============================] - 1s 2ms/step - loss: 2537.3315 - val_loss: 2002.6222\n",
      "Epoch 7/50\n",
      "362/362 [==============================] - 1s 2ms/step - loss: 1939.3683 - val_loss: 1590.1091\n",
      "Epoch 8/50\n",
      "362/362 [==============================] - 1s 2ms/step - loss: 1503.8524 - val_loss: 1202.0979\n",
      "Epoch 9/50\n",
      "362/362 [==============================] - 1s 2ms/step - loss: 1112.7146 - val_loss: 857.2009\n",
      "Epoch 10/50\n",
      "362/362 [==============================] - 1s 2ms/step - loss: 769.8280 - val_loss: 570.7338\n",
      "Epoch 11/50\n",
      "362/362 [==============================] - 1s 2ms/step - loss: 496.2119 - val_loss: 355.2280\n",
      "Epoch 12/50\n",
      "362/362 [==============================] - 1s 2ms/step - loss: 295.5298 - val_loss: 196.4634\n",
      "Epoch 13/50\n",
      "362/362 [==============================] - 1s 2ms/step - loss: 159.1525 - val_loss: 99.7781\n",
      "Epoch 14/50\n",
      "362/362 [==============================] - 1s 2ms/step - loss: 79.0267 - val_loss: 45.2499\n",
      "Epoch 15/50\n",
      "362/362 [==============================] - 1s 2ms/step - loss: 36.5299 - val_loss: 19.6052\n",
      "Epoch 16/50\n",
      "362/362 [==============================] - 1s 2ms/step - loss: 17.3986 - val_loss: 9.4402\n",
      "Epoch 17/50\n",
      "362/362 [==============================] - 1s 2ms/step - loss: 10.1389 - val_loss: 6.1372\n",
      "Epoch 18/50\n",
      "362/362 [==============================] - 1s 2ms/step - loss: 7.7443 - val_loss: 5.1809\n",
      "Epoch 19/50\n",
      "362/362 [==============================] - 1s 2ms/step - loss: 6.8001 - val_loss: 4.8780\n",
      "Epoch 20/50\n",
      "362/362 [==============================] - 1s 2ms/step - loss: 6.2534 - val_loss: 4.5978\n",
      "Epoch 21/50\n",
      "362/362 [==============================] - 1s 2ms/step - loss: 5.7505 - val_loss: 4.5020\n",
      "Epoch 22/50\n",
      "362/362 [==============================] - 1s 2ms/step - loss: 5.3843 - val_loss: 4.2351\n",
      "Epoch 23/50\n",
      "362/362 [==============================] - 1s 2ms/step - loss: 4.9391 - val_loss: 4.0184\n",
      "Epoch 24/50\n",
      "362/362 [==============================] - 1s 2ms/step - loss: 4.5666 - val_loss: 3.8024\n",
      "Epoch 25/50\n",
      "362/362 [==============================] - 1s 2ms/step - loss: 4.2311 - val_loss: 3.6304\n",
      "Epoch 26/50\n",
      "362/362 [==============================] - 1s 2ms/step - loss: 3.9068 - val_loss: 3.5736\n",
      "Epoch 27/50\n",
      "362/362 [==============================] - 1s 2ms/step - loss: 3.6549 - val_loss: 3.2946\n",
      "Epoch 28/50\n",
      "362/362 [==============================] - 1s 2ms/step - loss: 3.4175 - val_loss: 3.1660\n",
      "Epoch 29/50\n",
      "362/362 [==============================] - 1s 2ms/step - loss: 3.2007 - val_loss: 3.0001\n",
      "Epoch 30/50\n",
      "362/362 [==============================] - 1s 2ms/step - loss: 3.0414 - val_loss: 2.8894\n",
      "Epoch 31/50\n",
      "362/362 [==============================] - 1s 2ms/step - loss: 2.8565 - val_loss: 2.8206\n",
      "Epoch 32/50\n",
      "362/362 [==============================] - 1s 2ms/step - loss: 2.7153 - val_loss: 2.6049\n",
      "Epoch 33/50\n",
      "362/362 [==============================] - 1s 2ms/step - loss: 2.6062 - val_loss: 2.8063\n",
      "Epoch 34/50\n",
      "362/362 [==============================] - 1s 3ms/step - loss: 2.4892 - val_loss: 2.4167\n",
      "Epoch 35/50\n",
      "362/362 [==============================] - 1s 3ms/step - loss: 2.4183 - val_loss: 2.2834\n",
      "Epoch 36/50\n",
      "362/362 [==============================] - 1s 3ms/step - loss: 2.3188 - val_loss: 2.1730\n",
      "Epoch 37/50\n",
      "362/362 [==============================] - 1s 2ms/step - loss: 2.2565 - val_loss: 2.1033\n",
      "Epoch 38/50\n",
      "362/362 [==============================] - 1s 2ms/step - loss: 2.1359 - val_loss: 2.0349\n",
      "Epoch 39/50\n",
      "362/362 [==============================] - 1s 2ms/step - loss: 2.1276 - val_loss: 1.9047\n",
      "Epoch 40/50\n",
      "362/362 [==============================] - 1s 2ms/step - loss: 1.9607 - val_loss: 1.8655\n",
      "Epoch 41/50\n",
      "362/362 [==============================] - 1s 2ms/step - loss: 2.0687 - val_loss: 2.0694\n",
      "Epoch 42/50\n",
      "362/362 [==============================] - 1s 2ms/step - loss: 2.0292 - val_loss: 1.6978\n",
      "Epoch 43/50\n",
      "362/362 [==============================] - 1s 2ms/step - loss: 1.9053 - val_loss: 1.5982\n",
      "Epoch 44/50\n",
      "362/362 [==============================] - 1s 2ms/step - loss: 1.7578 - val_loss: 1.5373\n",
      "Epoch 45/50\n",
      "362/362 [==============================] - 1s 2ms/step - loss: 1.6177 - val_loss: 1.5448\n",
      "Epoch 46/50\n",
      "362/362 [==============================] - 1s 2ms/step - loss: 1.5860 - val_loss: 1.4461\n",
      "Epoch 47/50\n",
      "362/362 [==============================] - 1s 2ms/step - loss: 1.5049 - val_loss: 1.3464\n",
      "Epoch 48/50\n",
      "362/362 [==============================] - 1s 2ms/step - loss: 1.8527 - val_loss: 1.3651\n",
      "Epoch 49/50\n",
      "362/362 [==============================] - 1s 2ms/step - loss: 1.5276 - val_loss: 1.2124\n",
      "Epoch 50/50\n",
      "362/362 [==============================] - 1s 2ms/step - loss: 1.6967 - val_loss: 1.4710\n"
     ]
    },
    {
     "data": {
      "text/plain": [
       "<keras.callbacks.History at 0x22d65989850>"
      ]
     },
     "execution_count": 9,
     "metadata": {},
     "output_type": "execute_result"
    }
   ],
   "source": [
    "model.fit(x_train, y_train, epochs=50, verbose=1,\n",
    "         callbacks=[es], validation_split=0.2)"
   ]
  },
  {
   "cell_type": "code",
   "execution_count": 10,
   "id": "a2c41986-d701-40e4-ad0e-9118fef3e575",
   "metadata": {},
   "outputs": [
    {
     "name": "stdout",
     "output_type": "stream",
     "text": [
      "194/194 [==============================] - 0s 2ms/step - loss: 1.5150\n"
     ]
    },
    {
     "data": {
      "text/plain": [
       "1.5149853229522705"
      ]
     },
     "execution_count": 10,
     "metadata": {},
     "output_type": "execute_result"
    }
   ],
   "source": [
    "model.evaluate(x_test, y_test)"
   ]
  },
  {
   "cell_type": "code",
   "execution_count": 11,
   "id": "a9046b08-8af1-4d4f-8f00-016787dc6aaf",
   "metadata": {},
   "outputs": [
    {
     "name": "stdout",
     "output_type": "stream",
     "text": [
      "정답 :  [2.234 1.446 2.821 2.44  1.512]\n",
      "194/194 [==============================] - 0s 1ms/step\n",
      "예측 값 :  [1.8287454 3.056828  2.766028  2.7012477 3.191504 ]\n"
     ]
    }
   ],
   "source": [
    "print('정답 : ', y_test[:5])\n",
    "print('예측 값 : ', model.predict(x_test).reshape(-1)[:5])"
   ]
  },
  {
   "cell_type": "markdown",
   "id": "74cfb07c-90b4-4fb6-80ad-5feaf2783cb2",
   "metadata": {},
   "source": [
    "# 이진분류(로지스틱)"
   ]
  },
  {
   "cell_type": "code",
   "execution_count": 37,
   "id": "90b0b3e8-d3e3-43fb-a428-6ed925ba6836",
   "metadata": {},
   "outputs": [],
   "source": [
    "from sklearn.datasets import load_breast_cancer"
   ]
  },
  {
   "cell_type": "code",
   "execution_count": 38,
   "id": "485883d6-b007-40de-b814-c09617c47c27",
   "metadata": {},
   "outputs": [],
   "source": [
    "cancer = load_breast_cancer()"
   ]
  },
  {
   "cell_type": "code",
   "execution_count": 39,
   "id": "dad9e722-f680-4a73-a15b-459077ba84a5",
   "metadata": {},
   "outputs": [],
   "source": [
    "x = cancer.data\n",
    "y = cancer.target"
   ]
  },
  {
   "cell_type": "code",
   "execution_count": 40,
   "id": "c7050c8e-487a-4e4f-bfab-38ac859bb017",
   "metadata": {},
   "outputs": [],
   "source": [
    "from sklearn.model_selection import train_test_split\n",
    "x_train, x_test, y_train, y_test = train_test_split(x,y,test_size=0.3)"
   ]
  },
  {
   "cell_type": "code",
   "execution_count": 41,
   "id": "67cfb3c3-ae18-46a8-947d-c4b2057df4ab",
   "metadata": {},
   "outputs": [],
   "source": [
    "import tensorflow as tf\n",
    "from tensorflow import keras"
   ]
  },
  {
   "cell_type": "code",
   "execution_count": 42,
   "id": "af95148d-be16-4a05-b2e7-8ff5bcb4bffe",
   "metadata": {},
   "outputs": [
    {
     "data": {
      "text/plain": [
       "((398, 30), (398,), (171, 30), (171,))"
      ]
     },
     "execution_count": 42,
     "metadata": {},
     "output_type": "execute_result"
    }
   ],
   "source": [
    "x_train.shape, y_train.shape, x_test.shape, y_test.shape"
   ]
  },
  {
   "cell_type": "code",
   "execution_count": 43,
   "id": "2c72bd92-5f52-4dc2-84a0-d4ecc5eff973",
   "metadata": {},
   "outputs": [
    {
     "name": "stdout",
     "output_type": "stream",
     "text": [
      "Model: \"sequential\"\n",
      "_________________________________________________________________\n",
      " Layer (type)                Output Shape              Param #   \n",
      "=================================================================\n",
      " dense (Dense)               (None, 1)                 31        \n",
      "                                                                 \n",
      "=================================================================\n",
      "Total params: 31\n",
      "Trainable params: 31\n",
      "Non-trainable params: 0\n",
      "_________________________________________________________________\n"
     ]
    }
   ],
   "source": [
    "# 세션 클리어\n",
    "keras.backend.clear_session()\n",
    "\n",
    "# 모델 선언\n",
    "model = keras.models.Sequential()\n",
    "\n",
    "# 모델 블록 조립\n",
    "model.add(keras.layers.Input(shape=(x_train.shape[1])))\n",
    "model.add(keras.layers.Dense(1, activation='sigmoid'))\n",
    "\n",
    "# compile\n",
    "model.compile(loss = 'binary_crossentropy', metrics=['accuracy'], optimizer='adam')\n",
    "\n",
    "model.summary()"
   ]
  },
  {
   "cell_type": "code",
   "execution_count": 44,
   "id": "4c87352c-8456-48a2-b137-014c0db85b25",
   "metadata": {},
   "outputs": [],
   "source": [
    "from tensorflow.keras.callbacks import EarlyStopping\n",
    "es = EarlyStopping(monitor='val_loss',\n",
    "                  patience=5,\n",
    "                  min_delta=0,\n",
    "                  verbose = 1,\n",
    "                  restore_best_weights=True)"
   ]
  },
  {
   "cell_type": "code",
   "execution_count": 45,
   "id": "64c6503f-71b2-449d-a5dc-0c42a2db89f2",
   "metadata": {},
   "outputs": [
    {
     "name": "stdout",
     "output_type": "stream",
     "text": [
      "Epoch 1/50\n",
      "10/10 [==============================] - 1s 28ms/step - loss: 169.5105 - accuracy: 0.6289 - val_loss: 173.4468 - val_accuracy: 0.6000\n",
      "Epoch 2/50\n",
      "10/10 [==============================] - 0s 7ms/step - loss: 159.0126 - accuracy: 0.6289 - val_loss: 162.4577 - val_accuracy: 0.6000\n",
      "Epoch 3/50\n",
      "10/10 [==============================] - 0s 7ms/step - loss: 148.4431 - accuracy: 0.6289 - val_loss: 151.5484 - val_accuracy: 0.6000\n",
      "Epoch 4/50\n",
      "10/10 [==============================] - 0s 7ms/step - loss: 138.3109 - accuracy: 0.6289 - val_loss: 140.4465 - val_accuracy: 0.6000\n",
      "Epoch 5/50\n",
      "10/10 [==============================] - 0s 7ms/step - loss: 127.6514 - accuracy: 0.6289 - val_loss: 129.5953 - val_accuracy: 0.6000\n",
      "Epoch 6/50\n",
      "10/10 [==============================] - 0s 7ms/step - loss: 117.5310 - accuracy: 0.6289 - val_loss: 118.5698 - val_accuracy: 0.6000\n",
      "Epoch 7/50\n",
      "10/10 [==============================] - 0s 7ms/step - loss: 107.4591 - accuracy: 0.6289 - val_loss: 107.3888 - val_accuracy: 0.6000\n",
      "Epoch 8/50\n",
      "10/10 [==============================] - 0s 7ms/step - loss: 96.4637 - accuracy: 0.6289 - val_loss: 96.8252 - val_accuracy: 0.6000\n",
      "Epoch 9/50\n",
      "10/10 [==============================] - 0s 8ms/step - loss: 86.5800 - accuracy: 0.6289 - val_loss: 85.7919 - val_accuracy: 0.6000\n",
      "Epoch 10/50\n",
      "10/10 [==============================] - 0s 8ms/step - loss: 76.1336 - accuracy: 0.6289 - val_loss: 74.8509 - val_accuracy: 0.6000\n",
      "Epoch 11/50\n",
      "10/10 [==============================] - 0s 8ms/step - loss: 65.8243 - accuracy: 0.6289 - val_loss: 63.9000 - val_accuracy: 0.6000\n",
      "Epoch 12/50\n",
      "10/10 [==============================] - 0s 7ms/step - loss: 55.6919 - accuracy: 0.6289 - val_loss: 52.7984 - val_accuracy: 0.6000\n",
      "Epoch 13/50\n",
      "10/10 [==============================] - 0s 7ms/step - loss: 45.1423 - accuracy: 0.6321 - val_loss: 42.0194 - val_accuracy: 0.6000\n",
      "Epoch 14/50\n",
      "10/10 [==============================] - 0s 6ms/step - loss: 35.3184 - accuracy: 0.6384 - val_loss: 31.8882 - val_accuracy: 0.6125\n",
      "Epoch 15/50\n",
      "10/10 [==============================] - 0s 7ms/step - loss: 25.9912 - accuracy: 0.6384 - val_loss: 22.0051 - val_accuracy: 0.6375\n",
      "Epoch 16/50\n",
      "10/10 [==============================] - 0s 6ms/step - loss: 16.7800 - accuracy: 0.6635 - val_loss: 13.4426 - val_accuracy: 0.6750\n",
      "Epoch 17/50\n",
      "10/10 [==============================] - 0s 6ms/step - loss: 9.2614 - accuracy: 0.7138 - val_loss: 7.2267 - val_accuracy: 0.7250\n",
      "Epoch 18/50\n",
      "10/10 [==============================] - 0s 6ms/step - loss: 4.3087 - accuracy: 0.7704 - val_loss: 3.5243 - val_accuracy: 0.8000\n",
      "Epoch 19/50\n",
      "10/10 [==============================] - 0s 7ms/step - loss: 2.0755 - accuracy: 0.8428 - val_loss: 2.3319 - val_accuracy: 0.8125\n",
      "Epoch 20/50\n",
      "10/10 [==============================] - 0s 7ms/step - loss: 1.2542 - accuracy: 0.8553 - val_loss: 2.0508 - val_accuracy: 0.8000\n",
      "Epoch 21/50\n",
      "10/10 [==============================] - 0s 7ms/step - loss: 1.1706 - accuracy: 0.8333 - val_loss: 2.0060 - val_accuracy: 0.7750\n",
      "Epoch 22/50\n",
      "10/10 [==============================] - 0s 6ms/step - loss: 1.1337 - accuracy: 0.8428 - val_loss: 1.9980 - val_accuracy: 0.7750\n",
      "Epoch 23/50\n",
      "10/10 [==============================] - 0s 7ms/step - loss: 1.1244 - accuracy: 0.8428 - val_loss: 1.9905 - val_accuracy: 0.7750\n",
      "Epoch 24/50\n",
      "10/10 [==============================] - 0s 10ms/step - loss: 1.1220 - accuracy: 0.8428 - val_loss: 1.9908 - val_accuracy: 0.7875\n",
      "Epoch 25/50\n",
      "10/10 [==============================] - 0s 7ms/step - loss: 1.1007 - accuracy: 0.8459 - val_loss: 1.9841 - val_accuracy: 0.7875\n",
      "Epoch 26/50\n",
      "10/10 [==============================] - 0s 6ms/step - loss: 1.0999 - accuracy: 0.8491 - val_loss: 1.9732 - val_accuracy: 0.7750\n",
      "Epoch 27/50\n",
      "10/10 [==============================] - 0s 6ms/step - loss: 1.0954 - accuracy: 0.8491 - val_loss: 1.9747 - val_accuracy: 0.7875\n",
      "Epoch 28/50\n",
      "10/10 [==============================] - 0s 7ms/step - loss: 1.0825 - accuracy: 0.8459 - val_loss: 1.9635 - val_accuracy: 0.8000\n",
      "Epoch 29/50\n",
      "10/10 [==============================] - 0s 7ms/step - loss: 1.0761 - accuracy: 0.8459 - val_loss: 1.9538 - val_accuracy: 0.8000\n",
      "Epoch 30/50\n",
      "10/10 [==============================] - 0s 7ms/step - loss: 1.0704 - accuracy: 0.8459 - val_loss: 1.9468 - val_accuracy: 0.8000\n",
      "Epoch 31/50\n",
      "10/10 [==============================] - 0s 9ms/step - loss: 1.0638 - accuracy: 0.8459 - val_loss: 1.9386 - val_accuracy: 0.8125\n",
      "Epoch 32/50\n",
      "10/10 [==============================] - 0s 8ms/step - loss: 1.0598 - accuracy: 0.8459 - val_loss: 1.9300 - val_accuracy: 0.8125\n",
      "Epoch 33/50\n",
      "10/10 [==============================] - 0s 9ms/step - loss: 1.0527 - accuracy: 0.8459 - val_loss: 1.9199 - val_accuracy: 0.8125\n",
      "Epoch 34/50\n",
      "10/10 [==============================] - 0s 8ms/step - loss: 1.0484 - accuracy: 0.8459 - val_loss: 1.9129 - val_accuracy: 0.8125\n",
      "Epoch 35/50\n",
      "10/10 [==============================] - 0s 7ms/step - loss: 1.0428 - accuracy: 0.8459 - val_loss: 1.9075 - val_accuracy: 0.8125\n",
      "Epoch 36/50\n",
      "10/10 [==============================] - 0s 6ms/step - loss: 1.0372 - accuracy: 0.8459 - val_loss: 1.8943 - val_accuracy: 0.8125\n",
      "Epoch 37/50\n",
      "10/10 [==============================] - 0s 7ms/step - loss: 1.0314 - accuracy: 0.8459 - val_loss: 1.8837 - val_accuracy: 0.8125\n",
      "Epoch 38/50\n",
      "10/10 [==============================] - 0s 6ms/step - loss: 1.0252 - accuracy: 0.8491 - val_loss: 1.8802 - val_accuracy: 0.8125\n",
      "Epoch 39/50\n",
      "10/10 [==============================] - 0s 7ms/step - loss: 1.0186 - accuracy: 0.8522 - val_loss: 1.8719 - val_accuracy: 0.8125\n",
      "Epoch 40/50\n",
      "10/10 [==============================] - 0s 7ms/step - loss: 1.0133 - accuracy: 0.8553 - val_loss: 1.8671 - val_accuracy: 0.8125\n",
      "Epoch 41/50\n",
      "10/10 [==============================] - 0s 7ms/step - loss: 1.0138 - accuracy: 0.8522 - val_loss: 1.8517 - val_accuracy: 0.8125\n",
      "Epoch 42/50\n",
      "10/10 [==============================] - 0s 7ms/step - loss: 1.0009 - accuracy: 0.8585 - val_loss: 1.8482 - val_accuracy: 0.8125\n",
      "Epoch 43/50\n",
      "10/10 [==============================] - 0s 7ms/step - loss: 0.9981 - accuracy: 0.8522 - val_loss: 1.8466 - val_accuracy: 0.8125\n",
      "Epoch 44/50\n",
      "10/10 [==============================] - 0s 7ms/step - loss: 0.9907 - accuracy: 0.8553 - val_loss: 1.8324 - val_accuracy: 0.8125\n",
      "Epoch 45/50\n",
      "10/10 [==============================] - 0s 7ms/step - loss: 0.9880 - accuracy: 0.8585 - val_loss: 1.8162 - val_accuracy: 0.8125\n",
      "Epoch 46/50\n",
      "10/10 [==============================] - 0s 6ms/step - loss: 0.9795 - accuracy: 0.8585 - val_loss: 1.8119 - val_accuracy: 0.8125\n",
      "Epoch 47/50\n",
      "10/10 [==============================] - 0s 6ms/step - loss: 0.9738 - accuracy: 0.8553 - val_loss: 1.8079 - val_accuracy: 0.8125\n",
      "Epoch 48/50\n",
      "10/10 [==============================] - 0s 7ms/step - loss: 0.9702 - accuracy: 0.8553 - val_loss: 1.7991 - val_accuracy: 0.8125\n",
      "Epoch 49/50\n",
      "10/10 [==============================] - 0s 7ms/step - loss: 0.9650 - accuracy: 0.8585 - val_loss: 1.7902 - val_accuracy: 0.8125\n",
      "Epoch 50/50\n",
      "10/10 [==============================] - 0s 7ms/step - loss: 0.9578 - accuracy: 0.8585 - val_loss: 1.7837 - val_accuracy: 0.8250\n"
     ]
    },
    {
     "data": {
      "text/plain": [
       "<keras.callbacks.History at 0x22d68f55eb0>"
      ]
     },
     "execution_count": 45,
     "metadata": {},
     "output_type": "execute_result"
    }
   ],
   "source": [
    "model.fit(x_train, y_train, verbose=1, epochs=50,\n",
    "         callbacks=[es], validation_split=0.2)"
   ]
  },
  {
   "cell_type": "code",
   "execution_count": 46,
   "id": "79efc886-49a1-4d1c-b15c-5929d1917299",
   "metadata": {},
   "outputs": [
    {
     "name": "stdout",
     "output_type": "stream",
     "text": [
      "6/6 [==============================] - 0s 2ms/step - loss: 1.4045 - accuracy: 0.8596\n"
     ]
    },
    {
     "data": {
      "text/plain": [
       "[1.4044506549835205, 0.859649121761322]"
      ]
     },
     "execution_count": 46,
     "metadata": {},
     "output_type": "execute_result"
    }
   ],
   "source": [
    "model.evaluate(x_test, y_test)"
   ]
  },
  {
   "cell_type": "code",
   "execution_count": 47,
   "id": "ec7ebdc9-0188-405c-bd39-c57602723385",
   "metadata": {},
   "outputs": [
    {
     "name": "stdout",
     "output_type": "stream",
     "text": [
      "정답 :  [1 1 1 1 1]\n",
      "6/6 [==============================] - 0s 2ms/step\n",
      "예측 값 :  [9.6178120e-01 9.7514051e-01 9.9999988e-01 9.9992663e-01 1.9067709e-10]\n"
     ]
    }
   ],
   "source": [
    "print('정답 : ', y_test[:5])\n",
    "print('예측 값 : ', model.predict(x_test).reshape(-1)[:5])"
   ]
  },
  {
   "cell_type": "markdown",
   "id": "5bf43ebe-9d89-479d-b427-c6a453fd6551",
   "metadata": {},
   "source": [
    "# 다중분류"
   ]
  },
  {
   "cell_type": "code",
   "execution_count": 48,
   "id": "1058501a-1430-4bba-b90f-cb533939b448",
   "metadata": {},
   "outputs": [],
   "source": [
    "from sklearn.datasets import load_iris"
   ]
  },
  {
   "cell_type": "code",
   "execution_count": 49,
   "id": "4fac1a5b-24bf-4ce4-ba33-d1a842b1beea",
   "metadata": {},
   "outputs": [],
   "source": [
    "iris = load_iris()"
   ]
  },
  {
   "cell_type": "code",
   "execution_count": 50,
   "id": "1a2121ce-74a4-4420-a2cb-9e4dfda4c2ef",
   "metadata": {},
   "outputs": [],
   "source": [
    "x = iris.data\n",
    "y = iris.target"
   ]
  },
  {
   "cell_type": "code",
   "execution_count": 51,
   "id": "75d8b9b4-7979-4ccc-adec-9926403e34e0",
   "metadata": {},
   "outputs": [],
   "source": [
    "from sklearn.model_selection import train_test_split\n",
    "x_train, x_test, y_train, y_test = train_test_split(x,y,test_size=0.3)"
   ]
  },
  {
   "cell_type": "code",
   "execution_count": 52,
   "id": "eb50fbe0-9de9-4e8a-8511-fab75beb1660",
   "metadata": {},
   "outputs": [],
   "source": [
    "import tensorflow as tf\n",
    "from tensorflow import keras"
   ]
  },
  {
   "cell_type": "code",
   "execution_count": 53,
   "id": "bffaad5f-f573-43eb-9727-b9816c0db0dd",
   "metadata": {},
   "outputs": [],
   "source": [
    "from tensorflow.keras.utils import to_categorical\n",
    "\n",
    "len_y= len(set(y_test))\n",
    "y_train = to_categorical(y_train, len_y)\n",
    "y_test = to_categorical(y_test,len_y)"
   ]
  },
  {
   "cell_type": "code",
   "execution_count": 71,
   "id": "bc53913b-8da9-419b-9990-78cbfdd75a6b",
   "metadata": {},
   "outputs": [
    {
     "data": {
      "text/plain": [
       "((105, 4), (105, 3), (45, 3))"
      ]
     },
     "execution_count": 71,
     "metadata": {},
     "output_type": "execute_result"
    }
   ],
   "source": [
    "x_train.shape, y_train.shape, y_test.shape\n",
    "# x_train.shape[1]"
   ]
  },
  {
   "cell_type": "code",
   "execution_count": 77,
   "id": "8d7c8740-b175-4d73-a4f4-a1a69f8a9702",
   "metadata": {},
   "outputs": [
    {
     "name": "stdout",
     "output_type": "stream",
     "text": [
      "Model: \"sequential\"\n",
      "_________________________________________________________________\n",
      " Layer (type)                Output Shape              Param #   \n",
      "=================================================================\n",
      " dense (Dense)               (None, 3)                 15        \n",
      "                                                                 \n",
      "=================================================================\n",
      "Total params: 15\n",
      "Trainable params: 15\n",
      "Non-trainable params: 0\n",
      "_________________________________________________________________\n"
     ]
    }
   ],
   "source": [
    "# 세션 클리어\n",
    "keras.backend.clear_session()\n",
    "\n",
    "# 모델 발판 만들기\n",
    "model = keras.models.Sequential()\n",
    "\n",
    "# 모델 블록 조립\n",
    "model.add(keras.layers.Input(shape = (x_train.shape[1],)))\n",
    "model.add(keras.layers.Dense(3, activation = 'softmax'))\n",
    "\n",
    "# 모델 컴파일\n",
    "model.compile(loss = 'categorical_crossentropy', metrics=['accuracy'],\n",
    "              optimizer = 'adam')\n",
    "\n",
    "model.summary()"
   ]
  },
  {
   "cell_type": "code",
   "execution_count": 78,
   "id": "28793ea6-3237-46be-9136-5e6f1dbfae8a",
   "metadata": {},
   "outputs": [],
   "source": [
    "from tensorflow.keras.callbacks import EarlyStopping\n",
    "es = EarlyStopping(monitor='val_loss',\n",
    "                  patience=5,\n",
    "                  min_delta=0,\n",
    "                  verbose = 1,\n",
    "                  restore_best_weights=True)"
   ]
  },
  {
   "cell_type": "code",
   "execution_count": 79,
   "id": "63b6442e-fd0c-4a76-9d4e-2ab474c0f843",
   "metadata": {},
   "outputs": [
    {
     "name": "stdout",
     "output_type": "stream",
     "text": [
      "Epoch 1/50\n",
      "3/3 [==============================] - 1s 228ms/step - loss: 7.0586 - accuracy: 0.3095 - val_loss: 6.2212 - val_accuracy: 0.3810\n",
      "Epoch 2/50\n",
      "3/3 [==============================] - 0s 22ms/step - loss: 6.9888 - accuracy: 0.3095 - val_loss: 6.1598 - val_accuracy: 0.3810\n",
      "Epoch 3/50\n",
      "3/3 [==============================] - 0s 21ms/step - loss: 6.9228 - accuracy: 0.3095 - val_loss: 6.0984 - val_accuracy: 0.3810\n",
      "Epoch 4/50\n",
      "3/3 [==============================] - 0s 21ms/step - loss: 6.8536 - accuracy: 0.3095 - val_loss: 6.0373 - val_accuracy: 0.3810\n",
      "Epoch 5/50\n",
      "3/3 [==============================] - 0s 22ms/step - loss: 6.7843 - accuracy: 0.3095 - val_loss: 5.9763 - val_accuracy: 0.3810\n",
      "Epoch 6/50\n",
      "3/3 [==============================] - 0s 22ms/step - loss: 6.7161 - accuracy: 0.3095 - val_loss: 5.9151 - val_accuracy: 0.3810\n",
      "Epoch 7/50\n",
      "3/3 [==============================] - 0s 22ms/step - loss: 6.6486 - accuracy: 0.3095 - val_loss: 5.8537 - val_accuracy: 0.3810\n",
      "Epoch 8/50\n",
      "3/3 [==============================] - 0s 21ms/step - loss: 6.5806 - accuracy: 0.3095 - val_loss: 5.7925 - val_accuracy: 0.3810\n",
      "Epoch 9/50\n",
      "3/3 [==============================] - 0s 21ms/step - loss: 6.5116 - accuracy: 0.3095 - val_loss: 5.7315 - val_accuracy: 0.3810\n",
      "Epoch 10/50\n",
      "3/3 [==============================] - 0s 21ms/step - loss: 6.4462 - accuracy: 0.3095 - val_loss: 5.6704 - val_accuracy: 0.3810\n",
      "Epoch 11/50\n",
      "3/3 [==============================] - 0s 21ms/step - loss: 6.3764 - accuracy: 0.3095 - val_loss: 5.6098 - val_accuracy: 0.3810\n",
      "Epoch 12/50\n",
      "3/3 [==============================] - 0s 21ms/step - loss: 6.3093 - accuracy: 0.3095 - val_loss: 5.5494 - val_accuracy: 0.3810\n",
      "Epoch 13/50\n",
      "3/3 [==============================] - 0s 23ms/step - loss: 6.2382 - accuracy: 0.3095 - val_loss: 5.4894 - val_accuracy: 0.3810\n",
      "Epoch 14/50\n",
      "3/3 [==============================] - 0s 22ms/step - loss: 6.1716 - accuracy: 0.3095 - val_loss: 5.4289 - val_accuracy: 0.3810\n",
      "Epoch 15/50\n",
      "3/3 [==============================] - 0s 21ms/step - loss: 6.1053 - accuracy: 0.3095 - val_loss: 5.3679 - val_accuracy: 0.3810\n",
      "Epoch 16/50\n",
      "3/3 [==============================] - 0s 22ms/step - loss: 6.0376 - accuracy: 0.3095 - val_loss: 5.3070 - val_accuracy: 0.3810\n",
      "Epoch 17/50\n",
      "3/3 [==============================] - 0s 24ms/step - loss: 5.9712 - accuracy: 0.3095 - val_loss: 5.2461 - val_accuracy: 0.3810\n",
      "Epoch 18/50\n",
      "3/3 [==============================] - 0s 22ms/step - loss: 5.9023 - accuracy: 0.3095 - val_loss: 5.1854 - val_accuracy: 0.3810\n",
      "Epoch 19/50\n",
      "3/3 [==============================] - 0s 23ms/step - loss: 5.8327 - accuracy: 0.3095 - val_loss: 5.1252 - val_accuracy: 0.3810\n",
      "Epoch 20/50\n",
      "3/3 [==============================] - 0s 22ms/step - loss: 5.7658 - accuracy: 0.3095 - val_loss: 5.0647 - val_accuracy: 0.3810\n",
      "Epoch 21/50\n",
      "3/3 [==============================] - 0s 26ms/step - loss: 5.7004 - accuracy: 0.3095 - val_loss: 5.0036 - val_accuracy: 0.3810\n",
      "Epoch 22/50\n",
      "3/3 [==============================] - 0s 23ms/step - loss: 5.6298 - accuracy: 0.3095 - val_loss: 4.9432 - val_accuracy: 0.3810\n",
      "Epoch 23/50\n",
      "3/3 [==============================] - 0s 24ms/step - loss: 5.5627 - accuracy: 0.3095 - val_loss: 4.8824 - val_accuracy: 0.3810\n",
      "Epoch 24/50\n",
      "3/3 [==============================] - 0s 23ms/step - loss: 5.4967 - accuracy: 0.3095 - val_loss: 4.8215 - val_accuracy: 0.3810\n",
      "Epoch 25/50\n",
      "3/3 [==============================] - 0s 22ms/step - loss: 5.4274 - accuracy: 0.3095 - val_loss: 4.7610 - val_accuracy: 0.3810\n",
      "Epoch 26/50\n",
      "3/3 [==============================] - 0s 21ms/step - loss: 5.3599 - accuracy: 0.3095 - val_loss: 4.7006 - val_accuracy: 0.3810\n",
      "Epoch 27/50\n",
      "3/3 [==============================] - 0s 25ms/step - loss: 5.2905 - accuracy: 0.3095 - val_loss: 4.6406 - val_accuracy: 0.3810\n",
      "Epoch 28/50\n",
      "3/3 [==============================] - 0s 25ms/step - loss: 5.2258 - accuracy: 0.3095 - val_loss: 4.5799 - val_accuracy: 0.3810\n",
      "Epoch 29/50\n",
      "3/3 [==============================] - 0s 23ms/step - loss: 5.1559 - accuracy: 0.3095 - val_loss: 4.5198 - val_accuracy: 0.3810\n",
      "Epoch 30/50\n",
      "3/3 [==============================] - 0s 21ms/step - loss: 5.0915 - accuracy: 0.3095 - val_loss: 4.4591 - val_accuracy: 0.3810\n",
      "Epoch 31/50\n",
      "3/3 [==============================] - 0s 22ms/step - loss: 5.0242 - accuracy: 0.3095 - val_loss: 4.3987 - val_accuracy: 0.3810\n",
      "Epoch 32/50\n",
      "3/3 [==============================] - 0s 22ms/step - loss: 4.9542 - accuracy: 0.3095 - val_loss: 4.3390 - val_accuracy: 0.3810\n",
      "Epoch 33/50\n",
      "3/3 [==============================] - 0s 23ms/step - loss: 4.8868 - accuracy: 0.3095 - val_loss: 4.2792 - val_accuracy: 0.3810\n",
      "Epoch 34/50\n",
      "3/3 [==============================] - 0s 23ms/step - loss: 4.8213 - accuracy: 0.3095 - val_loss: 4.2191 - val_accuracy: 0.3810\n",
      "Epoch 35/50\n",
      "3/3 [==============================] - 0s 24ms/step - loss: 4.7530 - accuracy: 0.3095 - val_loss: 4.1592 - val_accuracy: 0.3810\n",
      "Epoch 36/50\n",
      "3/3 [==============================] - 0s 28ms/step - loss: 4.6884 - accuracy: 0.3095 - val_loss: 4.0989 - val_accuracy: 0.3810\n",
      "Epoch 37/50\n",
      "3/3 [==============================] - 0s 31ms/step - loss: 4.6178 - accuracy: 0.3095 - val_loss: 4.0397 - val_accuracy: 0.3810\n",
      "Epoch 38/50\n",
      "3/3 [==============================] - 0s 28ms/step - loss: 4.5521 - accuracy: 0.3095 - val_loss: 3.9801 - val_accuracy: 0.3810\n",
      "Epoch 39/50\n",
      "3/3 [==============================] - 0s 27ms/step - loss: 4.4856 - accuracy: 0.3095 - val_loss: 3.9202 - val_accuracy: 0.3810\n",
      "Epoch 40/50\n",
      "3/3 [==============================] - 0s 28ms/step - loss: 4.4189 - accuracy: 0.3095 - val_loss: 3.8605 - val_accuracy: 0.3810\n",
      "Epoch 41/50\n",
      "3/3 [==============================] - 0s 20ms/step - loss: 4.3532 - accuracy: 0.3095 - val_loss: 3.8011 - val_accuracy: 0.3810\n",
      "Epoch 42/50\n",
      "3/3 [==============================] - 0s 20ms/step - loss: 4.2848 - accuracy: 0.3095 - val_loss: 3.7424 - val_accuracy: 0.3810\n",
      "Epoch 43/50\n",
      "3/3 [==============================] - 0s 19ms/step - loss: 4.2216 - accuracy: 0.3095 - val_loss: 3.6829 - val_accuracy: 0.3810\n",
      "Epoch 44/50\n",
      "3/3 [==============================] - 0s 21ms/step - loss: 4.1548 - accuracy: 0.3095 - val_loss: 3.6240 - val_accuracy: 0.3810\n",
      "Epoch 45/50\n",
      "3/3 [==============================] - 0s 24ms/step - loss: 4.0885 - accuracy: 0.3095 - val_loss: 3.5654 - val_accuracy: 0.3810\n",
      "Epoch 46/50\n",
      "3/3 [==============================] - 0s 23ms/step - loss: 4.0243 - accuracy: 0.3095 - val_loss: 3.5067 - val_accuracy: 0.3810\n",
      "Epoch 47/50\n",
      "3/3 [==============================] - 0s 24ms/step - loss: 3.9563 - accuracy: 0.3095 - val_loss: 3.4487 - val_accuracy: 0.3810\n",
      "Epoch 48/50\n",
      "3/3 [==============================] - 0s 24ms/step - loss: 3.8927 - accuracy: 0.3095 - val_loss: 3.3904 - val_accuracy: 0.3810\n",
      "Epoch 49/50\n",
      "3/3 [==============================] - 0s 23ms/step - loss: 3.8291 - accuracy: 0.3095 - val_loss: 3.3324 - val_accuracy: 0.3810\n",
      "Epoch 50/50\n",
      "3/3 [==============================] - 0s 33ms/step - loss: 3.7621 - accuracy: 0.3095 - val_loss: 3.2755 - val_accuracy: 0.3810\n"
     ]
    },
    {
     "data": {
      "text/plain": [
       "<keras.callbacks.History at 0x22d6a606b50>"
      ]
     },
     "execution_count": 79,
     "metadata": {},
     "output_type": "execute_result"
    }
   ],
   "source": [
    "model.fit(x_train, y_train, epochs=50, verbose=1,\n",
    "         callbacks=[es], validation_split=0.2)"
   ]
  },
  {
   "cell_type": "code",
   "execution_count": 80,
   "id": "5bc8b062-83db-4474-a9cc-745cec018def",
   "metadata": {},
   "outputs": [
    {
     "name": "stdout",
     "output_type": "stream",
     "text": [
      "2/2 [==============================] - 0s 5ms/step - loss: 3.5714 - accuracy: 0.3556\n"
     ]
    },
    {
     "data": {
      "text/plain": [
       "[3.5713961124420166, 0.35555556416511536]"
      ]
     },
     "execution_count": 80,
     "metadata": {},
     "output_type": "execute_result"
    }
   ],
   "source": [
    "model.evaluate(x_test, y_test)"
   ]
  },
  {
   "cell_type": "code",
   "execution_count": 83,
   "id": "cd21ca52-cd7e-4b74-9a5f-a82c85dfebc2",
   "metadata": {},
   "outputs": [
    {
     "name": "stdout",
     "output_type": "stream",
     "text": [
      "정답 :  [[1. 0. 0.]\n",
      " [0. 0. 1.]\n",
      " [1. 0. 0.]\n",
      " [0. 1. 0.]\n",
      " [0. 0. 1.]]\n",
      "2/2 [==============================] - 0s 3ms/step\n",
      "예측 값 :  [[9.6633428e-01 3.6144638e-04 3.3304259e-02]\n",
      " [9.7978473e-01 1.7520797e-02 2.6943912e-03]\n",
      " [9.6743351e-01 1.0205171e-03 3.1546030e-02]\n",
      " [9.8214573e-01 1.1888525e-02 5.9656845e-03]\n",
      " [9.7032398e-01 2.6496714e-02 3.1793963e-03]]\n"
     ]
    }
   ],
   "source": [
    "print('정답 : ', y_test[:5])\n",
    "print('예측 값 : ', model.predict(x_test)[:5])"
   ]
  },
  {
   "cell_type": "code",
   "execution_count": null,
   "id": "30a1e43e-5f24-404c-872c-a4574887211e",
   "metadata": {},
   "outputs": [],
   "source": []
  }
 ],
 "metadata": {
  "kernelspec": {
   "display_name": "Python 3 (ipykernel)",
   "language": "python",
   "name": "python3"
  },
  "language_info": {
   "codemirror_mode": {
    "name": "ipython",
    "version": 3
   },
   "file_extension": ".py",
   "mimetype": "text/x-python",
   "name": "python",
   "nbconvert_exporter": "python",
   "pygments_lexer": "ipython3",
   "version": "3.9.13"
  }
 },
 "nbformat": 4,
 "nbformat_minor": 5
}
