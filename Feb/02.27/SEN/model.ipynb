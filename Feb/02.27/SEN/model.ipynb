{
 "cells": [
  {
   "cell_type": "markdown",
   "id": "fb483d39-fe53-4f3a-8c93-d6a23dd7bd3e",
   "metadata": {},
   "source": [
    "# 선형 회귀"
   ]
  },
  {
   "cell_type": "code",
   "execution_count": 1,
   "id": "873e0ca0-e071-45df-8e11-f765a23bece7",
   "metadata": {},
   "outputs": [],
   "source": [
    "from sklearn.datasets import fetch_california_housing"
   ]
  },
  {
   "cell_type": "code",
   "execution_count": 4,
   "id": "11267318-7e1b-47d5-91b3-cad68fe702d7",
   "metadata": {},
   "outputs": [],
   "source": [
    "boston = fetch_california_housing()"
   ]
  },
  {
   "cell_type": "code",
   "execution_count": 5,
   "id": "9050f80c-f54a-4397-9623-e7725156b8f4",
   "metadata": {},
   "outputs": [],
   "source": [
    "x = boston.data\n",
    "y = boston.target"
   ]
  },
  {
   "cell_type": "code",
   "execution_count": 6,
   "id": "eb899bd5-c858-478a-8323-7e688a5c525a",
   "metadata": {},
   "outputs": [],
   "source": [
    "from sklearn.model_selection import train_test_split\n",
    "x_train, x_test, y_train, y_test = train_test_split(x,y,test_size=0.3)"
   ]
  },
  {
   "cell_type": "code",
   "execution_count": 10,
   "id": "30a90f6e-4fa9-40ab-a608-50d5d36b305c",
   "metadata": {},
   "outputs": [],
   "source": [
    "# 라이브러리 불러오기\n",
    "import tensorflow as tf\n",
    "from tensorflow import keras"
   ]
  },
  {
   "cell_type": "code",
   "execution_count": 11,
   "id": "e7a18942-e2fe-468a-8464-3e69f3c238c0",
   "metadata": {},
   "outputs": [
    {
     "data": {
      "text/plain": [
       "((14448, 8), (6192, 8), (14448,), (6192,))"
      ]
     },
     "execution_count": 11,
     "metadata": {},
     "output_type": "execute_result"
    }
   ],
   "source": [
    "x_train.shape, x_test.shape, y_train.shape, y_test.shape"
   ]
  },
  {
   "cell_type": "code",
   "execution_count": 12,
   "id": "af7e76fe-45b5-4559-b617-ca23ca11cb3c",
   "metadata": {},
   "outputs": [],
   "source": [
    "# 1. 세션 클리어\n",
    "keras.backend.clear_session()\n",
    "\n",
    "# 2. 모델 생성\n",
    "model = keras.models.Sequential()\n",
    "\n",
    "# 3. 모델 블록 조립\n",
    "model.add(keras.layers.Input(shape=(x_train.shape[1],)))\n",
    "model.add(keras.layers.Dense(1, activation='linear'))\n",
    "\n",
    "# 4. model complie\n",
    "model.compile(loss = 'mse', optimizer='adam')"
   ]
  },
  {
   "cell_type": "code",
   "execution_count": 21,
   "id": "4b228346-5f8f-4069-a9bf-f7b348101f8c",
   "metadata": {},
   "outputs": [],
   "source": [
    "from tensorflow.keras.callbacks import EarlyStopping\n",
    "es = EarlyStopping(monitor='val_loss',\n",
    "                  patience=5,\n",
    "                  min_delta=0,\n",
    "                  verbose = 1,\n",
    "                  restore_best_weights=True)"
   ]
  },
  {
   "cell_type": "code",
   "execution_count": 23,
   "id": "e7e20f42-38b4-47f7-8c1b-0ee4a3b5b72c",
   "metadata": {},
   "outputs": [
    {
     "name": "stdout",
     "output_type": "stream",
     "text": [
      "Epoch 1/50\n",
      "362/362 [==============================] - 1s 2ms/step - loss: 56.7073 - val_loss: 7.1578\n",
      "Epoch 2/50\n",
      "362/362 [==============================] - 1s 2ms/step - loss: 52.7907 - val_loss: 6.7535\n",
      "Epoch 3/50\n",
      "362/362 [==============================] - 1s 2ms/step - loss: 49.5867 - val_loss: 6.2549\n",
      "Epoch 4/50\n",
      "362/362 [==============================] - 1s 2ms/step - loss: 46.1115 - val_loss: 5.8442\n",
      "Epoch 5/50\n",
      "362/362 [==============================] - 1s 2ms/step - loss: 42.7597 - val_loss: 5.4306\n",
      "Epoch 6/50\n",
      "362/362 [==============================] - 1s 2ms/step - loss: 39.6775 - val_loss: 5.0754\n",
      "Epoch 7/50\n",
      "362/362 [==============================] - 1s 2ms/step - loss: 36.6084 - val_loss: 8.7178\n",
      "Epoch 8/50\n",
      "362/362 [==============================] - 1s 2ms/step - loss: 33.5901 - val_loss: 4.4151\n",
      "Epoch 9/50\n",
      "362/362 [==============================] - 1s 2ms/step - loss: 32.6250 - val_loss: 8.1449\n",
      "Epoch 10/50\n",
      "362/362 [==============================] - 1s 2ms/step - loss: 28.4892 - val_loss: 3.7695\n",
      "Epoch 11/50\n",
      "362/362 [==============================] - 1s 2ms/step - loss: 25.9769 - val_loss: 3.4089\n",
      "Epoch 12/50\n",
      "362/362 [==============================] - 1s 2ms/step - loss: 24.0443 - val_loss: 3.1464\n",
      "Epoch 13/50\n",
      "362/362 [==============================] - 1s 2ms/step - loss: 21.5530 - val_loss: 4.0604\n",
      "Epoch 14/50\n",
      "362/362 [==============================] - 1s 2ms/step - loss: 19.9252 - val_loss: 2.6632\n",
      "Epoch 15/50\n",
      "362/362 [==============================] - 1s 2ms/step - loss: 17.3913 - val_loss: 2.4400\n",
      "Epoch 16/50\n",
      "362/362 [==============================] - 1s 2ms/step - loss: 15.5699 - val_loss: 2.3963\n",
      "Epoch 17/50\n",
      "362/362 [==============================] - 1s 2ms/step - loss: 14.1576 - val_loss: 2.0357\n",
      "Epoch 18/50\n",
      "362/362 [==============================] - 1s 2ms/step - loss: 12.2081 - val_loss: 1.8459\n",
      "Epoch 19/50\n",
      "362/362 [==============================] - 1s 2ms/step - loss: 10.7333 - val_loss: 1.6745\n",
      "Epoch 20/50\n",
      "362/362 [==============================] - 1s 2ms/step - loss: 10.7407 - val_loss: 4.3192\n",
      "Epoch 21/50\n",
      "362/362 [==============================] - 1s 2ms/step - loss: 7.6057 - val_loss: 1.3874\n",
      "Epoch 22/50\n",
      "362/362 [==============================] - 1s 2ms/step - loss: 6.7423 - val_loss: 1.2675\n",
      "Epoch 23/50\n",
      "362/362 [==============================] - 1s 2ms/step - loss: 5.9853 - val_loss: 1.1874\n",
      "Epoch 24/50\n",
      "362/362 [==============================] - 1s 2ms/step - loss: 4.7690 - val_loss: 1.0650\n",
      "Epoch 25/50\n",
      "362/362 [==============================] - 1s 2ms/step - loss: 3.9821 - val_loss: 1.0344\n",
      "Epoch 26/50\n",
      "362/362 [==============================] - 1s 2ms/step - loss: 3.2164 - val_loss: 0.9027\n",
      "Epoch 27/50\n",
      "362/362 [==============================] - 1s 2ms/step - loss: 2.6679 - val_loss: 0.8417\n",
      "Epoch 28/50\n",
      "362/362 [==============================] - 1s 2ms/step - loss: 2.1733 - val_loss: 0.9431\n",
      "Epoch 29/50\n",
      "362/362 [==============================] - 1s 2ms/step - loss: 1.6128 - val_loss: 2.1281\n",
      "Epoch 30/50\n",
      "362/362 [==============================] - 1s 2ms/step - loss: 1.5783 - val_loss: 0.7175\n",
      "Epoch 31/50\n",
      "362/362 [==============================] - 1s 2ms/step - loss: 1.1312 - val_loss: 0.7657\n",
      "Epoch 32/50\n",
      "362/362 [==============================] - 1s 2ms/step - loss: 1.0072 - val_loss: 0.7209\n",
      "Epoch 33/50\n",
      "362/362 [==============================] - 1s 2ms/step - loss: 0.7980 - val_loss: 0.6621\n",
      "Epoch 34/50\n",
      "362/362 [==============================] - 1s 2ms/step - loss: 1.0421 - val_loss: 1.4515\n",
      "Epoch 35/50\n",
      "362/362 [==============================] - 1s 2ms/step - loss: 0.8105 - val_loss: 0.8713\n",
      "Epoch 36/50\n",
      "362/362 [==============================] - 1s 2ms/step - loss: 0.7073 - val_loss: 0.6739\n",
      "Epoch 37/50\n",
      "362/362 [==============================] - 1s 2ms/step - loss: 0.8788 - val_loss: 0.6513\n",
      "Epoch 38/50\n",
      "362/362 [==============================] - 1s 2ms/step - loss: 0.8275 - val_loss: 0.6733\n",
      "Epoch 39/50\n",
      "362/362 [==============================] - 1s 2ms/step - loss: 0.7515 - val_loss: 0.6432\n",
      "Epoch 40/50\n",
      "362/362 [==============================] - 1s 2ms/step - loss: 0.7109 - val_loss: 0.8609\n",
      "Epoch 41/50\n",
      "362/362 [==============================] - 1s 2ms/step - loss: 0.6739 - val_loss: 0.9113\n",
      "Epoch 42/50\n",
      "362/362 [==============================] - 1s 2ms/step - loss: 0.9699 - val_loss: 1.0905\n",
      "Epoch 43/50\n",
      "362/362 [==============================] - 1s 2ms/step - loss: 0.7078 - val_loss: 0.6608\n",
      "Epoch 44/50\n",
      "345/362 [===========================>..] - ETA: 0s - loss: 1.0311Restoring model weights from the end of the best epoch: 39.\n",
      "362/362 [==============================] - 1s 2ms/step - loss: 1.0113 - val_loss: 0.7992\n",
      "Epoch 44: early stopping\n"
     ]
    },
    {
     "data": {
      "text/plain": [
       "<keras.callbacks.History at 0x1de693b2b20>"
      ]
     },
     "execution_count": 23,
     "metadata": {},
     "output_type": "execute_result"
    }
   ],
   "source": [
    "model.fit(x_train, y_train, epochs=50, verbose=1,\n",
    "         callbacks=[es], validation_split=0.2)"
   ]
  },
  {
   "cell_type": "code",
   "execution_count": 24,
   "id": "a2c41986-d701-40e4-ad0e-9118fef3e575",
   "metadata": {},
   "outputs": [
    {
     "name": "stdout",
     "output_type": "stream",
     "text": [
      "194/194 [==============================] - 0s 1ms/step - loss: 0.6412\n"
     ]
    },
    {
     "data": {
      "text/plain": [
       "0.6412467956542969"
      ]
     },
     "execution_count": 24,
     "metadata": {},
     "output_type": "execute_result"
    }
   ],
   "source": [
    "model.evaluate(x_test, y_test)"
   ]
  },
  {
   "cell_type": "markdown",
   "id": "74cfb07c-90b4-4fb6-80ad-5feaf2783cb2",
   "metadata": {},
   "source": [
    "# 이진분류(로지스틱)"
   ]
  },
  {
   "cell_type": "code",
   "execution_count": 67,
   "id": "90b0b3e8-d3e3-43fb-a428-6ed925ba6836",
   "metadata": {},
   "outputs": [],
   "source": [
    "from sklearn.datasets import load_breast_cancer"
   ]
  },
  {
   "cell_type": "code",
   "execution_count": 68,
   "id": "485883d6-b007-40de-b814-c09617c47c27",
   "metadata": {},
   "outputs": [],
   "source": [
    "cancer = load_breast_cancer()"
   ]
  },
  {
   "cell_type": "code",
   "execution_count": 69,
   "id": "dad9e722-f680-4a73-a15b-459077ba84a5",
   "metadata": {},
   "outputs": [],
   "source": [
    "x = cancer.data\n",
    "y = cancer.target"
   ]
  },
  {
   "cell_type": "code",
   "execution_count": 70,
   "id": "c7050c8e-487a-4e4f-bfab-38ac859bb017",
   "metadata": {},
   "outputs": [],
   "source": [
    "from sklearn.model_selection import train_test_split\n",
    "x_train, x_test, y_train, y_test = train_test_split(x,y,test_size=0.3)"
   ]
  },
  {
   "cell_type": "code",
   "execution_count": 71,
   "id": "67cfb3c3-ae18-46a8-947d-c4b2057df4ab",
   "metadata": {},
   "outputs": [],
   "source": [
    "import tensorflow as tf\n",
    "from tensorflow import keras"
   ]
  },
  {
   "cell_type": "code",
   "execution_count": 72,
   "id": "af95148d-be16-4a05-b2e7-8ff5bcb4bffe",
   "metadata": {},
   "outputs": [
    {
     "data": {
      "text/plain": [
       "((398, 30), (398,), (171, 30), (171,))"
      ]
     },
     "execution_count": 72,
     "metadata": {},
     "output_type": "execute_result"
    }
   ],
   "source": [
    "x_train.shape, y_train.shape, x_test.shape, y_test.shape"
   ]
  },
  {
   "cell_type": "code",
   "execution_count": 75,
   "id": "2c72bd92-5f52-4dc2-84a0-d4ecc5eff973",
   "metadata": {},
   "outputs": [
    {
     "name": "stdout",
     "output_type": "stream",
     "text": [
      "Model: \"sequential\"\n",
      "_________________________________________________________________\n",
      " Layer (type)                Output Shape              Param #   \n",
      "=================================================================\n",
      " dense (Dense)               (None, 1)                 31        \n",
      "                                                                 \n",
      "=================================================================\n",
      "Total params: 31\n",
      "Trainable params: 31\n",
      "Non-trainable params: 0\n",
      "_________________________________________________________________\n"
     ]
    }
   ],
   "source": [
    "# 세션 클리어\n",
    "keras.backend.clear_session()\n",
    "\n",
    "# 모델 선언\n",
    "model = keras.models.Sequential()\n",
    "\n",
    "# 모델 블록 조립\n",
    "model.add(keras.layers.Input(shape=(x_train.shape[1])))\n",
    "model.add(keras.layers.Dense(1, activation='sigmoid'))\n",
    "\n",
    "# compile\n",
    "model.compile(loss = 'binary_crossentropy', metrics=['accuracy'], optimizer='adam')\n",
    "\n",
    "model.summary()"
   ]
  },
  {
   "cell_type": "code",
   "execution_count": 76,
   "id": "4c87352c-8456-48a2-b137-014c0db85b25",
   "metadata": {},
   "outputs": [],
   "source": [
    "from tensorflow.keras.callbacks import EarlyStopping\n",
    "es = EarlyStopping(monitor='val_loss',\n",
    "                  patience=5,\n",
    "                  min_delta=0,\n",
    "                  verbose = 1,\n",
    "                  restore_best_weights=True)"
   ]
  },
  {
   "cell_type": "code",
   "execution_count": 77,
   "id": "64c6503f-71b2-449d-a5dc-0c42a2db89f2",
   "metadata": {},
   "outputs": [
    {
     "name": "stdout",
     "output_type": "stream",
     "text": [
      "Epoch 1/50\n",
      "10/10 [==============================] - 1s 18ms/step - loss: 295.8386 - accuracy: 0.6258 - val_loss: 273.3202 - val_accuracy: 0.6000\n",
      "Epoch 2/50\n",
      "10/10 [==============================] - 0s 6ms/step - loss: 285.1124 - accuracy: 0.6258 - val_loss: 263.0721 - val_accuracy: 0.6000\n",
      "Epoch 3/50\n",
      "10/10 [==============================] - 0s 6ms/step - loss: 274.2150 - accuracy: 0.6258 - val_loss: 252.8236 - val_accuracy: 0.6000\n",
      "Epoch 4/50\n",
      "10/10 [==============================] - 0s 5ms/step - loss: 263.5382 - accuracy: 0.6258 - val_loss: 242.5401 - val_accuracy: 0.6000\n",
      "Epoch 5/50\n",
      "10/10 [==============================] - 0s 5ms/step - loss: 252.8595 - accuracy: 0.6258 - val_loss: 232.2518 - val_accuracy: 0.6000\n",
      "Epoch 6/50\n",
      "10/10 [==============================] - 0s 5ms/step - loss: 241.9534 - accuracy: 0.6258 - val_loss: 222.1446 - val_accuracy: 0.6000\n",
      "Epoch 7/50\n",
      "10/10 [==============================] - 0s 5ms/step - loss: 231.3991 - accuracy: 0.6258 - val_loss: 211.8624 - val_accuracy: 0.6000\n",
      "Epoch 8/50\n",
      "10/10 [==============================] - 0s 5ms/step - loss: 220.7623 - accuracy: 0.6258 - val_loss: 201.5786 - val_accuracy: 0.6000\n",
      "Epoch 9/50\n",
      "10/10 [==============================] - 0s 5ms/step - loss: 209.6918 - accuracy: 0.6258 - val_loss: 191.5776 - val_accuracy: 0.6000\n",
      "Epoch 10/50\n",
      "10/10 [==============================] - 0s 5ms/step - loss: 199.1960 - accuracy: 0.6258 - val_loss: 181.3866 - val_accuracy: 0.6000\n",
      "Epoch 11/50\n",
      "10/10 [==============================] - 0s 6ms/step - loss: 188.5278 - accuracy: 0.6258 - val_loss: 171.1777 - val_accuracy: 0.6000\n",
      "Epoch 12/50\n",
      "10/10 [==============================] - 0s 6ms/step - loss: 177.7879 - accuracy: 0.6258 - val_loss: 161.0045 - val_accuracy: 0.6000\n",
      "Epoch 13/50\n",
      "10/10 [==============================] - 0s 6ms/step - loss: 166.9432 - accuracy: 0.6258 - val_loss: 150.9373 - val_accuracy: 0.6000\n",
      "Epoch 14/50\n",
      "10/10 [==============================] - 0s 5ms/step - loss: 156.2486 - accuracy: 0.6258 - val_loss: 140.8208 - val_accuracy: 0.6000\n",
      "Epoch 15/50\n",
      "10/10 [==============================] - 0s 6ms/step - loss: 145.8113 - accuracy: 0.6258 - val_loss: 130.4805 - val_accuracy: 0.6000\n",
      "Epoch 16/50\n",
      "10/10 [==============================] - 0s 5ms/step - loss: 135.0734 - accuracy: 0.6258 - val_loss: 120.1931 - val_accuracy: 0.6000\n",
      "Epoch 17/50\n",
      "10/10 [==============================] - 0s 5ms/step - loss: 124.2077 - accuracy: 0.6258 - val_loss: 110.0536 - val_accuracy: 0.6000\n",
      "Epoch 18/50\n",
      "10/10 [==============================] - 0s 6ms/step - loss: 113.5638 - accuracy: 0.6258 - val_loss: 99.8574 - val_accuracy: 0.6000\n",
      "Epoch 19/50\n",
      "10/10 [==============================] - 0s 6ms/step - loss: 102.7022 - accuracy: 0.6258 - val_loss: 89.7910 - val_accuracy: 0.6000\n",
      "Epoch 20/50\n",
      "10/10 [==============================] - 0s 6ms/step - loss: 91.5976 - accuracy: 0.6258 - val_loss: 80.0554 - val_accuracy: 0.6000\n",
      "Epoch 21/50\n",
      "10/10 [==============================] - 0s 6ms/step - loss: 81.4871 - accuracy: 0.6258 - val_loss: 69.6964 - val_accuracy: 0.6000\n",
      "Epoch 22/50\n",
      "10/10 [==============================] - 0s 6ms/step - loss: 70.8720 - accuracy: 0.6258 - val_loss: 59.2760 - val_accuracy: 0.6000\n",
      "Epoch 23/50\n",
      "10/10 [==============================] - 0s 6ms/step - loss: 59.8186 - accuracy: 0.6258 - val_loss: 49.1827 - val_accuracy: 0.6000\n",
      "Epoch 24/50\n",
      "10/10 [==============================] - 0s 13ms/step - loss: 49.4956 - accuracy: 0.6164 - val_loss: 38.8174 - val_accuracy: 0.5875\n",
      "Epoch 25/50\n",
      "10/10 [==============================] - 0s 7ms/step - loss: 38.5107 - accuracy: 0.5943 - val_loss: 29.0787 - val_accuracy: 0.5500\n",
      "Epoch 26/50\n",
      "10/10 [==============================] - 0s 6ms/step - loss: 28.7920 - accuracy: 0.5283 - val_loss: 20.3002 - val_accuracy: 0.4000\n",
      "Epoch 27/50\n",
      "10/10 [==============================] - 0s 6ms/step - loss: 20.0903 - accuracy: 0.3365 - val_loss: 14.5931 - val_accuracy: 0.2000\n",
      "Epoch 28/50\n",
      "10/10 [==============================] - 0s 6ms/step - loss: 15.0352 - accuracy: 0.1604 - val_loss: 12.6722 - val_accuracy: 0.1625\n",
      "Epoch 29/50\n",
      "10/10 [==============================] - 0s 5ms/step - loss: 13.6867 - accuracy: 0.1352 - val_loss: 12.3561 - val_accuracy: 0.2250\n",
      "Epoch 30/50\n",
      "10/10 [==============================] - 0s 6ms/step - loss: 13.3880 - accuracy: 0.1855 - val_loss: 12.2454 - val_accuracy: 0.2750\n",
      "Epoch 31/50\n",
      "10/10 [==============================] - 0s 6ms/step - loss: 13.0610 - accuracy: 0.1918 - val_loss: 11.8787 - val_accuracy: 0.2750\n",
      "Epoch 32/50\n",
      "10/10 [==============================] - 0s 6ms/step - loss: 12.6659 - accuracy: 0.1918 - val_loss: 11.4577 - val_accuracy: 0.2625\n",
      "Epoch 33/50\n",
      "10/10 [==============================] - 0s 5ms/step - loss: 12.2709 - accuracy: 0.1792 - val_loss: 10.9699 - val_accuracy: 0.2250\n",
      "Epoch 34/50\n",
      "10/10 [==============================] - 0s 5ms/step - loss: 11.8800 - accuracy: 0.1730 - val_loss: 10.5887 - val_accuracy: 0.2000\n",
      "Epoch 35/50\n",
      "10/10 [==============================] - 0s 8ms/step - loss: 11.5117 - accuracy: 0.1698 - val_loss: 10.2442 - val_accuracy: 0.2000\n",
      "Epoch 36/50\n",
      "10/10 [==============================] - 0s 7ms/step - loss: 11.1443 - accuracy: 0.1730 - val_loss: 9.9347 - val_accuracy: 0.2250\n",
      "Epoch 37/50\n",
      "10/10 [==============================] - 0s 6ms/step - loss: 10.7628 - accuracy: 0.1730 - val_loss: 9.5773 - val_accuracy: 0.2125\n",
      "Epoch 38/50\n",
      "10/10 [==============================] - 0s 5ms/step - loss: 10.3859 - accuracy: 0.1730 - val_loss: 9.2526 - val_accuracy: 0.2250\n",
      "Epoch 39/50\n",
      "10/10 [==============================] - 0s 6ms/step - loss: 9.9965 - accuracy: 0.1698 - val_loss: 8.9415 - val_accuracy: 0.2375\n",
      "Epoch 40/50\n",
      "10/10 [==============================] - 0s 6ms/step - loss: 9.6180 - accuracy: 0.1698 - val_loss: 8.6080 - val_accuracy: 0.2375\n",
      "Epoch 41/50\n",
      "10/10 [==============================] - 0s 6ms/step - loss: 9.2440 - accuracy: 0.1887 - val_loss: 8.3234 - val_accuracy: 0.2625\n",
      "Epoch 42/50\n",
      "10/10 [==============================] - 0s 6ms/step - loss: 8.8639 - accuracy: 0.1981 - val_loss: 7.9952 - val_accuracy: 0.2625\n",
      "Epoch 43/50\n",
      "10/10 [==============================] - 0s 5ms/step - loss: 8.5038 - accuracy: 0.1855 - val_loss: 7.6034 - val_accuracy: 0.2750\n",
      "Epoch 44/50\n",
      "10/10 [==============================] - 0s 6ms/step - loss: 8.1624 - accuracy: 0.1887 - val_loss: 7.2594 - val_accuracy: 0.2500\n",
      "Epoch 45/50\n",
      "10/10 [==============================] - 0s 7ms/step - loss: 7.8335 - accuracy: 0.1981 - val_loss: 6.9575 - val_accuracy: 0.2875\n",
      "Epoch 46/50\n",
      "10/10 [==============================] - 0s 6ms/step - loss: 7.5273 - accuracy: 0.2013 - val_loss: 6.7266 - val_accuracy: 0.2875\n",
      "Epoch 47/50\n",
      "10/10 [==============================] - 0s 5ms/step - loss: 7.2012 - accuracy: 0.2044 - val_loss: 6.3645 - val_accuracy: 0.2750\n",
      "Epoch 48/50\n",
      "10/10 [==============================] - 0s 7ms/step - loss: 6.9436 - accuracy: 0.2170 - val_loss: 6.0515 - val_accuracy: 0.2875\n",
      "Epoch 49/50\n",
      "10/10 [==============================] - 0s 6ms/step - loss: 6.6213 - accuracy: 0.2264 - val_loss: 5.8784 - val_accuracy: 0.2750\n",
      "Epoch 50/50\n",
      "10/10 [==============================] - 0s 6ms/step - loss: 6.3287 - accuracy: 0.2453 - val_loss: 5.5636 - val_accuracy: 0.3000\n"
     ]
    },
    {
     "data": {
      "text/plain": [
       "<keras.callbacks.History at 0x1de69380e50>"
      ]
     },
     "execution_count": 77,
     "metadata": {},
     "output_type": "execute_result"
    }
   ],
   "source": [
    "model.fit(x_train, y_train, verbose=1, epochs=50,\n",
    "         callbacks=[es], validation_split=0.2)"
   ]
  },
  {
   "cell_type": "code",
   "execution_count": 78,
   "id": "302c82bd-75f7-4180-a1f3-8e69b145c435",
   "metadata": {},
   "outputs": [
    {
     "name": "stdout",
     "output_type": "stream",
     "text": [
      "6/6 [==============================] - 0s 2ms/step - loss: 6.4430 - accuracy: 0.2105\n"
     ]
    },
    {
     "data": {
      "text/plain": [
       "[6.443037986755371, 0.21052631735801697]"
      ]
     },
     "execution_count": 78,
     "metadata": {},
     "output_type": "execute_result"
    }
   ],
   "source": [
    "model.evaluate(x_test, y_test)"
   ]
  },
  {
   "cell_type": "markdown",
   "id": "5bf43ebe-9d89-479d-b427-c6a453fd6551",
   "metadata": {},
   "source": [
    "# 다중분류"
   ]
  },
  {
   "cell_type": "code",
   "execution_count": 79,
   "id": "1058501a-1430-4bba-b90f-cb533939b448",
   "metadata": {},
   "outputs": [],
   "source": [
    "from sklearn.datasets import load_iris"
   ]
  },
  {
   "cell_type": "code",
   "execution_count": 80,
   "id": "4fac1a5b-24bf-4ce4-ba33-d1a842b1beea",
   "metadata": {},
   "outputs": [],
   "source": [
    "iris = load_iris()"
   ]
  },
  {
   "cell_type": "code",
   "execution_count": 83,
   "id": "1a2121ce-74a4-4420-a2cb-9e4dfda4c2ef",
   "metadata": {},
   "outputs": [],
   "source": [
    "x = iris.data\n",
    "y = iris.target"
   ]
  },
  {
   "cell_type": "code",
   "execution_count": 84,
   "id": "75d8b9b4-7979-4ccc-adec-9926403e34e0",
   "metadata": {},
   "outputs": [],
   "source": [
    "from sklearn.model_selection import train_test_split\n",
    "x_train, x_test, y_train, y_test = train_test_split(x,y,test_size=0.3)"
   ]
  },
  {
   "cell_type": "code",
   "execution_count": 85,
   "id": "eb50fbe0-9de9-4e8a-8511-fab75beb1660",
   "metadata": {},
   "outputs": [],
   "source": [
    "import tensorflow as tf\n",
    "from tensorflow import keras"
   ]
  },
  {
   "cell_type": "code",
   "execution_count": 91,
   "id": "8d7c8740-b175-4d73-a4f4-a1a69f8a9702",
   "metadata": {},
   "outputs": [],
   "source": [
    "# 세션 클리어\n",
    "keras.backend.clear_session()\n",
    "\n",
    "# 모델 선언\n",
    "model = keras.models.Sequential()\n",
    "\n",
    "# 모델 블록 조립\n",
    "model.add(keras.layers.Input(shape=(x_train.shape[1],)))\n",
    "model.add(keras.layers.Dense(1, activation='softmax'))\n",
    "\n",
    "model.compile(loss = 'categorical_crossentropy', metrics=['accuracy'], optimizer='adam')"
   ]
  },
  {
   "cell_type": "code",
   "execution_count": 92,
   "id": "28793ea6-3237-46be-9136-5e6f1dbfae8a",
   "metadata": {},
   "outputs": [],
   "source": [
    "from tensorflow.keras.callbacks import EarlyStopping\n",
    "es = EarlyStopping(monitor='val_loss',\n",
    "                  patience=5,\n",
    "                  min_delta=0,\n",
    "                  verbose = 1,\n",
    "                  restore_best_weights=True)"
   ]
  },
  {
   "cell_type": "code",
   "execution_count": 93,
   "id": "63b6442e-fd0c-4a76-9d4e-2ab474c0f843",
   "metadata": {},
   "outputs": [
    {
     "name": "stdout",
     "output_type": "stream",
     "text": [
      "Epoch 1/50\n",
      "3/3 [==============================] - 1s 91ms/step - loss: 0.0000e+00 - accuracy: 0.3452 - val_loss: 0.0000e+00 - val_accuracy: 0.4286\n",
      "Epoch 2/50\n",
      "3/3 [==============================] - 0s 19ms/step - loss: 0.0000e+00 - accuracy: 0.3452 - val_loss: 0.0000e+00 - val_accuracy: 0.4286\n",
      "Epoch 3/50\n",
      "3/3 [==============================] - 0s 18ms/step - loss: 0.0000e+00 - accuracy: 0.3452 - val_loss: 0.0000e+00 - val_accuracy: 0.4286\n",
      "Epoch 4/50\n",
      "3/3 [==============================] - 0s 17ms/step - loss: 0.0000e+00 - accuracy: 0.3452 - val_loss: 0.0000e+00 - val_accuracy: 0.4286\n",
      "Epoch 5/50\n",
      "3/3 [==============================] - 0s 20ms/step - loss: 0.0000e+00 - accuracy: 0.3452 - val_loss: 0.0000e+00 - val_accuracy: 0.4286\n",
      "Epoch 6/50\n",
      "1/3 [=========>....................] - ETA: 0s - loss: 0.0000e+00 - accuracy: 0.3438Restoring model weights from the end of the best epoch: 1.\n",
      "3/3 [==============================] - 0s 20ms/step - loss: 0.0000e+00 - accuracy: 0.3452 - val_loss: 0.0000e+00 - val_accuracy: 0.4286\n",
      "Epoch 6: early stopping\n"
     ]
    },
    {
     "data": {
      "text/plain": [
       "<keras.callbacks.History at 0x1de6d717b20>"
      ]
     },
     "execution_count": 93,
     "metadata": {},
     "output_type": "execute_result"
    }
   ],
   "source": [
    "model.fit(x_train, y_train, epochs=50, verbose=1,\n",
    "         callbacks=[es], validation_split=0.2)"
   ]
  },
  {
   "cell_type": "code",
   "execution_count": 94,
   "id": "5bc8b062-83db-4474-a9cc-745cec018def",
   "metadata": {},
   "outputs": [
    {
     "name": "stdout",
     "output_type": "stream",
     "text": [
      "2/2 [==============================] - 0s 4ms/step - loss: 0.0000e+00 - accuracy: 0.2667\n"
     ]
    },
    {
     "data": {
      "text/plain": [
       "[0.0, 0.2666666805744171]"
      ]
     },
     "execution_count": 94,
     "metadata": {},
     "output_type": "execute_result"
    }
   ],
   "source": [
    "model.evaluate(x_test, y_test)"
   ]
  }
 ],
 "metadata": {
  "kernelspec": {
   "display_name": "Python 3 (ipykernel)",
   "language": "python",
   "name": "python3"
  },
  "language_info": {
   "codemirror_mode": {
    "name": "ipython",
    "version": 3
   },
   "file_extension": ".py",
   "mimetype": "text/x-python",
   "name": "python",
   "nbconvert_exporter": "python",
   "pygments_lexer": "ipython3",
   "version": "3.9.13"
  }
 },
 "nbformat": 4,
 "nbformat_minor": 5
}
