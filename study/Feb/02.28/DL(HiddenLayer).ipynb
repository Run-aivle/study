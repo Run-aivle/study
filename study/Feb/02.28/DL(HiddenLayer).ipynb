{
  "nbformat": 4,
  "nbformat_minor": 0,
  "metadata": {
    "colab": {
      "provenance": [],
      "authorship_tag": "ABX9TyPswtVon1+etC0lty5a64tK",
      "include_colab_link": true
    },
    "kernelspec": {
      "name": "python3",
      "display_name": "Python 3"
    },
    "language_info": {
      "name": "python"
    },
    "accelerator": "GPU",
    "gpuClass": "standard"
  },
  "cells": [
    {
      "cell_type": "markdown",
      "metadata": {
        "id": "view-in-github",
        "colab_type": "text"
      },
      "source": [
        "<a href=\"https://colab.research.google.com/github/Run-aivle/study/blob/main/study/Feb/02.28/DL(HiddenLayer).ipynb\" target=\"_parent\"><img src=\"https://colab.research.google.com/assets/colab-badge.svg\" alt=\"Open In Colab\"/></a>"
      ]
    },
    {
      "cell_type": "markdown",
      "source": [
        "## 회귀"
      ],
      "metadata": {
        "id": "-Cg14omA1rpL"
      }
    },
    {
      "cell_type": "code",
      "source": [
        "from sklearn.datasets import fetch_california_housing"
      ],
      "metadata": {
        "id": "gORruBcU1wCf"
      },
      "execution_count": null,
      "outputs": []
    },
    {
      "cell_type": "code",
      "source": [
        "house = fetch_california_housing()"
      ],
      "metadata": {
        "id": "ewzOe4zS1ytC"
      },
      "execution_count": null,
      "outputs": []
    },
    {
      "cell_type": "code",
      "source": [
        "x = house.data\n",
        "y = house.target"
      ],
      "metadata": {
        "id": "eRxZQZSC2FvQ"
      },
      "execution_count": null,
      "outputs": []
    },
    {
      "cell_type": "code",
      "source": [
        "x.shape, y.shape"
      ],
      "metadata": {
        "colab": {
          "base_uri": "https://localhost:8080/"
        },
        "id": "StfSoph02XIt",
        "outputId": "ab75c7b9-a856-41e1-f8bf-414eb0956487"
      },
      "execution_count": null,
      "outputs": [
        {
          "output_type": "execute_result",
          "data": {
            "text/plain": [
              "((20640, 8), (20640,))"
            ]
          },
          "metadata": {},
          "execution_count": 4
        }
      ]
    },
    {
      "cell_type": "code",
      "source": [
        "from sklearn.model_selection import train_test_split\n",
        "x_train, x_test, y_train, y_test = train_test_split(x, y, test_size = 0.3)"
      ],
      "metadata": {
        "id": "SydOa2G22HQL"
      },
      "execution_count": null,
      "outputs": []
    },
    {
      "cell_type": "code",
      "source": [
        "x_train.shape, x_test.shape, y_train.shape"
      ],
      "metadata": {
        "colab": {
          "base_uri": "https://localhost:8080/"
        },
        "id": "Agfq4xEv3FwP",
        "outputId": "568efadb-5927-4891-c031-0f8bab04237e"
      },
      "execution_count": null,
      "outputs": [
        {
          "output_type": "execute_result",
          "data": {
            "text/plain": [
              "((14448, 8), (6192, 8), (14448,))"
            ]
          },
          "metadata": {},
          "execution_count": 6
        }
      ]
    },
    {
      "cell_type": "markdown",
      "source": [
        "### 모델링\n",
        "\n",
        "* Sequential 모델\n",
        "* 회귀\n",
        "* 히든 레이어 2개 이상 생성('relu', 'swift')"
      ],
      "metadata": {
        "id": "D7dZIMbt2guO"
      }
    },
    {
      "cell_type": "code",
      "source": [
        "import tensorflow as tf\n",
        "from tensorflow import keras"
      ],
      "metadata": {
        "id": "rhl_lYG42p4w"
      },
      "execution_count": null,
      "outputs": []
    },
    {
      "cell_type": "code",
      "source": [
        "# 1. 세션 클리어\n",
        "keras.backend.clear_session()\n",
        "\n",
        "# 2. 모델 선언\n",
        "model = keras.models.Sequential()\n",
        "\n",
        "# 3. 모델 블록 조립\n",
        "model.add(keras.layers.Input(shape=(x_train.shape[1],)))\n",
        "model.add(keras.layers.Dense(256, activation = 'relu'))\n",
        "model.add(keras.layers.Dense(128, activation = 'swish'))\n",
        "model.add(keras.layers.Dense(32, activation = 'relu'))\n",
        "model.add(keras.layers.Dense(1, activation = 'linear'))\n",
        "\n",
        "# 4. 모델 컴파일 \n",
        "model.compile(loss = 'mse', optimizer = 'adam')\n",
        "\n",
        "# 5. 모델 요약\n",
        "model.summary()"
      ],
      "metadata": {
        "colab": {
          "base_uri": "https://localhost:8080/"
        },
        "id": "zUE0xa6i2lLc",
        "outputId": "508acd83-0884-4df5-e27a-14fc59fabe09"
      },
      "execution_count": null,
      "outputs": [
        {
          "output_type": "stream",
          "name": "stdout",
          "text": [
            "Model: \"sequential\"\n",
            "_________________________________________________________________\n",
            " Layer (type)                Output Shape              Param #   \n",
            "=================================================================\n",
            " dense (Dense)               (None, 256)               2304      \n",
            "                                                                 \n",
            " dense_1 (Dense)             (None, 128)               32896     \n",
            "                                                                 \n",
            " dense_2 (Dense)             (None, 32)                4128      \n",
            "                                                                 \n",
            " dense_3 (Dense)             (None, 1)                 33        \n",
            "                                                                 \n",
            "=================================================================\n",
            "Total params: 39,361\n",
            "Trainable params: 39,361\n",
            "Non-trainable params: 0\n",
            "_________________________________________________________________\n"
          ]
        }
      ]
    },
    {
      "cell_type": "code",
      "source": [
        "from tensorflow.keras.callbacks import EarlyStopping\n",
        "es = EarlyStopping(monitor ='vasl_loss',\n",
        "                   patience = 5,\n",
        "                   min_delta = 0,\n",
        "                   verbose = 1,\n",
        "                   restore_best_weights = True)"
      ],
      "metadata": {
        "id": "czp7Kd204XPa"
      },
      "execution_count": null,
      "outputs": []
    },
    {
      "cell_type": "code",
      "source": [
        "model.fit(x_train, y_train, epochs= 100, verbose = 1,\n",
        "          validation_split = 0.2, callbacks = [es])"
      ],
      "metadata": {
        "colab": {
          "base_uri": "https://localhost:8080/"
        },
        "id": "gkBmw-g_30X0",
        "outputId": "ea1e3006-ca9a-4211-f01e-9bf16b8f8120"
      },
      "execution_count": null,
      "outputs": [
        {
          "output_type": "stream",
          "name": "stdout",
          "text": [
            "Epoch 1/100\n",
            "354/362 [============================>.] - ETA: 0s - loss: 67.2582"
          ]
        },
        {
          "output_type": "stream",
          "name": "stderr",
          "text": [
            "WARNING:tensorflow:Early stopping conditioned on metric `vasl_loss` which is not available. Available metrics are: loss,val_loss\n"
          ]
        },
        {
          "output_type": "stream",
          "name": "stdout",
          "text": [
            "\b\b\b\b\b\b\b\b\b\b\b\b\b\b\b\b\b\b\b\b\b\b\b\b\b\b\b\b\b\b\b\b\b\b\b\b\b\b\b\b\b\b\b\b\b\b\b\b\b\b\b\b\b\b\b\b\b\b\b\b\b\b\b\b\b\b\r362/362 [==============================] - 9s 7ms/step - loss: 66.2513 - val_loss: 35.8741\n",
            "Epoch 2/100\n",
            "361/362 [============================>.] - ETA: 0s - loss: 2.8782"
          ]
        },
        {
          "output_type": "stream",
          "name": "stderr",
          "text": [
            "WARNING:tensorflow:Early stopping conditioned on metric `vasl_loss` which is not available. Available metrics are: loss,val_loss\n"
          ]
        },
        {
          "output_type": "stream",
          "name": "stdout",
          "text": [
            "\b\b\b\b\b\b\b\b\b\b\b\b\b\b\b\b\b\b\b\b\b\b\b\b\b\b\b\b\b\b\b\b\b\b\b\b\b\b\b\b\b\b\b\b\b\b\b\b\b\b\b\b\b\b\b\b\b\b\b\b\b\b\b\b\b\r362/362 [==============================] - 1s 4ms/step - loss: 2.8773 - val_loss: 1.8184\n",
            "Epoch 3/100\n",
            "355/362 [============================>.] - ETA: 0s - loss: 1.1966"
          ]
        },
        {
          "output_type": "stream",
          "name": "stderr",
          "text": [
            "WARNING:tensorflow:Early stopping conditioned on metric `vasl_loss` which is not available. Available metrics are: loss,val_loss\n"
          ]
        },
        {
          "output_type": "stream",
          "name": "stdout",
          "text": [
            "\b\b\b\b\b\b\b\b\b\b\b\b\b\b\b\b\b\b\b\b\b\b\b\b\b\b\b\b\b\b\b\b\b\b\b\b\b\b\b\b\b\b\b\b\b\b\b\b\b\b\b\b\b\b\b\b\b\b\b\b\b\b\b\b\b\r362/362 [==============================] - 1s 4ms/step - loss: 1.2170 - val_loss: 4.8850\n",
            "Epoch 4/100\n",
            "353/362 [============================>.] - ETA: 0s - loss: 16.5629"
          ]
        },
        {
          "output_type": "stream",
          "name": "stderr",
          "text": [
            "WARNING:tensorflow:Early stopping conditioned on metric `vasl_loss` which is not available. Available metrics are: loss,val_loss\n"
          ]
        },
        {
          "output_type": "stream",
          "name": "stdout",
          "text": [
            "\b\b\b\b\b\b\b\b\b\b\b\b\b\b\b\b\b\b\b\b\b\b\b\b\b\b\b\b\b\b\b\b\b\b\b\b\b\b\b\b\b\b\b\b\b\b\b\b\b\b\b\b\b\b\b\b\b\b\b\b\b\b\b\b\b\b\r362/362 [==============================] - 1s 4ms/step - loss: 16.2087 - val_loss: 1.1616\n",
            "Epoch 5/100\n",
            "348/362 [===========================>..] - ETA: 0s - loss: 1.0679"
          ]
        },
        {
          "output_type": "stream",
          "name": "stderr",
          "text": [
            "WARNING:tensorflow:Early stopping conditioned on metric `vasl_loss` which is not available. Available metrics are: loss,val_loss\n"
          ]
        },
        {
          "output_type": "stream",
          "name": "stdout",
          "text": [
            "\b\b\b\b\b\b\b\b\b\b\b\b\b\b\b\b\b\b\b\b\b\b\b\b\b\b\b\b\b\b\b\b\b\b\b\b\b\b\b\b\b\b\b\b\b\b\b\b\b\b\b\b\b\b\b\b\b\b\b\b\b\b\b\b\b\r362/362 [==============================] - 1s 4ms/step - loss: 1.0606 - val_loss: 1.7060\n",
            "Epoch 6/100\n",
            "361/362 [============================>.] - ETA: 0s - loss: 1.3272"
          ]
        },
        {
          "output_type": "stream",
          "name": "stderr",
          "text": [
            "WARNING:tensorflow:Early stopping conditioned on metric `vasl_loss` which is not available. Available metrics are: loss,val_loss\n"
          ]
        },
        {
          "output_type": "stream",
          "name": "stdout",
          "text": [
            "\b\b\b\b\b\b\b\b\b\b\b\b\b\b\b\b\b\b\b\b\b\b\b\b\b\b\b\b\b\b\b\b\b\b\b\b\b\b\b\b\b\b\b\b\b\b\b\b\b\b\b\b\b\b\b\b\b\b\b\b\b\b\b\b\b\r362/362 [==============================] - 1s 4ms/step - loss: 1.3306 - val_loss: 1.7304\n",
            "Epoch 7/100\n",
            "362/362 [==============================] - ETA: 0s - loss: 4.1093"
          ]
        },
        {
          "output_type": "stream",
          "name": "stderr",
          "text": [
            "WARNING:tensorflow:Early stopping conditioned on metric `vasl_loss` which is not available. Available metrics are: loss,val_loss\n"
          ]
        },
        {
          "output_type": "stream",
          "name": "stdout",
          "text": [
            "\b\b\b\b\b\b\b\b\b\b\b\b\b\b\b\b\b\b\b\b\b\b\b\b\b\b\b\b\b\b\b\b\b\b\b\b\b\b\b\b\b\b\b\b\b\b\b\b\b\b\b\b\b\b\b\b\b\b\b\b\b\b\b\b\b\r362/362 [==============================] - 1s 4ms/step - loss: 4.1093 - val_loss: 0.7260\n",
            "Epoch 8/100\n",
            "351/362 [============================>.] - ETA: 0s - loss: 0.8640"
          ]
        },
        {
          "output_type": "stream",
          "name": "stderr",
          "text": [
            "WARNING:tensorflow:Early stopping conditioned on metric `vasl_loss` which is not available. Available metrics are: loss,val_loss\n"
          ]
        },
        {
          "output_type": "stream",
          "name": "stdout",
          "text": [
            "\b\b\b\b\b\b\b\b\b\b\b\b\b\b\b\b\b\b\b\b\b\b\b\b\b\b\b\b\b\b\b\b\b\b\b\b\b\b\b\b\b\b\b\b\b\b\b\b\b\b\b\b\b\b\b\b\b\b\b\b\b\b\b\b\b\r362/362 [==============================] - 2s 4ms/step - loss: 0.8742 - val_loss: 1.4842\n",
            "Epoch 9/100\n",
            "362/362 [==============================] - ETA: 0s - loss: 4.4562"
          ]
        },
        {
          "output_type": "stream",
          "name": "stderr",
          "text": [
            "WARNING:tensorflow:Early stopping conditioned on metric `vasl_loss` which is not available. Available metrics are: loss,val_loss\n"
          ]
        },
        {
          "output_type": "stream",
          "name": "stdout",
          "text": [
            "\b\b\b\b\b\b\b\b\b\b\b\b\b\b\b\b\b\b\b\b\b\b\b\b\b\b\b\b\b\b\b\b\b\b\b\b\b\b\b\b\b\b\b\b\b\b\b\b\b\b\b\b\b\b\b\b\b\b\b\b\b\b\b\b\b\r362/362 [==============================] - 2s 5ms/step - loss: 4.4562 - val_loss: 0.7158\n",
            "Epoch 10/100\n",
            "353/362 [============================>.] - ETA: 0s - loss: 1.4859"
          ]
        },
        {
          "output_type": "stream",
          "name": "stderr",
          "text": [
            "WARNING:tensorflow:Early stopping conditioned on metric `vasl_loss` which is not available. Available metrics are: loss,val_loss\n"
          ]
        },
        {
          "output_type": "stream",
          "name": "stdout",
          "text": [
            "\b\b\b\b\b\b\b\b\b\b\b\b\b\b\b\b\b\b\b\b\b\b\b\b\b\b\b\b\b\b\b\b\b\b\b\b\b\b\b\b\b\b\b\b\b\b\b\b\b\b\b\b\b\b\b\b\b\b\b\b\b\b\b\b\b\r362/362 [==============================] - 1s 4ms/step - loss: 1.4706 - val_loss: 0.7866\n",
            "Epoch 11/100\n",
            "360/362 [============================>.] - ETA: 0s - loss: 3.0162"
          ]
        },
        {
          "output_type": "stream",
          "name": "stderr",
          "text": [
            "WARNING:tensorflow:Early stopping conditioned on metric `vasl_loss` which is not available. Available metrics are: loss,val_loss\n"
          ]
        },
        {
          "output_type": "stream",
          "name": "stdout",
          "text": [
            "\b\b\b\b\b\b\b\b\b\b\b\b\b\b\b\b\b\b\b\b\b\b\b\b\b\b\b\b\b\b\b\b\b\b\b\b\b\b\b\b\b\b\b\b\b\b\b\b\b\b\b\b\b\b\b\b\b\b\b\b\b\b\b\b\b\r362/362 [==============================] - 1s 4ms/step - loss: 3.0119 - val_loss: 1.8201\n",
            "Epoch 12/100\n",
            "355/362 [============================>.] - ETA: 0s - loss: 1.1363"
          ]
        },
        {
          "output_type": "stream",
          "name": "stderr",
          "text": [
            "WARNING:tensorflow:Early stopping conditioned on metric `vasl_loss` which is not available. Available metrics are: loss,val_loss\n"
          ]
        },
        {
          "output_type": "stream",
          "name": "stdout",
          "text": [
            "\b\b\b\b\b\b\b\b\b\b\b\b\b\b\b\b\b\b\b\b\b\b\b\b\b\b\b\b\b\b\b\b\b\b\b\b\b\b\b\b\b\b\b\b\b\b\b\b\b\b\b\b\b\b\b\b\b\b\b\b\b\b\b\b\b\r362/362 [==============================] - 1s 4ms/step - loss: 1.1339 - val_loss: 1.9362\n",
            "Epoch 13/100\n",
            "350/362 [============================>.] - ETA: 0s - loss: 0.9499"
          ]
        },
        {
          "output_type": "stream",
          "name": "stderr",
          "text": [
            "WARNING:tensorflow:Early stopping conditioned on metric `vasl_loss` which is not available. Available metrics are: loss,val_loss\n"
          ]
        },
        {
          "output_type": "stream",
          "name": "stdout",
          "text": [
            "\b\b\b\b\b\b\b\b\b\b\b\b\b\b\b\b\b\b\b\b\b\b\b\b\b\b\b\b\b\b\b\b\b\b\b\b\b\b\b\b\b\b\b\b\b\b\b\b\b\b\b\b\b\b\b\b\b\b\b\b\b\b\b\b\b\r362/362 [==============================] - 1s 4ms/step - loss: 0.9378 - val_loss: 0.6357\n",
            "Epoch 14/100\n",
            "360/362 [============================>.] - ETA: 0s - loss: 0.8957"
          ]
        },
        {
          "output_type": "stream",
          "name": "stderr",
          "text": [
            "WARNING:tensorflow:Early stopping conditioned on metric `vasl_loss` which is not available. Available metrics are: loss,val_loss\n"
          ]
        },
        {
          "output_type": "stream",
          "name": "stdout",
          "text": [
            "\b\b\b\b\b\b\b\b\b\b\b\b\b\b\b\b\b\b\b\b\b\b\b\b\b\b\b\b\b\b\b\b\b\b\b\b\b\b\b\b\b\b\b\b\b\b\b\b\b\b\b\b\b\b\b\b\b\b\b\b\b\b\b\b\b\r362/362 [==============================] - 1s 4ms/step - loss: 0.8946 - val_loss: 1.2982\n",
            "Epoch 15/100\n",
            "360/362 [============================>.] - ETA: 0s - loss: 1.3567"
          ]
        },
        {
          "output_type": "stream",
          "name": "stderr",
          "text": [
            "WARNING:tensorflow:Early stopping conditioned on metric `vasl_loss` which is not available. Available metrics are: loss,val_loss\n"
          ]
        },
        {
          "output_type": "stream",
          "name": "stdout",
          "text": [
            "\b\b\b\b\b\b\b\b\b\b\b\b\b\b\b\b\b\b\b\b\b\b\b\b\b\b\b\b\b\b\b\b\b\b\b\b\b\b\b\b\b\b\b\b\b\b\b\b\b\b\b\b\b\b\b\b\b\b\b\b\b\b\b\b\b\r362/362 [==============================] - 1s 4ms/step - loss: 1.3552 - val_loss: 3.7237\n",
            "Epoch 16/100\n",
            "351/362 [============================>.] - ETA: 0s - loss: 1.0468"
          ]
        },
        {
          "output_type": "stream",
          "name": "stderr",
          "text": [
            "WARNING:tensorflow:Early stopping conditioned on metric `vasl_loss` which is not available. Available metrics are: loss,val_loss\n"
          ]
        },
        {
          "output_type": "stream",
          "name": "stdout",
          "text": [
            "\b\b\b\b\b\b\b\b\b\b\b\b\b\b\b\b\b\b\b\b\b\b\b\b\b\b\b\b\b\b\b\b\b\b\b\b\b\b\b\b\b\b\b\b\b\b\b\b\b\b\b\b\b\b\b\b\b\b\b\b\b\b\b\b\b\r362/362 [==============================] - 1s 4ms/step - loss: 1.0366 - val_loss: 0.6683\n",
            "Epoch 17/100\n",
            "353/362 [============================>.] - ETA: 0s - loss: 1.0098"
          ]
        },
        {
          "output_type": "stream",
          "name": "stderr",
          "text": [
            "WARNING:tensorflow:Early stopping conditioned on metric `vasl_loss` which is not available. Available metrics are: loss,val_loss\n"
          ]
        },
        {
          "output_type": "stream",
          "name": "stdout",
          "text": [
            "\b\b\b\b\b\b\b\b\b\b\b\b\b\b\b\b\b\b\b\b\b\b\b\b\b\b\b\b\b\b\b\b\b\b\b\b\b\b\b\b\b\b\b\b\b\b\b\b\b\b\b\b\b\b\b\b\b\b\b\b\b\b\b\b\b\r362/362 [==============================] - 2s 5ms/step - loss: 1.0031 - val_loss: 0.8135\n",
            "Epoch 18/100\n",
            "355/362 [============================>.] - ETA: 0s - loss: 0.9797"
          ]
        },
        {
          "output_type": "stream",
          "name": "stderr",
          "text": [
            "WARNING:tensorflow:Early stopping conditioned on metric `vasl_loss` which is not available. Available metrics are: loss,val_loss\n"
          ]
        },
        {
          "output_type": "stream",
          "name": "stdout",
          "text": [
            "\b\b\b\b\b\b\b\b\b\b\b\b\b\b\b\b\b\b\b\b\b\b\b\b\b\b\b\b\b\b\b\b\b\b\b\b\b\b\b\b\b\b\b\b\b\b\b\b\b\b\b\b\b\b\b\b\b\b\b\b\b\b\b\b\b\r362/362 [==============================] - 1s 4ms/step - loss: 0.9761 - val_loss: 0.6744\n",
            "Epoch 19/100\n",
            "362/362 [==============================] - ETA: 0s - loss: 1.0159"
          ]
        },
        {
          "output_type": "stream",
          "name": "stderr",
          "text": [
            "WARNING:tensorflow:Early stopping conditioned on metric `vasl_loss` which is not available. Available metrics are: loss,val_loss\n"
          ]
        },
        {
          "output_type": "stream",
          "name": "stdout",
          "text": [
            "\b\b\b\b\b\b\b\b\b\b\b\b\b\b\b\b\b\b\b\b\b\b\b\b\b\b\b\b\b\b\b\b\b\b\b\b\b\b\b\b\b\b\b\b\b\b\b\b\b\b\b\b\b\b\b\b\b\b\b\b\b\b\b\b\b\r362/362 [==============================] - 1s 4ms/step - loss: 1.0159 - val_loss: 0.6482\n",
            "Epoch 20/100\n",
            "350/362 [============================>.] - ETA: 0s - loss: 0.6530"
          ]
        },
        {
          "output_type": "stream",
          "name": "stderr",
          "text": [
            "WARNING:tensorflow:Early stopping conditioned on metric `vasl_loss` which is not available. Available metrics are: loss,val_loss\n"
          ]
        },
        {
          "output_type": "stream",
          "name": "stdout",
          "text": [
            "\b\b\b\b\b\b\b\b\b\b\b\b\b\b\b\b\b\b\b\b\b\b\b\b\b\b\b\b\b\b\b\b\b\b\b\b\b\b\b\b\b\b\b\b\b\b\b\b\b\b\b\b\b\b\b\b\b\b\b\b\b\b\b\b\b\r362/362 [==============================] - 1s 4ms/step - loss: 0.6549 - val_loss: 0.8336\n",
            "Epoch 21/100\n",
            "346/362 [===========================>..] - ETA: 0s - loss: 0.6929"
          ]
        },
        {
          "output_type": "stream",
          "name": "stderr",
          "text": [
            "WARNING:tensorflow:Early stopping conditioned on metric `vasl_loss` which is not available. Available metrics are: loss,val_loss\n"
          ]
        },
        {
          "output_type": "stream",
          "name": "stdout",
          "text": [
            "\b\b\b\b\b\b\b\b\b\b\b\b\b\b\b\b\b\b\b\b\b\b\b\b\b\b\b\b\b\b\b\b\b\b\b\b\b\b\b\b\b\b\b\b\b\b\b\b\b\b\b\b\b\b\b\b\b\b\b\b\b\b\b\b\b\r362/362 [==============================] - 1s 4ms/step - loss: 0.6941 - val_loss: 0.7568\n",
            "Epoch 22/100\n",
            "361/362 [============================>.] - ETA: 0s - loss: 0.7929"
          ]
        },
        {
          "output_type": "stream",
          "name": "stderr",
          "text": [
            "WARNING:tensorflow:Early stopping conditioned on metric `vasl_loss` which is not available. Available metrics are: loss,val_loss\n"
          ]
        },
        {
          "output_type": "stream",
          "name": "stdout",
          "text": [
            "\b\b\b\b\b\b\b\b\b\b\b\b\b\b\b\b\b\b\b\b\b\b\b\b\b\b\b\b\b\b\b\b\b\b\b\b\b\b\b\b\b\b\b\b\b\b\b\b\b\b\b\b\b\b\b\b\b\b\b\b\b\b\b\b\b\r362/362 [==============================] - 1s 4ms/step - loss: 0.7926 - val_loss: 0.9030\n",
            "Epoch 23/100\n",
            "346/362 [===========================>..] - ETA: 0s - loss: 0.7330"
          ]
        },
        {
          "output_type": "stream",
          "name": "stderr",
          "text": [
            "WARNING:tensorflow:Early stopping conditioned on metric `vasl_loss` which is not available. Available metrics are: loss,val_loss\n"
          ]
        },
        {
          "output_type": "stream",
          "name": "stdout",
          "text": [
            "\b\b\b\b\b\b\b\b\b\b\b\b\b\b\b\b\b\b\b\b\b\b\b\b\b\b\b\b\b\b\b\b\b\b\b\b\b\b\b\b\b\b\b\b\b\b\b\b\b\b\b\b\b\b\b\b\b\b\b\b\b\b\b\b\b\r362/362 [==============================] - 1s 4ms/step - loss: 0.7388 - val_loss: 0.6148\n",
            "Epoch 24/100\n",
            "346/362 [===========================>..] - ETA: 0s - loss: 0.8739"
          ]
        },
        {
          "output_type": "stream",
          "name": "stderr",
          "text": [
            "WARNING:tensorflow:Early stopping conditioned on metric `vasl_loss` which is not available. Available metrics are: loss,val_loss\n"
          ]
        },
        {
          "output_type": "stream",
          "name": "stdout",
          "text": [
            "\b\b\b\b\b\b\b\b\b\b\b\b\b\b\b\b\b\b\b\b\b\b\b\b\b\b\b\b\b\b\b\b\b\b\b\b\b\b\b\b\b\b\b\b\b\b\b\b\b\b\b\b\b\b\b\b\b\b\b\b\b\b\b\b\b\r362/362 [==============================] - 1s 4ms/step - loss: 0.8661 - val_loss: 0.6138\n",
            "Epoch 25/100\n",
            "360/362 [============================>.] - ETA: 0s - loss: 0.6431"
          ]
        },
        {
          "output_type": "stream",
          "name": "stderr",
          "text": [
            "WARNING:tensorflow:Early stopping conditioned on metric `vasl_loss` which is not available. Available metrics are: loss,val_loss\n"
          ]
        },
        {
          "output_type": "stream",
          "name": "stdout",
          "text": [
            "\b\b\b\b\b\b\b\b\b\b\b\b\b\b\b\b\b\b\b\b\b\b\b\b\b\b\b\b\b\b\b\b\b\b\b\b\b\b\b\b\b\b\b\b\b\b\b\b\b\b\b\b\b\b\b\b\b\b\b\b\b\b\b\b\b\r362/362 [==============================] - 2s 5ms/step - loss: 0.6427 - val_loss: 0.6003\n",
            "Epoch 26/100\n",
            "354/362 [============================>.] - ETA: 0s - loss: 0.6428"
          ]
        },
        {
          "output_type": "stream",
          "name": "stderr",
          "text": [
            "WARNING:tensorflow:Early stopping conditioned on metric `vasl_loss` which is not available. Available metrics are: loss,val_loss\n"
          ]
        },
        {
          "output_type": "stream",
          "name": "stdout",
          "text": [
            "\b\b\b\b\b\b\b\b\b\b\b\b\b\b\b\b\b\b\b\b\b\b\b\b\b\b\b\b\b\b\b\b\b\b\b\b\b\b\b\b\b\b\b\b\b\b\b\b\b\b\b\b\b\b\b\b\b\b\b\b\b\b\b\b\b\r362/362 [==============================] - 1s 4ms/step - loss: 0.6414 - val_loss: 0.6920\n",
            "Epoch 27/100\n",
            "350/362 [============================>.] - ETA: 0s - loss: 1.2056"
          ]
        },
        {
          "output_type": "stream",
          "name": "stderr",
          "text": [
            "WARNING:tensorflow:Early stopping conditioned on metric `vasl_loss` which is not available. Available metrics are: loss,val_loss\n"
          ]
        },
        {
          "output_type": "stream",
          "name": "stdout",
          "text": [
            "\b\b\b\b\b\b\b\b\b\b\b\b\b\b\b\b\b\b\b\b\b\b\b\b\b\b\b\b\b\b\b\b\b\b\b\b\b\b\b\b\b\b\b\b\b\b\b\b\b\b\b\b\b\b\b\b\b\b\b\b\b\b\b\b\b\r362/362 [==============================] - 1s 4ms/step - loss: 1.1939 - val_loss: 0.7104\n",
            "Epoch 28/100\n",
            "355/362 [============================>.] - ETA: 0s - loss: 0.7694"
          ]
        },
        {
          "output_type": "stream",
          "name": "stderr",
          "text": [
            "WARNING:tensorflow:Early stopping conditioned on metric `vasl_loss` which is not available. Available metrics are: loss,val_loss\n"
          ]
        },
        {
          "output_type": "stream",
          "name": "stdout",
          "text": [
            "\b\b\b\b\b\b\b\b\b\b\b\b\b\b\b\b\b\b\b\b\b\b\b\b\b\b\b\b\b\b\b\b\b\b\b\b\b\b\b\b\b\b\b\b\b\b\b\b\b\b\b\b\b\b\b\b\b\b\b\b\b\b\b\b\b\r362/362 [==============================] - 1s 4ms/step - loss: 0.7669 - val_loss: 0.6391\n",
            "Epoch 29/100\n",
            "362/362 [==============================] - ETA: 0s - loss: 0.6292"
          ]
        },
        {
          "output_type": "stream",
          "name": "stderr",
          "text": [
            "WARNING:tensorflow:Early stopping conditioned on metric `vasl_loss` which is not available. Available metrics are: loss,val_loss\n"
          ]
        },
        {
          "output_type": "stream",
          "name": "stdout",
          "text": [
            "\b\b\b\b\b\b\b\b\b\b\b\b\b\b\b\b\b\b\b\b\b\b\b\b\b\b\b\b\b\b\b\b\b\b\b\b\b\b\b\b\b\b\b\b\b\b\b\b\b\b\b\b\b\b\b\b\b\b\b\b\b\b\b\b\b\r362/362 [==============================] - 1s 4ms/step - loss: 0.6292 - val_loss: 0.5733\n",
            "Epoch 30/100\n",
            "356/362 [============================>.] - ETA: 0s - loss: 0.6300"
          ]
        },
        {
          "output_type": "stream",
          "name": "stderr",
          "text": [
            "WARNING:tensorflow:Early stopping conditioned on metric `vasl_loss` which is not available. Available metrics are: loss,val_loss\n"
          ]
        },
        {
          "output_type": "stream",
          "name": "stdout",
          "text": [
            "\b\b\b\b\b\b\b\b\b\b\b\b\b\b\b\b\b\b\b\b\b\b\b\b\b\b\b\b\b\b\b\b\b\b\b\b\b\b\b\b\b\b\b\b\b\b\b\b\b\b\b\b\b\b\b\b\b\b\b\b\b\b\b\b\b\r362/362 [==============================] - 1s 4ms/step - loss: 0.6330 - val_loss: 0.7203\n",
            "Epoch 31/100\n",
            "348/362 [===========================>..] - ETA: 0s - loss: 0.6581"
          ]
        },
        {
          "output_type": "stream",
          "name": "stderr",
          "text": [
            "WARNING:tensorflow:Early stopping conditioned on metric `vasl_loss` which is not available. Available metrics are: loss,val_loss\n"
          ]
        },
        {
          "output_type": "stream",
          "name": "stdout",
          "text": [
            "\b\b\b\b\b\b\b\b\b\b\b\b\b\b\b\b\b\b\b\b\b\b\b\b\b\b\b\b\b\b\b\b\b\b\b\b\b\b\b\b\b\b\b\b\b\b\b\b\b\b\b\b\b\b\b\b\b\b\b\b\b\b\b\b\b\r362/362 [==============================] - 1s 4ms/step - loss: 0.6493 - val_loss: 0.5732\n",
            "Epoch 32/100\n",
            "358/362 [============================>.] - ETA: 0s - loss: 0.6217"
          ]
        },
        {
          "output_type": "stream",
          "name": "stderr",
          "text": [
            "WARNING:tensorflow:Early stopping conditioned on metric `vasl_loss` which is not available. Available metrics are: loss,val_loss\n"
          ]
        },
        {
          "output_type": "stream",
          "name": "stdout",
          "text": [
            "\b\b\b\b\b\b\b\b\b\b\b\b\b\b\b\b\b\b\b\b\b\b\b\b\b\b\b\b\b\b\b\b\b\b\b\b\b\b\b\b\b\b\b\b\b\b\b\b\b\b\b\b\b\b\b\b\b\b\b\b\b\b\b\b\b\r362/362 [==============================] - 1s 4ms/step - loss: 0.6217 - val_loss: 0.5462\n",
            "Epoch 33/100\n",
            "356/362 [============================>.] - ETA: 0s - loss: 0.6277"
          ]
        },
        {
          "output_type": "stream",
          "name": "stderr",
          "text": [
            "WARNING:tensorflow:Early stopping conditioned on metric `vasl_loss` which is not available. Available metrics are: loss,val_loss\n"
          ]
        },
        {
          "output_type": "stream",
          "name": "stdout",
          "text": [
            "\b\b\b\b\b\b\b\b\b\b\b\b\b\b\b\b\b\b\b\b\b\b\b\b\b\b\b\b\b\b\b\b\b\b\b\b\b\b\b\b\b\b\b\b\b\b\b\b\b\b\b\b\b\b\b\b\b\b\b\b\b\b\b\b\b\r362/362 [==============================] - 2s 5ms/step - loss: 0.6263 - val_loss: 0.5569\n",
            "Epoch 34/100\n",
            "351/362 [============================>.] - ETA: 0s - loss: 0.6169"
          ]
        },
        {
          "output_type": "stream",
          "name": "stderr",
          "text": [
            "WARNING:tensorflow:Early stopping conditioned on metric `vasl_loss` which is not available. Available metrics are: loss,val_loss\n"
          ]
        },
        {
          "output_type": "stream",
          "name": "stdout",
          "text": [
            "\b\b\b\b\b\b\b\b\b\b\b\b\b\b\b\b\b\b\b\b\b\b\b\b\b\b\b\b\b\b\b\b\b\b\b\b\b\b\b\b\b\b\b\b\b\b\b\b\b\b\b\b\b\b\b\b\b\b\b\b\b\b\b\b\b\r362/362 [==============================] - 1s 4ms/step - loss: 0.6141 - val_loss: 0.8673\n",
            "Epoch 35/100\n",
            "351/362 [============================>.] - ETA: 0s - loss: 0.5906"
          ]
        },
        {
          "output_type": "stream",
          "name": "stderr",
          "text": [
            "WARNING:tensorflow:Early stopping conditioned on metric `vasl_loss` which is not available. Available metrics are: loss,val_loss\n"
          ]
        },
        {
          "output_type": "stream",
          "name": "stdout",
          "text": [
            "\b\b\b\b\b\b\b\b\b\b\b\b\b\b\b\b\b\b\b\b\b\b\b\b\b\b\b\b\b\b\b\b\b\b\b\b\b\b\b\b\b\b\b\b\b\b\b\b\b\b\b\b\b\b\b\b\b\b\b\b\b\b\b\b\b\r362/362 [==============================] - 1s 4ms/step - loss: 0.5926 - val_loss: 0.6723\n",
            "Epoch 36/100\n",
            "360/362 [============================>.] - ETA: 0s - loss: 0.6665"
          ]
        },
        {
          "output_type": "stream",
          "name": "stderr",
          "text": [
            "WARNING:tensorflow:Early stopping conditioned on metric `vasl_loss` which is not available. Available metrics are: loss,val_loss\n"
          ]
        },
        {
          "output_type": "stream",
          "name": "stdout",
          "text": [
            "\b\b\b\b\b\b\b\b\b\b\b\b\b\b\b\b\b\b\b\b\b\b\b\b\b\b\b\b\b\b\b\b\b\b\b\b\b\b\b\b\b\b\b\b\b\b\b\b\b\b\b\b\b\b\b\b\b\b\b\b\b\b\b\b\b\r362/362 [==============================] - 1s 4ms/step - loss: 0.6663 - val_loss: 0.7030\n",
            "Epoch 37/100\n",
            "352/362 [============================>.] - ETA: 0s - loss: 0.6020"
          ]
        },
        {
          "output_type": "stream",
          "name": "stderr",
          "text": [
            "WARNING:tensorflow:Early stopping conditioned on metric `vasl_loss` which is not available. Available metrics are: loss,val_loss\n"
          ]
        },
        {
          "output_type": "stream",
          "name": "stdout",
          "text": [
            "\b\b\b\b\b\b\b\b\b\b\b\b\b\b\b\b\b\b\b\b\b\b\b\b\b\b\b\b\b\b\b\b\b\b\b\b\b\b\b\b\b\b\b\b\b\b\b\b\b\b\b\b\b\b\b\b\b\b\b\b\b\b\b\b\b\r362/362 [==============================] - 1s 4ms/step - loss: 0.6010 - val_loss: 0.9650\n",
            "Epoch 38/100\n",
            "349/362 [===========================>..] - ETA: 0s - loss: 0.6116"
          ]
        },
        {
          "output_type": "stream",
          "name": "stderr",
          "text": [
            "WARNING:tensorflow:Early stopping conditioned on metric `vasl_loss` which is not available. Available metrics are: loss,val_loss\n"
          ]
        },
        {
          "output_type": "stream",
          "name": "stdout",
          "text": [
            "\b\b\b\b\b\b\b\b\b\b\b\b\b\b\b\b\b\b\b\b\b\b\b\b\b\b\b\b\b\b\b\b\b\b\b\b\b\b\b\b\b\b\b\b\b\b\b\b\b\b\b\b\b\b\b\b\b\b\b\b\b\b\b\b\b\r362/362 [==============================] - 1s 4ms/step - loss: 0.6093 - val_loss: 0.5792\n",
            "Epoch 39/100\n",
            "354/362 [============================>.] - ETA: 0s - loss: 0.5593"
          ]
        },
        {
          "output_type": "stream",
          "name": "stderr",
          "text": [
            "WARNING:tensorflow:Early stopping conditioned on metric `vasl_loss` which is not available. Available metrics are: loss,val_loss\n"
          ]
        },
        {
          "output_type": "stream",
          "name": "stdout",
          "text": [
            "\b\b\b\b\b\b\b\b\b\b\b\b\b\b\b\b\b\b\b\b\b\b\b\b\b\b\b\b\b\b\b\b\b\b\b\b\b\b\b\b\b\b\b\b\b\b\b\b\b\b\b\b\b\b\b\b\b\b\b\b\b\b\b\b\b\r362/362 [==============================] - 1s 4ms/step - loss: 0.5623 - val_loss: 0.7930\n",
            "Epoch 40/100\n",
            "351/362 [============================>.] - ETA: 0s - loss: 0.5358"
          ]
        },
        {
          "output_type": "stream",
          "name": "stderr",
          "text": [
            "WARNING:tensorflow:Early stopping conditioned on metric `vasl_loss` which is not available. Available metrics are: loss,val_loss\n"
          ]
        },
        {
          "output_type": "stream",
          "name": "stdout",
          "text": [
            "\b\b\b\b\b\b\b\b\b\b\b\b\b\b\b\b\b\b\b\b\b\b\b\b\b\b\b\b\b\b\b\b\b\b\b\b\b\b\b\b\b\b\b\b\b\b\b\b\b\b\b\b\b\b\b\b\b\b\b\b\b\b\b\b\b\r362/362 [==============================] - 1s 4ms/step - loss: 0.5417 - val_loss: 0.5295\n",
            "Epoch 41/100\n",
            "360/362 [============================>.] - ETA: 0s - loss: 0.5387"
          ]
        },
        {
          "output_type": "stream",
          "name": "stderr",
          "text": [
            "WARNING:tensorflow:Early stopping conditioned on metric `vasl_loss` which is not available. Available metrics are: loss,val_loss\n"
          ]
        },
        {
          "output_type": "stream",
          "name": "stdout",
          "text": [
            "\b\b\b\b\b\b\b\b\b\b\b\b\b\b\b\b\b\b\b\b\b\b\b\b\b\b\b\b\b\b\b\b\b\b\b\b\b\b\b\b\b\b\b\b\b\b\b\b\b\b\b\b\b\b\b\b\b\b\b\b\b\b\b\b\b\r362/362 [==============================] - 2s 5ms/step - loss: 0.5401 - val_loss: 0.7710\n",
            "Epoch 42/100\n",
            "360/362 [============================>.] - ETA: 0s - loss: 0.5583"
          ]
        },
        {
          "output_type": "stream",
          "name": "stderr",
          "text": [
            "WARNING:tensorflow:Early stopping conditioned on metric `vasl_loss` which is not available. Available metrics are: loss,val_loss\n"
          ]
        },
        {
          "output_type": "stream",
          "name": "stdout",
          "text": [
            "\b\b\b\b\b\b\b\b\b\b\b\b\b\b\b\b\b\b\b\b\b\b\b\b\b\b\b\b\b\b\b\b\b\b\b\b\b\b\b\b\b\b\b\b\b\b\b\b\b\b\b\b\b\b\b\b\b\b\b\b\b\b\b\b\b\r362/362 [==============================] - 2s 4ms/step - loss: 0.5581 - val_loss: 0.5362\n",
            "Epoch 43/100\n",
            "360/362 [============================>.] - ETA: 0s - loss: 0.5307"
          ]
        },
        {
          "output_type": "stream",
          "name": "stderr",
          "text": [
            "WARNING:tensorflow:Early stopping conditioned on metric `vasl_loss` which is not available. Available metrics are: loss,val_loss\n"
          ]
        },
        {
          "output_type": "stream",
          "name": "stdout",
          "text": [
            "\b\b\b\b\b\b\b\b\b\b\b\b\b\b\b\b\b\b\b\b\b\b\b\b\b\b\b\b\b\b\b\b\b\b\b\b\b\b\b\b\b\b\b\b\b\b\b\b\b\b\b\b\b\b\b\b\b\b\b\b\b\b\b\b\b\r362/362 [==============================] - 1s 4ms/step - loss: 0.5317 - val_loss: 0.5542\n",
            "Epoch 44/100\n",
            "356/362 [============================>.] - ETA: 0s - loss: 0.8954"
          ]
        },
        {
          "output_type": "stream",
          "name": "stderr",
          "text": [
            "WARNING:tensorflow:Early stopping conditioned on metric `vasl_loss` which is not available. Available metrics are: loss,val_loss\n"
          ]
        },
        {
          "output_type": "stream",
          "name": "stdout",
          "text": [
            "\b\b\b\b\b\b\b\b\b\b\b\b\b\b\b\b\b\b\b\b\b\b\b\b\b\b\b\b\b\b\b\b\b\b\b\b\b\b\b\b\b\b\b\b\b\b\b\b\b\b\b\b\b\b\b\b\b\b\b\b\b\b\b\b\b\r362/362 [==============================] - 1s 4ms/step - loss: 0.8898 - val_loss: 0.5362\n",
            "Epoch 45/100\n",
            "350/362 [============================>.] - ETA: 0s - loss: 0.5360"
          ]
        },
        {
          "output_type": "stream",
          "name": "stderr",
          "text": [
            "WARNING:tensorflow:Early stopping conditioned on metric `vasl_loss` which is not available. Available metrics are: loss,val_loss\n"
          ]
        },
        {
          "output_type": "stream",
          "name": "stdout",
          "text": [
            "\b\b\b\b\b\b\b\b\b\b\b\b\b\b\b\b\b\b\b\b\b\b\b\b\b\b\b\b\b\b\b\b\b\b\b\b\b\b\b\b\b\b\b\b\b\b\b\b\b\b\b\b\b\b\b\b\b\b\b\b\b\b\b\b\b\r362/362 [==============================] - 1s 4ms/step - loss: 0.5387 - val_loss: 0.5192\n",
            "Epoch 46/100\n",
            "354/362 [============================>.] - ETA: 0s - loss: 0.5582"
          ]
        },
        {
          "output_type": "stream",
          "name": "stderr",
          "text": [
            "WARNING:tensorflow:Early stopping conditioned on metric `vasl_loss` which is not available. Available metrics are: loss,val_loss\n"
          ]
        },
        {
          "output_type": "stream",
          "name": "stdout",
          "text": [
            "\b\b\b\b\b\b\b\b\b\b\b\b\b\b\b\b\b\b\b\b\b\b\b\b\b\b\b\b\b\b\b\b\b\b\b\b\b\b\b\b\b\b\b\b\b\b\b\b\b\b\b\b\b\b\b\b\b\b\b\b\b\b\b\b\b\r362/362 [==============================] - 1s 4ms/step - loss: 0.5554 - val_loss: 0.7831\n",
            "Epoch 47/100\n",
            "362/362 [==============================] - ETA: 0s - loss: 0.5215"
          ]
        },
        {
          "output_type": "stream",
          "name": "stderr",
          "text": [
            "WARNING:tensorflow:Early stopping conditioned on metric `vasl_loss` which is not available. Available metrics are: loss,val_loss\n"
          ]
        },
        {
          "output_type": "stream",
          "name": "stdout",
          "text": [
            "\b\b\b\b\b\b\b\b\b\b\b\b\b\b\b\b\b\b\b\b\b\b\b\b\b\b\b\b\b\b\b\b\b\b\b\b\b\b\b\b\b\b\b\b\b\b\b\b\b\b\b\b\b\b\b\b\b\b\b\b\b\b\b\b\b\r362/362 [==============================] - 1s 4ms/step - loss: 0.5215 - val_loss: 0.5410\n",
            "Epoch 48/100\n",
            "349/362 [===========================>..] - ETA: 0s - loss: 0.5187"
          ]
        },
        {
          "output_type": "stream",
          "name": "stderr",
          "text": [
            "WARNING:tensorflow:Early stopping conditioned on metric `vasl_loss` which is not available. Available metrics are: loss,val_loss\n"
          ]
        },
        {
          "output_type": "stream",
          "name": "stdout",
          "text": [
            "\b\b\b\b\b\b\b\b\b\b\b\b\b\b\b\b\b\b\b\b\b\b\b\b\b\b\b\b\b\b\b\b\b\b\b\b\b\b\b\b\b\b\b\b\b\b\b\b\b\b\b\b\b\b\b\b\b\b\b\b\b\b\b\b\b\r362/362 [==============================] - 1s 4ms/step - loss: 0.5195 - val_loss: 0.5822\n",
            "Epoch 49/100\n",
            "362/362 [==============================] - ETA: 0s - loss: 0.5392"
          ]
        },
        {
          "output_type": "stream",
          "name": "stderr",
          "text": [
            "WARNING:tensorflow:Early stopping conditioned on metric `vasl_loss` which is not available. Available metrics are: loss,val_loss\n"
          ]
        },
        {
          "output_type": "stream",
          "name": "stdout",
          "text": [
            "\b\b\b\b\b\b\b\b\b\b\b\b\b\b\b\b\b\b\b\b\b\b\b\b\b\b\b\b\b\b\b\b\b\b\b\b\b\b\b\b\b\b\b\b\b\b\b\b\b\b\b\b\b\b\b\b\b\b\b\b\b\b\b\b\b\r362/362 [==============================] - 1s 4ms/step - loss: 0.5392 - val_loss: 0.5868\n",
            "Epoch 50/100\n",
            "345/362 [===========================>..] - ETA: 0s - loss: 0.5248"
          ]
        },
        {
          "output_type": "stream",
          "name": "stderr",
          "text": [
            "WARNING:tensorflow:Early stopping conditioned on metric `vasl_loss` which is not available. Available metrics are: loss,val_loss\n"
          ]
        },
        {
          "output_type": "stream",
          "name": "stdout",
          "text": [
            "\b\b\b\b\b\b\b\b\b\b\b\b\b\b\b\b\b\b\b\b\b\b\b\b\b\b\b\b\b\b\b\b\b\b\b\b\b\b\b\b\b\b\b\b\b\b\b\b\b\b\b\b\b\b\b\b\b\b\b\b\b\b\b\b\b\r362/362 [==============================] - 2s 4ms/step - loss: 0.5231 - val_loss: 0.4975\n",
            "Epoch 51/100\n",
            "354/362 [============================>.] - ETA: 0s - loss: 0.5239"
          ]
        },
        {
          "output_type": "stream",
          "name": "stderr",
          "text": [
            "WARNING:tensorflow:Early stopping conditioned on metric `vasl_loss` which is not available. Available metrics are: loss,val_loss\n"
          ]
        },
        {
          "output_type": "stream",
          "name": "stdout",
          "text": [
            "\b\b\b\b\b\b\b\b\b\b\b\b\b\b\b\b\b\b\b\b\b\b\b\b\b\b\b\b\b\b\b\b\b\b\b\b\b\b\b\b\b\b\b\b\b\b\b\b\b\b\b\b\b\b\b\b\b\b\b\b\b\b\b\b\b\r362/362 [==============================] - 1s 4ms/step - loss: 0.5253 - val_loss: 0.5130\n",
            "Epoch 52/100\n",
            "348/362 [===========================>..] - ETA: 0s - loss: 0.5396"
          ]
        },
        {
          "output_type": "stream",
          "name": "stderr",
          "text": [
            "WARNING:tensorflow:Early stopping conditioned on metric `vasl_loss` which is not available. Available metrics are: loss,val_loss\n"
          ]
        },
        {
          "output_type": "stream",
          "name": "stdout",
          "text": [
            "\b\b\b\b\b\b\b\b\b\b\b\b\b\b\b\b\b\b\b\b\b\b\b\b\b\b\b\b\b\b\b\b\b\b\b\b\b\b\b\b\b\b\b\b\b\b\b\b\b\b\b\b\b\b\b\b\b\b\b\b\b\b\b\b\b\r362/362 [==============================] - 1s 4ms/step - loss: 0.5408 - val_loss: 0.5830\n",
            "Epoch 53/100\n",
            "361/362 [============================>.] - ETA: 0s - loss: 0.5131"
          ]
        },
        {
          "output_type": "stream",
          "name": "stderr",
          "text": [
            "WARNING:tensorflow:Early stopping conditioned on metric `vasl_loss` which is not available. Available metrics are: loss,val_loss\n"
          ]
        },
        {
          "output_type": "stream",
          "name": "stdout",
          "text": [
            "\b\b\b\b\b\b\b\b\b\b\b\b\b\b\b\b\b\b\b\b\b\b\b\b\b\b\b\b\b\b\b\b\b\b\b\b\b\b\b\b\b\b\b\b\b\b\b\b\b\b\b\b\b\b\b\b\b\b\b\b\b\b\b\b\b\r362/362 [==============================] - 1s 4ms/step - loss: 0.5129 - val_loss: 0.5886\n",
            "Epoch 54/100\n",
            "353/362 [============================>.] - ETA: 0s - loss: 0.5071"
          ]
        },
        {
          "output_type": "stream",
          "name": "stderr",
          "text": [
            "WARNING:tensorflow:Early stopping conditioned on metric `vasl_loss` which is not available. Available metrics are: loss,val_loss\n"
          ]
        },
        {
          "output_type": "stream",
          "name": "stdout",
          "text": [
            "\b\b\b\b\b\b\b\b\b\b\b\b\b\b\b\b\b\b\b\b\b\b\b\b\b\b\b\b\b\b\b\b\b\b\b\b\b\b\b\b\b\b\b\b\b\b\b\b\b\b\b\b\b\b\b\b\b\b\b\b\b\b\b\b\b\r362/362 [==============================] - 1s 4ms/step - loss: 0.5045 - val_loss: 0.5363\n",
            "Epoch 55/100\n",
            "362/362 [==============================] - ETA: 0s - loss: 0.5419"
          ]
        },
        {
          "output_type": "stream",
          "name": "stderr",
          "text": [
            "WARNING:tensorflow:Early stopping conditioned on metric `vasl_loss` which is not available. Available metrics are: loss,val_loss\n"
          ]
        },
        {
          "output_type": "stream",
          "name": "stdout",
          "text": [
            "\b\b\b\b\b\b\b\b\b\b\b\b\b\b\b\b\b\b\b\b\b\b\b\b\b\b\b\b\b\b\b\b\b\b\b\b\b\b\b\b\b\b\b\b\b\b\b\b\b\b\b\b\b\b\b\b\b\b\b\b\b\b\b\b\b\r362/362 [==============================] - 1s 4ms/step - loss: 0.5419 - val_loss: 0.5006\n",
            "Epoch 56/100\n",
            "361/362 [============================>.] - ETA: 0s - loss: 0.5026"
          ]
        },
        {
          "output_type": "stream",
          "name": "stderr",
          "text": [
            "WARNING:tensorflow:Early stopping conditioned on metric `vasl_loss` which is not available. Available metrics are: loss,val_loss\n"
          ]
        },
        {
          "output_type": "stream",
          "name": "stdout",
          "text": [
            "\b\b\b\b\b\b\b\b\b\b\b\b\b\b\b\b\b\b\b\b\b\b\b\b\b\b\b\b\b\b\b\b\b\b\b\b\b\b\b\b\b\b\b\b\b\b\b\b\b\b\b\b\b\b\b\b\b\b\b\b\b\b\b\b\b\r362/362 [==============================] - 1s 4ms/step - loss: 0.5025 - val_loss: 0.5437\n",
            "Epoch 57/100\n",
            "356/362 [============================>.] - ETA: 0s - loss: 0.5162"
          ]
        },
        {
          "output_type": "stream",
          "name": "stderr",
          "text": [
            "WARNING:tensorflow:Early stopping conditioned on metric `vasl_loss` which is not available. Available metrics are: loss,val_loss\n"
          ]
        },
        {
          "output_type": "stream",
          "name": "stdout",
          "text": [
            "\b\b\b\b\b\b\b\b\b\b\b\b\b\b\b\b\b\b\b\b\b\b\b\b\b\b\b\b\b\b\b\b\b\b\b\b\b\b\b\b\b\b\b\b\b\b\b\b\b\b\b\b\b\b\b\b\b\b\b\b\b\b\b\b\b\r362/362 [==============================] - 1s 4ms/step - loss: 0.5157 - val_loss: 0.5379\n",
            "Epoch 58/100\n",
            "353/362 [============================>.] - ETA: 0s - loss: 0.4964"
          ]
        },
        {
          "output_type": "stream",
          "name": "stderr",
          "text": [
            "WARNING:tensorflow:Early stopping conditioned on metric `vasl_loss` which is not available. Available metrics are: loss,val_loss\n"
          ]
        },
        {
          "output_type": "stream",
          "name": "stdout",
          "text": [
            "\b\b\b\b\b\b\b\b\b\b\b\b\b\b\b\b\b\b\b\b\b\b\b\b\b\b\b\b\b\b\b\b\b\b\b\b\b\b\b\b\b\b\b\b\b\b\b\b\b\b\b\b\b\b\b\b\b\b\b\b\b\b\b\b\b\r362/362 [==============================] - 2s 5ms/step - loss: 0.4977 - val_loss: 0.8124\n",
            "Epoch 59/100\n",
            "355/362 [============================>.] - ETA: 0s - loss: 0.5228"
          ]
        },
        {
          "output_type": "stream",
          "name": "stderr",
          "text": [
            "WARNING:tensorflow:Early stopping conditioned on metric `vasl_loss` which is not available. Available metrics are: loss,val_loss\n"
          ]
        },
        {
          "output_type": "stream",
          "name": "stdout",
          "text": [
            "\b\b\b\b\b\b\b\b\b\b\b\b\b\b\b\b\b\b\b\b\b\b\b\b\b\b\b\b\b\b\b\b\b\b\b\b\b\b\b\b\b\b\b\b\b\b\b\b\b\b\b\b\b\b\b\b\b\b\b\b\b\b\b\b\b\r362/362 [==============================] - 2s 5ms/step - loss: 0.5211 - val_loss: 0.5046\n",
            "Epoch 60/100\n",
            "354/362 [============================>.] - ETA: 0s - loss: 0.4831"
          ]
        },
        {
          "output_type": "stream",
          "name": "stderr",
          "text": [
            "WARNING:tensorflow:Early stopping conditioned on metric `vasl_loss` which is not available. Available metrics are: loss,val_loss\n"
          ]
        },
        {
          "output_type": "stream",
          "name": "stdout",
          "text": [
            "\b\b\b\b\b\b\b\b\b\b\b\b\b\b\b\b\b\b\b\b\b\b\b\b\b\b\b\b\b\b\b\b\b\b\b\b\b\b\b\b\b\b\b\b\b\b\b\b\b\b\b\b\b\b\b\b\b\b\b\b\b\b\b\b\b\r362/362 [==============================] - 1s 4ms/step - loss: 0.4814 - val_loss: 0.5013\n",
            "Epoch 61/100\n",
            "360/362 [============================>.] - ETA: 0s - loss: 0.5052"
          ]
        },
        {
          "output_type": "stream",
          "name": "stderr",
          "text": [
            "WARNING:tensorflow:Early stopping conditioned on metric `vasl_loss` which is not available. Available metrics are: loss,val_loss\n"
          ]
        },
        {
          "output_type": "stream",
          "name": "stdout",
          "text": [
            "\b\b\b\b\b\b\b\b\b\b\b\b\b\b\b\b\b\b\b\b\b\b\b\b\b\b\b\b\b\b\b\b\b\b\b\b\b\b\b\b\b\b\b\b\b\b\b\b\b\b\b\b\b\b\b\b\b\b\b\b\b\b\b\b\b\r362/362 [==============================] - 1s 4ms/step - loss: 0.5056 - val_loss: 0.4965\n",
            "Epoch 62/100\n",
            "349/362 [===========================>..] - ETA: 0s - loss: 0.4918"
          ]
        },
        {
          "output_type": "stream",
          "name": "stderr",
          "text": [
            "WARNING:tensorflow:Early stopping conditioned on metric `vasl_loss` which is not available. Available metrics are: loss,val_loss\n"
          ]
        },
        {
          "output_type": "stream",
          "name": "stdout",
          "text": [
            "\b\b\b\b\b\b\b\b\b\b\b\b\b\b\b\b\b\b\b\b\b\b\b\b\b\b\b\b\b\b\b\b\b\b\b\b\b\b\b\b\b\b\b\b\b\b\b\b\b\b\b\b\b\b\b\b\b\b\b\b\b\b\b\b\b\r362/362 [==============================] - 1s 4ms/step - loss: 0.4882 - val_loss: 0.5014\n",
            "Epoch 63/100\n",
            "360/362 [============================>.] - ETA: 0s - loss: 0.4927"
          ]
        },
        {
          "output_type": "stream",
          "name": "stderr",
          "text": [
            "WARNING:tensorflow:Early stopping conditioned on metric `vasl_loss` which is not available. Available metrics are: loss,val_loss\n"
          ]
        },
        {
          "output_type": "stream",
          "name": "stdout",
          "text": [
            "\b\b\b\b\b\b\b\b\b\b\b\b\b\b\b\b\b\b\b\b\b\b\b\b\b\b\b\b\b\b\b\b\b\b\b\b\b\b\b\b\b\b\b\b\b\b\b\b\b\b\b\b\b\b\b\b\b\b\b\b\b\b\b\b\b\r362/362 [==============================] - 1s 4ms/step - loss: 0.4922 - val_loss: 0.5303\n",
            "Epoch 64/100\n",
            "356/362 [============================>.] - ETA: 0s - loss: 0.4766"
          ]
        },
        {
          "output_type": "stream",
          "name": "stderr",
          "text": [
            "WARNING:tensorflow:Early stopping conditioned on metric `vasl_loss` which is not available. Available metrics are: loss,val_loss\n"
          ]
        },
        {
          "output_type": "stream",
          "name": "stdout",
          "text": [
            "\b\b\b\b\b\b\b\b\b\b\b\b\b\b\b\b\b\b\b\b\b\b\b\b\b\b\b\b\b\b\b\b\b\b\b\b\b\b\b\b\b\b\b\b\b\b\b\b\b\b\b\b\b\b\b\b\b\b\b\b\b\b\b\b\b\r362/362 [==============================] - 1s 4ms/step - loss: 0.4759 - val_loss: 0.4843\n",
            "Epoch 65/100\n",
            "358/362 [============================>.] - ETA: 0s - loss: 0.4972"
          ]
        },
        {
          "output_type": "stream",
          "name": "stderr",
          "text": [
            "WARNING:tensorflow:Early stopping conditioned on metric `vasl_loss` which is not available. Available metrics are: loss,val_loss\n"
          ]
        },
        {
          "output_type": "stream",
          "name": "stdout",
          "text": [
            "\b\b\b\b\b\b\b\b\b\b\b\b\b\b\b\b\b\b\b\b\b\b\b\b\b\b\b\b\b\b\b\b\b\b\b\b\b\b\b\b\b\b\b\b\b\b\b\b\b\b\b\b\b\b\b\b\b\b\b\b\b\b\b\b\b\r362/362 [==============================] - 2s 5ms/step - loss: 0.4949 - val_loss: 0.4799\n",
            "Epoch 66/100\n",
            "362/362 [==============================] - ETA: 0s - loss: 0.4864"
          ]
        },
        {
          "output_type": "stream",
          "name": "stderr",
          "text": [
            "WARNING:tensorflow:Early stopping conditioned on metric `vasl_loss` which is not available. Available metrics are: loss,val_loss\n"
          ]
        },
        {
          "output_type": "stream",
          "name": "stdout",
          "text": [
            "\b\b\b\b\b\b\b\b\b\b\b\b\b\b\b\b\b\b\b\b\b\b\b\b\b\b\b\b\b\b\b\b\b\b\b\b\b\b\b\b\b\b\b\b\b\b\b\b\b\b\b\b\b\b\b\b\b\b\b\b\b\b\b\b\b\r362/362 [==============================] - 2s 4ms/step - loss: 0.4864 - val_loss: 0.4753\n",
            "Epoch 67/100\n",
            "358/362 [============================>.] - ETA: 0s - loss: 0.4850"
          ]
        },
        {
          "output_type": "stream",
          "name": "stderr",
          "text": [
            "WARNING:tensorflow:Early stopping conditioned on metric `vasl_loss` which is not available. Available metrics are: loss,val_loss\n"
          ]
        },
        {
          "output_type": "stream",
          "name": "stdout",
          "text": [
            "\b\b\b\b\b\b\b\b\b\b\b\b\b\b\b\b\b\b\b\b\b\b\b\b\b\b\b\b\b\b\b\b\b\b\b\b\b\b\b\b\b\b\b\b\b\b\b\b\b\b\b\b\b\b\b\b\b\b\b\b\b\b\b\b\b\r362/362 [==============================] - 1s 4ms/step - loss: 0.4864 - val_loss: 0.4849\n",
            "Epoch 68/100\n",
            "346/362 [===========================>..] - ETA: 0s - loss: 0.4982"
          ]
        },
        {
          "output_type": "stream",
          "name": "stderr",
          "text": [
            "WARNING:tensorflow:Early stopping conditioned on metric `vasl_loss` which is not available. Available metrics are: loss,val_loss\n"
          ]
        },
        {
          "output_type": "stream",
          "name": "stdout",
          "text": [
            "\b\b\b\b\b\b\b\b\b\b\b\b\b\b\b\b\b\b\b\b\b\b\b\b\b\b\b\b\b\b\b\b\b\b\b\b\b\b\b\b\b\b\b\b\b\b\b\b\b\b\b\b\b\b\b\b\b\b\b\b\b\b\b\b\b\r362/362 [==============================] - 1s 4ms/step - loss: 0.4967 - val_loss: 0.4783\n",
            "Epoch 69/100\n",
            "355/362 [============================>.] - ETA: 0s - loss: 0.4714"
          ]
        },
        {
          "output_type": "stream",
          "name": "stderr",
          "text": [
            "WARNING:tensorflow:Early stopping conditioned on metric `vasl_loss` which is not available. Available metrics are: loss,val_loss\n"
          ]
        },
        {
          "output_type": "stream",
          "name": "stdout",
          "text": [
            "\b\b\b\b\b\b\b\b\b\b\b\b\b\b\b\b\b\b\b\b\b\b\b\b\b\b\b\b\b\b\b\b\b\b\b\b\b\b\b\b\b\b\b\b\b\b\b\b\b\b\b\b\b\b\b\b\b\b\b\b\b\b\b\b\b\r362/362 [==============================] - 1s 4ms/step - loss: 0.4727 - val_loss: 0.4949\n",
            "Epoch 70/100\n",
            "358/362 [============================>.] - ETA: 0s - loss: 0.4787"
          ]
        },
        {
          "output_type": "stream",
          "name": "stderr",
          "text": [
            "WARNING:tensorflow:Early stopping conditioned on metric `vasl_loss` which is not available. Available metrics are: loss,val_loss\n"
          ]
        },
        {
          "output_type": "stream",
          "name": "stdout",
          "text": [
            "\b\b\b\b\b\b\b\b\b\b\b\b\b\b\b\b\b\b\b\b\b\b\b\b\b\b\b\b\b\b\b\b\b\b\b\b\b\b\b\b\b\b\b\b\b\b\b\b\b\b\b\b\b\b\b\b\b\b\b\b\b\b\b\b\b\r362/362 [==============================] - 1s 4ms/step - loss: 0.4797 - val_loss: 0.4918\n",
            "Epoch 71/100\n",
            "357/362 [============================>.] - ETA: 0s - loss: 0.4867"
          ]
        },
        {
          "output_type": "stream",
          "name": "stderr",
          "text": [
            "WARNING:tensorflow:Early stopping conditioned on metric `vasl_loss` which is not available. Available metrics are: loss,val_loss\n"
          ]
        },
        {
          "output_type": "stream",
          "name": "stdout",
          "text": [
            "\b\b\b\b\b\b\b\b\b\b\b\b\b\b\b\b\b\b\b\b\b\b\b\b\b\b\b\b\b\b\b\b\b\b\b\b\b\b\b\b\b\b\b\b\b\b\b\b\b\b\b\b\b\b\b\b\b\b\b\b\b\b\b\b\b\r362/362 [==============================] - 1s 4ms/step - loss: 0.4870 - val_loss: 0.5158\n",
            "Epoch 72/100\n",
            "360/362 [============================>.] - ETA: 0s - loss: 0.4752"
          ]
        },
        {
          "output_type": "stream",
          "name": "stderr",
          "text": [
            "WARNING:tensorflow:Early stopping conditioned on metric `vasl_loss` which is not available. Available metrics are: loss,val_loss\n"
          ]
        },
        {
          "output_type": "stream",
          "name": "stdout",
          "text": [
            "\b\b\b\b\b\b\b\b\b\b\b\b\b\b\b\b\b\b\b\b\b\b\b\b\b\b\b\b\b\b\b\b\b\b\b\b\b\b\b\b\b\b\b\b\b\b\b\b\b\b\b\b\b\b\b\b\b\b\b\b\b\b\b\b\b\r362/362 [==============================] - 1s 4ms/step - loss: 0.4751 - val_loss: 0.4866\n",
            "Epoch 73/100\n",
            "352/362 [============================>.] - ETA: 0s - loss: 0.4856"
          ]
        },
        {
          "output_type": "stream",
          "name": "stderr",
          "text": [
            "WARNING:tensorflow:Early stopping conditioned on metric `vasl_loss` which is not available. Available metrics are: loss,val_loss\n"
          ]
        },
        {
          "output_type": "stream",
          "name": "stdout",
          "text": [
            "\b\b\b\b\b\b\b\b\b\b\b\b\b\b\b\b\b\b\b\b\b\b\b\b\b\b\b\b\b\b\b\b\b\b\b\b\b\b\b\b\b\b\b\b\b\b\b\b\b\b\b\b\b\b\b\b\b\b\b\b\b\b\b\b\b\r362/362 [==============================] - 2s 4ms/step - loss: 0.4883 - val_loss: 0.5568\n",
            "Epoch 74/100\n",
            "351/362 [============================>.] - ETA: 0s - loss: 0.4812"
          ]
        },
        {
          "output_type": "stream",
          "name": "stderr",
          "text": [
            "WARNING:tensorflow:Early stopping conditioned on metric `vasl_loss` which is not available. Available metrics are: loss,val_loss\n"
          ]
        },
        {
          "output_type": "stream",
          "name": "stdout",
          "text": [
            "\b\b\b\b\b\b\b\b\b\b\b\b\b\b\b\b\b\b\b\b\b\b\b\b\b\b\b\b\b\b\b\b\b\b\b\b\b\b\b\b\b\b\b\b\b\b\b\b\b\b\b\b\b\b\b\b\b\b\b\b\b\b\b\b\b\r362/362 [==============================] - 2s 4ms/step - loss: 0.4845 - val_loss: 0.5899\n",
            "Epoch 75/100\n",
            "358/362 [============================>.] - ETA: 0s - loss: 0.4873"
          ]
        },
        {
          "output_type": "stream",
          "name": "stderr",
          "text": [
            "WARNING:tensorflow:Early stopping conditioned on metric `vasl_loss` which is not available. Available metrics are: loss,val_loss\n"
          ]
        },
        {
          "output_type": "stream",
          "name": "stdout",
          "text": [
            "\b\b\b\b\b\b\b\b\b\b\b\b\b\b\b\b\b\b\b\b\b\b\b\b\b\b\b\b\b\b\b\b\b\b\b\b\b\b\b\b\b\b\b\b\b\b\b\b\b\b\b\b\b\b\b\b\b\b\b\b\b\b\b\b\b\r362/362 [==============================] - 1s 4ms/step - loss: 0.4874 - val_loss: 0.5181\n",
            "Epoch 76/100\n",
            "353/362 [============================>.] - ETA: 0s - loss: 0.4855"
          ]
        },
        {
          "output_type": "stream",
          "name": "stderr",
          "text": [
            "WARNING:tensorflow:Early stopping conditioned on metric `vasl_loss` which is not available. Available metrics are: loss,val_loss\n"
          ]
        },
        {
          "output_type": "stream",
          "name": "stdout",
          "text": [
            "\b\b\b\b\b\b\b\b\b\b\b\b\b\b\b\b\b\b\b\b\b\b\b\b\b\b\b\b\b\b\b\b\b\b\b\b\b\b\b\b\b\b\b\b\b\b\b\b\b\b\b\b\b\b\b\b\b\b\b\b\b\b\b\b\b\r362/362 [==============================] - 1s 4ms/step - loss: 0.4855 - val_loss: 0.4828\n",
            "Epoch 77/100\n",
            "356/362 [============================>.] - ETA: 0s - loss: 0.4653"
          ]
        },
        {
          "output_type": "stream",
          "name": "stderr",
          "text": [
            "WARNING:tensorflow:Early stopping conditioned on metric `vasl_loss` which is not available. Available metrics are: loss,val_loss\n"
          ]
        },
        {
          "output_type": "stream",
          "name": "stdout",
          "text": [
            "\b\b\b\b\b\b\b\b\b\b\b\b\b\b\b\b\b\b\b\b\b\b\b\b\b\b\b\b\b\b\b\b\b\b\b\b\b\b\b\b\b\b\b\b\b\b\b\b\b\b\b\b\b\b\b\b\b\b\b\b\b\b\b\b\b\r362/362 [==============================] - 1s 4ms/step - loss: 0.4645 - val_loss: 0.6530\n",
            "Epoch 78/100\n",
            "345/362 [===========================>..] - ETA: 0s - loss: 0.4848"
          ]
        },
        {
          "output_type": "stream",
          "name": "stderr",
          "text": [
            "WARNING:tensorflow:Early stopping conditioned on metric `vasl_loss` which is not available. Available metrics are: loss,val_loss\n"
          ]
        },
        {
          "output_type": "stream",
          "name": "stdout",
          "text": [
            "\b\b\b\b\b\b\b\b\b\b\b\b\b\b\b\b\b\b\b\b\b\b\b\b\b\b\b\b\b\b\b\b\b\b\b\b\b\b\b\b\b\b\b\b\b\b\b\b\b\b\b\b\b\b\b\b\b\b\b\b\b\b\b\b\b\r362/362 [==============================] - 1s 4ms/step - loss: 0.4830 - val_loss: 0.4778\n",
            "Epoch 79/100\n",
            "355/362 [============================>.] - ETA: 0s - loss: 0.4713"
          ]
        },
        {
          "output_type": "stream",
          "name": "stderr",
          "text": [
            "WARNING:tensorflow:Early stopping conditioned on metric `vasl_loss` which is not available. Available metrics are: loss,val_loss\n"
          ]
        },
        {
          "output_type": "stream",
          "name": "stdout",
          "text": [
            "\b\b\b\b\b\b\b\b\b\b\b\b\b\b\b\b\b\b\b\b\b\b\b\b\b\b\b\b\b\b\b\b\b\b\b\b\b\b\b\b\b\b\b\b\b\b\b\b\b\b\b\b\b\b\b\b\b\b\b\b\b\b\b\b\b\r362/362 [==============================] - 1s 4ms/step - loss: 0.4688 - val_loss: 0.5142\n",
            "Epoch 80/100\n",
            "356/362 [============================>.] - ETA: 0s - loss: 0.4808"
          ]
        },
        {
          "output_type": "stream",
          "name": "stderr",
          "text": [
            "WARNING:tensorflow:Early stopping conditioned on metric `vasl_loss` which is not available. Available metrics are: loss,val_loss\n"
          ]
        },
        {
          "output_type": "stream",
          "name": "stdout",
          "text": [
            "\b\b\b\b\b\b\b\b\b\b\b\b\b\b\b\b\b\b\b\b\b\b\b\b\b\b\b\b\b\b\b\b\b\b\b\b\b\b\b\b\b\b\b\b\b\b\b\b\b\b\b\b\b\b\b\b\b\b\b\b\b\b\b\b\b\r362/362 [==============================] - 1s 4ms/step - loss: 0.4796 - val_loss: 0.5525\n",
            "Epoch 81/100\n",
            "359/362 [============================>.] - ETA: 0s - loss: 0.4610"
          ]
        },
        {
          "output_type": "stream",
          "name": "stderr",
          "text": [
            "WARNING:tensorflow:Early stopping conditioned on metric `vasl_loss` which is not available. Available metrics are: loss,val_loss\n"
          ]
        },
        {
          "output_type": "stream",
          "name": "stdout",
          "text": [
            "\b\b\b\b\b\b\b\b\b\b\b\b\b\b\b\b\b\b\b\b\b\b\b\b\b\b\b\b\b\b\b\b\b\b\b\b\b\b\b\b\b\b\b\b\b\b\b\b\b\b\b\b\b\b\b\b\b\b\b\b\b\b\b\b\b\r362/362 [==============================] - 2s 4ms/step - loss: 0.4605 - val_loss: 0.4988\n",
            "Epoch 82/100\n",
            "360/362 [============================>.] - ETA: 0s - loss: 0.4738"
          ]
        },
        {
          "output_type": "stream",
          "name": "stderr",
          "text": [
            "WARNING:tensorflow:Early stopping conditioned on metric `vasl_loss` which is not available. Available metrics are: loss,val_loss\n"
          ]
        },
        {
          "output_type": "stream",
          "name": "stdout",
          "text": [
            "\b\b\b\b\b\b\b\b\b\b\b\b\b\b\b\b\b\b\b\b\b\b\b\b\b\b\b\b\b\b\b\b\b\b\b\b\b\b\b\b\b\b\b\b\b\b\b\b\b\b\b\b\b\b\b\b\b\b\b\b\b\b\b\b\b\r362/362 [==============================] - 2s 5ms/step - loss: 0.4733 - val_loss: 1.3512\n",
            "Epoch 83/100\n",
            "360/362 [============================>.] - ETA: 0s - loss: 0.4736"
          ]
        },
        {
          "output_type": "stream",
          "name": "stderr",
          "text": [
            "WARNING:tensorflow:Early stopping conditioned on metric `vasl_loss` which is not available. Available metrics are: loss,val_loss\n"
          ]
        },
        {
          "output_type": "stream",
          "name": "stdout",
          "text": [
            "\b\b\b\b\b\b\b\b\b\b\b\b\b\b\b\b\b\b\b\b\b\b\b\b\b\b\b\b\b\b\b\b\b\b\b\b\b\b\b\b\b\b\b\b\b\b\b\b\b\b\b\b\b\b\b\b\b\b\b\b\b\b\b\b\b\r362/362 [==============================] - 1s 4ms/step - loss: 0.4743 - val_loss: 0.5145\n",
            "Epoch 84/100\n",
            "352/362 [============================>.] - ETA: 0s - loss: 0.4680"
          ]
        },
        {
          "output_type": "stream",
          "name": "stderr",
          "text": [
            "WARNING:tensorflow:Early stopping conditioned on metric `vasl_loss` which is not available. Available metrics are: loss,val_loss\n"
          ]
        },
        {
          "output_type": "stream",
          "name": "stdout",
          "text": [
            "\b\b\b\b\b\b\b\b\b\b\b\b\b\b\b\b\b\b\b\b\b\b\b\b\b\b\b\b\b\b\b\b\b\b\b\b\b\b\b\b\b\b\b\b\b\b\b\b\b\b\b\b\b\b\b\b\b\b\b\b\b\b\b\b\b\r362/362 [==============================] - 1s 4ms/step - loss: 0.4664 - val_loss: 0.6225\n",
            "Epoch 85/100\n",
            "359/362 [============================>.] - ETA: 0s - loss: 0.4658"
          ]
        },
        {
          "output_type": "stream",
          "name": "stderr",
          "text": [
            "WARNING:tensorflow:Early stopping conditioned on metric `vasl_loss` which is not available. Available metrics are: loss,val_loss\n"
          ]
        },
        {
          "output_type": "stream",
          "name": "stdout",
          "text": [
            "\b\b\b\b\b\b\b\b\b\b\b\b\b\b\b\b\b\b\b\b\b\b\b\b\b\b\b\b\b\b\b\b\b\b\b\b\b\b\b\b\b\b\b\b\b\b\b\b\b\b\b\b\b\b\b\b\b\b\b\b\b\b\b\b\b\r362/362 [==============================] - 1s 4ms/step - loss: 0.4666 - val_loss: 1.2669\n",
            "Epoch 86/100\n",
            "351/362 [============================>.] - ETA: 0s - loss: 0.5141"
          ]
        },
        {
          "output_type": "stream",
          "name": "stderr",
          "text": [
            "WARNING:tensorflow:Early stopping conditioned on metric `vasl_loss` which is not available. Available metrics are: loss,val_loss\n"
          ]
        },
        {
          "output_type": "stream",
          "name": "stdout",
          "text": [
            "\b\b\b\b\b\b\b\b\b\b\b\b\b\b\b\b\b\b\b\b\b\b\b\b\b\b\b\b\b\b\b\b\b\b\b\b\b\b\b\b\b\b\b\b\b\b\b\b\b\b\b\b\b\b\b\b\b\b\b\b\b\b\b\b\b\r362/362 [==============================] - 1s 4ms/step - loss: 0.5143 - val_loss: 0.6569\n",
            "Epoch 87/100\n",
            "357/362 [============================>.] - ETA: 0s - loss: 0.4639"
          ]
        },
        {
          "output_type": "stream",
          "name": "stderr",
          "text": [
            "WARNING:tensorflow:Early stopping conditioned on metric `vasl_loss` which is not available. Available metrics are: loss,val_loss\n"
          ]
        },
        {
          "output_type": "stream",
          "name": "stdout",
          "text": [
            "\b\b\b\b\b\b\b\b\b\b\b\b\b\b\b\b\b\b\b\b\b\b\b\b\b\b\b\b\b\b\b\b\b\b\b\b\b\b\b\b\b\b\b\b\b\b\b\b\b\b\b\b\b\b\b\b\b\b\b\b\b\b\b\b\b\r362/362 [==============================] - 1s 4ms/step - loss: 0.4654 - val_loss: 0.6039\n",
            "Epoch 88/100\n",
            "350/362 [============================>.] - ETA: 0s - loss: 0.4652"
          ]
        },
        {
          "output_type": "stream",
          "name": "stderr",
          "text": [
            "WARNING:tensorflow:Early stopping conditioned on metric `vasl_loss` which is not available. Available metrics are: loss,val_loss\n"
          ]
        },
        {
          "output_type": "stream",
          "name": "stdout",
          "text": [
            "\b\b\b\b\b\b\b\b\b\b\b\b\b\b\b\b\b\b\b\b\b\b\b\b\b\b\b\b\b\b\b\b\b\b\b\b\b\b\b\b\b\b\b\b\b\b\b\b\b\b\b\b\b\b\b\b\b\b\b\b\b\b\b\b\b\r362/362 [==============================] - 1s 4ms/step - loss: 0.4647 - val_loss: 0.5006\n",
            "Epoch 89/100\n",
            "360/362 [============================>.] - ETA: 0s - loss: 0.4586"
          ]
        },
        {
          "output_type": "stream",
          "name": "stderr",
          "text": [
            "WARNING:tensorflow:Early stopping conditioned on metric `vasl_loss` which is not available. Available metrics are: loss,val_loss\n"
          ]
        },
        {
          "output_type": "stream",
          "name": "stdout",
          "text": [
            "\b\b\b\b\b\b\b\b\b\b\b\b\b\b\b\b\b\b\b\b\b\b\b\b\b\b\b\b\b\b\b\b\b\b\b\b\b\b\b\b\b\b\b\b\b\b\b\b\b\b\b\b\b\b\b\b\b\b\b\b\b\b\b\b\b\r362/362 [==============================] - 1s 4ms/step - loss: 0.4583 - val_loss: 0.4733\n",
            "Epoch 90/100\n",
            "352/362 [============================>.] - ETA: 0s - loss: 0.4607"
          ]
        },
        {
          "output_type": "stream",
          "name": "stderr",
          "text": [
            "WARNING:tensorflow:Early stopping conditioned on metric `vasl_loss` which is not available. Available metrics are: loss,val_loss\n"
          ]
        },
        {
          "output_type": "stream",
          "name": "stdout",
          "text": [
            "\b\b\b\b\b\b\b\b\b\b\b\b\b\b\b\b\b\b\b\b\b\b\b\b\b\b\b\b\b\b\b\b\b\b\b\b\b\b\b\b\b\b\b\b\b\b\b\b\b\b\b\b\b\b\b\b\b\b\b\b\b\b\b\b\b\r362/362 [==============================] - 2s 5ms/step - loss: 0.4615 - val_loss: 0.5244\n",
            "Epoch 91/100\n",
            "346/362 [===========================>..] - ETA: 0s - loss: 0.4598"
          ]
        },
        {
          "output_type": "stream",
          "name": "stderr",
          "text": [
            "WARNING:tensorflow:Early stopping conditioned on metric `vasl_loss` which is not available. Available metrics are: loss,val_loss\n"
          ]
        },
        {
          "output_type": "stream",
          "name": "stdout",
          "text": [
            "\b\b\b\b\b\b\b\b\b\b\b\b\b\b\b\b\b\b\b\b\b\b\b\b\b\b\b\b\b\b\b\b\b\b\b\b\b\b\b\b\b\b\b\b\b\b\b\b\b\b\b\b\b\b\b\b\b\b\b\b\b\b\b\b\b\r362/362 [==============================] - 1s 4ms/step - loss: 0.4608 - val_loss: 0.5296\n",
            "Epoch 92/100\n",
            "354/362 [============================>.] - ETA: 0s - loss: 0.4679"
          ]
        },
        {
          "output_type": "stream",
          "name": "stderr",
          "text": [
            "WARNING:tensorflow:Early stopping conditioned on metric `vasl_loss` which is not available. Available metrics are: loss,val_loss\n"
          ]
        },
        {
          "output_type": "stream",
          "name": "stdout",
          "text": [
            "\b\b\b\b\b\b\b\b\b\b\b\b\b\b\b\b\b\b\b\b\b\b\b\b\b\b\b\b\b\b\b\b\b\b\b\b\b\b\b\b\b\b\b\b\b\b\b\b\b\b\b\b\b\b\b\b\b\b\b\b\b\b\b\b\b\r362/362 [==============================] - 1s 4ms/step - loss: 0.4675 - val_loss: 0.5090\n",
            "Epoch 93/100\n",
            "353/362 [============================>.] - ETA: 0s - loss: 0.4606"
          ]
        },
        {
          "output_type": "stream",
          "name": "stderr",
          "text": [
            "WARNING:tensorflow:Early stopping conditioned on metric `vasl_loss` which is not available. Available metrics are: loss,val_loss\n"
          ]
        },
        {
          "output_type": "stream",
          "name": "stdout",
          "text": [
            "\b\b\b\b\b\b\b\b\b\b\b\b\b\b\b\b\b\b\b\b\b\b\b\b\b\b\b\b\b\b\b\b\b\b\b\b\b\b\b\b\b\b\b\b\b\b\b\b\b\b\b\b\b\b\b\b\b\b\b\b\b\b\b\b\b\r362/362 [==============================] - 1s 4ms/step - loss: 0.4609 - val_loss: 0.4946\n",
            "Epoch 94/100\n",
            "349/362 [===========================>..] - ETA: 0s - loss: 0.4724"
          ]
        },
        {
          "output_type": "stream",
          "name": "stderr",
          "text": [
            "WARNING:tensorflow:Early stopping conditioned on metric `vasl_loss` which is not available. Available metrics are: loss,val_loss\n"
          ]
        },
        {
          "output_type": "stream",
          "name": "stdout",
          "text": [
            "\b\b\b\b\b\b\b\b\b\b\b\b\b\b\b\b\b\b\b\b\b\b\b\b\b\b\b\b\b\b\b\b\b\b\b\b\b\b\b\b\b\b\b\b\b\b\b\b\b\b\b\b\b\b\b\b\b\b\b\b\b\b\b\b\b\r362/362 [==============================] - 1s 4ms/step - loss: 0.4736 - val_loss: 0.5053\n",
            "Epoch 95/100\n",
            "346/362 [===========================>..] - ETA: 0s - loss: 0.4657"
          ]
        },
        {
          "output_type": "stream",
          "name": "stderr",
          "text": [
            "WARNING:tensorflow:Early stopping conditioned on metric `vasl_loss` which is not available. Available metrics are: loss,val_loss\n"
          ]
        },
        {
          "output_type": "stream",
          "name": "stdout",
          "text": [
            "\b\b\b\b\b\b\b\b\b\b\b\b\b\b\b\b\b\b\b\b\b\b\b\b\b\b\b\b\b\b\b\b\b\b\b\b\b\b\b\b\b\b\b\b\b\b\b\b\b\b\b\b\b\b\b\b\b\b\b\b\b\b\b\b\b\r362/362 [==============================] - 1s 4ms/step - loss: 0.4639 - val_loss: 0.4797\n",
            "Epoch 96/100\n",
            "353/362 [============================>.] - ETA: 0s - loss: 0.4584"
          ]
        },
        {
          "output_type": "stream",
          "name": "stderr",
          "text": [
            "WARNING:tensorflow:Early stopping conditioned on metric `vasl_loss` which is not available. Available metrics are: loss,val_loss\n"
          ]
        },
        {
          "output_type": "stream",
          "name": "stdout",
          "text": [
            "\b\b\b\b\b\b\b\b\b\b\b\b\b\b\b\b\b\b\b\b\b\b\b\b\b\b\b\b\b\b\b\b\b\b\b\b\b\b\b\b\b\b\b\b\b\b\b\b\b\b\b\b\b\b\b\b\b\b\b\b\b\b\b\b\b\r362/362 [==============================] - 1s 4ms/step - loss: 0.4563 - val_loss: 0.4926\n",
            "Epoch 97/100\n",
            "353/362 [============================>.] - ETA: 0s - loss: 0.4560"
          ]
        },
        {
          "output_type": "stream",
          "name": "stderr",
          "text": [
            "WARNING:tensorflow:Early stopping conditioned on metric `vasl_loss` which is not available. Available metrics are: loss,val_loss\n"
          ]
        },
        {
          "output_type": "stream",
          "name": "stdout",
          "text": [
            "\b\b\b\b\b\b\b\b\b\b\b\b\b\b\b\b\b\b\b\b\b\b\b\b\b\b\b\b\b\b\b\b\b\b\b\b\b\b\b\b\b\b\b\b\b\b\b\b\b\b\b\b\b\b\b\b\b\b\b\b\b\b\b\b\b\r362/362 [==============================] - 1s 4ms/step - loss: 0.4568 - val_loss: 0.5053\n",
            "Epoch 98/100\n",
            "347/362 [===========================>..] - ETA: 0s - loss: 0.4524"
          ]
        },
        {
          "output_type": "stream",
          "name": "stderr",
          "text": [
            "WARNING:tensorflow:Early stopping conditioned on metric `vasl_loss` which is not available. Available metrics are: loss,val_loss\n"
          ]
        },
        {
          "output_type": "stream",
          "name": "stdout",
          "text": [
            "\b\b\b\b\b\b\b\b\b\b\b\b\b\b\b\b\b\b\b\b\b\b\b\b\b\b\b\b\b\b\b\b\b\b\b\b\b\b\b\b\b\b\b\b\b\b\b\b\b\b\b\b\b\b\b\b\b\b\b\b\b\b\b\b\b\r362/362 [==============================] - 2s 5ms/step - loss: 0.4537 - val_loss: 0.5031\n",
            "Epoch 99/100\n",
            "355/362 [============================>.] - ETA: 0s - loss: 0.4632"
          ]
        },
        {
          "output_type": "stream",
          "name": "stderr",
          "text": [
            "WARNING:tensorflow:Early stopping conditioned on metric `vasl_loss` which is not available. Available metrics are: loss,val_loss\n"
          ]
        },
        {
          "output_type": "stream",
          "name": "stdout",
          "text": [
            "\b\b\b\b\b\b\b\b\b\b\b\b\b\b\b\b\b\b\b\b\b\b\b\b\b\b\b\b\b\b\b\b\b\b\b\b\b\b\b\b\b\b\b\b\b\b\b\b\b\b\b\b\b\b\b\b\b\b\b\b\b\b\b\b\b\r362/362 [==============================] - 1s 4ms/step - loss: 0.4635 - val_loss: 0.5012\n",
            "Epoch 100/100\n",
            "353/362 [============================>.] - ETA: 0s - loss: 0.4612"
          ]
        },
        {
          "output_type": "stream",
          "name": "stderr",
          "text": [
            "WARNING:tensorflow:Early stopping conditioned on metric `vasl_loss` which is not available. Available metrics are: loss,val_loss\n"
          ]
        },
        {
          "output_type": "stream",
          "name": "stdout",
          "text": [
            "\b\b\b\b\b\b\b\b\b\b\b\b\b\b\b\b\b\b\b\b\b\b\b\b\b\b\b\b\b\b\b\b\b\b\b\b\b\b\b\b\b\b\b\b\b\b\b\b\b\b\b\b\b\b\b\b\b\b\b\b\b\b\b\b\b\r362/362 [==============================] - 1s 4ms/step - loss: 0.4597 - val_loss: 0.6251\n"
          ]
        },
        {
          "output_type": "execute_result",
          "data": {
            "text/plain": [
              "<keras.callbacks.History at 0x7f57dc0b0580>"
            ]
          },
          "metadata": {},
          "execution_count": 10
        }
      ]
    },
    {
      "cell_type": "code",
      "source": [
        "model.evaluate(x_train, y_train)"
      ],
      "metadata": {
        "colab": {
          "base_uri": "https://localhost:8080/"
        },
        "id": "E0lSKLGK5kgK",
        "outputId": "31e12fd7-1652-4293-da1b-b77db8a1b590"
      },
      "execution_count": null,
      "outputs": [
        {
          "output_type": "stream",
          "name": "stdout",
          "text": [
            "452/452 [==============================] - 1s 2ms/step - loss: 0.4777\n"
          ]
        },
        {
          "output_type": "execute_result",
          "data": {
            "text/plain": [
              "0.47766223549842834"
            ]
          },
          "metadata": {},
          "execution_count": 11
        }
      ]
    },
    {
      "cell_type": "code",
      "source": [
        "y_pred = model.predict(x_test)"
      ],
      "metadata": {
        "colab": {
          "base_uri": "https://localhost:8080/"
        },
        "id": "0m1iJnKW4S0e",
        "outputId": "7dc6c85e-af65-49a0-c25b-dbe3feeeff23"
      },
      "execution_count": null,
      "outputs": [
        {
          "output_type": "stream",
          "name": "stdout",
          "text": [
            "194/194 [==============================] - 0s 2ms/step\n"
          ]
        }
      ]
    },
    {
      "cell_type": "code",
      "source": [
        "y_test[:5]"
      ],
      "metadata": {
        "colab": {
          "base_uri": "https://localhost:8080/"
        },
        "id": "D7BTBxKB5fUg",
        "outputId": "2ccd4760-7aab-4677-9341-78aec97faa87"
      },
      "execution_count": null,
      "outputs": [
        {
          "output_type": "execute_result",
          "data": {
            "text/plain": [
              "array([5.00001, 4.048  , 1.414  , 2.75   , 2.575  ])"
            ]
          },
          "metadata": {},
          "execution_count": 13
        }
      ]
    },
    {
      "cell_type": "code",
      "source": [
        "y_pred.reshape(-1)[:5]"
      ],
      "metadata": {
        "colab": {
          "base_uri": "https://localhost:8080/"
        },
        "id": "bznwvT9s5fQT",
        "outputId": "69f7897b-9cb5-44f3-f7be-9c13d0224cab"
      },
      "execution_count": null,
      "outputs": [
        {
          "output_type": "execute_result",
          "data": {
            "text/plain": [
              "array([1.7699146, 3.1049893, 2.1522071, 2.082272 , 2.2617755],\n",
              "      dtype=float32)"
            ]
          },
          "metadata": {},
          "execution_count": 15
        }
      ]
    },
    {
      "cell_type": "markdown",
      "source": [
        "## 이진 분류(sigmoid)"
      ],
      "metadata": {
        "id": "XpkPx6jj5tOW"
      }
    },
    {
      "cell_type": "code",
      "source": [
        "from sklearn.datasets import load_breast_cancer"
      ],
      "metadata": {
        "id": "FU77Yfz85ySg"
      },
      "execution_count": null,
      "outputs": []
    },
    {
      "cell_type": "code",
      "source": [
        "cancer = load_breast_cancer()"
      ],
      "metadata": {
        "id": "dHDuuJL-6RWo"
      },
      "execution_count": null,
      "outputs": []
    },
    {
      "cell_type": "code",
      "source": [
        "x = pd.DataFrame(cancer.data, columns = cancer.feature_names)\n",
        "y = cancer.target"
      ],
      "metadata": {
        "id": "wGtjVpW06kLN"
      },
      "execution_count": null,
      "outputs": []
    },
    {
      "cell_type": "code",
      "source": [
        "x.shape, y.shape"
      ],
      "metadata": {
        "colab": {
          "base_uri": "https://localhost:8080/"
        },
        "id": "ekQgrVr76ycd",
        "outputId": "02ebea54-a226-49d0-f043-3378a11c10f8"
      },
      "execution_count": null,
      "outputs": [
        {
          "output_type": "execute_result",
          "data": {
            "text/plain": [
              "((569, 30), (569,))"
            ]
          },
          "metadata": {},
          "execution_count": 114
        }
      ]
    },
    {
      "cell_type": "code",
      "source": [
        "x.head()"
      ],
      "metadata": {
        "colab": {
          "base_uri": "https://localhost:8080/",
          "height": 334
        },
        "id": "BoS5TFOxBMHt",
        "outputId": "862aeffb-505c-4e9e-c521-c28212a8cf28"
      },
      "execution_count": null,
      "outputs": [
        {
          "output_type": "execute_result",
          "data": {
            "text/plain": [
              "   mean radius  mean texture  mean perimeter  mean area  mean smoothness  \\\n",
              "0        17.99         10.38          122.80     1001.0          0.11840   \n",
              "1        20.57         17.77          132.90     1326.0          0.08474   \n",
              "2        19.69         21.25          130.00     1203.0          0.10960   \n",
              "3        11.42         20.38           77.58      386.1          0.14250   \n",
              "4        20.29         14.34          135.10     1297.0          0.10030   \n",
              "\n",
              "   mean compactness  mean concavity  mean concave points  mean symmetry  \\\n",
              "0           0.27760          0.3001              0.14710         0.2419   \n",
              "1           0.07864          0.0869              0.07017         0.1812   \n",
              "2           0.15990          0.1974              0.12790         0.2069   \n",
              "3           0.28390          0.2414              0.10520         0.2597   \n",
              "4           0.13280          0.1980              0.10430         0.1809   \n",
              "\n",
              "   mean fractal dimension  ...  worst radius  worst texture  worst perimeter  \\\n",
              "0                 0.07871  ...         25.38          17.33           184.60   \n",
              "1                 0.05667  ...         24.99          23.41           158.80   \n",
              "2                 0.05999  ...         23.57          25.53           152.50   \n",
              "3                 0.09744  ...         14.91          26.50            98.87   \n",
              "4                 0.05883  ...         22.54          16.67           152.20   \n",
              "\n",
              "   worst area  worst smoothness  worst compactness  worst concavity  \\\n",
              "0      2019.0            0.1622             0.6656           0.7119   \n",
              "1      1956.0            0.1238             0.1866           0.2416   \n",
              "2      1709.0            0.1444             0.4245           0.4504   \n",
              "3       567.7            0.2098             0.8663           0.6869   \n",
              "4      1575.0            0.1374             0.2050           0.4000   \n",
              "\n",
              "   worst concave points  worst symmetry  worst fractal dimension  \n",
              "0                0.2654          0.4601                  0.11890  \n",
              "1                0.1860          0.2750                  0.08902  \n",
              "2                0.2430          0.3613                  0.08758  \n",
              "3                0.2575          0.6638                  0.17300  \n",
              "4                0.1625          0.2364                  0.07678  \n",
              "\n",
              "[5 rows x 30 columns]"
            ],
            "text/html": [
              "\n",
              "  <div id=\"df-bbf028ac-75b2-4acb-a52c-ec6a40ee1f8b\">\n",
              "    <div class=\"colab-df-container\">\n",
              "      <div>\n",
              "<style scoped>\n",
              "    .dataframe tbody tr th:only-of-type {\n",
              "        vertical-align: middle;\n",
              "    }\n",
              "\n",
              "    .dataframe tbody tr th {\n",
              "        vertical-align: top;\n",
              "    }\n",
              "\n",
              "    .dataframe thead th {\n",
              "        text-align: right;\n",
              "    }\n",
              "</style>\n",
              "<table border=\"1\" class=\"dataframe\">\n",
              "  <thead>\n",
              "    <tr style=\"text-align: right;\">\n",
              "      <th></th>\n",
              "      <th>mean radius</th>\n",
              "      <th>mean texture</th>\n",
              "      <th>mean perimeter</th>\n",
              "      <th>mean area</th>\n",
              "      <th>mean smoothness</th>\n",
              "      <th>mean compactness</th>\n",
              "      <th>mean concavity</th>\n",
              "      <th>mean concave points</th>\n",
              "      <th>mean symmetry</th>\n",
              "      <th>mean fractal dimension</th>\n",
              "      <th>...</th>\n",
              "      <th>worst radius</th>\n",
              "      <th>worst texture</th>\n",
              "      <th>worst perimeter</th>\n",
              "      <th>worst area</th>\n",
              "      <th>worst smoothness</th>\n",
              "      <th>worst compactness</th>\n",
              "      <th>worst concavity</th>\n",
              "      <th>worst concave points</th>\n",
              "      <th>worst symmetry</th>\n",
              "      <th>worst fractal dimension</th>\n",
              "    </tr>\n",
              "  </thead>\n",
              "  <tbody>\n",
              "    <tr>\n",
              "      <th>0</th>\n",
              "      <td>17.99</td>\n",
              "      <td>10.38</td>\n",
              "      <td>122.80</td>\n",
              "      <td>1001.0</td>\n",
              "      <td>0.11840</td>\n",
              "      <td>0.27760</td>\n",
              "      <td>0.3001</td>\n",
              "      <td>0.14710</td>\n",
              "      <td>0.2419</td>\n",
              "      <td>0.07871</td>\n",
              "      <td>...</td>\n",
              "      <td>25.38</td>\n",
              "      <td>17.33</td>\n",
              "      <td>184.60</td>\n",
              "      <td>2019.0</td>\n",
              "      <td>0.1622</td>\n",
              "      <td>0.6656</td>\n",
              "      <td>0.7119</td>\n",
              "      <td>0.2654</td>\n",
              "      <td>0.4601</td>\n",
              "      <td>0.11890</td>\n",
              "    </tr>\n",
              "    <tr>\n",
              "      <th>1</th>\n",
              "      <td>20.57</td>\n",
              "      <td>17.77</td>\n",
              "      <td>132.90</td>\n",
              "      <td>1326.0</td>\n",
              "      <td>0.08474</td>\n",
              "      <td>0.07864</td>\n",
              "      <td>0.0869</td>\n",
              "      <td>0.07017</td>\n",
              "      <td>0.1812</td>\n",
              "      <td>0.05667</td>\n",
              "      <td>...</td>\n",
              "      <td>24.99</td>\n",
              "      <td>23.41</td>\n",
              "      <td>158.80</td>\n",
              "      <td>1956.0</td>\n",
              "      <td>0.1238</td>\n",
              "      <td>0.1866</td>\n",
              "      <td>0.2416</td>\n",
              "      <td>0.1860</td>\n",
              "      <td>0.2750</td>\n",
              "      <td>0.08902</td>\n",
              "    </tr>\n",
              "    <tr>\n",
              "      <th>2</th>\n",
              "      <td>19.69</td>\n",
              "      <td>21.25</td>\n",
              "      <td>130.00</td>\n",
              "      <td>1203.0</td>\n",
              "      <td>0.10960</td>\n",
              "      <td>0.15990</td>\n",
              "      <td>0.1974</td>\n",
              "      <td>0.12790</td>\n",
              "      <td>0.2069</td>\n",
              "      <td>0.05999</td>\n",
              "      <td>...</td>\n",
              "      <td>23.57</td>\n",
              "      <td>25.53</td>\n",
              "      <td>152.50</td>\n",
              "      <td>1709.0</td>\n",
              "      <td>0.1444</td>\n",
              "      <td>0.4245</td>\n",
              "      <td>0.4504</td>\n",
              "      <td>0.2430</td>\n",
              "      <td>0.3613</td>\n",
              "      <td>0.08758</td>\n",
              "    </tr>\n",
              "    <tr>\n",
              "      <th>3</th>\n",
              "      <td>11.42</td>\n",
              "      <td>20.38</td>\n",
              "      <td>77.58</td>\n",
              "      <td>386.1</td>\n",
              "      <td>0.14250</td>\n",
              "      <td>0.28390</td>\n",
              "      <td>0.2414</td>\n",
              "      <td>0.10520</td>\n",
              "      <td>0.2597</td>\n",
              "      <td>0.09744</td>\n",
              "      <td>...</td>\n",
              "      <td>14.91</td>\n",
              "      <td>26.50</td>\n",
              "      <td>98.87</td>\n",
              "      <td>567.7</td>\n",
              "      <td>0.2098</td>\n",
              "      <td>0.8663</td>\n",
              "      <td>0.6869</td>\n",
              "      <td>0.2575</td>\n",
              "      <td>0.6638</td>\n",
              "      <td>0.17300</td>\n",
              "    </tr>\n",
              "    <tr>\n",
              "      <th>4</th>\n",
              "      <td>20.29</td>\n",
              "      <td>14.34</td>\n",
              "      <td>135.10</td>\n",
              "      <td>1297.0</td>\n",
              "      <td>0.10030</td>\n",
              "      <td>0.13280</td>\n",
              "      <td>0.1980</td>\n",
              "      <td>0.10430</td>\n",
              "      <td>0.1809</td>\n",
              "      <td>0.05883</td>\n",
              "      <td>...</td>\n",
              "      <td>22.54</td>\n",
              "      <td>16.67</td>\n",
              "      <td>152.20</td>\n",
              "      <td>1575.0</td>\n",
              "      <td>0.1374</td>\n",
              "      <td>0.2050</td>\n",
              "      <td>0.4000</td>\n",
              "      <td>0.1625</td>\n",
              "      <td>0.2364</td>\n",
              "      <td>0.07678</td>\n",
              "    </tr>\n",
              "  </tbody>\n",
              "</table>\n",
              "<p>5 rows × 30 columns</p>\n",
              "</div>\n",
              "      <button class=\"colab-df-convert\" onclick=\"convertToInteractive('df-bbf028ac-75b2-4acb-a52c-ec6a40ee1f8b')\"\n",
              "              title=\"Convert this dataframe to an interactive table.\"\n",
              "              style=\"display:none;\">\n",
              "        \n",
              "  <svg xmlns=\"http://www.w3.org/2000/svg\" height=\"24px\"viewBox=\"0 0 24 24\"\n",
              "       width=\"24px\">\n",
              "    <path d=\"M0 0h24v24H0V0z\" fill=\"none\"/>\n",
              "    <path d=\"M18.56 5.44l.94 2.06.94-2.06 2.06-.94-2.06-.94-.94-2.06-.94 2.06-2.06.94zm-11 1L8.5 8.5l.94-2.06 2.06-.94-2.06-.94L8.5 2.5l-.94 2.06-2.06.94zm10 10l.94 2.06.94-2.06 2.06-.94-2.06-.94-.94-2.06-.94 2.06-2.06.94z\"/><path d=\"M17.41 7.96l-1.37-1.37c-.4-.4-.92-.59-1.43-.59-.52 0-1.04.2-1.43.59L10.3 9.45l-7.72 7.72c-.78.78-.78 2.05 0 2.83L4 21.41c.39.39.9.59 1.41.59.51 0 1.02-.2 1.41-.59l7.78-7.78 2.81-2.81c.8-.78.8-2.07 0-2.86zM5.41 20L4 18.59l7.72-7.72 1.47 1.35L5.41 20z\"/>\n",
              "  </svg>\n",
              "      </button>\n",
              "      \n",
              "  <style>\n",
              "    .colab-df-container {\n",
              "      display:flex;\n",
              "      flex-wrap:wrap;\n",
              "      gap: 12px;\n",
              "    }\n",
              "\n",
              "    .colab-df-convert {\n",
              "      background-color: #E8F0FE;\n",
              "      border: none;\n",
              "      border-radius: 50%;\n",
              "      cursor: pointer;\n",
              "      display: none;\n",
              "      fill: #1967D2;\n",
              "      height: 32px;\n",
              "      padding: 0 0 0 0;\n",
              "      width: 32px;\n",
              "    }\n",
              "\n",
              "    .colab-df-convert:hover {\n",
              "      background-color: #E2EBFA;\n",
              "      box-shadow: 0px 1px 2px rgba(60, 64, 67, 0.3), 0px 1px 3px 1px rgba(60, 64, 67, 0.15);\n",
              "      fill: #174EA6;\n",
              "    }\n",
              "\n",
              "    [theme=dark] .colab-df-convert {\n",
              "      background-color: #3B4455;\n",
              "      fill: #D2E3FC;\n",
              "    }\n",
              "\n",
              "    [theme=dark] .colab-df-convert:hover {\n",
              "      background-color: #434B5C;\n",
              "      box-shadow: 0px 1px 3px 1px rgba(0, 0, 0, 0.15);\n",
              "      filter: drop-shadow(0px 1px 2px rgba(0, 0, 0, 0.3));\n",
              "      fill: #FFFFFF;\n",
              "    }\n",
              "  </style>\n",
              "\n",
              "      <script>\n",
              "        const buttonEl =\n",
              "          document.querySelector('#df-bbf028ac-75b2-4acb-a52c-ec6a40ee1f8b button.colab-df-convert');\n",
              "        buttonEl.style.display =\n",
              "          google.colab.kernel.accessAllowed ? 'block' : 'none';\n",
              "\n",
              "        async function convertToInteractive(key) {\n",
              "          const element = document.querySelector('#df-bbf028ac-75b2-4acb-a52c-ec6a40ee1f8b');\n",
              "          const dataTable =\n",
              "            await google.colab.kernel.invokeFunction('convertToInteractive',\n",
              "                                                     [key], {});\n",
              "          if (!dataTable) return;\n",
              "\n",
              "          const docLinkHtml = 'Like what you see? Visit the ' +\n",
              "            '<a target=\"_blank\" href=https://colab.research.google.com/notebooks/data_table.ipynb>data table notebook</a>'\n",
              "            + ' to learn more about interactive tables.';\n",
              "          element.innerHTML = '';\n",
              "          dataTable['output_type'] = 'display_data';\n",
              "          await google.colab.output.renderOutput(dataTable, element);\n",
              "          const docLink = document.createElement('div');\n",
              "          docLink.innerHTML = docLinkHtml;\n",
              "          element.appendChild(docLink);\n",
              "        }\n",
              "      </script>\n",
              "    </div>\n",
              "  </div>\n",
              "  "
            ]
          },
          "metadata": {},
          "execution_count": 115
        }
      ]
    },
    {
      "cell_type": "code",
      "source": [
        "from sklearn.model_selection import train_test_split\n",
        "x_train, x_test, y_train, y_test = train_test_split(x,y,test_size = 0.15)"
      ],
      "metadata": {
        "id": "rufOVnxN6npB"
      },
      "execution_count": null,
      "outputs": []
    },
    {
      "cell_type": "code",
      "source": [
        "x_train.shape, x_test.shape, y_train.shape"
      ],
      "metadata": {
        "colab": {
          "base_uri": "https://localhost:8080/"
        },
        "id": "4At3vBME66Do",
        "outputId": "22571aa5-59fc-4b12-fe43-ba7f7afdf143"
      },
      "execution_count": null,
      "outputs": [
        {
          "output_type": "execute_result",
          "data": {
            "text/plain": [
              "((483, 30), (86, 30), (483,))"
            ]
          },
          "metadata": {},
          "execution_count": 117
        }
      ]
    },
    {
      "cell_type": "markdown",
      "source": [
        "* min-max scaling"
      ],
      "metadata": {
        "id": "P8hp9ohCBdVU"
      }
    },
    {
      "cell_type": "code",
      "source": [
        "from sklearn.preprocessing import MinMaxScaler\n",
        "scaler = MinMaxScaler()\n",
        "x_train = scaler.fit_transform(x_train)\n",
        "x_test = scaler.transform(x_test)"
      ],
      "metadata": {
        "id": "_u3xxz-aBko4"
      },
      "execution_count": null,
      "outputs": []
    },
    {
      "cell_type": "code",
      "source": [
        "x_train.min(), x_test.min() , x_train.max(), x_test.max()"
      ],
      "metadata": {
        "colab": {
          "base_uri": "https://localhost:8080/"
        },
        "id": "HBMjS7oeB0Vl",
        "outputId": "d28ecb4a-4a92-4a49-c174-ea2bfc466c13"
      },
      "execution_count": null,
      "outputs": [
        {
          "output_type": "execute_result",
          "data": {
            "text/plain": [
              "(0.0, 0.0, 1.0, 1.2531723543180977)"
            ]
          },
          "metadata": {},
          "execution_count": 120
        }
      ]
    },
    {
      "cell_type": "markdown",
      "source": [
        "### 모델링\n",
        "* Sequential()\n",
        "* hiddenlayer 2개 이상\n",
        "* 이진 분류"
      ],
      "metadata": {
        "id": "5QVYbxhA69LO"
      }
    },
    {
      "cell_type": "code",
      "source": [
        "# 세션 클리어\n",
        "keras.backend.clear_session()\n",
        "\n",
        "# 모델 선언\n",
        "model = keras.models.Sequential()\n",
        "\n",
        "# 모델 블록 조립\n",
        "model.add(keras.layers.Input(shape=(x_train.shape[1],)))\n",
        "model.add(keras.layers.Dense(128, 'relu'))\n",
        "model.add(keras.layers.Dense(64, 'swish'))\n",
        "model.add(keras.layers.Dense(32, 'swish'))\n",
        "model.add(keras.layers.Dense(1, activation = 'sigmoid'))\n",
        "\n",
        "# 모델 컴파일\n",
        "model.compile(loss = keras.losses.binary_crossentropy, metrics=['accuracy'],\n",
        "              optimizer='adam')\n",
        "\n",
        "# 모델 요약\n",
        "model.summary()"
      ],
      "metadata": {
        "colab": {
          "base_uri": "https://localhost:8080/"
        },
        "id": "XhAX-e1l7fvx",
        "outputId": "26760b2a-52e4-4af6-8952-206dee5d9b4e"
      },
      "execution_count": null,
      "outputs": [
        {
          "output_type": "stream",
          "name": "stdout",
          "text": [
            "Model: \"sequential\"\n",
            "_________________________________________________________________\n",
            " Layer (type)                Output Shape              Param #   \n",
            "=================================================================\n",
            " dense (Dense)               (None, 128)               3968      \n",
            "                                                                 \n",
            " dense_1 (Dense)             (None, 64)                8256      \n",
            "                                                                 \n",
            " dense_2 (Dense)             (None, 32)                2080      \n",
            "                                                                 \n",
            " dense_3 (Dense)             (None, 1)                 33        \n",
            "                                                                 \n",
            "=================================================================\n",
            "Total params: 14,337\n",
            "Trainable params: 14,337\n",
            "Non-trainable params: 0\n",
            "_________________________________________________________________\n"
          ]
        }
      ]
    },
    {
      "cell_type": "code",
      "source": [
        "from tensorflow.keras.callbacks import EarlyStopping\n",
        "\n",
        "es = EarlyStopping(monitor = 'val_loss',\n",
        "                   patience = 5, \n",
        "                   min_delta = 0,\n",
        "                   verbose = 1,\n",
        "                   restore_best_weights = True)"
      ],
      "metadata": {
        "id": "CjMxEQpu9oEp"
      },
      "execution_count": null,
      "outputs": []
    },
    {
      "cell_type": "code",
      "source": [
        "model.fit(x_train, y_train, epochs=100, verbose = 1,\n",
        "          callbacks = [es], validation_split = 0.1)"
      ],
      "metadata": {
        "colab": {
          "base_uri": "https://localhost:8080/"
        },
        "id": "JUCbkXwb8XLR",
        "outputId": "0d802e08-367a-4c8f-e2d8-285f29042e59"
      },
      "execution_count": null,
      "outputs": [
        {
          "output_type": "stream",
          "name": "stdout",
          "text": [
            "Epoch 1/100\n",
            "14/14 [==============================] - 2s 23ms/step - loss: 0.6716 - accuracy: 0.7558 - val_loss: 0.6293 - val_accuracy: 0.9184\n",
            "Epoch 2/100\n",
            "14/14 [==============================] - 0s 7ms/step - loss: 0.5930 - accuracy: 0.8986 - val_loss: 0.5025 - val_accuracy: 0.9184\n",
            "Epoch 3/100\n",
            "14/14 [==============================] - 0s 8ms/step - loss: 0.4434 - accuracy: 0.9009 - val_loss: 0.3032 - val_accuracy: 0.9184\n",
            "Epoch 4/100\n",
            "14/14 [==============================] - 0s 6ms/step - loss: 0.2883 - accuracy: 0.9124 - val_loss: 0.1782 - val_accuracy: 0.8980\n",
            "Epoch 5/100\n",
            "14/14 [==============================] - 0s 7ms/step - loss: 0.2152 - accuracy: 0.9078 - val_loss: 0.1321 - val_accuracy: 0.9388\n",
            "Epoch 6/100\n",
            "14/14 [==============================] - 0s 6ms/step - loss: 0.1807 - accuracy: 0.9217 - val_loss: 0.1328 - val_accuracy: 0.9184\n",
            "Epoch 7/100\n",
            "14/14 [==============================] - 0s 7ms/step - loss: 0.1578 - accuracy: 0.9309 - val_loss: 0.1140 - val_accuracy: 0.9184\n",
            "Epoch 8/100\n",
            "14/14 [==============================] - 0s 7ms/step - loss: 0.1419 - accuracy: 0.9447 - val_loss: 0.0891 - val_accuracy: 0.9796\n",
            "Epoch 9/100\n",
            "14/14 [==============================] - 0s 7ms/step - loss: 0.1275 - accuracy: 0.9539 - val_loss: 0.0741 - val_accuracy: 0.9796\n",
            "Epoch 10/100\n",
            "14/14 [==============================] - 0s 8ms/step - loss: 0.1300 - accuracy: 0.9447 - val_loss: 0.0682 - val_accuracy: 0.9796\n",
            "Epoch 11/100\n",
            "14/14 [==============================] - 0s 6ms/step - loss: 0.1070 - accuracy: 0.9677 - val_loss: 0.0791 - val_accuracy: 0.9592\n",
            "Epoch 12/100\n",
            "14/14 [==============================] - 0s 7ms/step - loss: 0.1014 - accuracy: 0.9654 - val_loss: 0.0835 - val_accuracy: 0.9388\n",
            "Epoch 13/100\n",
            "14/14 [==============================] - 0s 8ms/step - loss: 0.0900 - accuracy: 0.9700 - val_loss: 0.0687 - val_accuracy: 0.9796\n",
            "Epoch 14/100\n",
            "14/14 [==============================] - 0s 8ms/step - loss: 0.1149 - accuracy: 0.9516 - val_loss: 0.0567 - val_accuracy: 0.9796\n",
            "Epoch 15/100\n",
            "14/14 [==============================] - 0s 6ms/step - loss: 0.0841 - accuracy: 0.9677 - val_loss: 0.0977 - val_accuracy: 0.9184\n",
            "Epoch 16/100\n",
            "14/14 [==============================] - 0s 6ms/step - loss: 0.0936 - accuracy: 0.9608 - val_loss: 0.0632 - val_accuracy: 0.9796\n",
            "Epoch 17/100\n",
            "14/14 [==============================] - 0s 8ms/step - loss: 0.0774 - accuracy: 0.9770 - val_loss: 0.0497 - val_accuracy: 0.9796\n",
            "Epoch 18/100\n",
            "14/14 [==============================] - 0s 6ms/step - loss: 0.0811 - accuracy: 0.9700 - val_loss: 0.0487 - val_accuracy: 0.9796\n",
            "Epoch 19/100\n",
            "14/14 [==============================] - 0s 8ms/step - loss: 0.0752 - accuracy: 0.9793 - val_loss: 0.0515 - val_accuracy: 0.9796\n",
            "Epoch 20/100\n",
            "14/14 [==============================] - 0s 7ms/step - loss: 0.0722 - accuracy: 0.9793 - val_loss: 0.0592 - val_accuracy: 0.9592\n",
            "Epoch 21/100\n",
            "14/14 [==============================] - 0s 7ms/step - loss: 0.0630 - accuracy: 0.9839 - val_loss: 0.0525 - val_accuracy: 0.9796\n",
            "Epoch 22/100\n",
            "14/14 [==============================] - 0s 9ms/step - loss: 0.0621 - accuracy: 0.9816 - val_loss: 0.0478 - val_accuracy: 0.9796\n",
            "Epoch 23/100\n",
            "14/14 [==============================] - 0s 7ms/step - loss: 0.0678 - accuracy: 0.9816 - val_loss: 0.0466 - val_accuracy: 0.9796\n",
            "Epoch 24/100\n",
            "14/14 [==============================] - 0s 7ms/step - loss: 0.0640 - accuracy: 0.9862 - val_loss: 0.0833 - val_accuracy: 0.9388\n",
            "Epoch 25/100\n",
            "14/14 [==============================] - 0s 8ms/step - loss: 0.0592 - accuracy: 0.9839 - val_loss: 0.0458 - val_accuracy: 0.9796\n",
            "Epoch 26/100\n",
            "14/14 [==============================] - 0s 7ms/step - loss: 0.0641 - accuracy: 0.9747 - val_loss: 0.0657 - val_accuracy: 0.9592\n",
            "Epoch 27/100\n",
            "14/14 [==============================] - 0s 8ms/step - loss: 0.0634 - accuracy: 0.9839 - val_loss: 0.1075 - val_accuracy: 0.9388\n",
            "Epoch 28/100\n",
            "14/14 [==============================] - 0s 6ms/step - loss: 0.0583 - accuracy: 0.9793 - val_loss: 0.0472 - val_accuracy: 0.9796\n",
            "Epoch 29/100\n",
            "14/14 [==============================] - 0s 6ms/step - loss: 0.0542 - accuracy: 0.9839 - val_loss: 0.0488 - val_accuracy: 0.9796\n",
            "Epoch 30/100\n",
            " 1/14 [=>............................] - ETA: 0s - loss: 0.0392 - accuracy: 1.0000Restoring model weights from the end of the best epoch: 25.\n",
            "14/14 [==============================] - 0s 8ms/step - loss: 0.0519 - accuracy: 0.9839 - val_loss: 0.0513 - val_accuracy: 0.9592\n",
            "Epoch 30: early stopping\n"
          ]
        },
        {
          "output_type": "execute_result",
          "data": {
            "text/plain": [
              "<keras.callbacks.History at 0x7f5758b58280>"
            ]
          },
          "metadata": {},
          "execution_count": 123
        }
      ]
    },
    {
      "cell_type": "code",
      "source": [
        "print(model.evaluate(x_train, y_train))\n",
        "print(model.evaluate(x_test, y_test))"
      ],
      "metadata": {
        "colab": {
          "base_uri": "https://localhost:8080/"
        },
        "id": "-Pf8F12L9FL3",
        "outputId": "70597097-dc4b-4343-8d64-af0c6a526bfc"
      },
      "execution_count": null,
      "outputs": [
        {
          "output_type": "stream",
          "name": "stdout",
          "text": [
            "16/16 [==============================] - 0s 3ms/step - loss: 0.0603 - accuracy: 0.9834\n",
            "[0.06030303239822388, 0.9834368824958801]\n",
            "3/3 [==============================] - 0s 5ms/step - loss: 0.0419 - accuracy: 0.9884\n",
            "[0.04193754121661186, 0.9883720874786377]\n"
          ]
        }
      ]
    },
    {
      "cell_type": "code",
      "source": [
        "print(y_test[:5])\n",
        "print(model.predict(x_test).reshape(-1)[:5])"
      ],
      "metadata": {
        "colab": {
          "base_uri": "https://localhost:8080/"
        },
        "id": "g1ECmJ-E-icJ",
        "outputId": "50d5816f-819c-4ff2-8a20-60dcafe63e73"
      },
      "execution_count": null,
      "outputs": [
        {
          "output_type": "stream",
          "name": "stdout",
          "text": [
            "[1 0 1 1 1]\n",
            "3/3 [==============================] - 0s 3ms/step\n",
            "[9.8001385e-01 1.8175637e-06 9.9615782e-01 9.9999917e-01 9.9902332e-01]\n"
          ]
        }
      ]
    },
    {
      "cell_type": "markdown",
      "source": [
        "## 다중분류(softmax)"
      ],
      "metadata": {
        "id": "KX9kdi6u-wA0"
      }
    },
    {
      "cell_type": "code",
      "source": [
        "from sklearn.datasets import load_wine"
      ],
      "metadata": {
        "id": "RFa6vXC7-0ZS"
      },
      "execution_count": null,
      "outputs": []
    },
    {
      "cell_type": "code",
      "source": [
        "wine = load_wine()"
      ],
      "metadata": {
        "id": "MtFgXuul-7Mk"
      },
      "execution_count": null,
      "outputs": []
    },
    {
      "cell_type": "code",
      "source": [
        "x = pd.DataFrame(wine.data, columns = wine.feature_names)\n",
        "y = wine.target"
      ],
      "metadata": {
        "id": "xnN8f4z9-8tQ"
      },
      "execution_count": null,
      "outputs": []
    },
    {
      "cell_type": "code",
      "source": [
        "x.head(2)"
      ],
      "metadata": {
        "colab": {
          "base_uri": "https://localhost:8080/",
          "height": 176
        },
        "id": "vuIdUET0BCfl",
        "outputId": "996108f6-bfac-46de-a4c9-972e7b968156"
      },
      "execution_count": null,
      "outputs": [
        {
          "output_type": "execute_result",
          "data": {
            "text/plain": [
              "   alcohol  malic_acid   ash  alcalinity_of_ash  magnesium  total_phenols  \\\n",
              "0    14.23        1.71  2.43               15.6      127.0           2.80   \n",
              "1    13.20        1.78  2.14               11.2      100.0           2.65   \n",
              "\n",
              "   flavanoids  nonflavanoid_phenols  proanthocyanins  color_intensity   hue  \\\n",
              "0        3.06                  0.28             2.29             5.64  1.04   \n",
              "1        2.76                  0.26             1.28             4.38  1.05   \n",
              "\n",
              "   od280/od315_of_diluted_wines  proline  \n",
              "0                          3.92   1065.0  \n",
              "1                          3.40   1050.0  "
            ],
            "text/html": [
              "\n",
              "  <div id=\"df-cb139b08-c672-4342-966a-a7503599fea1\">\n",
              "    <div class=\"colab-df-container\">\n",
              "      <div>\n",
              "<style scoped>\n",
              "    .dataframe tbody tr th:only-of-type {\n",
              "        vertical-align: middle;\n",
              "    }\n",
              "\n",
              "    .dataframe tbody tr th {\n",
              "        vertical-align: top;\n",
              "    }\n",
              "\n",
              "    .dataframe thead th {\n",
              "        text-align: right;\n",
              "    }\n",
              "</style>\n",
              "<table border=\"1\" class=\"dataframe\">\n",
              "  <thead>\n",
              "    <tr style=\"text-align: right;\">\n",
              "      <th></th>\n",
              "      <th>alcohol</th>\n",
              "      <th>malic_acid</th>\n",
              "      <th>ash</th>\n",
              "      <th>alcalinity_of_ash</th>\n",
              "      <th>magnesium</th>\n",
              "      <th>total_phenols</th>\n",
              "      <th>flavanoids</th>\n",
              "      <th>nonflavanoid_phenols</th>\n",
              "      <th>proanthocyanins</th>\n",
              "      <th>color_intensity</th>\n",
              "      <th>hue</th>\n",
              "      <th>od280/od315_of_diluted_wines</th>\n",
              "      <th>proline</th>\n",
              "    </tr>\n",
              "  </thead>\n",
              "  <tbody>\n",
              "    <tr>\n",
              "      <th>0</th>\n",
              "      <td>14.23</td>\n",
              "      <td>1.71</td>\n",
              "      <td>2.43</td>\n",
              "      <td>15.6</td>\n",
              "      <td>127.0</td>\n",
              "      <td>2.80</td>\n",
              "      <td>3.06</td>\n",
              "      <td>0.28</td>\n",
              "      <td>2.29</td>\n",
              "      <td>5.64</td>\n",
              "      <td>1.04</td>\n",
              "      <td>3.92</td>\n",
              "      <td>1065.0</td>\n",
              "    </tr>\n",
              "    <tr>\n",
              "      <th>1</th>\n",
              "      <td>13.20</td>\n",
              "      <td>1.78</td>\n",
              "      <td>2.14</td>\n",
              "      <td>11.2</td>\n",
              "      <td>100.0</td>\n",
              "      <td>2.65</td>\n",
              "      <td>2.76</td>\n",
              "      <td>0.26</td>\n",
              "      <td>1.28</td>\n",
              "      <td>4.38</td>\n",
              "      <td>1.05</td>\n",
              "      <td>3.40</td>\n",
              "      <td>1050.0</td>\n",
              "    </tr>\n",
              "  </tbody>\n",
              "</table>\n",
              "</div>\n",
              "      <button class=\"colab-df-convert\" onclick=\"convertToInteractive('df-cb139b08-c672-4342-966a-a7503599fea1')\"\n",
              "              title=\"Convert this dataframe to an interactive table.\"\n",
              "              style=\"display:none;\">\n",
              "        \n",
              "  <svg xmlns=\"http://www.w3.org/2000/svg\" height=\"24px\"viewBox=\"0 0 24 24\"\n",
              "       width=\"24px\">\n",
              "    <path d=\"M0 0h24v24H0V0z\" fill=\"none\"/>\n",
              "    <path d=\"M18.56 5.44l.94 2.06.94-2.06 2.06-.94-2.06-.94-.94-2.06-.94 2.06-2.06.94zm-11 1L8.5 8.5l.94-2.06 2.06-.94-2.06-.94L8.5 2.5l-.94 2.06-2.06.94zm10 10l.94 2.06.94-2.06 2.06-.94-2.06-.94-.94-2.06-.94 2.06-2.06.94z\"/><path d=\"M17.41 7.96l-1.37-1.37c-.4-.4-.92-.59-1.43-.59-.52 0-1.04.2-1.43.59L10.3 9.45l-7.72 7.72c-.78.78-.78 2.05 0 2.83L4 21.41c.39.39.9.59 1.41.59.51 0 1.02-.2 1.41-.59l7.78-7.78 2.81-2.81c.8-.78.8-2.07 0-2.86zM5.41 20L4 18.59l7.72-7.72 1.47 1.35L5.41 20z\"/>\n",
              "  </svg>\n",
              "      </button>\n",
              "      \n",
              "  <style>\n",
              "    .colab-df-container {\n",
              "      display:flex;\n",
              "      flex-wrap:wrap;\n",
              "      gap: 12px;\n",
              "    }\n",
              "\n",
              "    .colab-df-convert {\n",
              "      background-color: #E8F0FE;\n",
              "      border: none;\n",
              "      border-radius: 50%;\n",
              "      cursor: pointer;\n",
              "      display: none;\n",
              "      fill: #1967D2;\n",
              "      height: 32px;\n",
              "      padding: 0 0 0 0;\n",
              "      width: 32px;\n",
              "    }\n",
              "\n",
              "    .colab-df-convert:hover {\n",
              "      background-color: #E2EBFA;\n",
              "      box-shadow: 0px 1px 2px rgba(60, 64, 67, 0.3), 0px 1px 3px 1px rgba(60, 64, 67, 0.15);\n",
              "      fill: #174EA6;\n",
              "    }\n",
              "\n",
              "    [theme=dark] .colab-df-convert {\n",
              "      background-color: #3B4455;\n",
              "      fill: #D2E3FC;\n",
              "    }\n",
              "\n",
              "    [theme=dark] .colab-df-convert:hover {\n",
              "      background-color: #434B5C;\n",
              "      box-shadow: 0px 1px 3px 1px rgba(0, 0, 0, 0.15);\n",
              "      filter: drop-shadow(0px 1px 2px rgba(0, 0, 0, 0.3));\n",
              "      fill: #FFFFFF;\n",
              "    }\n",
              "  </style>\n",
              "\n",
              "      <script>\n",
              "        const buttonEl =\n",
              "          document.querySelector('#df-cb139b08-c672-4342-966a-a7503599fea1 button.colab-df-convert');\n",
              "        buttonEl.style.display =\n",
              "          google.colab.kernel.accessAllowed ? 'block' : 'none';\n",
              "\n",
              "        async function convertToInteractive(key) {\n",
              "          const element = document.querySelector('#df-cb139b08-c672-4342-966a-a7503599fea1');\n",
              "          const dataTable =\n",
              "            await google.colab.kernel.invokeFunction('convertToInteractive',\n",
              "                                                     [key], {});\n",
              "          if (!dataTable) return;\n",
              "\n",
              "          const docLinkHtml = 'Like what you see? Visit the ' +\n",
              "            '<a target=\"_blank\" href=https://colab.research.google.com/notebooks/data_table.ipynb>data table notebook</a>'\n",
              "            + ' to learn more about interactive tables.';\n",
              "          element.innerHTML = '';\n",
              "          dataTable['output_type'] = 'display_data';\n",
              "          await google.colab.output.renderOutput(dataTable, element);\n",
              "          const docLink = document.createElement('div');\n",
              "          docLink.innerHTML = docLinkHtml;\n",
              "          element.appendChild(docLink);\n",
              "        }\n",
              "      </script>\n",
              "    </div>\n",
              "  </div>\n",
              "  "
            ]
          },
          "metadata": {},
          "execution_count": 129
        }
      ]
    },
    {
      "cell_type": "code",
      "source": [
        "x.shape, y.shape"
      ],
      "metadata": {
        "colab": {
          "base_uri": "https://localhost:8080/"
        },
        "id": "A8g8OfYT_GFw",
        "outputId": "16e0933d-b44b-433d-eb94-f1c47021e8f0"
      },
      "execution_count": null,
      "outputs": [
        {
          "output_type": "execute_result",
          "data": {
            "text/plain": [
              "((178, 13), (178,))"
            ]
          },
          "metadata": {},
          "execution_count": 130
        }
      ]
    },
    {
      "cell_type": "code",
      "source": [
        "from sklearn.model_selection import train_test_split\n",
        "x_train, x_test, y_train, y_test = train_test_split(x, y, test_size=0.15)"
      ],
      "metadata": {
        "id": "I1pu3CEm-_TX"
      },
      "execution_count": null,
      "outputs": []
    },
    {
      "cell_type": "code",
      "source": [
        "x_train.shape, x_test.shape, y_train.shape"
      ],
      "metadata": {
        "colab": {
          "base_uri": "https://localhost:8080/"
        },
        "id": "NHOmrBBUAiNC",
        "outputId": "f69d9d3a-a5de-414b-f529-fe911111e6ac"
      },
      "execution_count": null,
      "outputs": [
        {
          "output_type": "execute_result",
          "data": {
            "text/plain": [
              "((151, 13), (27, 13), (151,))"
            ]
          },
          "metadata": {},
          "execution_count": 132
        }
      ]
    },
    {
      "cell_type": "markdown",
      "source": [
        "* min-max scaling"
      ],
      "metadata": {
        "id": "Rg4POpjbA-Z2"
      }
    },
    {
      "cell_type": "code",
      "source": [
        "from sklearn.preprocessing import MinMaxScaler\n",
        "scaler = MinMaxScaler()\n",
        "\n",
        "x_train = scaler.fit_transform(x_train)\n",
        "x_test = scaler.transform(x_test)"
      ],
      "metadata": {
        "id": "3p_jzzAtBKVY"
      },
      "execution_count": null,
      "outputs": []
    },
    {
      "cell_type": "code",
      "source": [
        "x_train.min(), x_test.min(), x_train.max(), x_test.max()"
      ],
      "metadata": {
        "colab": {
          "base_uri": "https://localhost:8080/"
        },
        "id": "HvoQUG1HCjMJ",
        "outputId": "fbdae554-0ebe-4df2-d3db-4cb7b6a56f9c"
      },
      "execution_count": null,
      "outputs": [
        {
          "output_type": "execute_result",
          "data": {
            "text/plain": [
              "(0.0, -0.2222222222222222, 1.0, 1.1193887297039158)"
            ]
          },
          "metadata": {},
          "execution_count": 136
        }
      ]
    },
    {
      "cell_type": "markdown",
      "source": [
        "* One_hot_encoding\n"
      ],
      "metadata": {
        "id": "hfB7e5XnAmiF"
      }
    },
    {
      "cell_type": "code",
      "source": [
        "class_n = len(set(y_train))"
      ],
      "metadata": {
        "id": "cWImcLAAC4hG"
      },
      "execution_count": null,
      "outputs": []
    },
    {
      "cell_type": "code",
      "source": [
        "from tensorflow.keras.utils import to_categorical\n",
        "\n",
        "y_train = to_categorical(y_train,class_n)\n",
        "y_test = to_categorical(y_test, class_n)"
      ],
      "metadata": {
        "id": "0Nj1YxpzArpl"
      },
      "execution_count": null,
      "outputs": []
    },
    {
      "cell_type": "code",
      "source": [
        "x_train.shape, y_train.shape"
      ],
      "metadata": {
        "colab": {
          "base_uri": "https://localhost:8080/"
        },
        "id": "-ufjbYehDAxC",
        "outputId": "fcf34747-1820-4cd3-ce2b-aea15f021e80"
      },
      "execution_count": null,
      "outputs": [
        {
          "output_type": "execute_result",
          "data": {
            "text/plain": [
              "((151, 13), (151, 3))"
            ]
          },
          "metadata": {},
          "execution_count": 140
        }
      ]
    },
    {
      "cell_type": "markdown",
      "source": [
        "### 모델링\n",
        "* hidden layer 수는 2개 이상\n",
        "* Sequential()\n",
        "* 다중분류"
      ],
      "metadata": {
        "id": "Tc2E2iN7_IsC"
      }
    },
    {
      "cell_type": "code",
      "source": [
        "# 세션 클리어\n",
        "keras.backend.clear_session()\n",
        "\n",
        "# 모델 선언\n",
        "model = keras.models.Sequential()\n",
        "\n",
        "# 모델 블록 조립\n",
        "model.add(keras.layers.Input(shape=(x_train.shape[1],)))\n",
        "model.add(keras.layers.Dense(128, 'swish'))\n",
        "model.add(keras.layers.Dense(32, 'swish'))\n",
        "model.add(keras.layers.Dense(y_train.shape[1], 'softmax'))\n",
        "\n",
        "# 모델 컴파일\n",
        "model.compile(loss = keras.losses.categorical_crossentropy, metrics= ['accuracy'],\n",
        "              optimizer = 'adam')\n",
        "\n",
        "# 모델 요약\n",
        "model.summary()"
      ],
      "metadata": {
        "colab": {
          "base_uri": "https://localhost:8080/"
        },
        "id": "VDqj3-dP_UAt",
        "outputId": "f36ed394-03dd-4350-87a0-d8fbc1b3759a"
      },
      "execution_count": null,
      "outputs": [
        {
          "output_type": "stream",
          "name": "stdout",
          "text": [
            "Model: \"sequential\"\n",
            "_________________________________________________________________\n",
            " Layer (type)                Output Shape              Param #   \n",
            "=================================================================\n",
            " dense (Dense)               (None, 128)               1792      \n",
            "                                                                 \n",
            " dense_1 (Dense)             (None, 32)                4128      \n",
            "                                                                 \n",
            " dense_2 (Dense)             (None, 3)                 99        \n",
            "                                                                 \n",
            "=================================================================\n",
            "Total params: 6,019\n",
            "Trainable params: 6,019\n",
            "Non-trainable params: 0\n",
            "_________________________________________________________________\n"
          ]
        }
      ]
    },
    {
      "cell_type": "code",
      "source": [
        "from tensorflow.keras.callbacks import EarlyStopping\n",
        "es = EarlyStopping(monitor = 'val_loss',\n",
        "                   patience = 5,\n",
        "                   min_delta = 0,\n",
        "                   verbose = 1,\n",
        "                   restore_best_weights = True)"
      ],
      "metadata": {
        "id": "KHpqizKY__3p"
      },
      "execution_count": null,
      "outputs": []
    },
    {
      "cell_type": "code",
      "source": [
        "model.fit(x_train, y_train, verbose= 1, epochs=100,\n",
        "          callbacks = [es], validation_split=0.2)"
      ],
      "metadata": {
        "colab": {
          "base_uri": "https://localhost:8080/"
        },
        "id": "rZo4UEEbAUcx",
        "outputId": "f29155a1-cd88-476c-cc9c-61428d7a9322"
      },
      "execution_count": null,
      "outputs": [
        {
          "output_type": "stream",
          "name": "stdout",
          "text": [
            "Epoch 1/100\n",
            "4/4 [==============================] - 2s 85ms/step - loss: 1.0814 - accuracy: 0.4333 - val_loss: 1.0562 - val_accuracy: 0.4839\n",
            "Epoch 2/100\n",
            "4/4 [==============================] - 0s 15ms/step - loss: 1.0490 - accuracy: 0.4250 - val_loss: 1.0286 - val_accuracy: 0.3871\n",
            "Epoch 3/100\n",
            "4/4 [==============================] - 0s 14ms/step - loss: 1.0172 - accuracy: 0.4583 - val_loss: 0.9972 - val_accuracy: 0.6452\n",
            "Epoch 4/100\n",
            "4/4 [==============================] - 0s 20ms/step - loss: 0.9884 - accuracy: 0.6000 - val_loss: 0.9638 - val_accuracy: 0.7097\n",
            "Epoch 5/100\n",
            "4/4 [==============================] - 0s 20ms/step - loss: 0.9574 - accuracy: 0.7333 - val_loss: 0.9319 - val_accuracy: 0.8065\n",
            "Epoch 6/100\n",
            "4/4 [==============================] - 0s 20ms/step - loss: 0.9264 - accuracy: 0.8750 - val_loss: 0.8996 - val_accuracy: 0.8387\n",
            "Epoch 7/100\n",
            "4/4 [==============================] - 0s 20ms/step - loss: 0.8908 - accuracy: 0.9083 - val_loss: 0.8627 - val_accuracy: 0.8710\n",
            "Epoch 8/100\n",
            "4/4 [==============================] - 0s 15ms/step - loss: 0.8530 - accuracy: 0.9083 - val_loss: 0.8256 - val_accuracy: 0.8387\n",
            "Epoch 9/100\n",
            "4/4 [==============================] - 0s 21ms/step - loss: 0.8147 - accuracy: 0.9083 - val_loss: 0.7887 - val_accuracy: 0.8387\n",
            "Epoch 10/100\n",
            "4/4 [==============================] - 0s 15ms/step - loss: 0.7695 - accuracy: 0.9000 - val_loss: 0.7452 - val_accuracy: 0.8065\n",
            "Epoch 11/100\n",
            "4/4 [==============================] - 0s 18ms/step - loss: 0.7231 - accuracy: 0.9000 - val_loss: 0.6988 - val_accuracy: 0.8065\n",
            "Epoch 12/100\n",
            "4/4 [==============================] - 0s 22ms/step - loss: 0.6738 - accuracy: 0.9250 - val_loss: 0.6515 - val_accuracy: 0.8710\n",
            "Epoch 13/100\n",
            "4/4 [==============================] - 0s 21ms/step - loss: 0.6238 - accuracy: 0.9333 - val_loss: 0.6027 - val_accuracy: 0.8710\n",
            "Epoch 14/100\n",
            "4/4 [==============================] - 0s 17ms/step - loss: 0.5733 - accuracy: 0.9333 - val_loss: 0.5557 - val_accuracy: 0.8710\n",
            "Epoch 15/100\n",
            "4/4 [==============================] - 0s 21ms/step - loss: 0.5220 - accuracy: 0.9583 - val_loss: 0.5090 - val_accuracy: 0.8710\n",
            "Epoch 16/100\n",
            "4/4 [==============================] - 0s 15ms/step - loss: 0.4730 - accuracy: 0.9583 - val_loss: 0.4666 - val_accuracy: 0.8710\n",
            "Epoch 17/100\n",
            "4/4 [==============================] - 0s 17ms/step - loss: 0.4272 - accuracy: 0.9583 - val_loss: 0.4248 - val_accuracy: 0.8710\n",
            "Epoch 18/100\n",
            "4/4 [==============================] - 0s 20ms/step - loss: 0.3842 - accuracy: 0.9583 - val_loss: 0.3859 - val_accuracy: 0.9032\n",
            "Epoch 19/100\n",
            "4/4 [==============================] - 0s 21ms/step - loss: 0.3434 - accuracy: 0.9583 - val_loss: 0.3473 - val_accuracy: 0.9355\n",
            "Epoch 20/100\n",
            "4/4 [==============================] - 0s 15ms/step - loss: 0.3082 - accuracy: 0.9667 - val_loss: 0.3181 - val_accuracy: 0.9032\n",
            "Epoch 21/100\n",
            "4/4 [==============================] - 0s 18ms/step - loss: 0.2757 - accuracy: 0.9667 - val_loss: 0.2942 - val_accuracy: 0.9355\n",
            "Epoch 22/100\n",
            "4/4 [==============================] - 0s 20ms/step - loss: 0.2477 - accuracy: 0.9583 - val_loss: 0.2742 - val_accuracy: 0.9355\n",
            "Epoch 23/100\n",
            "4/4 [==============================] - 0s 14ms/step - loss: 0.2218 - accuracy: 0.9667 - val_loss: 0.2531 - val_accuracy: 0.9677\n",
            "Epoch 24/100\n",
            "4/4 [==============================] - 0s 14ms/step - loss: 0.1991 - accuracy: 0.9667 - val_loss: 0.2369 - val_accuracy: 0.9677\n",
            "Epoch 25/100\n",
            "4/4 [==============================] - 0s 15ms/step - loss: 0.1801 - accuracy: 0.9833 - val_loss: 0.2248 - val_accuracy: 0.9677\n",
            "Epoch 26/100\n",
            "4/4 [==============================] - 0s 20ms/step - loss: 0.1648 - accuracy: 0.9833 - val_loss: 0.2149 - val_accuracy: 0.9355\n",
            "Epoch 27/100\n",
            "4/4 [==============================] - 0s 15ms/step - loss: 0.1495 - accuracy: 0.9833 - val_loss: 0.2043 - val_accuracy: 0.9677\n",
            "Epoch 28/100\n",
            "4/4 [==============================] - 0s 20ms/step - loss: 0.1364 - accuracy: 0.9833 - val_loss: 0.1946 - val_accuracy: 0.9677\n",
            "Epoch 29/100\n",
            "4/4 [==============================] - 0s 25ms/step - loss: 0.1256 - accuracy: 0.9833 - val_loss: 0.1862 - val_accuracy: 0.9677\n",
            "Epoch 30/100\n",
            "4/4 [==============================] - 0s 21ms/step - loss: 0.1158 - accuracy: 0.9833 - val_loss: 0.1771 - val_accuracy: 0.9677\n",
            "Epoch 31/100\n",
            "4/4 [==============================] - 0s 23ms/step - loss: 0.1077 - accuracy: 0.9833 - val_loss: 0.1688 - val_accuracy: 0.9677\n",
            "Epoch 32/100\n",
            "4/4 [==============================] - 0s 26ms/step - loss: 0.0999 - accuracy: 0.9833 - val_loss: 0.1635 - val_accuracy: 0.9677\n",
            "Epoch 33/100\n",
            "4/4 [==============================] - 0s 26ms/step - loss: 0.0942 - accuracy: 0.9833 - val_loss: 0.1604 - val_accuracy: 0.9677\n",
            "Epoch 34/100\n",
            "4/4 [==============================] - 0s 26ms/step - loss: 0.0884 - accuracy: 0.9833 - val_loss: 0.1529 - val_accuracy: 0.9677\n",
            "Epoch 35/100\n",
            "4/4 [==============================] - 0s 25ms/step - loss: 0.0829 - accuracy: 0.9833 - val_loss: 0.1498 - val_accuracy: 0.9677\n",
            "Epoch 36/100\n",
            "4/4 [==============================] - 0s 24ms/step - loss: 0.0780 - accuracy: 0.9833 - val_loss: 0.1455 - val_accuracy: 0.9677\n",
            "Epoch 37/100\n",
            "4/4 [==============================] - 0s 19ms/step - loss: 0.0739 - accuracy: 0.9833 - val_loss: 0.1432 - val_accuracy: 0.9677\n",
            "Epoch 38/100\n",
            "4/4 [==============================] - 0s 33ms/step - loss: 0.0699 - accuracy: 0.9833 - val_loss: 0.1373 - val_accuracy: 0.9677\n",
            "Epoch 39/100\n",
            "4/4 [==============================] - 0s 22ms/step - loss: 0.0659 - accuracy: 0.9833 - val_loss: 0.1312 - val_accuracy: 0.9677\n",
            "Epoch 40/100\n",
            "4/4 [==============================] - 0s 24ms/step - loss: 0.0645 - accuracy: 0.9917 - val_loss: 0.1253 - val_accuracy: 0.9677\n",
            "Epoch 41/100\n",
            "4/4 [==============================] - 0s 20ms/step - loss: 0.0618 - accuracy: 0.9833 - val_loss: 0.1288 - val_accuracy: 0.9677\n",
            "Epoch 42/100\n",
            "4/4 [==============================] - 0s 24ms/step - loss: 0.0583 - accuracy: 0.9833 - val_loss: 0.1260 - val_accuracy: 0.9677\n",
            "Epoch 43/100\n",
            "4/4 [==============================] - 0s 19ms/step - loss: 0.0555 - accuracy: 0.9833 - val_loss: 0.1167 - val_accuracy: 0.9677\n",
            "Epoch 44/100\n",
            "4/4 [==============================] - 0s 25ms/step - loss: 0.0530 - accuracy: 0.9917 - val_loss: 0.1137 - val_accuracy: 0.9677\n",
            "Epoch 45/100\n",
            "4/4 [==============================] - 0s 25ms/step - loss: 0.0508 - accuracy: 0.9917 - val_loss: 0.1164 - val_accuracy: 0.9677\n",
            "Epoch 46/100\n",
            "4/4 [==============================] - 0s 26ms/step - loss: 0.0481 - accuracy: 0.9917 - val_loss: 0.1135 - val_accuracy: 0.9677\n",
            "Epoch 47/100\n",
            "4/4 [==============================] - 0s 21ms/step - loss: 0.0458 - accuracy: 0.9917 - val_loss: 0.1106 - val_accuracy: 0.9677\n",
            "Epoch 48/100\n",
            "4/4 [==============================] - 0s 14ms/step - loss: 0.0440 - accuracy: 0.9917 - val_loss: 0.1065 - val_accuracy: 0.9677\n",
            "Epoch 49/100\n",
            "4/4 [==============================] - 0s 14ms/step - loss: 0.0430 - accuracy: 0.9917 - val_loss: 0.1028 - val_accuracy: 0.9677\n",
            "Epoch 50/100\n",
            "4/4 [==============================] - 0s 14ms/step - loss: 0.0406 - accuracy: 1.0000 - val_loss: 0.0982 - val_accuracy: 0.9677\n",
            "Epoch 51/100\n",
            "4/4 [==============================] - 0s 17ms/step - loss: 0.0393 - accuracy: 1.0000 - val_loss: 0.0993 - val_accuracy: 0.9677\n",
            "Epoch 52/100\n",
            "4/4 [==============================] - 0s 21ms/step - loss: 0.0374 - accuracy: 1.0000 - val_loss: 0.0961 - val_accuracy: 0.9677\n",
            "Epoch 53/100\n",
            "4/4 [==============================] - 0s 20ms/step - loss: 0.0363 - accuracy: 1.0000 - val_loss: 0.0931 - val_accuracy: 0.9677\n",
            "Epoch 54/100\n",
            "4/4 [==============================] - 0s 15ms/step - loss: 0.0353 - accuracy: 1.0000 - val_loss: 0.0902 - val_accuracy: 0.9677\n",
            "Epoch 55/100\n",
            "4/4 [==============================] - 0s 19ms/step - loss: 0.0337 - accuracy: 1.0000 - val_loss: 0.0913 - val_accuracy: 0.9677\n",
            "Epoch 56/100\n",
            "4/4 [==============================] - 0s 14ms/step - loss: 0.0326 - accuracy: 1.0000 - val_loss: 0.0895 - val_accuracy: 0.9677\n",
            "Epoch 57/100\n",
            "4/4 [==============================] - 0s 14ms/step - loss: 0.0312 - accuracy: 1.0000 - val_loss: 0.0883 - val_accuracy: 0.9677\n",
            "Epoch 58/100\n",
            "4/4 [==============================] - 0s 14ms/step - loss: 0.0304 - accuracy: 1.0000 - val_loss: 0.0850 - val_accuracy: 0.9677\n",
            "Epoch 59/100\n",
            "4/4 [==============================] - 0s 14ms/step - loss: 0.0292 - accuracy: 1.0000 - val_loss: 0.0816 - val_accuracy: 0.9677\n",
            "Epoch 60/100\n",
            "4/4 [==============================] - 0s 21ms/step - loss: 0.0285 - accuracy: 1.0000 - val_loss: 0.0779 - val_accuracy: 0.9677\n",
            "Epoch 61/100\n",
            "4/4 [==============================] - 0s 13ms/step - loss: 0.0279 - accuracy: 1.0000 - val_loss: 0.0806 - val_accuracy: 0.9677\n",
            "Epoch 62/100\n",
            "4/4 [==============================] - 0s 20ms/step - loss: 0.0266 - accuracy: 1.0000 - val_loss: 0.0781 - val_accuracy: 0.9677\n",
            "Epoch 63/100\n",
            "4/4 [==============================] - 0s 15ms/step - loss: 0.0258 - accuracy: 1.0000 - val_loss: 0.0760 - val_accuracy: 0.9677\n",
            "Epoch 64/100\n",
            "4/4 [==============================] - 0s 14ms/step - loss: 0.0249 - accuracy: 1.0000 - val_loss: 0.0769 - val_accuracy: 0.9677\n",
            "Epoch 65/100\n",
            "4/4 [==============================] - 0s 17ms/step - loss: 0.0239 - accuracy: 1.0000 - val_loss: 0.0710 - val_accuracy: 0.9677\n",
            "Epoch 66/100\n",
            "4/4 [==============================] - 0s 15ms/step - loss: 0.0234 - accuracy: 1.0000 - val_loss: 0.0663 - val_accuracy: 0.9677\n",
            "Epoch 67/100\n",
            "4/4 [==============================] - 0s 19ms/step - loss: 0.0227 - accuracy: 1.0000 - val_loss: 0.0692 - val_accuracy: 0.9677\n",
            "Epoch 68/100\n",
            "4/4 [==============================] - 0s 17ms/step - loss: 0.0220 - accuracy: 1.0000 - val_loss: 0.0682 - val_accuracy: 0.9677\n",
            "Epoch 69/100\n",
            "4/4 [==============================] - 0s 21ms/step - loss: 0.0213 - accuracy: 1.0000 - val_loss: 0.0652 - val_accuracy: 0.9677\n",
            "Epoch 70/100\n",
            "4/4 [==============================] - 0s 13ms/step - loss: 0.0206 - accuracy: 1.0000 - val_loss: 0.0677 - val_accuracy: 0.9677\n",
            "Epoch 71/100\n",
            "4/4 [==============================] - 0s 15ms/step - loss: 0.0199 - accuracy: 1.0000 - val_loss: 0.0649 - val_accuracy: 0.9677\n",
            "Epoch 72/100\n",
            "4/4 [==============================] - 0s 20ms/step - loss: 0.0191 - accuracy: 1.0000 - val_loss: 0.0590 - val_accuracy: 0.9677\n",
            "Epoch 73/100\n",
            "4/4 [==============================] - 0s 15ms/step - loss: 0.0189 - accuracy: 1.0000 - val_loss: 0.0554 - val_accuracy: 0.9677\n",
            "Epoch 74/100\n",
            "4/4 [==============================] - 0s 21ms/step - loss: 0.0186 - accuracy: 1.0000 - val_loss: 0.0554 - val_accuracy: 0.9677\n",
            "Epoch 75/100\n",
            "4/4 [==============================] - 0s 20ms/step - loss: 0.0177 - accuracy: 1.0000 - val_loss: 0.0616 - val_accuracy: 0.9677\n",
            "Epoch 76/100\n",
            "4/4 [==============================] - 0s 19ms/step - loss: 0.0178 - accuracy: 1.0000 - val_loss: 0.0629 - val_accuracy: 0.9677\n",
            "Epoch 77/100\n",
            "4/4 [==============================] - 0s 21ms/step - loss: 0.0167 - accuracy: 1.0000 - val_loss: 0.0548 - val_accuracy: 0.9677\n",
            "Epoch 78/100\n",
            "4/4 [==============================] - 0s 18ms/step - loss: 0.0164 - accuracy: 1.0000 - val_loss: 0.0518 - val_accuracy: 0.9677\n",
            "Epoch 79/100\n",
            "4/4 [==============================] - 0s 14ms/step - loss: 0.0159 - accuracy: 1.0000 - val_loss: 0.0533 - val_accuracy: 0.9677\n",
            "Epoch 80/100\n",
            "4/4 [==============================] - 0s 14ms/step - loss: 0.0154 - accuracy: 1.0000 - val_loss: 0.0529 - val_accuracy: 0.9677\n",
            "Epoch 81/100\n",
            "4/4 [==============================] - 0s 14ms/step - loss: 0.0151 - accuracy: 1.0000 - val_loss: 0.0563 - val_accuracy: 0.9677\n",
            "Epoch 82/100\n",
            "4/4 [==============================] - 0s 14ms/step - loss: 0.0150 - accuracy: 1.0000 - val_loss: 0.0479 - val_accuracy: 0.9677\n",
            "Epoch 83/100\n",
            "4/4 [==============================] - 0s 20ms/step - loss: 0.0141 - accuracy: 1.0000 - val_loss: 0.0482 - val_accuracy: 0.9677\n",
            "Epoch 84/100\n",
            "4/4 [==============================] - 0s 14ms/step - loss: 0.0138 - accuracy: 1.0000 - val_loss: 0.0460 - val_accuracy: 0.9677\n",
            "Epoch 85/100\n",
            "4/4 [==============================] - 0s 15ms/step - loss: 0.0138 - accuracy: 1.0000 - val_loss: 0.0438 - val_accuracy: 0.9677\n",
            "Epoch 86/100\n",
            "4/4 [==============================] - 0s 20ms/step - loss: 0.0129 - accuracy: 1.0000 - val_loss: 0.0466 - val_accuracy: 0.9677\n",
            "Epoch 87/100\n",
            "4/4 [==============================] - 0s 14ms/step - loss: 0.0126 - accuracy: 1.0000 - val_loss: 0.0513 - val_accuracy: 0.9677\n",
            "Epoch 88/100\n",
            "4/4 [==============================] - 0s 13ms/step - loss: 0.0127 - accuracy: 1.0000 - val_loss: 0.0458 - val_accuracy: 0.9677\n",
            "Epoch 89/100\n",
            "4/4 [==============================] - 0s 16ms/step - loss: 0.0122 - accuracy: 1.0000 - val_loss: 0.0468 - val_accuracy: 0.9677\n",
            "Epoch 90/100\n",
            "4/4 [==============================] - 0s 15ms/step - loss: 0.0120 - accuracy: 1.0000 - val_loss: 0.0405 - val_accuracy: 0.9677\n",
            "Epoch 91/100\n",
            "4/4 [==============================] - 0s 13ms/step - loss: 0.0115 - accuracy: 1.0000 - val_loss: 0.0421 - val_accuracy: 0.9677\n",
            "Epoch 92/100\n",
            "4/4 [==============================] - 0s 13ms/step - loss: 0.0112 - accuracy: 1.0000 - val_loss: 0.0409 - val_accuracy: 0.9677\n",
            "Epoch 93/100\n",
            "4/4 [==============================] - 0s 13ms/step - loss: 0.0111 - accuracy: 1.0000 - val_loss: 0.0443 - val_accuracy: 0.9677\n",
            "Epoch 94/100\n",
            "4/4 [==============================] - 0s 15ms/step - loss: 0.0110 - accuracy: 1.0000 - val_loss: 0.0381 - val_accuracy: 0.9677\n",
            "Epoch 95/100\n",
            "4/4 [==============================] - 0s 14ms/step - loss: 0.0105 - accuracy: 1.0000 - val_loss: 0.0383 - val_accuracy: 0.9677\n",
            "Epoch 96/100\n",
            "4/4 [==============================] - 0s 14ms/step - loss: 0.0102 - accuracy: 1.0000 - val_loss: 0.0379 - val_accuracy: 0.9677\n",
            "Epoch 97/100\n",
            "4/4 [==============================] - 0s 16ms/step - loss: 0.0100 - accuracy: 1.0000 - val_loss: 0.0403 - val_accuracy: 0.9677\n",
            "Epoch 98/100\n",
            "4/4 [==============================] - 0s 14ms/step - loss: 0.0098 - accuracy: 1.0000 - val_loss: 0.0411 - val_accuracy: 0.9677\n",
            "Epoch 99/100\n",
            "4/4 [==============================] - 0s 14ms/step - loss: 0.0094 - accuracy: 1.0000 - val_loss: 0.0364 - val_accuracy: 0.9677\n",
            "Epoch 100/100\n",
            "4/4 [==============================] - 0s 17ms/step - loss: 0.0091 - accuracy: 1.0000 - val_loss: 0.0322 - val_accuracy: 1.0000\n"
          ]
        },
        {
          "output_type": "execute_result",
          "data": {
            "text/plain": [
              "<keras.callbacks.History at 0x7f57581262e0>"
            ]
          },
          "metadata": {},
          "execution_count": 143
        }
      ]
    },
    {
      "cell_type": "code",
      "source": [
        "print(model.evaluate(x_train, y_train))\n",
        "print(model.evaluate(x_test, y_test))"
      ],
      "metadata": {
        "colab": {
          "base_uri": "https://localhost:8080/"
        },
        "id": "B3kn8qFoAef9",
        "outputId": "300863ef-a184-47cf-ec33-5230f542f7cd"
      },
      "execution_count": null,
      "outputs": [
        {
          "output_type": "stream",
          "name": "stdout",
          "text": [
            "5/5 [==============================] - 0s 5ms/step - loss: 0.0139 - accuracy: 1.0000\n",
            "[0.013877900317311287, 1.0]\n",
            "1/1 [==============================] - 0s 26ms/step - loss: 0.0382 - accuracy: 0.9630\n",
            "[0.0382344052195549, 0.9629629850387573]\n"
          ]
        }
      ]
    },
    {
      "cell_type": "code",
      "source": [
        "print(y_test[:5])\n",
        "print(model.predict(x_test)[:5])"
      ],
      "metadata": {
        "colab": {
          "base_uri": "https://localhost:8080/"
        },
        "id": "BE8CDyFCDPdj",
        "outputId": "b082529d-65bc-4d3c-902d-98509b808f47"
      },
      "execution_count": null,
      "outputs": [
        {
          "output_type": "stream",
          "name": "stdout",
          "text": [
            "[[0. 1. 0.]\n",
            " [0. 0. 1.]\n",
            " [0. 1. 0.]\n",
            " [0. 0. 1.]\n",
            " [0. 1. 0.]]\n",
            "1/1 [==============================] - 0s 18ms/step\n",
            "[[1.3069384e-04 9.9986804e-01 1.3195097e-06]\n",
            " [1.2726094e-05 2.5211995e-05 9.9996209e-01]\n",
            " [3.0810248e-02 9.6918845e-01 1.2706397e-06]\n",
            " [1.5193306e-05 1.2371303e-04 9.9986112e-01]\n",
            " [8.9047245e-07 9.9999917e-01 1.8995619e-08]]\n"
          ]
        }
      ]
    },
    {
      "cell_type": "code",
      "source": [],
      "metadata": {
        "id": "6oy999lqDcTC"
      },
      "execution_count": null,
      "outputs": []
    }
  ]
}